{
 "cells": [
  {
   "cell_type": "markdown",
   "metadata": {
    "id": "SZM3h77y9Ppd"
   },
   "source": [
    "# Author: Mostafa Rezapour\n",
    "# Department of Mathematics and Statistics \n",
    "# Wake Forest University, Winston-Salem, NC, U.S."
   ]
  },
  {
   "cell_type": "markdown",
   "metadata": {
    "id": "BqnFHAqM9Ppf"
   },
   "source": [
    "$\\large \\color{purple}{\\textbf{  Importing libraries     }}$\n"
   ]
  },
  {
   "cell_type": "code",
   "execution_count": 2,
   "metadata": {
    "id": "k_GwWjxw9Ppg"
   },
   "outputs": [],
   "source": [
    "# Importing libraries\n",
    "import pandas as pd\n",
    "import numpy as np\n",
    "import matplotlib.pyplot as plt\n",
    "import seaborn as sns\n",
    "from sklearn.preprocessing import LabelEncoder\n",
    "from sklearn.preprocessing import OneHotEncoder\n",
    "import warnings\n",
    "warnings.filterwarnings(\"ignore\")\n",
    "\n"
   ]
  },
  {
   "cell_type": "markdown",
   "metadata": {
    "id": "5qjKI9G09Ppi"
   },
   "source": [
    "$\\large \\color{purple}{\\textbf{  Read csv file into a pandas dataframe     }}$\n",
    "$\\large \\color{purple}{\\textbf{       }}$"
   ]
  },
  {
   "cell_type": "code",
   "execution_count": 3,
   "metadata": {
    "id": "DjrzUIMS9Ppi"
   },
   "outputs": [],
   "source": [
    "# Read csv file into a pandas dataframe\n",
    "df = pd.read_csv(\"Copy of COVID Isolation on Sleep and Health in Healthcare Workers_April 29, 2020_08.17.csv\", encoding= 'unicode_escape')\n"
   ]
  },
  {
   "cell_type": "code",
   "execution_count": 4,
   "metadata": {
    "colab": {
     "base_uri": "https://localhost:8080/"
    },
    "id": "A91leZLV9Ppj",
    "outputId": "765f7cdc-84c1-4c88-a591-236c8e4ab618"
   },
   "outputs": [
    {
     "name": "stdout",
     "output_type": "stream",
     "text": [
      "16500\n"
     ]
    }
   ],
   "source": [
    "#the total number of missing values \n",
    "print(df.isnull().values.sum())"
   ]
  },
  {
   "cell_type": "code",
   "execution_count": 5,
   "metadata": {
    "colab": {
     "base_uri": "https://localhost:8080/",
     "height": 617
    },
    "id": "P-NYNWyy9Ppl",
    "outputId": "d03bc095-0a7f-4b53-805d-e6d11e674647",
    "scrolled": true
   },
   "outputs": [
    {
     "data": {
      "text/html": [
       "<div>\n",
       "<style scoped>\n",
       "    .dataframe tbody tr th:only-of-type {\n",
       "        vertical-align: middle;\n",
       "    }\n",
       "\n",
       "    .dataframe tbody tr th {\n",
       "        vertical-align: top;\n",
       "    }\n",
       "\n",
       "    .dataframe thead th {\n",
       "        text-align: right;\n",
       "    }\n",
       "</style>\n",
       "<table border=\"1\" class=\"dataframe\">\n",
       "  <thead>\n",
       "    <tr style=\"text-align: right;\">\n",
       "      <th></th>\n",
       "      <th>StartDate</th>\n",
       "      <th>EndDate</th>\n",
       "      <th>Status</th>\n",
       "      <th>IPAddress</th>\n",
       "      <th>Progress</th>\n",
       "      <th>Duration (in seconds)</th>\n",
       "      <th>Finished</th>\n",
       "      <th>RecordedDate</th>\n",
       "      <th>ResponseId</th>\n",
       "      <th>RecipientLastName</th>\n",
       "      <th>RecipientFirstName</th>\n",
       "      <th>RecipientEmail</th>\n",
       "      <th>ExternalReference</th>\n",
       "      <th>LocationLatitude</th>\n",
       "      <th>LocationLongitude</th>\n",
       "      <th>DistributionChannel</th>\n",
       "      <th>UserLanguage</th>\n",
       "      <th>Q1</th>\n",
       "      <th>Q2</th>\n",
       "      <th>Q3</th>\n",
       "      <th>Q4</th>\n",
       "      <th>Q5</th>\n",
       "      <th>Q5_6_TEXT</th>\n",
       "      <th>Q6</th>\n",
       "      <th>Q7</th>\n",
       "      <th>Q8</th>\n",
       "      <th>Q8a</th>\n",
       "      <th>Q9</th>\n",
       "      <th>Q9a</th>\n",
       "      <th>Q9b</th>\n",
       "      <th>Q10</th>\n",
       "      <th>Q11</th>\n",
       "      <th>Q11a</th>\n",
       "      <th>Q11b</th>\n",
       "      <th>Q12</th>\n",
       "      <th>Q13</th>\n",
       "      <th>Q14</th>\n",
       "      <th>Q14a</th>\n",
       "      <th>Q15</th>\n",
       "      <th>Q15a</th>\n",
       "      <th>Q16</th>\n",
       "      <th>Q16a</th>\n",
       "      <th>Q16b</th>\n",
       "      <th>Q17</th>\n",
       "      <th>Q17a</th>\n",
       "      <th>Q18</th>\n",
       "      <th>Q18a</th>\n",
       "      <th>Q19</th>\n",
       "      <th>Q20</th>\n",
       "      <th>Q21</th>\n",
       "      <th>Q22</th>\n",
       "      <th>Q23</th>\n",
       "      <th>Q24</th>\n",
       "      <th>Q25</th>\n",
       "      <th>Q25a</th>\n",
       "      <th>Q26</th>\n",
       "      <th>Q26a</th>\n",
       "      <th>Q27</th>\n",
       "      <th>Q27a</th>\n",
       "      <th>Q28</th>\n",
       "      <th>Q28a</th>\n",
       "      <th>Q29</th>\n",
       "      <th>Q29a</th>\n",
       "      <th>Q29b</th>\n",
       "      <th>Q29c</th>\n",
       "      <th>Q29d</th>\n",
       "    </tr>\n",
       "  </thead>\n",
       "  <tbody>\n",
       "    <tr>\n",
       "      <th>0</th>\n",
       "      <td>Start Date</td>\n",
       "      <td>End Date</td>\n",
       "      <td>Response Type</td>\n",
       "      <td>IP Address</td>\n",
       "      <td>Progress</td>\n",
       "      <td>Duration (in seconds)</td>\n",
       "      <td>Finished</td>\n",
       "      <td>Recorded Date</td>\n",
       "      <td>Response ID</td>\n",
       "      <td>Recipient Last Name</td>\n",
       "      <td>Recipient First Name</td>\n",
       "      <td>Recipient Email</td>\n",
       "      <td>External Data Reference</td>\n",
       "      <td>Location Latitude</td>\n",
       "      <td>Location Longitude</td>\n",
       "      <td>Distribution Channel</td>\n",
       "      <td>User Language</td>\n",
       "      <td>What is your age?</td>\n",
       "      <td>What is your gender?</td>\n",
       "      <td>50 States, D.C. and Puerto Rico</td>\n",
       "      <td>What ethnicity do you consider yourself?</td>\n",
       "      <td>Choose one or more races that you consider you...</td>\n",
       "      <td>Choose one or more races that you consider you...</td>\n",
       "      <td>What is your role in the healthcare field? (e....</td>\n",
       "      <td>Are you a frontline worker providing care for ...</td>\n",
       "      <td>Are you currently conducting your job mostly f...</td>\n",
       "      <td>Which week in March 2020 did you start working...</td>\n",
       "      <td>Are you conducting clinical video visits with ...</td>\n",
       "      <td>Please rate YOUR satisfaction with conducting\\...</td>\n",
       "      <td>Please rate your estimation of your PATIENT's ...</td>\n",
       "      <td>Does\\nyour work require you to follow a fixed ...</td>\n",
       "      <td>Are children home from school in the house?</td>\n",
       "      <td>How many children are in the home?</td>\n",
       "      <td>How old are the children in the home?</td>\n",
       "      <td>Approximately how many hours did you sleep on ...</td>\n",
       "      <td>Approximately how many hours did you sleep on ...</td>\n",
       "      <td>Has the number of your work hours per week cha...</td>\n",
       "      <td>Please tell us how your work hours per week ha...</td>\n",
       "      <td>Have you varied your work schedule?</td>\n",
       "      <td>Please tell us how you have varied your work s...</td>\n",
       "      <td>Have your sleep patterns changed?</td>\n",
       "      <td>Please tell us how your bedtime has changed</td>\n",
       "      <td>Please tell us how your waketime has changed</td>\n",
       "      <td>Has the number of naps you are taking changed?</td>\n",
       "      <td>Please tell us how the number of the naps have...</td>\n",
       "      <td>Has the amount of alcohol you are consuming\\nc...</td>\n",
       "      <td>Please tell us how the amount of alcohol you a...</td>\n",
       "      <td>In January 2020, approximately how often did y...</td>\n",
       "      <td>In the last month, approximately how often did...</td>\n",
       "      <td>In January 2020, approximately how often did y...</td>\n",
       "      <td>In the last month, approximately how often did...</td>\n",
       "      <td>Has\\nthe amount of news you are consuming incr...</td>\n",
       "      <td>How many hours of COVID-19 related news or\\nso...</td>\n",
       "      <td>Have\\nyou had more âscreen timeâ (e.g. use...</td>\n",
       "      <td>Please tell us how much more screen time you e...</td>\n",
       "      <td>Have you changed your movement/exercise?</td>\n",
       "      <td>Please tell us how your movement/exercise habi...</td>\n",
       "      <td>Has the quality of your diet changed?</td>\n",
       "      <td>Please tell us how your diet has changed?</td>\n",
       "      <td>Has the amount of food you have been eating pe...</td>\n",
       "      <td>Please tell us how the amount of food you have...</td>\n",
       "      <td>Has your mood changed?</td>\n",
       "      <td>Please tell us how your mood has changed.  My ...</td>\n",
       "      <td>Please\\ntell us how your mood has worsened</td>\n",
       "      <td>Please tell us how your mood has worsened</td>\n",
       "      <td>Please tell us how your mood has worsened</td>\n",
       "    </tr>\n",
       "    <tr>\n",
       "      <th>1</th>\n",
       "      <td>3/28/2020 13:24</td>\n",
       "      <td>3/28/2020 13:26</td>\n",
       "      <td>Survey Preview</td>\n",
       "      <td>NaN</td>\n",
       "      <td>100</td>\n",
       "      <td>145</td>\n",
       "      <td>True</td>\n",
       "      <td>3/28/2020 13:26</td>\n",
       "      <td>R_D2zZmZzPFOTHGhj</td>\n",
       "      <td>NaN</td>\n",
       "      <td>NaN</td>\n",
       "      <td>NaN</td>\n",
       "      <td>NaN</td>\n",
       "      <td>42.2709045410156</td>\n",
       "      <td>-83.7267990112305</td>\n",
       "      <td>preview</td>\n",
       "      <td>EN</td>\n",
       "      <td>NaN</td>\n",
       "      <td>NaN</td>\n",
       "      <td>NaN</td>\n",
       "      <td>NaN</td>\n",
       "      <td>NaN</td>\n",
       "      <td>NaN</td>\n",
       "      <td>NaN</td>\n",
       "      <td>NaN</td>\n",
       "      <td>NaN</td>\n",
       "      <td>NaN</td>\n",
       "      <td>NaN</td>\n",
       "      <td>NaN</td>\n",
       "      <td>NaN</td>\n",
       "      <td>NaN</td>\n",
       "      <td>NaN</td>\n",
       "      <td>NaN</td>\n",
       "      <td>NaN</td>\n",
       "      <td>NaN</td>\n",
       "      <td>NaN</td>\n",
       "      <td>NaN</td>\n",
       "      <td>NaN</td>\n",
       "      <td>NaN</td>\n",
       "      <td>NaN</td>\n",
       "      <td>Yes</td>\n",
       "      <td>NaN</td>\n",
       "      <td>NaN</td>\n",
       "      <td>NaN</td>\n",
       "      <td>NaN</td>\n",
       "      <td>Yes</td>\n",
       "      <td>NaN</td>\n",
       "      <td>NaN</td>\n",
       "      <td>NaN</td>\n",
       "      <td>NaN</td>\n",
       "      <td>NaN</td>\n",
       "      <td>NaN</td>\n",
       "      <td>NaN</td>\n",
       "      <td>NaN</td>\n",
       "      <td>NaN</td>\n",
       "      <td>Yes</td>\n",
       "      <td>NaN</td>\n",
       "      <td>Yes</td>\n",
       "      <td>NaN</td>\n",
       "      <td>Yes</td>\n",
       "      <td>NaN</td>\n",
       "      <td>Yes</td>\n",
       "      <td>Slightly worse</td>\n",
       "      <td>NaN</td>\n",
       "      <td>NaN</td>\n",
       "      <td>NaN</td>\n",
       "    </tr>\n",
       "    <tr>\n",
       "      <th>2</th>\n",
       "      <td>3/30/2020 8:29</td>\n",
       "      <td>3/30/2020 8:32</td>\n",
       "      <td>Survey Preview</td>\n",
       "      <td>NaN</td>\n",
       "      <td>100</td>\n",
       "      <td>147</td>\n",
       "      <td>True</td>\n",
       "      <td>3/30/2020 8:32</td>\n",
       "      <td>R_ZesvyNm3EjoBl2F</td>\n",
       "      <td>NaN</td>\n",
       "      <td>NaN</td>\n",
       "      <td>NaN</td>\n",
       "      <td>NaN</td>\n",
       "      <td>42.2709045410156</td>\n",
       "      <td>-83.7267990112305</td>\n",
       "      <td>preview</td>\n",
       "      <td>EN</td>\n",
       "      <td>NaN</td>\n",
       "      <td>NaN</td>\n",
       "      <td>NaN</td>\n",
       "      <td>NaN</td>\n",
       "      <td>NaN</td>\n",
       "      <td>NaN</td>\n",
       "      <td>NaN</td>\n",
       "      <td>NaN</td>\n",
       "      <td>No</td>\n",
       "      <td>NaN</td>\n",
       "      <td>2</td>\n",
       "      <td>NaN</td>\n",
       "      <td>NaN</td>\n",
       "      <td>No</td>\n",
       "      <td>1</td>\n",
       "      <td>NaN</td>\n",
       "      <td>NaN</td>\n",
       "      <td>NaN</td>\n",
       "      <td>NaN</td>\n",
       "      <td>Yes</td>\n",
       "      <td>I am working fewer hours</td>\n",
       "      <td>NaN</td>\n",
       "      <td>NaN</td>\n",
       "      <td>No</td>\n",
       "      <td>NaN</td>\n",
       "      <td>NaN</td>\n",
       "      <td>No</td>\n",
       "      <td>NaN</td>\n",
       "      <td>No</td>\n",
       "      <td>NaN</td>\n",
       "      <td>NaN</td>\n",
       "      <td>NaN</td>\n",
       "      <td>NaN</td>\n",
       "      <td>NaN</td>\n",
       "      <td>No</td>\n",
       "      <td>0-.5 hour</td>\n",
       "      <td>No</td>\n",
       "      <td>NaN</td>\n",
       "      <td>No</td>\n",
       "      <td>NaN</td>\n",
       "      <td>No</td>\n",
       "      <td>NaN</td>\n",
       "      <td>No</td>\n",
       "      <td>NaN</td>\n",
       "      <td>No</td>\n",
       "      <td>NaN</td>\n",
       "      <td>NaN</td>\n",
       "      <td>NaN</td>\n",
       "      <td>NaN</td>\n",
       "    </tr>\n",
       "    <tr>\n",
       "      <th>3</th>\n",
       "      <td>3/30/2020 8:39</td>\n",
       "      <td>3/30/2020 8:42</td>\n",
       "      <td>Survey Preview</td>\n",
       "      <td>NaN</td>\n",
       "      <td>100</td>\n",
       "      <td>160</td>\n",
       "      <td>True</td>\n",
       "      <td>3/30/2020 8:42</td>\n",
       "      <td>R_2zT0jHR2F9OOQtk</td>\n",
       "      <td>NaN</td>\n",
       "      <td>NaN</td>\n",
       "      <td>NaN</td>\n",
       "      <td>NaN</td>\n",
       "      <td>42.2709045410156</td>\n",
       "      <td>-83.7267990112305</td>\n",
       "      <td>preview</td>\n",
       "      <td>EN</td>\n",
       "      <td>NaN</td>\n",
       "      <td>NaN</td>\n",
       "      <td>NaN</td>\n",
       "      <td>NaN</td>\n",
       "      <td>NaN</td>\n",
       "      <td>NaN</td>\n",
       "      <td>NaN</td>\n",
       "      <td>NaN</td>\n",
       "      <td>Yes</td>\n",
       "      <td>NaN</td>\n",
       "      <td>1</td>\n",
       "      <td>NaN</td>\n",
       "      <td>NaN</td>\n",
       "      <td>No</td>\n",
       "      <td>1</td>\n",
       "      <td>NaN</td>\n",
       "      <td>NaN</td>\n",
       "      <td>NaN</td>\n",
       "      <td>NaN</td>\n",
       "      <td>Yes</td>\n",
       "      <td>I am working fewer hours</td>\n",
       "      <td>NaN</td>\n",
       "      <td>NaN</td>\n",
       "      <td>Yes</td>\n",
       "      <td>NaN</td>\n",
       "      <td>NaN</td>\n",
       "      <td>NaN</td>\n",
       "      <td>NaN</td>\n",
       "      <td>Yes</td>\n",
       "      <td>I am drinking less alcohol</td>\n",
       "      <td>NaN</td>\n",
       "      <td>NaN</td>\n",
       "      <td>NaN</td>\n",
       "      <td>NaN</td>\n",
       "      <td>No</td>\n",
       "      <td>0-.5 hour</td>\n",
       "      <td>Yes</td>\n",
       "      <td>NaN</td>\n",
       "      <td>Yes</td>\n",
       "      <td>I am exercising/moving less</td>\n",
       "      <td>Yes</td>\n",
       "      <td>I am eating more healthy foods</td>\n",
       "      <td>Yes</td>\n",
       "      <td>I am eating more food each day</td>\n",
       "      <td>Yes</td>\n",
       "      <td>Moderately worse</td>\n",
       "      <td>NaN</td>\n",
       "      <td>I am moderately more depressed</td>\n",
       "      <td>NaN</td>\n",
       "    </tr>\n",
       "    <tr>\n",
       "      <th>4</th>\n",
       "      <td>3/30/2020 17:26</td>\n",
       "      <td>3/30/2020 17:28</td>\n",
       "      <td>Survey Preview</td>\n",
       "      <td>NaN</td>\n",
       "      <td>100</td>\n",
       "      <td>82</td>\n",
       "      <td>True</td>\n",
       "      <td>3/30/2020 17:28</td>\n",
       "      <td>R_QivmHrJvTYkfNFT</td>\n",
       "      <td>NaN</td>\n",
       "      <td>NaN</td>\n",
       "      <td>NaN</td>\n",
       "      <td>NaN</td>\n",
       "      <td>42.2709045410156</td>\n",
       "      <td>-83.7267990112305</td>\n",
       "      <td>preview</td>\n",
       "      <td>EN</td>\n",
       "      <td>NaN</td>\n",
       "      <td>NaN</td>\n",
       "      <td>NaN</td>\n",
       "      <td>NaN</td>\n",
       "      <td>NaN</td>\n",
       "      <td>NaN</td>\n",
       "      <td>NaN</td>\n",
       "      <td>NaN</td>\n",
       "      <td>NaN</td>\n",
       "      <td>NaN</td>\n",
       "      <td>NaN</td>\n",
       "      <td>NaN</td>\n",
       "      <td>NaN</td>\n",
       "      <td>NaN</td>\n",
       "      <td>NaN</td>\n",
       "      <td>NaN</td>\n",
       "      <td>NaN</td>\n",
       "      <td>NaN</td>\n",
       "      <td>NaN</td>\n",
       "      <td>NaN</td>\n",
       "      <td>NaN</td>\n",
       "      <td>NaN</td>\n",
       "      <td>NaN</td>\n",
       "      <td>NaN</td>\n",
       "      <td>NaN</td>\n",
       "      <td>NaN</td>\n",
       "      <td>NaN</td>\n",
       "      <td>NaN</td>\n",
       "      <td>NaN</td>\n",
       "      <td>NaN</td>\n",
       "      <td>NaN</td>\n",
       "      <td>NaN</td>\n",
       "      <td>NaN</td>\n",
       "      <td>NaN</td>\n",
       "      <td>NaN</td>\n",
       "      <td>NaN</td>\n",
       "      <td>NaN</td>\n",
       "      <td>NaN</td>\n",
       "      <td>NaN</td>\n",
       "      <td>NaN</td>\n",
       "      <td>NaN</td>\n",
       "      <td>NaN</td>\n",
       "      <td>NaN</td>\n",
       "      <td>NaN</td>\n",
       "      <td>NaN</td>\n",
       "      <td>NaN</td>\n",
       "      <td>NaN</td>\n",
       "      <td>NaN</td>\n",
       "      <td>NaN</td>\n",
       "    </tr>\n",
       "  </tbody>\n",
       "</table>\n",
       "</div>"
      ],
      "text/plain": [
       "         StartDate          EndDate          Status   IPAddress  Progress  \\\n",
       "0       Start Date         End Date   Response Type  IP Address  Progress   \n",
       "1  3/28/2020 13:24  3/28/2020 13:26  Survey Preview         NaN       100   \n",
       "2   3/30/2020 8:29   3/30/2020 8:32  Survey Preview         NaN       100   \n",
       "3   3/30/2020 8:39   3/30/2020 8:42  Survey Preview         NaN       100   \n",
       "4  3/30/2020 17:26  3/30/2020 17:28  Survey Preview         NaN       100   \n",
       "\n",
       "   Duration (in seconds)  Finished     RecordedDate         ResponseId  \\\n",
       "0  Duration (in seconds)  Finished    Recorded Date        Response ID   \n",
       "1                    145      True  3/28/2020 13:26  R_D2zZmZzPFOTHGhj   \n",
       "2                    147      True   3/30/2020 8:32  R_ZesvyNm3EjoBl2F   \n",
       "3                    160      True   3/30/2020 8:42  R_2zT0jHR2F9OOQtk   \n",
       "4                     82      True  3/30/2020 17:28  R_QivmHrJvTYkfNFT   \n",
       "\n",
       "     RecipientLastName    RecipientFirstName   RecipientEmail  \\\n",
       "0  Recipient Last Name  Recipient First Name  Recipient Email   \n",
       "1                  NaN                   NaN              NaN   \n",
       "2                  NaN                   NaN              NaN   \n",
       "3                  NaN                   NaN              NaN   \n",
       "4                  NaN                   NaN              NaN   \n",
       "\n",
       "         ExternalReference   LocationLatitude   LocationLongitude  \\\n",
       "0  External Data Reference  Location Latitude  Location Longitude   \n",
       "1                      NaN   42.2709045410156   -83.7267990112305   \n",
       "2                      NaN   42.2709045410156   -83.7267990112305   \n",
       "3                      NaN   42.2709045410156   -83.7267990112305   \n",
       "4                      NaN   42.2709045410156   -83.7267990112305   \n",
       "\n",
       "    DistributionChannel   UserLanguage                 Q1  \\\n",
       "0  Distribution Channel  User Language  What is your age?   \n",
       "1               preview             EN                NaN   \n",
       "2               preview             EN                NaN   \n",
       "3               preview             EN                NaN   \n",
       "4               preview             EN                NaN   \n",
       "\n",
       "                     Q2                               Q3  \\\n",
       "0  What is your gender?  50 States, D.C. and Puerto Rico   \n",
       "1                   NaN                              NaN   \n",
       "2                   NaN                              NaN   \n",
       "3                   NaN                              NaN   \n",
       "4                   NaN                              NaN   \n",
       "\n",
       "                                         Q4  \\\n",
       "0  What ethnicity do you consider yourself?   \n",
       "1                                       NaN   \n",
       "2                                       NaN   \n",
       "3                                       NaN   \n",
       "4                                       NaN   \n",
       "\n",
       "                                                  Q5  \\\n",
       "0  Choose one or more races that you consider you...   \n",
       "1                                                NaN   \n",
       "2                                                NaN   \n",
       "3                                                NaN   \n",
       "4                                                NaN   \n",
       "\n",
       "                                           Q5_6_TEXT  \\\n",
       "0  Choose one or more races that you consider you...   \n",
       "1                                                NaN   \n",
       "2                                                NaN   \n",
       "3                                                NaN   \n",
       "4                                                NaN   \n",
       "\n",
       "                                                  Q6  \\\n",
       "0  What is your role in the healthcare field? (e....   \n",
       "1                                                NaN   \n",
       "2                                                NaN   \n",
       "3                                                NaN   \n",
       "4                                                NaN   \n",
       "\n",
       "                                                  Q7  \\\n",
       "0  Are you a frontline worker providing care for ...   \n",
       "1                                                NaN   \n",
       "2                                                NaN   \n",
       "3                                                NaN   \n",
       "4                                                NaN   \n",
       "\n",
       "                                                  Q8  \\\n",
       "0  Are you currently conducting your job mostly f...   \n",
       "1                                                NaN   \n",
       "2                                                 No   \n",
       "3                                                Yes   \n",
       "4                                                NaN   \n",
       "\n",
       "                                                 Q8a  \\\n",
       "0  Which week in March 2020 did you start working...   \n",
       "1                                                NaN   \n",
       "2                                                NaN   \n",
       "3                                                NaN   \n",
       "4                                                NaN   \n",
       "\n",
       "                                                  Q9  \\\n",
       "0  Are you conducting clinical video visits with ...   \n",
       "1                                                NaN   \n",
       "2                                                  2   \n",
       "3                                                  1   \n",
       "4                                                NaN   \n",
       "\n",
       "                                                 Q9a  \\\n",
       "0  Please rate YOUR satisfaction with conducting\\...   \n",
       "1                                                NaN   \n",
       "2                                                NaN   \n",
       "3                                                NaN   \n",
       "4                                                NaN   \n",
       "\n",
       "                                                 Q9b  \\\n",
       "0  Please rate your estimation of your PATIENT's ...   \n",
       "1                                                NaN   \n",
       "2                                                NaN   \n",
       "3                                                NaN   \n",
       "4                                                NaN   \n",
       "\n",
       "                                                 Q10  \\\n",
       "0  Does\\nyour work require you to follow a fixed ...   \n",
       "1                                                NaN   \n",
       "2                                                 No   \n",
       "3                                                 No   \n",
       "4                                                NaN   \n",
       "\n",
       "                                           Q11  \\\n",
       "0  Are children home from school in the house?   \n",
       "1                                          NaN   \n",
       "2                                            1   \n",
       "3                                            1   \n",
       "4                                          NaN   \n",
       "\n",
       "                                 Q11a                                   Q11b  \\\n",
       "0  How many children are in the home?  How old are the children in the home?   \n",
       "1                                 NaN                                    NaN   \n",
       "2                                 NaN                                    NaN   \n",
       "3                                 NaN                                    NaN   \n",
       "4                                 NaN                                    NaN   \n",
       "\n",
       "                                                 Q12  \\\n",
       "0  Approximately how many hours did you sleep on ...   \n",
       "1                                                NaN   \n",
       "2                                                NaN   \n",
       "3                                                NaN   \n",
       "4                                                NaN   \n",
       "\n",
       "                                                 Q13  \\\n",
       "0  Approximately how many hours did you sleep on ...   \n",
       "1                                                NaN   \n",
       "2                                                NaN   \n",
       "3                                                NaN   \n",
       "4                                                NaN   \n",
       "\n",
       "                                                 Q14  \\\n",
       "0  Has the number of your work hours per week cha...   \n",
       "1                                                NaN   \n",
       "2                                                Yes   \n",
       "3                                                Yes   \n",
       "4                                                NaN   \n",
       "\n",
       "                                                Q14a  \\\n",
       "0  Please tell us how your work hours per week ha...   \n",
       "1                                                NaN   \n",
       "2                           I am working fewer hours   \n",
       "3                           I am working fewer hours   \n",
       "4                                                NaN   \n",
       "\n",
       "                                   Q15  \\\n",
       "0  Have you varied your work schedule?   \n",
       "1                                  NaN   \n",
       "2                                  NaN   \n",
       "3                                  NaN   \n",
       "4                                  NaN   \n",
       "\n",
       "                                                Q15a  \\\n",
       "0  Please tell us how you have varied your work s...   \n",
       "1                                                NaN   \n",
       "2                                                NaN   \n",
       "3                                                NaN   \n",
       "4                                                NaN   \n",
       "\n",
       "                                 Q16  \\\n",
       "0  Have your sleep patterns changed?   \n",
       "1                                Yes   \n",
       "2                                 No   \n",
       "3                                Yes   \n",
       "4                                NaN   \n",
       "\n",
       "                                          Q16a  \\\n",
       "0  Please tell us how your bedtime has changed   \n",
       "1                                          NaN   \n",
       "2                                          NaN   \n",
       "3                                          NaN   \n",
       "4                                          NaN   \n",
       "\n",
       "                                           Q16b  \\\n",
       "0  Please tell us how your waketime has changed   \n",
       "1                                           NaN   \n",
       "2                                           NaN   \n",
       "3                                           NaN   \n",
       "4                                           NaN   \n",
       "\n",
       "                                              Q17  \\\n",
       "0  Has the number of naps you are taking changed?   \n",
       "1                                             NaN   \n",
       "2                                              No   \n",
       "3                                             NaN   \n",
       "4                                             NaN   \n",
       "\n",
       "                                                Q17a  \\\n",
       "0  Please tell us how the number of the naps have...   \n",
       "1                                                NaN   \n",
       "2                                                NaN   \n",
       "3                                                NaN   \n",
       "4                                                NaN   \n",
       "\n",
       "                                                 Q18  \\\n",
       "0  Has the amount of alcohol you are consuming\\nc...   \n",
       "1                                                Yes   \n",
       "2                                                 No   \n",
       "3                                                Yes   \n",
       "4                                                NaN   \n",
       "\n",
       "                                                Q18a  \\\n",
       "0  Please tell us how the amount of alcohol you a...   \n",
       "1                                                NaN   \n",
       "2                                                NaN   \n",
       "3                         I am drinking less alcohol   \n",
       "4                                                NaN   \n",
       "\n",
       "                                                 Q19  \\\n",
       "0  In January 2020, approximately how often did y...   \n",
       "1                                                NaN   \n",
       "2                                                NaN   \n",
       "3                                                NaN   \n",
       "4                                                NaN   \n",
       "\n",
       "                                                 Q20  \\\n",
       "0  In the last month, approximately how often did...   \n",
       "1                                                NaN   \n",
       "2                                                NaN   \n",
       "3                                                NaN   \n",
       "4                                                NaN   \n",
       "\n",
       "                                                 Q21  \\\n",
       "0  In January 2020, approximately how often did y...   \n",
       "1                                                NaN   \n",
       "2                                                NaN   \n",
       "3                                                NaN   \n",
       "4                                                NaN   \n",
       "\n",
       "                                                 Q22  \\\n",
       "0  In the last month, approximately how often did...   \n",
       "1                                                NaN   \n",
       "2                                                NaN   \n",
       "3                                                NaN   \n",
       "4                                                NaN   \n",
       "\n",
       "                                                 Q23  \\\n",
       "0  Has\\nthe amount of news you are consuming incr...   \n",
       "1                                                NaN   \n",
       "2                                                 No   \n",
       "3                                                 No   \n",
       "4                                                NaN   \n",
       "\n",
       "                                                 Q24  \\\n",
       "0  How many hours of COVID-19 related news or\\nso...   \n",
       "1                                                NaN   \n",
       "2                                          0-.5 hour   \n",
       "3                                          0-.5 hour   \n",
       "4                                                NaN   \n",
       "\n",
       "                                                 Q25  \\\n",
       "0  Have\\nyou had more âscreen timeâ (e.g. use...   \n",
       "1                                                NaN   \n",
       "2                                                 No   \n",
       "3                                                Yes   \n",
       "4                                                NaN   \n",
       "\n",
       "                                                Q25a  \\\n",
       "0  Please tell us how much more screen time you e...   \n",
       "1                                                NaN   \n",
       "2                                                NaN   \n",
       "3                                                NaN   \n",
       "4                                                NaN   \n",
       "\n",
       "                                        Q26  \\\n",
       "0  Have you changed your movement/exercise?   \n",
       "1                                       Yes   \n",
       "2                                        No   \n",
       "3                                       Yes   \n",
       "4                                       NaN   \n",
       "\n",
       "                                                Q26a  \\\n",
       "0  Please tell us how your movement/exercise habi...   \n",
       "1                                                NaN   \n",
       "2                                                NaN   \n",
       "3                        I am exercising/moving less   \n",
       "4                                                NaN   \n",
       "\n",
       "                                     Q27  \\\n",
       "0  Has the quality of your diet changed?   \n",
       "1                                    Yes   \n",
       "2                                     No   \n",
       "3                                    Yes   \n",
       "4                                    NaN   \n",
       "\n",
       "                                        Q27a  \\\n",
       "0  Please tell us how your diet has changed?   \n",
       "1                                        NaN   \n",
       "2                                        NaN   \n",
       "3             I am eating more healthy foods   \n",
       "4                                        NaN   \n",
       "\n",
       "                                                 Q28  \\\n",
       "0  Has the amount of food you have been eating pe...   \n",
       "1                                                Yes   \n",
       "2                                                 No   \n",
       "3                                                Yes   \n",
       "4                                                NaN   \n",
       "\n",
       "                                                Q28a                     Q29  \\\n",
       "0  Please tell us how the amount of food you have...  Has your mood changed?   \n",
       "1                                                NaN                     Yes   \n",
       "2                                                NaN                      No   \n",
       "3                     I am eating more food each day                     Yes   \n",
       "4                                                NaN                     NaN   \n",
       "\n",
       "                                                Q29a  \\\n",
       "0  Please tell us how your mood has changed.  My ...   \n",
       "1                                     Slightly worse   \n",
       "2                                                NaN   \n",
       "3                                   Moderately worse   \n",
       "4                                                NaN   \n",
       "\n",
       "                                         Q29b  \\\n",
       "0  Please\\ntell us how your mood has worsened   \n",
       "1                                         NaN   \n",
       "2                                         NaN   \n",
       "3                                         NaN   \n",
       "4                                         NaN   \n",
       "\n",
       "                                        Q29c  \\\n",
       "0  Please tell us how your mood has worsened   \n",
       "1                                        NaN   \n",
       "2                                        NaN   \n",
       "3             I am moderately more depressed   \n",
       "4                                        NaN   \n",
       "\n",
       "                                        Q29d  \n",
       "0  Please tell us how your mood has worsened  \n",
       "1                                        NaN  \n",
       "2                                        NaN  \n",
       "3                                        NaN  \n",
       "4                                        NaN  "
      ]
     },
     "execution_count": 5,
     "metadata": {},
     "output_type": "execute_result"
    }
   ],
   "source": [
    "pd.set_option(\"display.max_columns\", None)\n",
    "df.head(5)"
   ]
  },
  {
   "cell_type": "code",
   "execution_count": 6,
   "metadata": {
    "colab": {
     "base_uri": "https://localhost:8080/"
    },
    "id": "fBiuMdok9Ppn",
    "outputId": "420a17fa-b313-46eb-a7aa-e650131c177c"
   },
   "outputs": [
    {
     "data": {
      "text/plain": [
       "(915, 66)"
      ]
     },
     "execution_count": 6,
     "metadata": {},
     "output_type": "execute_result"
    }
   ],
   "source": [
    "df.shape"
   ]
  },
  {
   "cell_type": "code",
   "execution_count": 7,
   "metadata": {
    "colab": {
     "base_uri": "https://localhost:8080/"
    },
    "id": "LPxkgvE69Ppo",
    "outputId": "11c3cd8d-7a1a-4fcc-f6c0-1386f09d790c"
   },
   "outputs": [
    {
     "data": {
      "text/plain": [
       "RangeIndex(start=0, stop=915, step=1)"
      ]
     },
     "execution_count": 7,
     "metadata": {},
     "output_type": "execute_result"
    }
   ],
   "source": [
    "df.index"
   ]
  },
  {
   "cell_type": "code",
   "execution_count": 8,
   "metadata": {
    "colab": {
     "base_uri": "https://localhost:8080/"
    },
    "id": "qfBxD3wO9Ppp",
    "outputId": "534df381-ebff-4f96-def3-939811759625"
   },
   "outputs": [
    {
     "data": {
      "text/plain": [
       "Index(['StartDate', 'EndDate', 'Status', 'IPAddress', 'Progress',\n",
       "       'Duration (in seconds)', 'Finished', 'RecordedDate', 'ResponseId',\n",
       "       'RecipientLastName', 'RecipientFirstName', 'RecipientEmail',\n",
       "       'ExternalReference', 'LocationLatitude', 'LocationLongitude',\n",
       "       'DistributionChannel', 'UserLanguage', 'Q1', 'Q2', 'Q3', 'Q4', 'Q5',\n",
       "       'Q5_6_TEXT', 'Q6', 'Q7', 'Q8', 'Q8a', 'Q9', 'Q9a', 'Q9b', 'Q10', 'Q11',\n",
       "       'Q11a', 'Q11b', 'Q12', 'Q13', 'Q14', 'Q14a', 'Q15', 'Q15a', 'Q16',\n",
       "       'Q16a', 'Q16b', 'Q17', 'Q17a', 'Q18', 'Q18a', 'Q19', 'Q20', 'Q21',\n",
       "       'Q22', 'Q23', 'Q24', 'Q25', 'Q25a', 'Q26', 'Q26a', 'Q27', 'Q27a', 'Q28',\n",
       "       'Q28a', 'Q29', 'Q29a', 'Q29b', 'Q29c', 'Q29d'],\n",
       "      dtype='object')"
      ]
     },
     "execution_count": 8,
     "metadata": {},
     "output_type": "execute_result"
    }
   ],
   "source": [
    "df.columns"
   ]
  },
  {
   "cell_type": "code",
   "execution_count": 9,
   "metadata": {
    "colab": {
     "base_uri": "https://localhost:8080/"
    },
    "id": "MQv3WaoV9Ppq",
    "outputId": "3be2a393-fcb4-4fcf-e21d-b7ab6ba11199"
   },
   "outputs": [
    {
     "data": {
      "text/plain": [
       "StartDate      0\n",
       "EndDate        0\n",
       "Status         0\n",
       "IPAddress      5\n",
       "Progress       0\n",
       "            ... \n",
       "Q29           76\n",
       "Q29a         311\n",
       "Q29b         561\n",
       "Q29c         771\n",
       "Q29d         883\n",
       "Length: 66, dtype: int64"
      ]
     },
     "execution_count": 9,
     "metadata": {},
     "output_type": "execute_result"
    }
   ],
   "source": [
    "# missing values\n",
    "df.isnull().sum()\n"
   ]
  },
  {
   "cell_type": "code",
   "execution_count": 10,
   "metadata": {
    "colab": {
     "base_uri": "https://localhost:8080/",
     "height": 1000
    },
    "id": "F_UmN2NJ9Ppr",
    "outputId": "ebd2268b-2b6d-4f02-96cb-43d5bbd1650e"
   },
   "outputs": [
    {
     "data": {
      "text/html": [
       "<div>\n",
       "<style scoped>\n",
       "    .dataframe tbody tr th:only-of-type {\n",
       "        vertical-align: middle;\n",
       "    }\n",
       "\n",
       "    .dataframe tbody tr th {\n",
       "        vertical-align: top;\n",
       "    }\n",
       "\n",
       "    .dataframe thead th {\n",
       "        text-align: right;\n",
       "    }\n",
       "</style>\n",
       "<table border=\"1\" class=\"dataframe\">\n",
       "  <thead>\n",
       "    <tr style=\"text-align: right;\">\n",
       "      <th></th>\n",
       "      <th>Q1</th>\n",
       "      <th>Q2</th>\n",
       "      <th>Q3</th>\n",
       "      <th>Q8</th>\n",
       "      <th>Q8a</th>\n",
       "      <th>Q9</th>\n",
       "      <th>Q9a</th>\n",
       "      <th>Q9b</th>\n",
       "      <th>Q10</th>\n",
       "      <th>Q11</th>\n",
       "      <th>Q11a</th>\n",
       "      <th>Q11b</th>\n",
       "      <th>Q12</th>\n",
       "      <th>Q13</th>\n",
       "      <th>Q14</th>\n",
       "      <th>Q14a</th>\n",
       "      <th>Q15</th>\n",
       "      <th>Q15a</th>\n",
       "      <th>Q16</th>\n",
       "      <th>Q16a</th>\n",
       "      <th>Q16b</th>\n",
       "      <th>Q17</th>\n",
       "      <th>Q18</th>\n",
       "      <th>Q18a</th>\n",
       "      <th>Q19</th>\n",
       "      <th>Q20</th>\n",
       "      <th>Q21</th>\n",
       "      <th>Q22</th>\n",
       "      <th>Q23</th>\n",
       "      <th>Q24</th>\n",
       "      <th>Q25</th>\n",
       "      <th>Q25a</th>\n",
       "      <th>Q26</th>\n",
       "      <th>Q26a</th>\n",
       "      <th>Q27</th>\n",
       "      <th>Q27a</th>\n",
       "      <th>Q28</th>\n",
       "      <th>Q28a</th>\n",
       "      <th>Q29</th>\n",
       "      <th>Q29a</th>\n",
       "    </tr>\n",
       "  </thead>\n",
       "  <tbody>\n",
       "    <tr>\n",
       "      <th>0</th>\n",
       "      <td>What is your age?</td>\n",
       "      <td>What is your gender?</td>\n",
       "      <td>50 States, D.C. and Puerto Rico</td>\n",
       "      <td>Are you currently conducting your job mostly f...</td>\n",
       "      <td>Which week in March 2020 did you start working...</td>\n",
       "      <td>Are you conducting clinical video visits with ...</td>\n",
       "      <td>Please rate YOUR satisfaction with conducting\\...</td>\n",
       "      <td>Please rate your estimation of your PATIENT's ...</td>\n",
       "      <td>Does\\nyour work require you to follow a fixed ...</td>\n",
       "      <td>Are children home from school in the house?</td>\n",
       "      <td>How many children are in the home?</td>\n",
       "      <td>How old are the children in the home?</td>\n",
       "      <td>Approximately how many hours did you sleep on ...</td>\n",
       "      <td>Approximately how many hours did you sleep on ...</td>\n",
       "      <td>Has the number of your work hours per week cha...</td>\n",
       "      <td>Please tell us how your work hours per week ha...</td>\n",
       "      <td>Have you varied your work schedule?</td>\n",
       "      <td>Please tell us how you have varied your work s...</td>\n",
       "      <td>Have your sleep patterns changed?</td>\n",
       "      <td>Please tell us how your bedtime has changed</td>\n",
       "      <td>Please tell us how your waketime has changed</td>\n",
       "      <td>Has the number of naps you are taking changed?</td>\n",
       "      <td>Has the amount of alcohol you are consuming\\nc...</td>\n",
       "      <td>Please tell us how the amount of alcohol you a...</td>\n",
       "      <td>In January 2020, approximately how often did y...</td>\n",
       "      <td>In the last month, approximately how often did...</td>\n",
       "      <td>In January 2020, approximately how often did y...</td>\n",
       "      <td>In the last month, approximately how often did...</td>\n",
       "      <td>Has\\nthe amount of news you are consuming incr...</td>\n",
       "      <td>How many hours of COVID-19 related news or\\nso...</td>\n",
       "      <td>Have\\nyou had more âscreen timeâ (e.g. use...</td>\n",
       "      <td>Please tell us how much more screen time you e...</td>\n",
       "      <td>Have you changed your movement/exercise?</td>\n",
       "      <td>Please tell us how your movement/exercise habi...</td>\n",
       "      <td>Has the quality of your diet changed?</td>\n",
       "      <td>Please tell us how your diet has changed?</td>\n",
       "      <td>Has the amount of food you have been eating pe...</td>\n",
       "      <td>Please tell us how the amount of food you have...</td>\n",
       "      <td>Has your mood changed?</td>\n",
       "      <td>Please tell us how your mood has changed.  My ...</td>\n",
       "    </tr>\n",
       "    <tr>\n",
       "      <th>3</th>\n",
       "      <td>NaN</td>\n",
       "      <td>NaN</td>\n",
       "      <td>NaN</td>\n",
       "      <td>Yes</td>\n",
       "      <td>NaN</td>\n",
       "      <td>1</td>\n",
       "      <td>NaN</td>\n",
       "      <td>NaN</td>\n",
       "      <td>No</td>\n",
       "      <td>1</td>\n",
       "      <td>NaN</td>\n",
       "      <td>NaN</td>\n",
       "      <td>NaN</td>\n",
       "      <td>NaN</td>\n",
       "      <td>Yes</td>\n",
       "      <td>I am working fewer hours</td>\n",
       "      <td>NaN</td>\n",
       "      <td>NaN</td>\n",
       "      <td>Yes</td>\n",
       "      <td>NaN</td>\n",
       "      <td>NaN</td>\n",
       "      <td>NaN</td>\n",
       "      <td>Yes</td>\n",
       "      <td>I am drinking less alcohol</td>\n",
       "      <td>NaN</td>\n",
       "      <td>NaN</td>\n",
       "      <td>NaN</td>\n",
       "      <td>NaN</td>\n",
       "      <td>No</td>\n",
       "      <td>0-.5 hour</td>\n",
       "      <td>Yes</td>\n",
       "      <td>NaN</td>\n",
       "      <td>Yes</td>\n",
       "      <td>I am exercising/moving less</td>\n",
       "      <td>Yes</td>\n",
       "      <td>I am eating more healthy foods</td>\n",
       "      <td>Yes</td>\n",
       "      <td>I am eating more food each day</td>\n",
       "      <td>Yes</td>\n",
       "      <td>Moderately worse</td>\n",
       "    </tr>\n",
       "    <tr>\n",
       "      <th>5</th>\n",
       "      <td>44</td>\n",
       "      <td>Female</td>\n",
       "      <td>NaN</td>\n",
       "      <td>Yes</td>\n",
       "      <td>Week 4 March 22-28</td>\n",
       "      <td>1</td>\n",
       "      <td>Somewhat satisfied</td>\n",
       "      <td>Somewhat satisfied</td>\n",
       "      <td>No</td>\n",
       "      <td>2</td>\n",
       "      <td>NaN</td>\n",
       "      <td>NaN</td>\n",
       "      <td>8</td>\n",
       "      <td>9</td>\n",
       "      <td>Yes</td>\n",
       "      <td>I am working fewer hours</td>\n",
       "      <td>NaN</td>\n",
       "      <td>NaN</td>\n",
       "      <td>Yes</td>\n",
       "      <td>I am going to bed later</td>\n",
       "      <td>I am waking up later</td>\n",
       "      <td>Yes</td>\n",
       "      <td>Yes</td>\n",
       "      <td>I am drinking more alcohol</td>\n",
       "      <td>NaN</td>\n",
       "      <td>NaN</td>\n",
       "      <td>NaN</td>\n",
       "      <td>NaN</td>\n",
       "      <td>Yes</td>\n",
       "      <td>0-.5 hour</td>\n",
       "      <td>Yes</td>\n",
       "      <td>0-0.5 hour</td>\n",
       "      <td>No</td>\n",
       "      <td>NaN</td>\n",
       "      <td>Yes</td>\n",
       "      <td>I am eating more healthy foods</td>\n",
       "      <td>Yes</td>\n",
       "      <td>I am eating more food each day</td>\n",
       "      <td>Yes</td>\n",
       "      <td>Slightly worse</td>\n",
       "    </tr>\n",
       "    <tr>\n",
       "      <th>6</th>\n",
       "      <td>41</td>\n",
       "      <td>Female</td>\n",
       "      <td>NaN</td>\n",
       "      <td>Yes</td>\n",
       "      <td>Week 4 March 22-28</td>\n",
       "      <td>1</td>\n",
       "      <td>Somewhat satisfied</td>\n",
       "      <td>Somewhat satisfied</td>\n",
       "      <td>No</td>\n",
       "      <td>1</td>\n",
       "      <td>NaN</td>\n",
       "      <td>NaN</td>\n",
       "      <td>7</td>\n",
       "      <td>8</td>\n",
       "      <td>Yes</td>\n",
       "      <td>I am working fewer hours</td>\n",
       "      <td>NaN</td>\n",
       "      <td>NaN</td>\n",
       "      <td>Yes</td>\n",
       "      <td>I am going to bed later</td>\n",
       "      <td>I am waking up later</td>\n",
       "      <td>No</td>\n",
       "      <td>Yes</td>\n",
       "      <td>I am drinking more alcohol</td>\n",
       "      <td>NaN</td>\n",
       "      <td>NaN</td>\n",
       "      <td>NaN</td>\n",
       "      <td>NaN</td>\n",
       "      <td>Yes</td>\n",
       "      <td>1-2 hours</td>\n",
       "      <td>Yes</td>\n",
       "      <td>0.51-1 hour</td>\n",
       "      <td>Yes</td>\n",
       "      <td>I am exercising/moving more</td>\n",
       "      <td>Yes</td>\n",
       "      <td>I am eating less healthy foods</td>\n",
       "      <td>No</td>\n",
       "      <td>NaN</td>\n",
       "      <td>Yes</td>\n",
       "      <td>Much worse</td>\n",
       "    </tr>\n",
       "    <tr>\n",
       "      <th>8</th>\n",
       "      <td>35</td>\n",
       "      <td>Female</td>\n",
       "      <td>NaN</td>\n",
       "      <td>Yes</td>\n",
       "      <td>Week 4 March 22-28</td>\n",
       "      <td>1</td>\n",
       "      <td>Extremely satisfied</td>\n",
       "      <td>Somewhat satisfied</td>\n",
       "      <td>No</td>\n",
       "      <td>2</td>\n",
       "      <td>NaN</td>\n",
       "      <td>NaN</td>\n",
       "      <td>7</td>\n",
       "      <td>8</td>\n",
       "      <td>No</td>\n",
       "      <td>NaN</td>\n",
       "      <td>NaN</td>\n",
       "      <td>NaN</td>\n",
       "      <td>No</td>\n",
       "      <td>NaN</td>\n",
       "      <td>NaN</td>\n",
       "      <td>No</td>\n",
       "      <td>Yes</td>\n",
       "      <td>I am drinking less alcohol</td>\n",
       "      <td>NaN</td>\n",
       "      <td>NaN</td>\n",
       "      <td>NaN</td>\n",
       "      <td>NaN</td>\n",
       "      <td>Yes</td>\n",
       "      <td>0.51 â 1 hour</td>\n",
       "      <td>Yes</td>\n",
       "      <td>0.51-1 hour</td>\n",
       "      <td>Yes</td>\n",
       "      <td>I am exercising/moving more</td>\n",
       "      <td>Yes</td>\n",
       "      <td>I am eating more healthy foods</td>\n",
       "      <td>Yes</td>\n",
       "      <td>I am eating more food each day</td>\n",
       "      <td>Yes</td>\n",
       "      <td>Slightly worse</td>\n",
       "    </tr>\n",
       "    <tr>\n",
       "      <th>...</th>\n",
       "      <td>...</td>\n",
       "      <td>...</td>\n",
       "      <td>...</td>\n",
       "      <td>...</td>\n",
       "      <td>...</td>\n",
       "      <td>...</td>\n",
       "      <td>...</td>\n",
       "      <td>...</td>\n",
       "      <td>...</td>\n",
       "      <td>...</td>\n",
       "      <td>...</td>\n",
       "      <td>...</td>\n",
       "      <td>...</td>\n",
       "      <td>...</td>\n",
       "      <td>...</td>\n",
       "      <td>...</td>\n",
       "      <td>...</td>\n",
       "      <td>...</td>\n",
       "      <td>...</td>\n",
       "      <td>...</td>\n",
       "      <td>...</td>\n",
       "      <td>...</td>\n",
       "      <td>...</td>\n",
       "      <td>...</td>\n",
       "      <td>...</td>\n",
       "      <td>...</td>\n",
       "      <td>...</td>\n",
       "      <td>...</td>\n",
       "      <td>...</td>\n",
       "      <td>...</td>\n",
       "      <td>...</td>\n",
       "      <td>...</td>\n",
       "      <td>...</td>\n",
       "      <td>...</td>\n",
       "      <td>...</td>\n",
       "      <td>...</td>\n",
       "      <td>...</td>\n",
       "      <td>...</td>\n",
       "      <td>...</td>\n",
       "      <td>...</td>\n",
       "    </tr>\n",
       "    <tr>\n",
       "      <th>894</th>\n",
       "      <td>29</td>\n",
       "      <td>Female</td>\n",
       "      <td>Georgia</td>\n",
       "      <td>Yes</td>\n",
       "      <td>Week 2 March 8-14</td>\n",
       "      <td>Not applicable</td>\n",
       "      <td>NaN</td>\n",
       "      <td>NaN</td>\n",
       "      <td>Yes</td>\n",
       "      <td>Not applicable</td>\n",
       "      <td>NaN</td>\n",
       "      <td>NaN</td>\n",
       "      <td>6-8</td>\n",
       "      <td>6-8</td>\n",
       "      <td>No</td>\n",
       "      <td>NaN</td>\n",
       "      <td>No</td>\n",
       "      <td>NaN</td>\n",
       "      <td>Yes</td>\n",
       "      <td>I am going to bed later</td>\n",
       "      <td>I waking up earlier</td>\n",
       "      <td>No</td>\n",
       "      <td>Yes</td>\n",
       "      <td>I am drinking more alcohol</td>\n",
       "      <td>Once a month or less</td>\n",
       "      <td>2-4 times a month</td>\n",
       "      <td>Never</td>\n",
       "      <td>Never</td>\n",
       "      <td>Yes</td>\n",
       "      <td>2-3 hours</td>\n",
       "      <td>Yes</td>\n",
       "      <td>3+ hours</td>\n",
       "      <td>Yes</td>\n",
       "      <td>I am exercising/moving less</td>\n",
       "      <td>Yes</td>\n",
       "      <td>I am eating less healthy foods</td>\n",
       "      <td>Yes</td>\n",
       "      <td>I am eating more food each day</td>\n",
       "      <td>Yes</td>\n",
       "      <td>Moderately worse</td>\n",
       "    </tr>\n",
       "    <tr>\n",
       "      <th>895</th>\n",
       "      <td>44</td>\n",
       "      <td>Male</td>\n",
       "      <td>Michigan</td>\n",
       "      <td>Yes</td>\n",
       "      <td>Week 5 March 29- April 4</td>\n",
       "      <td>Yes</td>\n",
       "      <td>Extremely satisfied</td>\n",
       "      <td>Extremely satisfied</td>\n",
       "      <td>No</td>\n",
       "      <td>Yes</td>\n",
       "      <td>2</td>\n",
       "      <td>Under 12 years old,12-17 years old</td>\n",
       "      <td>7</td>\n",
       "      <td>7.5</td>\n",
       "      <td>Yes</td>\n",
       "      <td>I am working fewer hours</td>\n",
       "      <td>Yes</td>\n",
       "      <td>I am ending work earlier most days</td>\n",
       "      <td>No</td>\n",
       "      <td>NaN</td>\n",
       "      <td>NaN</td>\n",
       "      <td>No</td>\n",
       "      <td>Yes</td>\n",
       "      <td>I am drinking more alcohol</td>\n",
       "      <td>2-3 times a week</td>\n",
       "      <td>2-3 times a week</td>\n",
       "      <td>Never</td>\n",
       "      <td>Never</td>\n",
       "      <td>No</td>\n",
       "      <td>0-.5 hour</td>\n",
       "      <td>No</td>\n",
       "      <td>NaN</td>\n",
       "      <td>Yes</td>\n",
       "      <td>I am exercising/moving more</td>\n",
       "      <td>No</td>\n",
       "      <td>NaN</td>\n",
       "      <td>Yes</td>\n",
       "      <td>I am eating more food each day</td>\n",
       "      <td>No</td>\n",
       "      <td>NaN</td>\n",
       "    </tr>\n",
       "    <tr>\n",
       "      <th>896</th>\n",
       "      <td>47</td>\n",
       "      <td>Female</td>\n",
       "      <td>California</td>\n",
       "      <td>Yes</td>\n",
       "      <td>Week 3 March 15-21</td>\n",
       "      <td>Yes</td>\n",
       "      <td>Extremely satisfied</td>\n",
       "      <td>Extremely satisfied</td>\n",
       "      <td>No</td>\n",
       "      <td>Yes</td>\n",
       "      <td>2</td>\n",
       "      <td>12-17 years old</td>\n",
       "      <td>6</td>\n",
       "      <td>7</td>\n",
       "      <td>Yes</td>\n",
       "      <td>I am working fewer hours</td>\n",
       "      <td>Yes</td>\n",
       "      <td>I am starting work later most days,I am ending...</td>\n",
       "      <td>Yes</td>\n",
       "      <td>I am going to bed later</td>\n",
       "      <td>I am waking up later</td>\n",
       "      <td>Yes</td>\n",
       "      <td>Yes</td>\n",
       "      <td>I am drinking more alcohol</td>\n",
       "      <td>2-4 times a month</td>\n",
       "      <td>2-3 times a week</td>\n",
       "      <td>Never</td>\n",
       "      <td>Never</td>\n",
       "      <td>Yes</td>\n",
       "      <td>3+ hours</td>\n",
       "      <td>Yes</td>\n",
       "      <td>1-2 hours</td>\n",
       "      <td>Yes</td>\n",
       "      <td>I am exercising/moving less</td>\n",
       "      <td>Yes</td>\n",
       "      <td>I am eating less healthy foods</td>\n",
       "      <td>Yes</td>\n",
       "      <td>I am eating more food each day</td>\n",
       "      <td>Yes</td>\n",
       "      <td>Moderately worse</td>\n",
       "    </tr>\n",
       "    <tr>\n",
       "      <th>897</th>\n",
       "      <td>58</td>\n",
       "      <td>Female</td>\n",
       "      <td>Michigan</td>\n",
       "      <td>No</td>\n",
       "      <td>NaN</td>\n",
       "      <td>No</td>\n",
       "      <td>NaN</td>\n",
       "      <td>NaN</td>\n",
       "      <td>No</td>\n",
       "      <td>No</td>\n",
       "      <td>NaN</td>\n",
       "      <td>NaN</td>\n",
       "      <td>8-9</td>\n",
       "      <td>9-10</td>\n",
       "      <td>Yes</td>\n",
       "      <td>I am working fewer hours</td>\n",
       "      <td>Yes</td>\n",
       "      <td>I am starting work later most days,I am ending...</td>\n",
       "      <td>Yes</td>\n",
       "      <td>I am going to bed earlier</td>\n",
       "      <td>I am waking up later</td>\n",
       "      <td>No</td>\n",
       "      <td>Yes</td>\n",
       "      <td>I am drinking more alcohol</td>\n",
       "      <td>2-4 times a month</td>\n",
       "      <td>2-3 times a week</td>\n",
       "      <td>Never</td>\n",
       "      <td>Never</td>\n",
       "      <td>Yes</td>\n",
       "      <td>2-3 hours</td>\n",
       "      <td>Yes</td>\n",
       "      <td>2-3 hours</td>\n",
       "      <td>Yes</td>\n",
       "      <td>I am exercising/moving more</td>\n",
       "      <td>Yes</td>\n",
       "      <td>I am eating more healthy foods</td>\n",
       "      <td>Yes</td>\n",
       "      <td>I am eating more food each day</td>\n",
       "      <td>Yes</td>\n",
       "      <td>Much better</td>\n",
       "    </tr>\n",
       "    <tr>\n",
       "      <th>908</th>\n",
       "      <td>66</td>\n",
       "      <td>Female</td>\n",
       "      <td>Michigan</td>\n",
       "      <td>No</td>\n",
       "      <td>NaN</td>\n",
       "      <td>No,Not applicable</td>\n",
       "      <td>NaN</td>\n",
       "      <td>NaN</td>\n",
       "      <td>No</td>\n",
       "      <td>No</td>\n",
       "      <td>NaN</td>\n",
       "      <td>NaN</td>\n",
       "      <td>8</td>\n",
       "      <td>8</td>\n",
       "      <td>No</td>\n",
       "      <td>NaN</td>\n",
       "      <td>Yes</td>\n",
       "      <td>I am ending work earlier most days</td>\n",
       "      <td>No</td>\n",
       "      <td>NaN</td>\n",
       "      <td>NaN</td>\n",
       "      <td>No</td>\n",
       "      <td>Yes</td>\n",
       "      <td>I am drinking more alcohol</td>\n",
       "      <td>2-3 times a week</td>\n",
       "      <td>2-3 times a week</td>\n",
       "      <td>Never</td>\n",
       "      <td>2-4 times a month</td>\n",
       "      <td>Yes</td>\n",
       "      <td>1-2 hours</td>\n",
       "      <td>No</td>\n",
       "      <td>NaN</td>\n",
       "      <td>Yes</td>\n",
       "      <td>I am exercising/moving less</td>\n",
       "      <td>Yes</td>\n",
       "      <td>I am eating less healthy foods</td>\n",
       "      <td>No</td>\n",
       "      <td>NaN</td>\n",
       "      <td>Yes</td>\n",
       "      <td>Slightly worse,Moderately worse</td>\n",
       "    </tr>\n",
       "  </tbody>\n",
       "</table>\n",
       "<p>280 rows × 40 columns</p>\n",
       "</div>"
      ],
      "text/plain": [
       "                    Q1                    Q2                               Q3  \\\n",
       "0    What is your age?  What is your gender?  50 States, D.C. and Puerto Rico   \n",
       "3                  NaN                   NaN                              NaN   \n",
       "5                   44                Female                              NaN   \n",
       "6                   41                Female                              NaN   \n",
       "8                   35                Female                              NaN   \n",
       "..                 ...                   ...                              ...   \n",
       "894                 29                Female                          Georgia   \n",
       "895                 44                  Male                         Michigan   \n",
       "896                 47                Female                       California   \n",
       "897                 58                Female                         Michigan   \n",
       "908                 66                Female                         Michigan   \n",
       "\n",
       "                                                    Q8  \\\n",
       "0    Are you currently conducting your job mostly f...   \n",
       "3                                                  Yes   \n",
       "5                                                  Yes   \n",
       "6                                                  Yes   \n",
       "8                                                  Yes   \n",
       "..                                                 ...   \n",
       "894                                                Yes   \n",
       "895                                                Yes   \n",
       "896                                                Yes   \n",
       "897                                                 No   \n",
       "908                                                 No   \n",
       "\n",
       "                                                   Q8a  \\\n",
       "0    Which week in March 2020 did you start working...   \n",
       "3                                                  NaN   \n",
       "5                                   Week 4 March 22-28   \n",
       "6                                   Week 4 March 22-28   \n",
       "8                                   Week 4 March 22-28   \n",
       "..                                                 ...   \n",
       "894                                  Week 2 March 8-14   \n",
       "895                           Week 5 March 29- April 4   \n",
       "896                                 Week 3 March 15-21   \n",
       "897                                                NaN   \n",
       "908                                                NaN   \n",
       "\n",
       "                                                    Q9  \\\n",
       "0    Are you conducting clinical video visits with ...   \n",
       "3                                                    1   \n",
       "5                                                    1   \n",
       "6                                                    1   \n",
       "8                                                    1   \n",
       "..                                                 ...   \n",
       "894                                     Not applicable   \n",
       "895                                                Yes   \n",
       "896                                                Yes   \n",
       "897                                                 No   \n",
       "908                                  No,Not applicable   \n",
       "\n",
       "                                                   Q9a  \\\n",
       "0    Please rate YOUR satisfaction with conducting\\...   \n",
       "3                                                  NaN   \n",
       "5                                   Somewhat satisfied   \n",
       "6                                   Somewhat satisfied   \n",
       "8                                  Extremely satisfied   \n",
       "..                                                 ...   \n",
       "894                                                NaN   \n",
       "895                                Extremely satisfied   \n",
       "896                                Extremely satisfied   \n",
       "897                                                NaN   \n",
       "908                                                NaN   \n",
       "\n",
       "                                                   Q9b  \\\n",
       "0    Please rate your estimation of your PATIENT's ...   \n",
       "3                                                  NaN   \n",
       "5                                   Somewhat satisfied   \n",
       "6                                   Somewhat satisfied   \n",
       "8                                   Somewhat satisfied   \n",
       "..                                                 ...   \n",
       "894                                                NaN   \n",
       "895                                Extremely satisfied   \n",
       "896                                Extremely satisfied   \n",
       "897                                                NaN   \n",
       "908                                                NaN   \n",
       "\n",
       "                                                   Q10  \\\n",
       "0    Does\\nyour work require you to follow a fixed ...   \n",
       "3                                                   No   \n",
       "5                                                   No   \n",
       "6                                                   No   \n",
       "8                                                   No   \n",
       "..                                                 ...   \n",
       "894                                                Yes   \n",
       "895                                                 No   \n",
       "896                                                 No   \n",
       "897                                                 No   \n",
       "908                                                 No   \n",
       "\n",
       "                                             Q11  \\\n",
       "0    Are children home from school in the house?   \n",
       "3                                              1   \n",
       "5                                              2   \n",
       "6                                              1   \n",
       "8                                              2   \n",
       "..                                           ...   \n",
       "894                               Not applicable   \n",
       "895                                          Yes   \n",
       "896                                          Yes   \n",
       "897                                           No   \n",
       "908                                           No   \n",
       "\n",
       "                                   Q11a  \\\n",
       "0    How many children are in the home?   \n",
       "3                                   NaN   \n",
       "5                                   NaN   \n",
       "6                                   NaN   \n",
       "8                                   NaN   \n",
       "..                                  ...   \n",
       "894                                 NaN   \n",
       "895                                   2   \n",
       "896                                   2   \n",
       "897                                 NaN   \n",
       "908                                 NaN   \n",
       "\n",
       "                                      Q11b  \\\n",
       "0    How old are the children in the home?   \n",
       "3                                      NaN   \n",
       "5                                      NaN   \n",
       "6                                      NaN   \n",
       "8                                      NaN   \n",
       "..                                     ...   \n",
       "894                                    NaN   \n",
       "895     Under 12 years old,12-17 years old   \n",
       "896                        12-17 years old   \n",
       "897                                    NaN   \n",
       "908                                    NaN   \n",
       "\n",
       "                                                   Q12  \\\n",
       "0    Approximately how many hours did you sleep on ...   \n",
       "3                                                  NaN   \n",
       "5                                                    8   \n",
       "6                                                    7   \n",
       "8                                                    7   \n",
       "..                                                 ...   \n",
       "894                                                6-8   \n",
       "895                                                  7   \n",
       "896                                                  6   \n",
       "897                                                8-9   \n",
       "908                                                  8   \n",
       "\n",
       "                                                   Q13  \\\n",
       "0    Approximately how many hours did you sleep on ...   \n",
       "3                                                  NaN   \n",
       "5                                                    9   \n",
       "6                                                    8   \n",
       "8                                                    8   \n",
       "..                                                 ...   \n",
       "894                                                6-8   \n",
       "895                                                7.5   \n",
       "896                                                  7   \n",
       "897                                               9-10   \n",
       "908                                                  8   \n",
       "\n",
       "                                                   Q14  \\\n",
       "0    Has the number of your work hours per week cha...   \n",
       "3                                                  Yes   \n",
       "5                                                  Yes   \n",
       "6                                                  Yes   \n",
       "8                                                   No   \n",
       "..                                                 ...   \n",
       "894                                                 No   \n",
       "895                                                Yes   \n",
       "896                                                Yes   \n",
       "897                                                Yes   \n",
       "908                                                 No   \n",
       "\n",
       "                                                  Q14a  \\\n",
       "0    Please tell us how your work hours per week ha...   \n",
       "3                             I am working fewer hours   \n",
       "5                             I am working fewer hours   \n",
       "6                             I am working fewer hours   \n",
       "8                                                  NaN   \n",
       "..                                                 ...   \n",
       "894                                                NaN   \n",
       "895                           I am working fewer hours   \n",
       "896                           I am working fewer hours   \n",
       "897                           I am working fewer hours   \n",
       "908                                                NaN   \n",
       "\n",
       "                                     Q15  \\\n",
       "0    Have you varied your work schedule?   \n",
       "3                                    NaN   \n",
       "5                                    NaN   \n",
       "6                                    NaN   \n",
       "8                                    NaN   \n",
       "..                                   ...   \n",
       "894                                   No   \n",
       "895                                  Yes   \n",
       "896                                  Yes   \n",
       "897                                  Yes   \n",
       "908                                  Yes   \n",
       "\n",
       "                                                  Q15a  \\\n",
       "0    Please tell us how you have varied your work s...   \n",
       "3                                                  NaN   \n",
       "5                                                  NaN   \n",
       "6                                                  NaN   \n",
       "8                                                  NaN   \n",
       "..                                                 ...   \n",
       "894                                                NaN   \n",
       "895                 I am ending work earlier most days   \n",
       "896  I am starting work later most days,I am ending...   \n",
       "897  I am starting work later most days,I am ending...   \n",
       "908                 I am ending work earlier most days   \n",
       "\n",
       "                                   Q16  \\\n",
       "0    Have your sleep patterns changed?   \n",
       "3                                  Yes   \n",
       "5                                  Yes   \n",
       "6                                  Yes   \n",
       "8                                   No   \n",
       "..                                 ...   \n",
       "894                                Yes   \n",
       "895                                 No   \n",
       "896                                Yes   \n",
       "897                                Yes   \n",
       "908                                 No   \n",
       "\n",
       "                                            Q16a  \\\n",
       "0    Please tell us how your bedtime has changed   \n",
       "3                                            NaN   \n",
       "5                        I am going to bed later   \n",
       "6                        I am going to bed later   \n",
       "8                                            NaN   \n",
       "..                                           ...   \n",
       "894                      I am going to bed later   \n",
       "895                                          NaN   \n",
       "896                      I am going to bed later   \n",
       "897                    I am going to bed earlier   \n",
       "908                                          NaN   \n",
       "\n",
       "                                             Q16b  \\\n",
       "0    Please tell us how your waketime has changed   \n",
       "3                                             NaN   \n",
       "5                            I am waking up later   \n",
       "6                            I am waking up later   \n",
       "8                                             NaN   \n",
       "..                                            ...   \n",
       "894                           I waking up earlier   \n",
       "895                                           NaN   \n",
       "896                          I am waking up later   \n",
       "897                          I am waking up later   \n",
       "908                                           NaN   \n",
       "\n",
       "                                                Q17  \\\n",
       "0    Has the number of naps you are taking changed?   \n",
       "3                                               NaN   \n",
       "5                                               Yes   \n",
       "6                                                No   \n",
       "8                                                No   \n",
       "..                                              ...   \n",
       "894                                              No   \n",
       "895                                              No   \n",
       "896                                             Yes   \n",
       "897                                              No   \n",
       "908                                              No   \n",
       "\n",
       "                                                   Q18  \\\n",
       "0    Has the amount of alcohol you are consuming\\nc...   \n",
       "3                                                  Yes   \n",
       "5                                                  Yes   \n",
       "6                                                  Yes   \n",
       "8                                                  Yes   \n",
       "..                                                 ...   \n",
       "894                                                Yes   \n",
       "895                                                Yes   \n",
       "896                                                Yes   \n",
       "897                                                Yes   \n",
       "908                                                Yes   \n",
       "\n",
       "                                                  Q18a  \\\n",
       "0    Please tell us how the amount of alcohol you a...   \n",
       "3                           I am drinking less alcohol   \n",
       "5                           I am drinking more alcohol   \n",
       "6                           I am drinking more alcohol   \n",
       "8                           I am drinking less alcohol   \n",
       "..                                                 ...   \n",
       "894                         I am drinking more alcohol   \n",
       "895                         I am drinking more alcohol   \n",
       "896                         I am drinking more alcohol   \n",
       "897                         I am drinking more alcohol   \n",
       "908                         I am drinking more alcohol   \n",
       "\n",
       "                                                   Q19  \\\n",
       "0    In January 2020, approximately how often did y...   \n",
       "3                                                  NaN   \n",
       "5                                                  NaN   \n",
       "6                                                  NaN   \n",
       "8                                                  NaN   \n",
       "..                                                 ...   \n",
       "894                               Once a month or less   \n",
       "895                                   2-3 times a week   \n",
       "896                                  2-4 times a month   \n",
       "897                                  2-4 times a month   \n",
       "908                                   2-3 times a week   \n",
       "\n",
       "                                                   Q20  \\\n",
       "0    In the last month, approximately how often did...   \n",
       "3                                                  NaN   \n",
       "5                                                  NaN   \n",
       "6                                                  NaN   \n",
       "8                                                  NaN   \n",
       "..                                                 ...   \n",
       "894                                  2-4 times a month   \n",
       "895                                   2-3 times a week   \n",
       "896                                   2-3 times a week   \n",
       "897                                   2-3 times a week   \n",
       "908                                   2-3 times a week   \n",
       "\n",
       "                                                   Q21  \\\n",
       "0    In January 2020, approximately how often did y...   \n",
       "3                                                  NaN   \n",
       "5                                                  NaN   \n",
       "6                                                  NaN   \n",
       "8                                                  NaN   \n",
       "..                                                 ...   \n",
       "894                                              Never   \n",
       "895                                              Never   \n",
       "896                                              Never   \n",
       "897                                              Never   \n",
       "908                                              Never   \n",
       "\n",
       "                                                   Q22  \\\n",
       "0    In the last month, approximately how often did...   \n",
       "3                                                  NaN   \n",
       "5                                                  NaN   \n",
       "6                                                  NaN   \n",
       "8                                                  NaN   \n",
       "..                                                 ...   \n",
       "894                                              Never   \n",
       "895                                              Never   \n",
       "896                                              Never   \n",
       "897                                              Never   \n",
       "908                                  2-4 times a month   \n",
       "\n",
       "                                                   Q23  \\\n",
       "0    Has\\nthe amount of news you are consuming incr...   \n",
       "3                                                   No   \n",
       "5                                                  Yes   \n",
       "6                                                  Yes   \n",
       "8                                                  Yes   \n",
       "..                                                 ...   \n",
       "894                                                Yes   \n",
       "895                                                 No   \n",
       "896                                                Yes   \n",
       "897                                                Yes   \n",
       "908                                                Yes   \n",
       "\n",
       "                                                   Q24  \\\n",
       "0    How many hours of COVID-19 related news or\\nso...   \n",
       "3                                            0-.5 hour   \n",
       "5                                            0-.5 hour   \n",
       "6                                            1-2 hours   \n",
       "8                                      0.51 â 1 hour   \n",
       "..                                                 ...   \n",
       "894                                          2-3 hours   \n",
       "895                                          0-.5 hour   \n",
       "896                                           3+ hours   \n",
       "897                                          2-3 hours   \n",
       "908                                          1-2 hours   \n",
       "\n",
       "                                                   Q25  \\\n",
       "0    Have\\nyou had more âscreen timeâ (e.g. use...   \n",
       "3                                                  Yes   \n",
       "5                                                  Yes   \n",
       "6                                                  Yes   \n",
       "8                                                  Yes   \n",
       "..                                                 ...   \n",
       "894                                                Yes   \n",
       "895                                                 No   \n",
       "896                                                Yes   \n",
       "897                                                Yes   \n",
       "908                                                 No   \n",
       "\n",
       "                                                  Q25a  \\\n",
       "0    Please tell us how much more screen time you e...   \n",
       "3                                                  NaN   \n",
       "5                                           0-0.5 hour   \n",
       "6                                          0.51-1 hour   \n",
       "8                                          0.51-1 hour   \n",
       "..                                                 ...   \n",
       "894                                           3+ hours   \n",
       "895                                                NaN   \n",
       "896                                          1-2 hours   \n",
       "897                                          2-3 hours   \n",
       "908                                                NaN   \n",
       "\n",
       "                                          Q26  \\\n",
       "0    Have you changed your movement/exercise?   \n",
       "3                                         Yes   \n",
       "5                                          No   \n",
       "6                                         Yes   \n",
       "8                                         Yes   \n",
       "..                                        ...   \n",
       "894                                       Yes   \n",
       "895                                       Yes   \n",
       "896                                       Yes   \n",
       "897                                       Yes   \n",
       "908                                       Yes   \n",
       "\n",
       "                                                  Q26a  \\\n",
       "0    Please tell us how your movement/exercise habi...   \n",
       "3                          I am exercising/moving less   \n",
       "5                                                  NaN   \n",
       "6                          I am exercising/moving more   \n",
       "8                          I am exercising/moving more   \n",
       "..                                                 ...   \n",
       "894                        I am exercising/moving less   \n",
       "895                        I am exercising/moving more   \n",
       "896                        I am exercising/moving less   \n",
       "897                        I am exercising/moving more   \n",
       "908                        I am exercising/moving less   \n",
       "\n",
       "                                       Q27  \\\n",
       "0    Has the quality of your diet changed?   \n",
       "3                                      Yes   \n",
       "5                                      Yes   \n",
       "6                                      Yes   \n",
       "8                                      Yes   \n",
       "..                                     ...   \n",
       "894                                    Yes   \n",
       "895                                     No   \n",
       "896                                    Yes   \n",
       "897                                    Yes   \n",
       "908                                    Yes   \n",
       "\n",
       "                                          Q27a  \\\n",
       "0    Please tell us how your diet has changed?   \n",
       "3               I am eating more healthy foods   \n",
       "5               I am eating more healthy foods   \n",
       "6               I am eating less healthy foods   \n",
       "8               I am eating more healthy foods   \n",
       "..                                         ...   \n",
       "894             I am eating less healthy foods   \n",
       "895                                        NaN   \n",
       "896             I am eating less healthy foods   \n",
       "897             I am eating more healthy foods   \n",
       "908             I am eating less healthy foods   \n",
       "\n",
       "                                                   Q28  \\\n",
       "0    Has the amount of food you have been eating pe...   \n",
       "3                                                  Yes   \n",
       "5                                                  Yes   \n",
       "6                                                   No   \n",
       "8                                                  Yes   \n",
       "..                                                 ...   \n",
       "894                                                Yes   \n",
       "895                                                Yes   \n",
       "896                                                Yes   \n",
       "897                                                Yes   \n",
       "908                                                 No   \n",
       "\n",
       "                                                  Q28a  \\\n",
       "0    Please tell us how the amount of food you have...   \n",
       "3                       I am eating more food each day   \n",
       "5                       I am eating more food each day   \n",
       "6                                                  NaN   \n",
       "8                       I am eating more food each day   \n",
       "..                                                 ...   \n",
       "894                     I am eating more food each day   \n",
       "895                     I am eating more food each day   \n",
       "896                     I am eating more food each day   \n",
       "897                     I am eating more food each day   \n",
       "908                                                NaN   \n",
       "\n",
       "                        Q29                                               Q29a  \n",
       "0    Has your mood changed?  Please tell us how your mood has changed.  My ...  \n",
       "3                       Yes                                   Moderately worse  \n",
       "5                       Yes                                     Slightly worse  \n",
       "6                       Yes                                         Much worse  \n",
       "8                       Yes                                     Slightly worse  \n",
       "..                      ...                                                ...  \n",
       "894                     Yes                                   Moderately worse  \n",
       "895                      No                                                NaN  \n",
       "896                     Yes                                   Moderately worse  \n",
       "897                     Yes                                        Much better  \n",
       "908                     Yes                    Slightly worse,Moderately worse  \n",
       "\n",
       "[280 rows x 40 columns]"
      ]
     },
     "execution_count": 10,
     "metadata": {},
     "output_type": "execute_result"
    }
   ],
   "source": [
    "#Drop rows where NaN appears in \"Please tell us how your mood has changed.  My mood has been:\" column because it is going to be our target  \n",
    "df2=df.dropna(subset=['Q18a'])\n",
    "# Drop Unnecessary columns\n",
    "df2=df2.drop(['StartDate', 'EndDate', 'Status', 'IPAddress', 'Progress',\n",
    "       'Duration (in seconds)', 'Finished', 'RecordedDate', 'ResponseId',\n",
    "       'RecipientLastName', 'RecipientFirstName', 'RecipientEmail',\n",
    "       'ExternalReference', 'LocationLatitude', 'LocationLongitude',\n",
    "       'DistributionChannel', 'UserLanguage', 'Q4', 'Q5', 'Q5_6_TEXT', 'Q7','Q17a', 'Q6','Q29b', 'Q29c', 'Q29d' ], axis=1)\n",
    "\n",
    "df2"
   ]
  },
  {
   "cell_type": "code",
   "execution_count": 11,
   "metadata": {
    "colab": {
     "base_uri": "https://localhost:8080/"
    },
    "id": "fAqTiLgK9Pps",
    "outputId": "06115620-f04d-42d9-f555-18c854056f67"
   },
   "outputs": [
    {
     "data": {
      "text/plain": [
       "Q1        1\n",
       "Q2        1\n",
       "Q3        5\n",
       "Q8        0\n",
       "Q8a     103\n",
       "Q9        1\n",
       "Q9a     188\n",
       "Q9b     230\n",
       "Q10       0\n",
       "Q11       0\n",
       "Q11a    156\n",
       "Q11b    156\n",
       "Q12       1\n",
       "Q13       1\n",
       "Q14       0\n",
       "Q14a    112\n",
       "Q15       5\n",
       "Q15a     91\n",
       "Q16       0\n",
       "Q16a     72\n",
       "Q16b     72\n",
       "Q17       1\n",
       "Q18       0\n",
       "Q18a      0\n",
       "Q19       5\n",
       "Q20       5\n",
       "Q21       5\n",
       "Q22       5\n",
       "Q23       0\n",
       "Q24       0\n",
       "Q25       0\n",
       "Q25a    104\n",
       "Q26       0\n",
       "Q26a     50\n",
       "Q27       0\n",
       "Q27a     82\n",
       "Q28       0\n",
       "Q28a    109\n",
       "Q29       0\n",
       "Q29a     51\n",
       "dtype: int64"
      ]
     },
     "execution_count": 11,
     "metadata": {},
     "output_type": "execute_result"
    }
   ],
   "source": [
    "# missing values\n",
    "df2.isnull().sum()\n"
   ]
  },
  {
   "cell_type": "code",
   "execution_count": 12,
   "metadata": {
    "colab": {
     "base_uri": "https://localhost:8080/"
    },
    "id": "F7DdNk_N9Ppt",
    "outputId": "e36a4416-e35d-42ba-ff62-2b894414376b"
   },
   "outputs": [
    {
     "name": "stdout",
     "output_type": "stream",
     "text": [
      "1612\n"
     ]
    }
   ],
   "source": [
    "#the total number of missing values \n",
    "print(df2.isnull().values.sum())"
   ]
  },
  {
   "cell_type": "code",
   "execution_count": 13,
   "metadata": {
    "colab": {
     "base_uri": "https://localhost:8080/",
     "height": 641
    },
    "id": "ktpTr8Fl9Ppv",
    "outputId": "f91d83c9-cece-4446-99c1-e8f1d1379351"
   },
   "outputs": [
    {
     "data": {
      "text/html": [
       "<div>\n",
       "<style scoped>\n",
       "    .dataframe tbody tr th:only-of-type {\n",
       "        vertical-align: middle;\n",
       "    }\n",
       "\n",
       "    .dataframe tbody tr th {\n",
       "        vertical-align: top;\n",
       "    }\n",
       "\n",
       "    .dataframe thead th {\n",
       "        text-align: right;\n",
       "    }\n",
       "</style>\n",
       "<table border=\"1\" class=\"dataframe\">\n",
       "  <thead>\n",
       "    <tr style=\"text-align: right;\">\n",
       "      <th></th>\n",
       "      <th>Q1</th>\n",
       "      <th>Q2</th>\n",
       "      <th>Q3</th>\n",
       "      <th>Q8</th>\n",
       "      <th>Q9</th>\n",
       "      <th>Q10</th>\n",
       "      <th>Q11</th>\n",
       "      <th>Q12</th>\n",
       "      <th>Q13</th>\n",
       "      <th>Q14</th>\n",
       "      <th>Q15</th>\n",
       "      <th>Q16</th>\n",
       "      <th>Q17</th>\n",
       "      <th>Q18</th>\n",
       "      <th>Q18a</th>\n",
       "      <th>Q19</th>\n",
       "      <th>Q20</th>\n",
       "      <th>Q21</th>\n",
       "      <th>Q22</th>\n",
       "      <th>Q23</th>\n",
       "      <th>Q24</th>\n",
       "      <th>Q25</th>\n",
       "      <th>Q26</th>\n",
       "      <th>Q27</th>\n",
       "      <th>Q28</th>\n",
       "      <th>Q29</th>\n",
       "    </tr>\n",
       "  </thead>\n",
       "  <tbody>\n",
       "    <tr>\n",
       "      <th>12</th>\n",
       "      <td>44</td>\n",
       "      <td>Female</td>\n",
       "      <td>Michigan</td>\n",
       "      <td>Yes</td>\n",
       "      <td>1</td>\n",
       "      <td>Yes</td>\n",
       "      <td>Not applicable</td>\n",
       "      <td>8</td>\n",
       "      <td>9</td>\n",
       "      <td>Yes</td>\n",
       "      <td>Yes</td>\n",
       "      <td>Yes</td>\n",
       "      <td>No</td>\n",
       "      <td>Yes</td>\n",
       "      <td>I am drinking more alcohol</td>\n",
       "      <td>2-3 times a week</td>\n",
       "      <td>4 or more times a week</td>\n",
       "      <td>Never</td>\n",
       "      <td>Never</td>\n",
       "      <td>No</td>\n",
       "      <td>0-.5 hour</td>\n",
       "      <td>Yes</td>\n",
       "      <td>Yes</td>\n",
       "      <td>Yes</td>\n",
       "      <td>Yes</td>\n",
       "      <td>Yes</td>\n",
       "    </tr>\n",
       "    <tr>\n",
       "      <th>13</th>\n",
       "      <td>31</td>\n",
       "      <td>Male</td>\n",
       "      <td>Iowa</td>\n",
       "      <td>No</td>\n",
       "      <td>2</td>\n",
       "      <td>No</td>\n",
       "      <td>Not applicable</td>\n",
       "      <td>6</td>\n",
       "      <td>5.5</td>\n",
       "      <td>Yes</td>\n",
       "      <td>No</td>\n",
       "      <td>No</td>\n",
       "      <td>No</td>\n",
       "      <td>Yes</td>\n",
       "      <td>I am drinking more alcohol</td>\n",
       "      <td>2-3 times a week</td>\n",
       "      <td>2-3 times a week</td>\n",
       "      <td>Never</td>\n",
       "      <td>Never</td>\n",
       "      <td>Yes</td>\n",
       "      <td>1-2 hours</td>\n",
       "      <td>Yes</td>\n",
       "      <td>No</td>\n",
       "      <td>Yes</td>\n",
       "      <td>No</td>\n",
       "      <td>Yes</td>\n",
       "    </tr>\n",
       "    <tr>\n",
       "      <th>16</th>\n",
       "      <td>39</td>\n",
       "      <td>Female</td>\n",
       "      <td>Michigan</td>\n",
       "      <td>Yes</td>\n",
       "      <td>2</td>\n",
       "      <td>Yes</td>\n",
       "      <td>Yes</td>\n",
       "      <td>7</td>\n",
       "      <td>7</td>\n",
       "      <td>Yes</td>\n",
       "      <td>No</td>\n",
       "      <td>Yes</td>\n",
       "      <td>No</td>\n",
       "      <td>Yes</td>\n",
       "      <td>I am drinking more alcohol</td>\n",
       "      <td>2-3 times a week</td>\n",
       "      <td>4 or more times a week</td>\n",
       "      <td>Never</td>\n",
       "      <td>Never</td>\n",
       "      <td>Yes</td>\n",
       "      <td>0.51 â 1 hour</td>\n",
       "      <td>No</td>\n",
       "      <td>No</td>\n",
       "      <td>Yes</td>\n",
       "      <td>Yes</td>\n",
       "      <td>Yes</td>\n",
       "    </tr>\n",
       "    <tr>\n",
       "      <th>18</th>\n",
       "      <td>28</td>\n",
       "      <td>Female</td>\n",
       "      <td>Michigan</td>\n",
       "      <td>Yes</td>\n",
       "      <td>2</td>\n",
       "      <td>Yes</td>\n",
       "      <td>Yes</td>\n",
       "      <td>7</td>\n",
       "      <td>7</td>\n",
       "      <td>No</td>\n",
       "      <td>Yes</td>\n",
       "      <td>No</td>\n",
       "      <td>No</td>\n",
       "      <td>Yes</td>\n",
       "      <td>I am drinking more alcohol</td>\n",
       "      <td>Once a month or less</td>\n",
       "      <td>2-4 times a month</td>\n",
       "      <td>Never</td>\n",
       "      <td>Never</td>\n",
       "      <td>Yes</td>\n",
       "      <td>1-2 hours</td>\n",
       "      <td>Yes</td>\n",
       "      <td>Yes</td>\n",
       "      <td>No</td>\n",
       "      <td>Yes</td>\n",
       "      <td>Yes</td>\n",
       "    </tr>\n",
       "    <tr>\n",
       "      <th>21</th>\n",
       "      <td>29</td>\n",
       "      <td>Female</td>\n",
       "      <td>Michigan</td>\n",
       "      <td>Yes</td>\n",
       "      <td>2</td>\n",
       "      <td>No</td>\n",
       "      <td>Not applicable</td>\n",
       "      <td>7</td>\n",
       "      <td>6</td>\n",
       "      <td>No</td>\n",
       "      <td>No</td>\n",
       "      <td>Yes</td>\n",
       "      <td>Yes</td>\n",
       "      <td>Yes</td>\n",
       "      <td>I am drinking more alcohol</td>\n",
       "      <td>Once a month or less</td>\n",
       "      <td>4 or more times a week</td>\n",
       "      <td>Never</td>\n",
       "      <td>Never</td>\n",
       "      <td>Yes</td>\n",
       "      <td>1-2 hours</td>\n",
       "      <td>Yes</td>\n",
       "      <td>Yes</td>\n",
       "      <td>Yes</td>\n",
       "      <td>Yes</td>\n",
       "      <td>No</td>\n",
       "    </tr>\n",
       "    <tr>\n",
       "      <th>...</th>\n",
       "      <td>...</td>\n",
       "      <td>...</td>\n",
       "      <td>...</td>\n",
       "      <td>...</td>\n",
       "      <td>...</td>\n",
       "      <td>...</td>\n",
       "      <td>...</td>\n",
       "      <td>...</td>\n",
       "      <td>...</td>\n",
       "      <td>...</td>\n",
       "      <td>...</td>\n",
       "      <td>...</td>\n",
       "      <td>...</td>\n",
       "      <td>...</td>\n",
       "      <td>...</td>\n",
       "      <td>...</td>\n",
       "      <td>...</td>\n",
       "      <td>...</td>\n",
       "      <td>...</td>\n",
       "      <td>...</td>\n",
       "      <td>...</td>\n",
       "      <td>...</td>\n",
       "      <td>...</td>\n",
       "      <td>...</td>\n",
       "      <td>...</td>\n",
       "      <td>...</td>\n",
       "    </tr>\n",
       "    <tr>\n",
       "      <th>894</th>\n",
       "      <td>29</td>\n",
       "      <td>Female</td>\n",
       "      <td>Georgia</td>\n",
       "      <td>Yes</td>\n",
       "      <td>Not applicable</td>\n",
       "      <td>Yes</td>\n",
       "      <td>Not applicable</td>\n",
       "      <td>6-8</td>\n",
       "      <td>6-8</td>\n",
       "      <td>No</td>\n",
       "      <td>No</td>\n",
       "      <td>Yes</td>\n",
       "      <td>No</td>\n",
       "      <td>Yes</td>\n",
       "      <td>I am drinking more alcohol</td>\n",
       "      <td>Once a month or less</td>\n",
       "      <td>2-4 times a month</td>\n",
       "      <td>Never</td>\n",
       "      <td>Never</td>\n",
       "      <td>Yes</td>\n",
       "      <td>2-3 hours</td>\n",
       "      <td>Yes</td>\n",
       "      <td>Yes</td>\n",
       "      <td>Yes</td>\n",
       "      <td>Yes</td>\n",
       "      <td>Yes</td>\n",
       "    </tr>\n",
       "    <tr>\n",
       "      <th>895</th>\n",
       "      <td>44</td>\n",
       "      <td>Male</td>\n",
       "      <td>Michigan</td>\n",
       "      <td>Yes</td>\n",
       "      <td>Yes</td>\n",
       "      <td>No</td>\n",
       "      <td>Yes</td>\n",
       "      <td>7</td>\n",
       "      <td>7.5</td>\n",
       "      <td>Yes</td>\n",
       "      <td>Yes</td>\n",
       "      <td>No</td>\n",
       "      <td>No</td>\n",
       "      <td>Yes</td>\n",
       "      <td>I am drinking more alcohol</td>\n",
       "      <td>2-3 times a week</td>\n",
       "      <td>2-3 times a week</td>\n",
       "      <td>Never</td>\n",
       "      <td>Never</td>\n",
       "      <td>No</td>\n",
       "      <td>0-.5 hour</td>\n",
       "      <td>No</td>\n",
       "      <td>Yes</td>\n",
       "      <td>No</td>\n",
       "      <td>Yes</td>\n",
       "      <td>No</td>\n",
       "    </tr>\n",
       "    <tr>\n",
       "      <th>896</th>\n",
       "      <td>47</td>\n",
       "      <td>Female</td>\n",
       "      <td>California</td>\n",
       "      <td>Yes</td>\n",
       "      <td>Yes</td>\n",
       "      <td>No</td>\n",
       "      <td>Yes</td>\n",
       "      <td>6</td>\n",
       "      <td>7</td>\n",
       "      <td>Yes</td>\n",
       "      <td>Yes</td>\n",
       "      <td>Yes</td>\n",
       "      <td>Yes</td>\n",
       "      <td>Yes</td>\n",
       "      <td>I am drinking more alcohol</td>\n",
       "      <td>2-4 times a month</td>\n",
       "      <td>2-3 times a week</td>\n",
       "      <td>Never</td>\n",
       "      <td>Never</td>\n",
       "      <td>Yes</td>\n",
       "      <td>3+ hours</td>\n",
       "      <td>Yes</td>\n",
       "      <td>Yes</td>\n",
       "      <td>Yes</td>\n",
       "      <td>Yes</td>\n",
       "      <td>Yes</td>\n",
       "    </tr>\n",
       "    <tr>\n",
       "      <th>897</th>\n",
       "      <td>58</td>\n",
       "      <td>Female</td>\n",
       "      <td>Michigan</td>\n",
       "      <td>No</td>\n",
       "      <td>No</td>\n",
       "      <td>No</td>\n",
       "      <td>No</td>\n",
       "      <td>8-9</td>\n",
       "      <td>9-10</td>\n",
       "      <td>Yes</td>\n",
       "      <td>Yes</td>\n",
       "      <td>Yes</td>\n",
       "      <td>No</td>\n",
       "      <td>Yes</td>\n",
       "      <td>I am drinking more alcohol</td>\n",
       "      <td>2-4 times a month</td>\n",
       "      <td>2-3 times a week</td>\n",
       "      <td>Never</td>\n",
       "      <td>Never</td>\n",
       "      <td>Yes</td>\n",
       "      <td>2-3 hours</td>\n",
       "      <td>Yes</td>\n",
       "      <td>Yes</td>\n",
       "      <td>Yes</td>\n",
       "      <td>Yes</td>\n",
       "      <td>Yes</td>\n",
       "    </tr>\n",
       "    <tr>\n",
       "      <th>908</th>\n",
       "      <td>66</td>\n",
       "      <td>Female</td>\n",
       "      <td>Michigan</td>\n",
       "      <td>No</td>\n",
       "      <td>No,Not applicable</td>\n",
       "      <td>No</td>\n",
       "      <td>No</td>\n",
       "      <td>8</td>\n",
       "      <td>8</td>\n",
       "      <td>No</td>\n",
       "      <td>Yes</td>\n",
       "      <td>No</td>\n",
       "      <td>No</td>\n",
       "      <td>Yes</td>\n",
       "      <td>I am drinking more alcohol</td>\n",
       "      <td>2-3 times a week</td>\n",
       "      <td>2-3 times a week</td>\n",
       "      <td>Never</td>\n",
       "      <td>2-4 times a month</td>\n",
       "      <td>Yes</td>\n",
       "      <td>1-2 hours</td>\n",
       "      <td>No</td>\n",
       "      <td>Yes</td>\n",
       "      <td>Yes</td>\n",
       "      <td>No</td>\n",
       "      <td>Yes</td>\n",
       "    </tr>\n",
       "  </tbody>\n",
       "</table>\n",
       "<p>273 rows × 26 columns</p>\n",
       "</div>"
      ],
      "text/plain": [
       "     Q1      Q2          Q3   Q8                 Q9  Q10             Q11  Q12  \\\n",
       "12   44  Female    Michigan  Yes                  1  Yes  Not applicable    8   \n",
       "13   31    Male        Iowa   No                  2   No  Not applicable    6   \n",
       "16   39  Female    Michigan  Yes                  2  Yes             Yes    7   \n",
       "18   28  Female    Michigan  Yes                  2  Yes             Yes    7   \n",
       "21   29  Female    Michigan  Yes                  2   No  Not applicable    7   \n",
       "..   ..     ...         ...  ...                ...  ...             ...  ...   \n",
       "894  29  Female     Georgia  Yes     Not applicable  Yes  Not applicable  6-8   \n",
       "895  44    Male    Michigan  Yes                Yes   No             Yes    7   \n",
       "896  47  Female  California  Yes                Yes   No             Yes    6   \n",
       "897  58  Female    Michigan   No                 No   No              No  8-9   \n",
       "908  66  Female    Michigan   No  No,Not applicable   No              No    8   \n",
       "\n",
       "      Q13  Q14  Q15  Q16  Q17  Q18                        Q18a  \\\n",
       "12      9  Yes  Yes  Yes   No  Yes  I am drinking more alcohol   \n",
       "13    5.5  Yes   No   No   No  Yes  I am drinking more alcohol   \n",
       "16      7  Yes   No  Yes   No  Yes  I am drinking more alcohol   \n",
       "18      7   No  Yes   No   No  Yes  I am drinking more alcohol   \n",
       "21      6   No   No  Yes  Yes  Yes  I am drinking more alcohol   \n",
       "..    ...  ...  ...  ...  ...  ...                         ...   \n",
       "894   6-8   No   No  Yes   No  Yes  I am drinking more alcohol   \n",
       "895   7.5  Yes  Yes   No   No  Yes  I am drinking more alcohol   \n",
       "896     7  Yes  Yes  Yes  Yes  Yes  I am drinking more alcohol   \n",
       "897  9-10  Yes  Yes  Yes   No  Yes  I am drinking more alcohol   \n",
       "908     8   No  Yes   No   No  Yes  I am drinking more alcohol   \n",
       "\n",
       "                      Q19                     Q20    Q21                Q22  \\\n",
       "12       2-3 times a week  4 or more times a week  Never              Never   \n",
       "13       2-3 times a week        2-3 times a week  Never              Never   \n",
       "16       2-3 times a week  4 or more times a week  Never              Never   \n",
       "18   Once a month or less       2-4 times a month  Never              Never   \n",
       "21   Once a month or less  4 or more times a week  Never              Never   \n",
       "..                    ...                     ...    ...                ...   \n",
       "894  Once a month or less       2-4 times a month  Never              Never   \n",
       "895      2-3 times a week        2-3 times a week  Never              Never   \n",
       "896     2-4 times a month        2-3 times a week  Never              Never   \n",
       "897     2-4 times a month        2-3 times a week  Never              Never   \n",
       "908      2-3 times a week        2-3 times a week  Never  2-4 times a month   \n",
       "\n",
       "     Q23              Q24  Q25  Q26  Q27  Q28  Q29  \n",
       "12    No        0-.5 hour  Yes  Yes  Yes  Yes  Yes  \n",
       "13   Yes        1-2 hours  Yes   No  Yes   No  Yes  \n",
       "16   Yes  0.51 â 1 hour   No   No  Yes  Yes  Yes  \n",
       "18   Yes        1-2 hours  Yes  Yes   No  Yes  Yes  \n",
       "21   Yes        1-2 hours  Yes  Yes  Yes  Yes   No  \n",
       "..   ...              ...  ...  ...  ...  ...  ...  \n",
       "894  Yes        2-3 hours  Yes  Yes  Yes  Yes  Yes  \n",
       "895   No        0-.5 hour   No  Yes   No  Yes   No  \n",
       "896  Yes         3+ hours  Yes  Yes  Yes  Yes  Yes  \n",
       "897  Yes        2-3 hours  Yes  Yes  Yes  Yes  Yes  \n",
       "908  Yes        1-2 hours   No  Yes  Yes   No  Yes  \n",
       "\n",
       "[273 rows x 26 columns]"
      ]
     },
     "execution_count": 13,
     "metadata": {},
     "output_type": "execute_result"
    }
   ],
   "source": [
    "# Dropping the columns that contain more than \"thresh\" NaN\n",
    "df22=df2.dropna(thresh=250,axis=1)\n",
    "df22\n",
    "# Dropping the rows that contain more than \"thresh\" NaN\n",
    "df3=df22.dropna(thresh=26)\n",
    "df3\n",
    "#Dropping row 0\n",
    "df3=df3.drop(df3.index[0])\n",
    "df3"
   ]
  },
  {
   "cell_type": "code",
   "execution_count": 14,
   "metadata": {
    "colab": {
     "base_uri": "https://localhost:8080/"
    },
    "id": "koeT6Rsb9Ppw",
    "outputId": "ec891e66-3e3f-4c9d-b7ab-da8cf190e040"
   },
   "outputs": [
    {
     "data": {
      "text/plain": [
       "Index(['Q1', 'Q2', 'Q3', 'Q8', 'Q9', 'Q10', 'Q11', 'Q12', 'Q13', 'Q14', 'Q15',\n",
       "       'Q16', 'Q17', 'Q18', 'Q18a', 'Q19', 'Q20', 'Q21', 'Q22', 'Q23', 'Q24',\n",
       "       'Q25', 'Q26', 'Q27', 'Q28', 'Q29'],\n",
       "      dtype='object')"
      ]
     },
     "execution_count": 14,
     "metadata": {},
     "output_type": "execute_result"
    }
   ],
   "source": [
    "df3.columns"
   ]
  },
  {
   "cell_type": "code",
   "execution_count": 15,
   "metadata": {
    "colab": {
     "base_uri": "https://localhost:8080/"
    },
    "id": "5Jtd_1nc9Ppx",
    "outputId": "7bd0d7b2-b3e1-4eed-876f-835d979a16d7"
   },
   "outputs": [
    {
     "data": {
      "text/plain": [
       "(273, 26)"
      ]
     },
     "execution_count": 15,
     "metadata": {},
     "output_type": "execute_result"
    }
   ],
   "source": [
    "df3.shape"
   ]
  },
  {
   "cell_type": "code",
   "execution_count": 16,
   "metadata": {
    "colab": {
     "base_uri": "https://localhost:8080/"
    },
    "id": "0Ewow1-i9Ppx",
    "outputId": "46ff8bbd-a505-4e21-f7d4-85db1aa7ea54",
    "scrolled": true
   },
   "outputs": [
    {
     "data": {
      "text/plain": [
       "Q1      0\n",
       "Q2      0\n",
       "Q3      0\n",
       "Q8      0\n",
       "Q9      0\n",
       "Q10     0\n",
       "Q11     0\n",
       "Q12     0\n",
       "Q13     0\n",
       "Q14     0\n",
       "Q15     0\n",
       "Q16     0\n",
       "Q17     0\n",
       "Q18     0\n",
       "Q18a    0\n",
       "Q19     0\n",
       "Q20     0\n",
       "Q21     0\n",
       "Q22     0\n",
       "Q23     0\n",
       "Q24     0\n",
       "Q25     0\n",
       "Q26     0\n",
       "Q27     0\n",
       "Q28     0\n",
       "Q29     0\n",
       "dtype: int64"
      ]
     },
     "execution_count": 16,
     "metadata": {},
     "output_type": "execute_result"
    }
   ],
   "source": [
    "# missing values\n",
    "df3.isnull().sum()"
   ]
  },
  {
   "cell_type": "code",
   "execution_count": 17,
   "metadata": {
    "colab": {
     "base_uri": "https://localhost:8080/"
    },
    "id": "8Q9QJ--b9Ppy",
    "outputId": "e20325db-3dc9-4d0b-90c1-ea604dde448f"
   },
   "outputs": [
    {
     "name": "stdout",
     "output_type": "stream",
     "text": [
      "0\n"
     ]
    }
   ],
   "source": [
    "#the total number of missing values \n",
    "print(df3.isnull().values.sum())"
   ]
  },
  {
   "cell_type": "code",
   "execution_count": 18,
   "metadata": {
    "colab": {
     "base_uri": "https://localhost:8080/"
    },
    "id": "Cou9rS4z9Ppy",
    "outputId": "d750e7fd-c60f-431d-8d7e-be8750a3656c"
   },
   "outputs": [
    {
     "data": {
      "text/plain": [
       "Index(['Q1', 'Q2', 'Q3', 'Q8', 'Q9', 'Q10', 'Q11', 'Q12', 'Q13', 'Q14', 'Q15',\n",
       "       'Q16', 'Q17', 'Q18', 'Q18a', 'Q19', 'Q20', 'Q21', 'Q22', 'Q23', 'Q24',\n",
       "       'Q25', 'Q26', 'Q27', 'Q28', 'Q29'],\n",
       "      dtype='object')"
      ]
     },
     "execution_count": 18,
     "metadata": {},
     "output_type": "execute_result"
    }
   ],
   "source": [
    "df3.columns"
   ]
  },
  {
   "cell_type": "markdown",
   "metadata": {
    "id": "zc71QN8Q9Ppz"
   },
   "source": [
    "# Nominal Features Encoding"
   ]
  },
  {
   "cell_type": "code",
   "execution_count": 19,
   "metadata": {
    "colab": {
     "base_uri": "https://localhost:8080/"
    },
    "id": "SpRrxtlN9Ppz",
    "outputId": "4765354b-83b6-40c5-e00d-43112c7ae422"
   },
   "outputs": [
    {
     "data": {
      "text/plain": [
       "array(['44', '31', '39', '28', '29', '32', '43', '59', '25', '42', '22',\n",
       "       '41', '58', '35', '30', '38', '21', '33', '67', '24', '45', '27',\n",
       "       '49', '48', '57', '53', '47', '34', '36', '52', '55', '66', '68',\n",
       "       '26', '37', '69', '40', '75', '70', '62', '23', '20', '50', '60',\n",
       "       '61', '46', '51', '81', '71', '63', '72', '54', '64', '56', '65'],\n",
       "      dtype=object)"
      ]
     },
     "execution_count": 19,
     "metadata": {},
     "output_type": "execute_result"
    }
   ],
   "source": [
    "df3['Q1'].unique()"
   ]
  },
  {
   "cell_type": "code",
   "execution_count": 20,
   "metadata": {
    "colab": {
     "base_uri": "https://localhost:8080/"
    },
    "id": "KSqhQEVq9Pp0",
    "outputId": "4c3c4726-5efa-430e-90d1-372d6aed39d6"
   },
   "outputs": [
    {
     "data": {
      "text/plain": [
       "array(['Female', 'Male', 'Prefer not to say'], dtype=object)"
      ]
     },
     "execution_count": 20,
     "metadata": {},
     "output_type": "execute_result"
    }
   ],
   "source": [
    "df3['Q2'].unique()"
   ]
  },
  {
   "cell_type": "code",
   "execution_count": 21,
   "metadata": {
    "colab": {
     "base_uri": "https://localhost:8080/"
    },
    "id": "URNfuwPB9Pp0",
    "outputId": "71ea162e-ce82-4d83-998c-3a32107428f0"
   },
   "outputs": [
    {
     "data": {
      "text/plain": [
       "array(['Michigan', 'Iowa', 'Georgia', 'New York', 'Illinois',\n",
       "       'West Virginia', 'Utah', 'Pennsylvania', 'Maryland', 'Ohio',\n",
       "       'I do not reside in the United States', 'Minnesota', 'Colorado',\n",
       "       'Connecticut', 'Louisiana', 'Missouri', 'Florida', 'Puerto Rico',\n",
       "       'Virginia', 'Indiana', 'California', 'Washington', 'Kansas',\n",
       "       'Alabama', 'Massachusetts', 'North Carolina', 'Texas',\n",
       "       'South Carolina', 'Oregon'], dtype=object)"
      ]
     },
     "execution_count": 21,
     "metadata": {},
     "output_type": "execute_result"
    }
   ],
   "source": [
    "df3['Q3'].unique()"
   ]
  },
  {
   "cell_type": "code",
   "execution_count": 22,
   "metadata": {
    "colab": {
     "base_uri": "https://localhost:8080/"
    },
    "id": "ZixURaDV9Pp0",
    "outputId": "22bd11cd-afe7-45fd-d918-768071436c1a"
   },
   "outputs": [
    {
     "data": {
      "text/plain": [
       "Index(['Q1', 'Q2', 'Q3', 'Q8', 'Q9', 'Q10', 'Q11', 'Q12', 'Q13', 'Q14', 'Q15',\n",
       "       'Q16', 'Q17', 'Q18', 'Q18a', 'Q19', 'Q20', 'Q21', 'Q22', 'Q23', 'Q24',\n",
       "       'Q25', 'Q26', 'Q27', 'Q28', 'Q29'],\n",
       "      dtype='object')"
      ]
     },
     "execution_count": 22,
     "metadata": {},
     "output_type": "execute_result"
    }
   ],
   "source": [
    "df3.columns"
   ]
  },
  {
   "cell_type": "code",
   "execution_count": 23,
   "metadata": {
    "colab": {
     "base_uri": "https://localhost:8080/"
    },
    "id": "npKoEnUC9Pp1",
    "outputId": "d3090701-611d-472c-d4c3-63feddc56afb"
   },
   "outputs": [
    {
     "data": {
      "text/plain": [
       "array(['Yes', 'No'], dtype=object)"
      ]
     },
     "execution_count": 23,
     "metadata": {},
     "output_type": "execute_result"
    }
   ],
   "source": [
    "df3['Q8'].unique()"
   ]
  },
  {
   "cell_type": "code",
   "execution_count": 24,
   "metadata": {
    "colab": {
     "base_uri": "https://localhost:8080/"
    },
    "id": "j-a2R6rJ9Pp1",
    "outputId": "8c6c219a-0428-4385-d27b-9f9e27c4eeaa"
   },
   "outputs": [
    {
     "data": {
      "text/plain": [
       "array(['1', '2', 'Yes', 'Not applicable', 'No', 'No,Not applicable'],\n",
       "      dtype=object)"
      ]
     },
     "execution_count": 24,
     "metadata": {},
     "output_type": "execute_result"
    }
   ],
   "source": [
    "df3['Q9'].unique()"
   ]
  },
  {
   "cell_type": "code",
   "execution_count": 25,
   "metadata": {
    "colab": {
     "base_uri": "https://localhost:8080/"
    },
    "id": "WdN_ifse9Pp1",
    "outputId": "65afc946-b9e0-473e-dc54-bb4fc6a52483"
   },
   "outputs": [
    {
     "data": {
      "text/plain": [
       "array(['Are you conducting clinical video visits with your patients from your home?',\n",
       "       nan, '2', '1', '1,2', 'Yes', 'Not applicable', 'No',\n",
       "       'No,Not applicable', 'Yes,Not applicable', 'Yes,No'], dtype=object)"
      ]
     },
     "execution_count": 25,
     "metadata": {},
     "output_type": "execute_result"
    }
   ],
   "source": [
    "df['Q9'].unique()"
   ]
  },
  {
   "cell_type": "code",
   "execution_count": 26,
   "metadata": {
    "colab": {
     "base_uri": "https://localhost:8080/"
    },
    "id": "CBK3AGxA9Pp2",
    "outputId": "9de67cf0-e328-408b-c002-40872772b953"
   },
   "outputs": [
    {
     "data": {
      "text/plain": [
       "array(['Yes', 'No'], dtype=object)"
      ]
     },
     "execution_count": 26,
     "metadata": {},
     "output_type": "execute_result"
    }
   ],
   "source": [
    "df3['Q10'].unique()"
   ]
  },
  {
   "cell_type": "code",
   "execution_count": 27,
   "metadata": {
    "colab": {
     "base_uri": "https://localhost:8080/"
    },
    "id": "wB-RDGSx9Pp2",
    "outputId": "1e95b4a0-2e90-4df7-c083-8362de6ff2a2"
   },
   "outputs": [
    {
     "data": {
      "text/plain": [
       "array(['Not applicable', 'Yes', 'No'], dtype=object)"
      ]
     },
     "execution_count": 27,
     "metadata": {},
     "output_type": "execute_result"
    }
   ],
   "source": [
    "df3['Q11'].unique()"
   ]
  },
  {
   "cell_type": "code",
   "execution_count": 28,
   "metadata": {
    "colab": {
     "base_uri": "https://localhost:8080/"
    },
    "id": "SMJNWYxt9Pp3",
    "outputId": "801e38ff-2639-4ffa-98a5-5884af992ba1"
   },
   "outputs": [
    {
     "data": {
      "text/plain": [
       "array(['Are children home from school in the house?', nan, '1', '2',\n",
       "       'Not applicable', 'Yes', 'No'], dtype=object)"
      ]
     },
     "execution_count": 28,
     "metadata": {},
     "output_type": "execute_result"
    }
   ],
   "source": [
    "df['Q11'].unique()"
   ]
  },
  {
   "cell_type": "code",
   "execution_count": 29,
   "metadata": {
    "colab": {
     "base_uri": "https://localhost:8080/"
    },
    "id": "1PbcuRSk9Pp3",
    "outputId": "fb0227d7-1a43-4473-ba92-2c6b574c38ad"
   },
   "outputs": [
    {
     "data": {
      "text/plain": [
       "Index(['Q1', 'Q2', 'Q3', 'Q8', 'Q9', 'Q10', 'Q11', 'Q12', 'Q13', 'Q14', 'Q15',\n",
       "       'Q16', 'Q17', 'Q18', 'Q18a', 'Q19', 'Q20', 'Q21', 'Q22', 'Q23', 'Q24',\n",
       "       'Q25', 'Q26', 'Q27', 'Q28', 'Q29'],\n",
       "      dtype='object')"
      ]
     },
     "execution_count": 29,
     "metadata": {},
     "output_type": "execute_result"
    }
   ],
   "source": [
    "df3.columns"
   ]
  },
  {
   "cell_type": "code",
   "execution_count": 30,
   "metadata": {
    "colab": {
     "base_uri": "https://localhost:8080/"
    },
    "id": "VBxNnXIY9Pp3",
    "outputId": "6eac6ceb-2d25-4e31-9630-8648554921de"
   },
   "outputs": [
    {
     "data": {
      "text/plain": [
       "array(['Yes', 'No'], dtype=object)"
      ]
     },
     "execution_count": 30,
     "metadata": {},
     "output_type": "execute_result"
    }
   ],
   "source": [
    "df3['Q14'].unique()"
   ]
  },
  {
   "cell_type": "code",
   "execution_count": 31,
   "metadata": {
    "colab": {
     "base_uri": "https://localhost:8080/"
    },
    "id": "Kq5Sly0f9Pp4",
    "outputId": "db2cc495-dcda-4d85-e7bb-eeffe6596099"
   },
   "outputs": [
    {
     "data": {
      "text/plain": [
       "array(['Has the number of your work hours per week changed?', nan, 'Yes',\n",
       "       'No'], dtype=object)"
      ]
     },
     "execution_count": 31,
     "metadata": {},
     "output_type": "execute_result"
    }
   ],
   "source": [
    "df['Q14'].unique()"
   ]
  },
  {
   "cell_type": "code",
   "execution_count": 32,
   "metadata": {
    "colab": {
     "base_uri": "https://localhost:8080/"
    },
    "id": "beCT4wLt9Pp4",
    "outputId": "a0c7c53e-3a04-4965-fd89-1b0b3b1d9f64"
   },
   "outputs": [
    {
     "data": {
      "text/plain": [
       "array(['Yes', 'No'], dtype=object)"
      ]
     },
     "execution_count": 32,
     "metadata": {},
     "output_type": "execute_result"
    }
   ],
   "source": [
    "df3['Q15'].unique()"
   ]
  },
  {
   "cell_type": "code",
   "execution_count": 33,
   "metadata": {
    "colab": {
     "base_uri": "https://localhost:8080/"
    },
    "id": "YYY16KYQ9Pp4",
    "outputId": "5f61ed41-bafd-4d18-c04e-a3f28b2a2713"
   },
   "outputs": [
    {
     "data": {
      "text/plain": [
       "array(['Have you varied your work schedule?', nan, 'Yes', 'No'],\n",
       "      dtype=object)"
      ]
     },
     "execution_count": 33,
     "metadata": {},
     "output_type": "execute_result"
    }
   ],
   "source": [
    "df['Q15'].unique()"
   ]
  },
  {
   "cell_type": "code",
   "execution_count": 34,
   "metadata": {
    "colab": {
     "base_uri": "https://localhost:8080/"
    },
    "id": "DSbJUk7O9Pp5",
    "outputId": "8083a9dc-7bc5-4f3a-8fb4-619764b719d0"
   },
   "outputs": [
    {
     "data": {
      "text/plain": [
       "array(['Yes', 'No'], dtype=object)"
      ]
     },
     "execution_count": 34,
     "metadata": {},
     "output_type": "execute_result"
    }
   ],
   "source": [
    "df3['Q16'].unique()"
   ]
  },
  {
   "cell_type": "code",
   "execution_count": 35,
   "metadata": {
    "colab": {
     "base_uri": "https://localhost:8080/"
    },
    "id": "3E8Tofqx9Pp5",
    "outputId": "9d0cfbb7-39b5-4d11-bca9-50f2f5ad8319"
   },
   "outputs": [
    {
     "data": {
      "text/plain": [
       "array(['Have your sleep patterns changed?', 'Yes', 'No', nan],\n",
       "      dtype=object)"
      ]
     },
     "execution_count": 35,
     "metadata": {},
     "output_type": "execute_result"
    }
   ],
   "source": [
    "df['Q16'].unique()"
   ]
  },
  {
   "cell_type": "code",
   "execution_count": 36,
   "metadata": {
    "colab": {
     "base_uri": "https://localhost:8080/"
    },
    "id": "1FgtW_9B9Pp5",
    "outputId": "c9e2095b-aeb8-404a-e65a-69983b54ebe3"
   },
   "outputs": [
    {
     "data": {
      "text/plain": [
       "array(['No', 'Yes'], dtype=object)"
      ]
     },
     "execution_count": 36,
     "metadata": {},
     "output_type": "execute_result"
    }
   ],
   "source": [
    "df3['Q17'].unique()"
   ]
  },
  {
   "cell_type": "code",
   "execution_count": 37,
   "metadata": {
    "colab": {
     "base_uri": "https://localhost:8080/"
    },
    "id": "jkDTSCpY9Pp6",
    "outputId": "498c4a68-a5b1-42c5-d2f5-bc5b4e438c47"
   },
   "outputs": [
    {
     "data": {
      "text/plain": [
       "array(['Has the number of naps you are taking changed?', nan, 'No', 'Yes'],\n",
       "      dtype=object)"
      ]
     },
     "execution_count": 37,
     "metadata": {},
     "output_type": "execute_result"
    }
   ],
   "source": [
    "df['Q17'].unique()"
   ]
  },
  {
   "cell_type": "code",
   "execution_count": 38,
   "metadata": {
    "colab": {
     "base_uri": "https://localhost:8080/"
    },
    "id": "7TEVGvxA9Pp6",
    "outputId": "fec445c2-350e-48e6-b23c-e607c663182f"
   },
   "outputs": [
    {
     "data": {
      "text/plain": [
       "array(['Yes'], dtype=object)"
      ]
     },
     "execution_count": 38,
     "metadata": {},
     "output_type": "execute_result"
    }
   ],
   "source": [
    "df3['Q18'].unique()"
   ]
  },
  {
   "cell_type": "code",
   "execution_count": 39,
   "metadata": {
    "colab": {
     "base_uri": "https://localhost:8080/"
    },
    "id": "X5J_Ecju9Pp7",
    "outputId": "985676ae-5c55-4cd5-f429-3558d165aec6"
   },
   "outputs": [
    {
     "data": {
      "text/plain": [
       "array(['Has the amount of alcohol you are consuming\\nchanged?', 'Yes',\n",
       "       'No', nan], dtype=object)"
      ]
     },
     "execution_count": 39,
     "metadata": {},
     "output_type": "execute_result"
    }
   ],
   "source": [
    "df['Q18'].unique()"
   ]
  },
  {
   "cell_type": "code",
   "execution_count": 40,
   "metadata": {
    "colab": {
     "base_uri": "https://localhost:8080/"
    },
    "id": "9tICZISO9Pp7",
    "outputId": "2b7e39a1-e657-4cf4-8116-f663df5b2b41"
   },
   "outputs": [
    {
     "data": {
      "text/plain": [
       "array(['2-3 times a week', 'Once a month or less', 'Never',\n",
       "       '2-4 times a month', '4 or more times a week'], dtype=object)"
      ]
     },
     "execution_count": 40,
     "metadata": {},
     "output_type": "execute_result"
    }
   ],
   "source": [
    "df3['Q19'].unique()"
   ]
  },
  {
   "cell_type": "code",
   "execution_count": 41,
   "metadata": {
    "colab": {
     "base_uri": "https://localhost:8080/"
    },
    "id": "ZBecFPCY9Pp8",
    "outputId": "8da3530f-5183-4b19-a6be-3ca84f82390e"
   },
   "outputs": [
    {
     "data": {
      "text/plain": [
       "array(['In January 2020, approximately how often did you have a drink containing alcohol?',\n",
       "       nan, '2-3 times a week', '2-4 times a month',\n",
       "       'Once a month or less', '4 or more times a week', 'Never'],\n",
       "      dtype=object)"
      ]
     },
     "execution_count": 41,
     "metadata": {},
     "output_type": "execute_result"
    }
   ],
   "source": [
    "df['Q19'].unique()"
   ]
  },
  {
   "cell_type": "code",
   "execution_count": 42,
   "metadata": {
    "colab": {
     "base_uri": "https://localhost:8080/"
    },
    "id": "GVw_eP8P9Pp8",
    "outputId": "f1cb5db7-1bc0-4665-daa3-41e91cad31d0"
   },
   "outputs": [
    {
     "data": {
      "text/plain": [
       "array(['No', 'Yes'], dtype=object)"
      ]
     },
     "execution_count": 42,
     "metadata": {},
     "output_type": "execute_result"
    }
   ],
   "source": [
    "df3['Q23'].unique()"
   ]
  },
  {
   "cell_type": "code",
   "execution_count": 43,
   "metadata": {
    "colab": {
     "base_uri": "https://localhost:8080/"
    },
    "id": "5kspp2E49Pp8",
    "outputId": "86e04995-ef29-4b4a-bb80-a4f2f75adfd0"
   },
   "outputs": [
    {
     "data": {
      "text/plain": [
       "array(['Has\\nthe amount of news you are consuming increased since the end of Feb, 2020?',\n",
       "       nan, 'No', 'Yes'], dtype=object)"
      ]
     },
     "execution_count": 43,
     "metadata": {},
     "output_type": "execute_result"
    }
   ],
   "source": [
    "df['Q23'].unique()"
   ]
  },
  {
   "cell_type": "code",
   "execution_count": 44,
   "metadata": {
    "colab": {
     "base_uri": "https://localhost:8080/"
    },
    "id": "Z-zJ-0fo9PqC",
    "outputId": "f31801db-e1e5-4dd4-9e1d-d3dc16d482ad"
   },
   "outputs": [
    {
     "data": {
      "text/plain": [
       "array(['Yes', 'No'], dtype=object)"
      ]
     },
     "execution_count": 44,
     "metadata": {},
     "output_type": "execute_result"
    }
   ],
   "source": [
    "df3['Q25'].unique()"
   ]
  },
  {
   "cell_type": "code",
   "execution_count": 45,
   "metadata": {
    "colab": {
     "base_uri": "https://localhost:8080/"
    },
    "id": "uEsgHJWq9PqD",
    "outputId": "60427628-30f7-44f6-d0e8-1f50080ab1cc"
   },
   "outputs": [
    {
     "data": {
      "text/plain": [
       "array(['Have\\nyou had more â\\x80\\x9cscreen timeâ\\x80\\x9d (e.g. use of smartphone, tablet, etc.) around\\nbedtime?',\n",
       "       nan, 'No', 'Yes'], dtype=object)"
      ]
     },
     "execution_count": 45,
     "metadata": {},
     "output_type": "execute_result"
    }
   ],
   "source": [
    "df['Q25'].unique()"
   ]
  },
  {
   "cell_type": "code",
   "execution_count": 46,
   "metadata": {
    "colab": {
     "base_uri": "https://localhost:8080/"
    },
    "id": "jrNgh_zQ9PqD",
    "outputId": "fefc9aea-2a23-4f6a-9210-4dd041828e78"
   },
   "outputs": [
    {
     "data": {
      "text/plain": [
       "array(['Yes', 'No'], dtype=object)"
      ]
     },
     "execution_count": 46,
     "metadata": {},
     "output_type": "execute_result"
    }
   ],
   "source": [
    "df3['Q26'].unique()"
   ]
  },
  {
   "cell_type": "code",
   "execution_count": 47,
   "metadata": {
    "colab": {
     "base_uri": "https://localhost:8080/"
    },
    "id": "9if6PfTj9PqE",
    "outputId": "df7345bd-c8b0-4330-e3fb-2f58d9783829"
   },
   "outputs": [
    {
     "data": {
      "text/plain": [
       "array(['Have you changed your movement/exercise?', 'Yes', 'No', nan],\n",
       "      dtype=object)"
      ]
     },
     "execution_count": 47,
     "metadata": {},
     "output_type": "execute_result"
    }
   ],
   "source": [
    "df['Q26'].unique()"
   ]
  },
  {
   "cell_type": "code",
   "execution_count": 48,
   "metadata": {
    "colab": {
     "base_uri": "https://localhost:8080/"
    },
    "id": "WcGrsR5x9PqE",
    "outputId": "477f35db-60b3-4d47-fb69-3ef1ad3ca0a9"
   },
   "outputs": [
    {
     "data": {
      "text/plain": [
       "array(['Yes', 'No'], dtype=object)"
      ]
     },
     "execution_count": 48,
     "metadata": {},
     "output_type": "execute_result"
    }
   ],
   "source": [
    "df3['Q27'].unique()"
   ]
  },
  {
   "cell_type": "code",
   "execution_count": 49,
   "metadata": {
    "colab": {
     "base_uri": "https://localhost:8080/"
    },
    "id": "jlB6UbEX9PqE",
    "outputId": "f91e377d-8b4c-468f-9e45-36d1ca373b17"
   },
   "outputs": [
    {
     "data": {
      "text/plain": [
       "array(['Has the quality of your diet changed?', 'Yes', 'No', nan],\n",
       "      dtype=object)"
      ]
     },
     "execution_count": 49,
     "metadata": {},
     "output_type": "execute_result"
    }
   ],
   "source": [
    "df['Q27'].unique()"
   ]
  },
  {
   "cell_type": "code",
   "execution_count": 50,
   "metadata": {
    "colab": {
     "base_uri": "https://localhost:8080/"
    },
    "id": "_PNJ-HFY9PqF",
    "outputId": "514221e1-89ea-4e20-fb67-e63c9068f4b1"
   },
   "outputs": [
    {
     "data": {
      "text/plain": [
       "array(['Yes', 'No'], dtype=object)"
      ]
     },
     "execution_count": 50,
     "metadata": {},
     "output_type": "execute_result"
    }
   ],
   "source": [
    "df3['Q28'].unique()"
   ]
  },
  {
   "cell_type": "code",
   "execution_count": 51,
   "metadata": {
    "colab": {
     "base_uri": "https://localhost:8080/"
    },
    "id": "K62Bl_3q9PqF",
    "outputId": "33d8883c-6d34-4fa7-d84d-08d5fbe40caa"
   },
   "outputs": [
    {
     "data": {
      "text/plain": [
       "array(['Has the amount of food you have been eating per day changed?',\n",
       "       'Yes', 'No', nan], dtype=object)"
      ]
     },
     "execution_count": 51,
     "metadata": {},
     "output_type": "execute_result"
    }
   ],
   "source": [
    "df['Q28'].unique()"
   ]
  },
  {
   "cell_type": "code",
   "execution_count": 52,
   "metadata": {
    "colab": {
     "base_uri": "https://localhost:8080/"
    },
    "id": "ktxXxZCi9PqF",
    "outputId": "a9f70096-c237-4496-f8aa-41db79890efb"
   },
   "outputs": [
    {
     "data": {
      "text/plain": [
       "array(['Yes', 'No'], dtype=object)"
      ]
     },
     "execution_count": 52,
     "metadata": {},
     "output_type": "execute_result"
    }
   ],
   "source": [
    "df3['Q29'].unique()"
   ]
  },
  {
   "cell_type": "code",
   "execution_count": 53,
   "metadata": {
    "colab": {
     "base_uri": "https://localhost:8080/"
    },
    "id": "G5J2sMNk9PqF",
    "outputId": "aea64cd7-9e3b-4b9a-8c76-3f499f75a21d"
   },
   "outputs": [
    {
     "data": {
      "text/plain": [
       "array(['Has your mood changed?', 'Yes', 'No', nan], dtype=object)"
      ]
     },
     "execution_count": 53,
     "metadata": {},
     "output_type": "execute_result"
    }
   ],
   "source": [
    "df['Q29'].unique()"
   ]
  },
  {
   "cell_type": "markdown",
   "metadata": {
    "id": "sPrGFpmo9PqG"
   },
   "source": [
    "# Ordinal Feature"
   ]
  },
  {
   "cell_type": "code",
   "execution_count": 54,
   "metadata": {
    "colab": {
     "base_uri": "https://localhost:8080/"
    },
    "id": "4mD-ABgL9PqG",
    "outputId": "f0ba0c8c-ddbb-4572-ec7f-86a2467ad1b4"
   },
   "outputs": [
    {
     "data": {
      "text/plain": [
       "array(['8', '6', '7', '7.75', '7:15', '5-6', '10', '1.5', '9', '7-8',\n",
       "       '6-7', '7.5', 'seven', '6.5', '5', '8.5', '8-10', '8-9', '5.7',\n",
       "       '7-9', '4', '7 hours', '7-7.5', '7.30', '6-8'], dtype=object)"
      ]
     },
     "execution_count": 54,
     "metadata": {},
     "output_type": "execute_result"
    }
   ],
   "source": [
    "df3['Q12'].unique()"
   ]
  },
  {
   "cell_type": "code",
   "execution_count": 55,
   "metadata": {
    "colab": {
     "base_uri": "https://localhost:8080/"
    },
    "id": "jaPTnCFl9PqH",
    "outputId": "ffa17853-8b28-4693-ad71-25e5f81a3590"
   },
   "outputs": [
    {
     "data": {
      "text/plain": [
       "array(['9', '5.5', '7', '6', '8', '7:30', '7.5', '5-6', '8 ', '4-5', '4',\n",
       "       '6.5', '5', '4.5', 'seven', '6-7', '5-8', '10', 'Na', '8.5', '9.5',\n",
       "       '5-10', '6 (but much more variability)', '6 to 7', '7-8', '6-8',\n",
       "       '8-10', '4.3', '7.45', '3', '7-7.5', '9-10'], dtype=object)"
      ]
     },
     "execution_count": 55,
     "metadata": {},
     "output_type": "execute_result"
    }
   ],
   "source": [
    "df3['Q13'].unique()"
   ]
  },
  {
   "cell_type": "code",
   "execution_count": 56,
   "metadata": {
    "colab": {
     "base_uri": "https://localhost:8080/"
    },
    "id": "ocoWnLto9PqH",
    "outputId": "2beb0cfe-01ab-4ded-f1c4-cc05ea97df14"
   },
   "outputs": [
    {
     "data": {
      "text/plain": [
       "array(['2-3 times a week', 'Once a month or less', 'Never',\n",
       "       '2-4 times a month', '4 or more times a week'], dtype=object)"
      ]
     },
     "execution_count": 56,
     "metadata": {},
     "output_type": "execute_result"
    }
   ],
   "source": [
    "df3['Q19'].unique()"
   ]
  },
  {
   "cell_type": "code",
   "execution_count": 57,
   "metadata": {
    "colab": {
     "base_uri": "https://localhost:8080/"
    },
    "id": "bqkoE2QY9PqH",
    "outputId": "8b7d1b2a-feb3-4384-938e-e0287183cddd"
   },
   "outputs": [
    {
     "data": {
      "text/plain": [
       "array(['4 or more times a week', '2-3 times a week', '2-4 times a month',\n",
       "       'Never', 'Once a month or less'], dtype=object)"
      ]
     },
     "execution_count": 57,
     "metadata": {},
     "output_type": "execute_result"
    }
   ],
   "source": [
    "df3['Q20'].unique()"
   ]
  },
  {
   "cell_type": "code",
   "execution_count": 58,
   "metadata": {
    "colab": {
     "base_uri": "https://localhost:8080/"
    },
    "id": "fI4bhASZ9PqI",
    "outputId": "6f9bcb1a-8268-4640-b345-31f102d02a3b"
   },
   "outputs": [
    {
     "data": {
      "text/plain": [
       "array(['Never', '2-3 times a week', 'Once a month or less',\n",
       "       '2-4 times a month', '4 or more times a week'], dtype=object)"
      ]
     },
     "execution_count": 58,
     "metadata": {},
     "output_type": "execute_result"
    }
   ],
   "source": [
    "df3['Q21'].unique()"
   ]
  },
  {
   "cell_type": "code",
   "execution_count": 59,
   "metadata": {
    "colab": {
     "base_uri": "https://localhost:8080/"
    },
    "id": "SusDjdTq9PqI",
    "outputId": "39f6b047-3c36-42a8-d047-5b862542c697"
   },
   "outputs": [
    {
     "data": {
      "text/plain": [
       "array(['Never', '2-3 times a week', 'Once a month or less',\n",
       "       '2-4 times a month', '4 or more times a week'], dtype=object)"
      ]
     },
     "execution_count": 59,
     "metadata": {},
     "output_type": "execute_result"
    }
   ],
   "source": [
    "df3['Q22'].unique()"
   ]
  },
  {
   "cell_type": "code",
   "execution_count": 60,
   "metadata": {
    "colab": {
     "base_uri": "https://localhost:8080/"
    },
    "id": "0egZddbX9PqJ",
    "outputId": "0ae9cc7d-28d1-43ff-bf63-e78967ff13c8"
   },
   "outputs": [
    {
     "data": {
      "text/plain": [
       "array(['0-.5 hour', '1-2 hours', '0.51 â\\x80\\x93 1 hour', '2-3 hours',\n",
       "       '3+ hours'], dtype=object)"
      ]
     },
     "execution_count": 60,
     "metadata": {},
     "output_type": "execute_result"
    }
   ],
   "source": [
    "df3['Q24'].unique()"
   ]
  },
  {
   "cell_type": "code",
   "execution_count": 61,
   "metadata": {
    "colab": {
     "base_uri": "https://localhost:8080/",
     "height": 641
    },
    "id": "opF9QL7U9PqJ",
    "outputId": "ffbe744f-9ca3-484a-8a20-2ab65b84dd65",
    "scrolled": true
   },
   "outputs": [
    {
     "data": {
      "text/html": [
       "<div>\n",
       "<style scoped>\n",
       "    .dataframe tbody tr th:only-of-type {\n",
       "        vertical-align: middle;\n",
       "    }\n",
       "\n",
       "    .dataframe tbody tr th {\n",
       "        vertical-align: top;\n",
       "    }\n",
       "\n",
       "    .dataframe thead th {\n",
       "        text-align: right;\n",
       "    }\n",
       "</style>\n",
       "<table border=\"1\" class=\"dataframe\">\n",
       "  <thead>\n",
       "    <tr style=\"text-align: right;\">\n",
       "      <th></th>\n",
       "      <th>Q1</th>\n",
       "      <th>Q2</th>\n",
       "      <th>Q3</th>\n",
       "      <th>Q8</th>\n",
       "      <th>Q9</th>\n",
       "      <th>Q10</th>\n",
       "      <th>Q11</th>\n",
       "      <th>Q12</th>\n",
       "      <th>Q13</th>\n",
       "      <th>Q14</th>\n",
       "      <th>Q15</th>\n",
       "      <th>Q16</th>\n",
       "      <th>Q17</th>\n",
       "      <th>Q18</th>\n",
       "      <th>Q18a</th>\n",
       "      <th>Q19</th>\n",
       "      <th>Q20</th>\n",
       "      <th>Q21</th>\n",
       "      <th>Q22</th>\n",
       "      <th>Q23</th>\n",
       "      <th>Q24</th>\n",
       "      <th>Q25</th>\n",
       "      <th>Q26</th>\n",
       "      <th>Q27</th>\n",
       "      <th>Q28</th>\n",
       "      <th>Q29</th>\n",
       "    </tr>\n",
       "  </thead>\n",
       "  <tbody>\n",
       "    <tr>\n",
       "      <th>12</th>\n",
       "      <td>44</td>\n",
       "      <td>Female</td>\n",
       "      <td>Michigan</td>\n",
       "      <td>Yes</td>\n",
       "      <td>1</td>\n",
       "      <td>Yes</td>\n",
       "      <td>Not applicable</td>\n",
       "      <td>8</td>\n",
       "      <td>9</td>\n",
       "      <td>Yes</td>\n",
       "      <td>Yes</td>\n",
       "      <td>Yes</td>\n",
       "      <td>No</td>\n",
       "      <td>Yes</td>\n",
       "      <td>I am drinking more alcohol</td>\n",
       "      <td>2-3 times a week</td>\n",
       "      <td>4 or more times a week</td>\n",
       "      <td>Never</td>\n",
       "      <td>Never</td>\n",
       "      <td>No</td>\n",
       "      <td>0-.5 hour</td>\n",
       "      <td>Yes</td>\n",
       "      <td>Yes</td>\n",
       "      <td>Yes</td>\n",
       "      <td>Yes</td>\n",
       "      <td>Yes</td>\n",
       "    </tr>\n",
       "    <tr>\n",
       "      <th>13</th>\n",
       "      <td>31</td>\n",
       "      <td>Male</td>\n",
       "      <td>Iowa</td>\n",
       "      <td>No</td>\n",
       "      <td>2</td>\n",
       "      <td>No</td>\n",
       "      <td>Not applicable</td>\n",
       "      <td>6</td>\n",
       "      <td>5.5</td>\n",
       "      <td>Yes</td>\n",
       "      <td>No</td>\n",
       "      <td>No</td>\n",
       "      <td>No</td>\n",
       "      <td>Yes</td>\n",
       "      <td>I am drinking more alcohol</td>\n",
       "      <td>2-3 times a week</td>\n",
       "      <td>2-3 times a week</td>\n",
       "      <td>Never</td>\n",
       "      <td>Never</td>\n",
       "      <td>Yes</td>\n",
       "      <td>1-2 hours</td>\n",
       "      <td>Yes</td>\n",
       "      <td>No</td>\n",
       "      <td>Yes</td>\n",
       "      <td>No</td>\n",
       "      <td>Yes</td>\n",
       "    </tr>\n",
       "    <tr>\n",
       "      <th>16</th>\n",
       "      <td>39</td>\n",
       "      <td>Female</td>\n",
       "      <td>Michigan</td>\n",
       "      <td>Yes</td>\n",
       "      <td>2</td>\n",
       "      <td>Yes</td>\n",
       "      <td>Yes</td>\n",
       "      <td>7</td>\n",
       "      <td>7</td>\n",
       "      <td>Yes</td>\n",
       "      <td>No</td>\n",
       "      <td>Yes</td>\n",
       "      <td>No</td>\n",
       "      <td>Yes</td>\n",
       "      <td>I am drinking more alcohol</td>\n",
       "      <td>2-3 times a week</td>\n",
       "      <td>4 or more times a week</td>\n",
       "      <td>Never</td>\n",
       "      <td>Never</td>\n",
       "      <td>Yes</td>\n",
       "      <td>0.51 â 1 hour</td>\n",
       "      <td>No</td>\n",
       "      <td>No</td>\n",
       "      <td>Yes</td>\n",
       "      <td>Yes</td>\n",
       "      <td>Yes</td>\n",
       "    </tr>\n",
       "    <tr>\n",
       "      <th>18</th>\n",
       "      <td>28</td>\n",
       "      <td>Female</td>\n",
       "      <td>Michigan</td>\n",
       "      <td>Yes</td>\n",
       "      <td>2</td>\n",
       "      <td>Yes</td>\n",
       "      <td>Yes</td>\n",
       "      <td>7</td>\n",
       "      <td>7</td>\n",
       "      <td>No</td>\n",
       "      <td>Yes</td>\n",
       "      <td>No</td>\n",
       "      <td>No</td>\n",
       "      <td>Yes</td>\n",
       "      <td>I am drinking more alcohol</td>\n",
       "      <td>Once a month or less</td>\n",
       "      <td>2-4 times a month</td>\n",
       "      <td>Never</td>\n",
       "      <td>Never</td>\n",
       "      <td>Yes</td>\n",
       "      <td>1-2 hours</td>\n",
       "      <td>Yes</td>\n",
       "      <td>Yes</td>\n",
       "      <td>No</td>\n",
       "      <td>Yes</td>\n",
       "      <td>Yes</td>\n",
       "    </tr>\n",
       "    <tr>\n",
       "      <th>21</th>\n",
       "      <td>29</td>\n",
       "      <td>Female</td>\n",
       "      <td>Michigan</td>\n",
       "      <td>Yes</td>\n",
       "      <td>2</td>\n",
       "      <td>No</td>\n",
       "      <td>Not applicable</td>\n",
       "      <td>7</td>\n",
       "      <td>6</td>\n",
       "      <td>No</td>\n",
       "      <td>No</td>\n",
       "      <td>Yes</td>\n",
       "      <td>Yes</td>\n",
       "      <td>Yes</td>\n",
       "      <td>I am drinking more alcohol</td>\n",
       "      <td>Once a month or less</td>\n",
       "      <td>4 or more times a week</td>\n",
       "      <td>Never</td>\n",
       "      <td>Never</td>\n",
       "      <td>Yes</td>\n",
       "      <td>1-2 hours</td>\n",
       "      <td>Yes</td>\n",
       "      <td>Yes</td>\n",
       "      <td>Yes</td>\n",
       "      <td>Yes</td>\n",
       "      <td>No</td>\n",
       "    </tr>\n",
       "    <tr>\n",
       "      <th>...</th>\n",
       "      <td>...</td>\n",
       "      <td>...</td>\n",
       "      <td>...</td>\n",
       "      <td>...</td>\n",
       "      <td>...</td>\n",
       "      <td>...</td>\n",
       "      <td>...</td>\n",
       "      <td>...</td>\n",
       "      <td>...</td>\n",
       "      <td>...</td>\n",
       "      <td>...</td>\n",
       "      <td>...</td>\n",
       "      <td>...</td>\n",
       "      <td>...</td>\n",
       "      <td>...</td>\n",
       "      <td>...</td>\n",
       "      <td>...</td>\n",
       "      <td>...</td>\n",
       "      <td>...</td>\n",
       "      <td>...</td>\n",
       "      <td>...</td>\n",
       "      <td>...</td>\n",
       "      <td>...</td>\n",
       "      <td>...</td>\n",
       "      <td>...</td>\n",
       "      <td>...</td>\n",
       "    </tr>\n",
       "    <tr>\n",
       "      <th>894</th>\n",
       "      <td>29</td>\n",
       "      <td>Female</td>\n",
       "      <td>Georgia</td>\n",
       "      <td>Yes</td>\n",
       "      <td>Not applicable</td>\n",
       "      <td>Yes</td>\n",
       "      <td>Not applicable</td>\n",
       "      <td>6-8</td>\n",
       "      <td>6-8</td>\n",
       "      <td>No</td>\n",
       "      <td>No</td>\n",
       "      <td>Yes</td>\n",
       "      <td>No</td>\n",
       "      <td>Yes</td>\n",
       "      <td>I am drinking more alcohol</td>\n",
       "      <td>Once a month or less</td>\n",
       "      <td>2-4 times a month</td>\n",
       "      <td>Never</td>\n",
       "      <td>Never</td>\n",
       "      <td>Yes</td>\n",
       "      <td>2-3 hours</td>\n",
       "      <td>Yes</td>\n",
       "      <td>Yes</td>\n",
       "      <td>Yes</td>\n",
       "      <td>Yes</td>\n",
       "      <td>Yes</td>\n",
       "    </tr>\n",
       "    <tr>\n",
       "      <th>895</th>\n",
       "      <td>44</td>\n",
       "      <td>Male</td>\n",
       "      <td>Michigan</td>\n",
       "      <td>Yes</td>\n",
       "      <td>Yes</td>\n",
       "      <td>No</td>\n",
       "      <td>Yes</td>\n",
       "      <td>7</td>\n",
       "      <td>7.5</td>\n",
       "      <td>Yes</td>\n",
       "      <td>Yes</td>\n",
       "      <td>No</td>\n",
       "      <td>No</td>\n",
       "      <td>Yes</td>\n",
       "      <td>I am drinking more alcohol</td>\n",
       "      <td>2-3 times a week</td>\n",
       "      <td>2-3 times a week</td>\n",
       "      <td>Never</td>\n",
       "      <td>Never</td>\n",
       "      <td>No</td>\n",
       "      <td>0-.5 hour</td>\n",
       "      <td>No</td>\n",
       "      <td>Yes</td>\n",
       "      <td>No</td>\n",
       "      <td>Yes</td>\n",
       "      <td>No</td>\n",
       "    </tr>\n",
       "    <tr>\n",
       "      <th>896</th>\n",
       "      <td>47</td>\n",
       "      <td>Female</td>\n",
       "      <td>California</td>\n",
       "      <td>Yes</td>\n",
       "      <td>Yes</td>\n",
       "      <td>No</td>\n",
       "      <td>Yes</td>\n",
       "      <td>6</td>\n",
       "      <td>7</td>\n",
       "      <td>Yes</td>\n",
       "      <td>Yes</td>\n",
       "      <td>Yes</td>\n",
       "      <td>Yes</td>\n",
       "      <td>Yes</td>\n",
       "      <td>I am drinking more alcohol</td>\n",
       "      <td>2-4 times a month</td>\n",
       "      <td>2-3 times a week</td>\n",
       "      <td>Never</td>\n",
       "      <td>Never</td>\n",
       "      <td>Yes</td>\n",
       "      <td>3+ hours</td>\n",
       "      <td>Yes</td>\n",
       "      <td>Yes</td>\n",
       "      <td>Yes</td>\n",
       "      <td>Yes</td>\n",
       "      <td>Yes</td>\n",
       "    </tr>\n",
       "    <tr>\n",
       "      <th>897</th>\n",
       "      <td>58</td>\n",
       "      <td>Female</td>\n",
       "      <td>Michigan</td>\n",
       "      <td>No</td>\n",
       "      <td>No</td>\n",
       "      <td>No</td>\n",
       "      <td>No</td>\n",
       "      <td>8-9</td>\n",
       "      <td>9-10</td>\n",
       "      <td>Yes</td>\n",
       "      <td>Yes</td>\n",
       "      <td>Yes</td>\n",
       "      <td>No</td>\n",
       "      <td>Yes</td>\n",
       "      <td>I am drinking more alcohol</td>\n",
       "      <td>2-4 times a month</td>\n",
       "      <td>2-3 times a week</td>\n",
       "      <td>Never</td>\n",
       "      <td>Never</td>\n",
       "      <td>Yes</td>\n",
       "      <td>2-3 hours</td>\n",
       "      <td>Yes</td>\n",
       "      <td>Yes</td>\n",
       "      <td>Yes</td>\n",
       "      <td>Yes</td>\n",
       "      <td>Yes</td>\n",
       "    </tr>\n",
       "    <tr>\n",
       "      <th>908</th>\n",
       "      <td>66</td>\n",
       "      <td>Female</td>\n",
       "      <td>Michigan</td>\n",
       "      <td>No</td>\n",
       "      <td>No,Not applicable</td>\n",
       "      <td>No</td>\n",
       "      <td>No</td>\n",
       "      <td>8</td>\n",
       "      <td>8</td>\n",
       "      <td>No</td>\n",
       "      <td>Yes</td>\n",
       "      <td>No</td>\n",
       "      <td>No</td>\n",
       "      <td>Yes</td>\n",
       "      <td>I am drinking more alcohol</td>\n",
       "      <td>2-3 times a week</td>\n",
       "      <td>2-3 times a week</td>\n",
       "      <td>Never</td>\n",
       "      <td>2-4 times a month</td>\n",
       "      <td>Yes</td>\n",
       "      <td>1-2 hours</td>\n",
       "      <td>No</td>\n",
       "      <td>Yes</td>\n",
       "      <td>Yes</td>\n",
       "      <td>No</td>\n",
       "      <td>Yes</td>\n",
       "    </tr>\n",
       "  </tbody>\n",
       "</table>\n",
       "<p>273 rows × 26 columns</p>\n",
       "</div>"
      ],
      "text/plain": [
       "     Q1      Q2          Q3   Q8                 Q9  Q10             Q11  Q12  \\\n",
       "12   44  Female    Michigan  Yes                  1  Yes  Not applicable    8   \n",
       "13   31    Male        Iowa   No                  2   No  Not applicable    6   \n",
       "16   39  Female    Michigan  Yes                  2  Yes             Yes    7   \n",
       "18   28  Female    Michigan  Yes                  2  Yes             Yes    7   \n",
       "21   29  Female    Michigan  Yes                  2   No  Not applicable    7   \n",
       "..   ..     ...         ...  ...                ...  ...             ...  ...   \n",
       "894  29  Female     Georgia  Yes     Not applicable  Yes  Not applicable  6-8   \n",
       "895  44    Male    Michigan  Yes                Yes   No             Yes    7   \n",
       "896  47  Female  California  Yes                Yes   No             Yes    6   \n",
       "897  58  Female    Michigan   No                 No   No              No  8-9   \n",
       "908  66  Female    Michigan   No  No,Not applicable   No              No    8   \n",
       "\n",
       "      Q13  Q14  Q15  Q16  Q17  Q18                        Q18a  \\\n",
       "12      9  Yes  Yes  Yes   No  Yes  I am drinking more alcohol   \n",
       "13    5.5  Yes   No   No   No  Yes  I am drinking more alcohol   \n",
       "16      7  Yes   No  Yes   No  Yes  I am drinking more alcohol   \n",
       "18      7   No  Yes   No   No  Yes  I am drinking more alcohol   \n",
       "21      6   No   No  Yes  Yes  Yes  I am drinking more alcohol   \n",
       "..    ...  ...  ...  ...  ...  ...                         ...   \n",
       "894   6-8   No   No  Yes   No  Yes  I am drinking more alcohol   \n",
       "895   7.5  Yes  Yes   No   No  Yes  I am drinking more alcohol   \n",
       "896     7  Yes  Yes  Yes  Yes  Yes  I am drinking more alcohol   \n",
       "897  9-10  Yes  Yes  Yes   No  Yes  I am drinking more alcohol   \n",
       "908     8   No  Yes   No   No  Yes  I am drinking more alcohol   \n",
       "\n",
       "                      Q19                     Q20    Q21                Q22  \\\n",
       "12       2-3 times a week  4 or more times a week  Never              Never   \n",
       "13       2-3 times a week        2-3 times a week  Never              Never   \n",
       "16       2-3 times a week  4 or more times a week  Never              Never   \n",
       "18   Once a month or less       2-4 times a month  Never              Never   \n",
       "21   Once a month or less  4 or more times a week  Never              Never   \n",
       "..                    ...                     ...    ...                ...   \n",
       "894  Once a month or less       2-4 times a month  Never              Never   \n",
       "895      2-3 times a week        2-3 times a week  Never              Never   \n",
       "896     2-4 times a month        2-3 times a week  Never              Never   \n",
       "897     2-4 times a month        2-3 times a week  Never              Never   \n",
       "908      2-3 times a week        2-3 times a week  Never  2-4 times a month   \n",
       "\n",
       "     Q23              Q24  Q25  Q26  Q27  Q28  Q29  \n",
       "12    No        0-.5 hour  Yes  Yes  Yes  Yes  Yes  \n",
       "13   Yes        1-2 hours  Yes   No  Yes   No  Yes  \n",
       "16   Yes  0.51 â 1 hour   No   No  Yes  Yes  Yes  \n",
       "18   Yes        1-2 hours  Yes  Yes   No  Yes  Yes  \n",
       "21   Yes        1-2 hours  Yes  Yes  Yes  Yes   No  \n",
       "..   ...              ...  ...  ...  ...  ...  ...  \n",
       "894  Yes        2-3 hours  Yes  Yes  Yes  Yes  Yes  \n",
       "895   No        0-.5 hour   No  Yes   No  Yes   No  \n",
       "896  Yes         3+ hours  Yes  Yes  Yes  Yes  Yes  \n",
       "897  Yes        2-3 hours  Yes  Yes  Yes  Yes  Yes  \n",
       "908  Yes        1-2 hours   No  Yes  Yes   No  Yes  \n",
       "\n",
       "[273 rows x 26 columns]"
      ]
     },
     "execution_count": 61,
     "metadata": {},
     "output_type": "execute_result"
    }
   ],
   "source": [
    "df3"
   ]
  },
  {
   "cell_type": "code",
   "execution_count": 62,
   "metadata": {
    "id": "VQ3CogDx9PqJ"
   },
   "outputs": [],
   "source": [
    "# create excel writer object\n",
    "writer = pd.ExcelWriter('output.xlsx')\n",
    "# write dataframe to excel\n",
    "df3.to_excel(writer)\n",
    "# save the excel\n",
    "writer.save()\n"
   ]
  },
  {
   "cell_type": "code",
   "execution_count": 63,
   "metadata": {
    "colab": {
     "base_uri": "https://localhost:8080/",
     "height": 515
    },
    "id": "zVxpjYH69PqK",
    "outputId": "ccde551d-0930-4b5c-e4ce-04fe68ce8bb2"
   },
   "outputs": [
    {
     "data": {
      "text/plain": [
       "Text(0.5, 0, 'Count')"
      ]
     },
     "execution_count": 63,
     "metadata": {},
     "output_type": "execute_result"
    },
    {
     "data": {
      "image/png": "[encoded data removed]",
      "text/plain": [
       "<Figure size 576x576 with 1 Axes>"
      ]
     },
     "metadata": {
      "needs_background": "light"
     },
     "output_type": "display_data"
    }
   ],
   "source": [
    "df3['Q1'].value_counts()[:50].plot(kind='barh', figsize=(8, 8), color='#86bf91', zorder=2, width=0.55)\n",
    "plt.xlabel('Count')\n"
   ]
  },
  {
   "cell_type": "code",
   "execution_count": 64,
   "metadata": {
    "colab": {
     "base_uri": "https://localhost:8080/"
    },
    "id": "wIdJGlTc9PqK",
    "outputId": "2a62e271-d0d1-4869-980e-0ad2dac7ee41"
   },
   "outputs": [
    {
     "data": {
      "text/plain": [
       "0      What is your gender?\n",
       "1                       NaN\n",
       "2                       NaN\n",
       "3                       NaN\n",
       "4                       NaN\n",
       "               ...         \n",
       "910                    Male\n",
       "911                  Female\n",
       "912                  Female\n",
       "913                  Female\n",
       "914                  Female\n",
       "Name: Q2, Length: 915, dtype: object"
      ]
     },
     "execution_count": 64,
     "metadata": {},
     "output_type": "execute_result"
    }
   ],
   "source": [
    "df['Q2']"
   ]
  },
  {
   "cell_type": "code",
   "execution_count": 65,
   "metadata": {
    "colab": {
     "base_uri": "https://localhost:8080/",
     "height": 515
    },
    "id": "qkDy56cH9PqK",
    "outputId": "adfcd499-ab70-42fa-9680-97e225dd5b95"
   },
   "outputs": [
    {
     "data": {
      "text/plain": [
       "Text(0.5, 0, 'Count')"
      ]
     },
     "execution_count": 65,
     "metadata": {},
     "output_type": "execute_result"
    },
    {
     "data": {
      "image/png": "[encoded data removed]",
      "text/plain": [
       "<Figure size 576x576 with 1 Axes>"
      ]
     },
     "metadata": {
      "needs_background": "light"
     },
     "output_type": "display_data"
    }
   ],
   "source": [
    "df3['Q2'].value_counts()[:2].plot(kind='barh', figsize=(8, 8), color='#86bf91', zorder=2, width=0.55)\n",
    "plt.xlabel('Count')\n"
   ]
  },
  {
   "cell_type": "code",
   "execution_count": 66,
   "metadata": {
    "colab": {
     "base_uri": "https://localhost:8080/"
    },
    "id": "E03HZboy9PqK",
    "outputId": "ab50ee66-b9c3-404c-e5b8-c77d21d7c2e8"
   },
   "outputs": [
    {
     "data": {
      "text/plain": [
       "0      50 States, D.C. and Puerto Rico\n",
       "1                                  NaN\n",
       "2                                  NaN\n",
       "3                                  NaN\n",
       "4                                  NaN\n",
       "                    ...               \n",
       "910                            Florida\n",
       "911                           Michigan\n",
       "912                           Michigan\n",
       "913                          Wisconsin\n",
       "914                           Michigan\n",
       "Name: Q3, Length: 915, dtype: object"
      ]
     },
     "execution_count": 66,
     "metadata": {},
     "output_type": "execute_result"
    }
   ],
   "source": [
    "df['Q3']"
   ]
  },
  {
   "cell_type": "code",
   "execution_count": 67,
   "metadata": {
    "colab": {
     "base_uri": "https://localhost:8080/",
     "height": 515
    },
    "id": "Z4G-xlDH9PqL",
    "outputId": "afc64c0d-2365-4007-f137-22293347a7c6"
   },
   "outputs": [
    {
     "data": {
      "text/plain": [
       "Text(0.5, 0, 'Count')"
      ]
     },
     "execution_count": 67,
     "metadata": {},
     "output_type": "execute_result"
    },
    {
     "data": {
      "image/png": "[encoded data removed]",
      "text/plain": [
       "<Figure size 576x576 with 1 Axes>"
      ]
     },
     "metadata": {
      "needs_background": "light"
     },
     "output_type": "display_data"
    }
   ],
   "source": [
    "df3['Q3'].value_counts()[:20].plot(kind='barh', figsize=(8, 8), color='#86bf91', zorder=2, width=0.55)\n",
    "plt.xlabel('Count')\n"
   ]
  },
  {
   "cell_type": "code",
   "execution_count": 68,
   "metadata": {
    "colab": {
     "base_uri": "https://localhost:8080/"
    },
    "id": "3VQRukNJ9PqL",
    "outputId": "3dafa355-b8fd-4f8d-e99c-7fa1f72138e7"
   },
   "outputs": [
    {
     "data": {
      "text/plain": [
       "0      Are you currently conducting your job mostly f...\n",
       "1                                                    NaN\n",
       "2                                                     No\n",
       "3                                                    Yes\n",
       "4                                                    NaN\n",
       "                             ...                        \n",
       "910                                                   No\n",
       "911                                                  Yes\n",
       "912                                                   No\n",
       "913                                                   No\n",
       "914                                                   No\n",
       "Name: Q8, Length: 915, dtype: object"
      ]
     },
     "execution_count": 68,
     "metadata": {},
     "output_type": "execute_result"
    }
   ],
   "source": [
    "df['Q8']"
   ]
  },
  {
   "cell_type": "code",
   "execution_count": 69,
   "metadata": {
    "colab": {
     "base_uri": "https://localhost:8080/",
     "height": 515
    },
    "id": "lMvOpwQL9PqL",
    "outputId": "f35fbbb9-42f1-4beb-e540-cddfb3586dee"
   },
   "outputs": [
    {
     "data": {
      "text/plain": [
       "Text(0.5, 0, 'Count')"
      ]
     },
     "execution_count": 69,
     "metadata": {},
     "output_type": "execute_result"
    },
    {
     "data": {
      "image/png": "[encoded data removed]",
      "text/plain": [
       "<Figure size 576x576 with 1 Axes>"
      ]
     },
     "metadata": {
      "needs_background": "light"
     },
     "output_type": "display_data"
    }
   ],
   "source": [
    "df3['Q8'].value_counts()[:20].plot(kind='barh', figsize=(8, 8), color='#86bf91', zorder=2, width=0.55)\n",
    "plt.xlabel('Count')\n"
   ]
  },
  {
   "cell_type": "code",
   "execution_count": 70,
   "metadata": {
    "colab": {
     "base_uri": "https://localhost:8080/"
    },
    "id": "1WZG3dnO9PqM",
    "outputId": "daa7ca0d-9156-48a6-8bbb-8f62382a7ae4"
   },
   "outputs": [
    {
     "data": {
      "text/plain": [
       "0      Are you conducting clinical video visits with ...\n",
       "1                                                    NaN\n",
       "2                                                      2\n",
       "3                                                      1\n",
       "4                                                    NaN\n",
       "                             ...                        \n",
       "910                                       Not applicable\n",
       "911                                       Not applicable\n",
       "912                                    No,Not applicable\n",
       "913                                                   No\n",
       "914                                       Not applicable\n",
       "Name: Q9, Length: 915, dtype: object"
      ]
     },
     "execution_count": 70,
     "metadata": {},
     "output_type": "execute_result"
    }
   ],
   "source": [
    "df['Q9']"
   ]
  },
  {
   "cell_type": "code",
   "execution_count": 71,
   "metadata": {
    "colab": {
     "base_uri": "https://localhost:8080/",
     "height": 515
    },
    "id": "jg6LlHY69PqM",
    "outputId": "ddb0786c-8b5a-449a-a246-79b302728d12"
   },
   "outputs": [
    {
     "data": {
      "text/plain": [
       "Text(0.5, 0, 'Count')"
      ]
     },
     "execution_count": 71,
     "metadata": {},
     "output_type": "execute_result"
    },
    {
     "data": {
      "image/png": "[encoded data removed]",
      "text/plain": [
       "<Figure size 576x576 with 1 Axes>"
      ]
     },
     "metadata": {
      "needs_background": "light"
     },
     "output_type": "display_data"
    }
   ],
   "source": [
    "df3['Q9'].value_counts()[:20].plot(kind='barh', figsize=(8, 8), color='#86bf91', zorder=2, width=0.55)\n",
    "plt.xlabel('Count')\n"
   ]
  },
  {
   "cell_type": "code",
   "execution_count": 72,
   "metadata": {
    "colab": {
     "base_uri": "https://localhost:8080/"
    },
    "id": "dppx7a0t9PqM",
    "outputId": "abd83e96-2c39-40bd-ee87-873c75110a00"
   },
   "outputs": [
    {
     "data": {
      "text/plain": [
       "0      Does\\nyour work require you to follow a fixed ...\n",
       "1                                                    NaN\n",
       "2                                                     No\n",
       "3                                                     No\n",
       "4                                                    NaN\n",
       "                             ...                        \n",
       "910                                                   No\n",
       "911                                                  Yes\n",
       "912                                                  NaN\n",
       "913                                                  NaN\n",
       "914                                                   No\n",
       "Name: Q10, Length: 915, dtype: object"
      ]
     },
     "execution_count": 72,
     "metadata": {},
     "output_type": "execute_result"
    }
   ],
   "source": [
    "df['Q10']"
   ]
  },
  {
   "cell_type": "code",
   "execution_count": 73,
   "metadata": {
    "colab": {
     "base_uri": "https://localhost:8080/",
     "height": 515
    },
    "id": "nmQUhX359PqN",
    "outputId": "c6e55f6c-5598-4c97-e7c9-8d24fd19392a"
   },
   "outputs": [
    {
     "data": {
      "text/plain": [
       "Text(0.5, 0, 'Count')"
      ]
     },
     "execution_count": 73,
     "metadata": {},
     "output_type": "execute_result"
    },
    {
     "data": {
      "image/png": "[encoded data removed]",
      "text/plain": [
       "<Figure size 576x576 with 1 Axes>"
      ]
     },
     "metadata": {
      "needs_background": "light"
     },
     "output_type": "display_data"
    }
   ],
   "source": [
    "df3['Q10'].value_counts()[:20].plot(kind='barh', figsize=(8, 8), color='#86bf91', zorder=2, width=0.55)\n",
    "plt.xlabel('Count')\n"
   ]
  },
  {
   "cell_type": "code",
   "execution_count": 74,
   "metadata": {
    "colab": {
     "base_uri": "https://localhost:8080/"
    },
    "id": "Et25Jo_39PqN",
    "outputId": "9754dc63-6a0a-4e63-fb6e-047ba96ad540"
   },
   "outputs": [
    {
     "data": {
      "text/plain": [
       "0      Are children home from school in the house?\n",
       "1                                              NaN\n",
       "2                                                1\n",
       "3                                                1\n",
       "4                                              NaN\n",
       "                          ...                     \n",
       "910                                 Not applicable\n",
       "911                                             No\n",
       "912                                            NaN\n",
       "913                                            NaN\n",
       "914                                            Yes\n",
       "Name: Q11, Length: 915, dtype: object"
      ]
     },
     "execution_count": 74,
     "metadata": {},
     "output_type": "execute_result"
    }
   ],
   "source": [
    "df['Q11']"
   ]
  },
  {
   "cell_type": "code",
   "execution_count": 75,
   "metadata": {
    "colab": {
     "base_uri": "https://localhost:8080/",
     "height": 515
    },
    "id": "4sHWlIO89PqN",
    "outputId": "8b357322-4db7-43b1-d678-b0074125e284"
   },
   "outputs": [
    {
     "data": {
      "text/plain": [
       "Text(0.5, 0, 'Count')"
      ]
     },
     "execution_count": 75,
     "metadata": {},
     "output_type": "execute_result"
    },
    {
     "data": {
      "image/png": "[encoded data removed]",
      "text/plain": [
       "<Figure size 576x576 with 1 Axes>"
      ]
     },
     "metadata": {
      "needs_background": "light"
     },
     "output_type": "display_data"
    }
   ],
   "source": [
    "df3['Q11'].value_counts()[:20].plot(kind='barh', figsize=(8, 8), color='#86bf91', zorder=2, width=0.55)\n",
    "plt.xlabel('Count')\n"
   ]
  },
  {
   "cell_type": "code",
   "execution_count": 76,
   "metadata": {
    "colab": {
     "base_uri": "https://localhost:8080/"
    },
    "id": "_OvZcUOJ9PqO",
    "outputId": "776e312d-4f62-4d0b-c2db-f76dc2ef60c2"
   },
   "outputs": [
    {
     "data": {
      "text/plain": [
       "0      Approximately how many hours did you sleep on ...\n",
       "1                                                    NaN\n",
       "2                                                    NaN\n",
       "3                                                    NaN\n",
       "4                                                    NaN\n",
       "                             ...                        \n",
       "910                                                  NaN\n",
       "911                                                  7.5\n",
       "912                                                  NaN\n",
       "913                                                  NaN\n",
       "914                                                  6-7\n",
       "Name: Q12, Length: 915, dtype: object"
      ]
     },
     "execution_count": 76,
     "metadata": {},
     "output_type": "execute_result"
    }
   ],
   "source": [
    "df['Q12']"
   ]
  },
  {
   "cell_type": "code",
   "execution_count": 77,
   "metadata": {
    "colab": {
     "base_uri": "https://localhost:8080/",
     "height": 515
    },
    "id": "c-6hhsKl9PqO",
    "outputId": "1c4b26c1-e463-4975-b47a-27993634c78f"
   },
   "outputs": [
    {
     "data": {
      "text/plain": [
       "Text(0.5, 0, 'Count')"
      ]
     },
     "execution_count": 77,
     "metadata": {},
     "output_type": "execute_result"
    },
    {
     "data": {
      "image/png": "[encoded data removed]",
      "text/plain": [
       "<Figure size 576x576 with 1 Axes>"
      ]
     },
     "metadata": {
      "needs_background": "light"
     },
     "output_type": "display_data"
    }
   ],
   "source": [
    "df3['Q12'].value_counts()[:10].plot(kind='barh', figsize=(8, 8), color='#86bf91', zorder=2, width=0.55)\n",
    "plt.xlabel('Count')\n"
   ]
  },
  {
   "cell_type": "code",
   "execution_count": 78,
   "metadata": {
    "colab": {
     "base_uri": "https://localhost:8080/"
    },
    "id": "fjYLEtrV9PqP",
    "outputId": "661bdbf9-9b83-4347-c81e-962a3e8139de"
   },
   "outputs": [
    {
     "data": {
      "text/plain": [
       "0      Has the number of your work hours per week cha...\n",
       "1                                                    NaN\n",
       "2                                                    Yes\n",
       "3                                                    Yes\n",
       "4                                                    NaN\n",
       "                             ...                        \n",
       "910                                                  NaN\n",
       "911                                                   No\n",
       "912                                                  NaN\n",
       "913                                                  NaN\n",
       "914                                                   No\n",
       "Name: Q14, Length: 915, dtype: object"
      ]
     },
     "execution_count": 78,
     "metadata": {},
     "output_type": "execute_result"
    }
   ],
   "source": [
    "df['Q14']"
   ]
  },
  {
   "cell_type": "code",
   "execution_count": 79,
   "metadata": {
    "colab": {
     "base_uri": "https://localhost:8080/",
     "height": 515
    },
    "id": "INnJBUQ59PqQ",
    "outputId": "e286cc61-f350-406a-d567-06d71b8d0319"
   },
   "outputs": [
    {
     "data": {
      "text/plain": [
       "Text(0.5, 0, 'Count')"
      ]
     },
     "execution_count": 79,
     "metadata": {},
     "output_type": "execute_result"
    },
    {
     "data": {
      "image/png": "[encoded data removed]",
      "text/plain": [
       "<Figure size 576x576 with 1 Axes>"
      ]
     },
     "metadata": {
      "needs_background": "light"
     },
     "output_type": "display_data"
    }
   ],
   "source": [
    "df3['Q13'].value_counts()[:20].plot(kind='barh', figsize=(8, 8), color='#86bf91', zorder=2, width=0.55)\n",
    "plt.xlabel('Count')\n"
   ]
  },
  {
   "cell_type": "code",
   "execution_count": 80,
   "metadata": {
    "colab": {
     "base_uri": "https://localhost:8080/",
     "height": 515
    },
    "id": "v5io6fZI9PqQ",
    "outputId": "d53dd87d-9dcc-43e1-8b52-9e33ef1c1880"
   },
   "outputs": [
    {
     "data": {
      "text/plain": [
       "Text(0.5, 0, 'Count')"
      ]
     },
     "execution_count": 80,
     "metadata": {},
     "output_type": "execute_result"
    },
    {
     "data": {
      "image/png": "[encoded data removed]",
      "text/plain": [
       "<Figure size 576x576 with 1 Axes>"
      ]
     },
     "metadata": {
      "needs_background": "light"
     },
     "output_type": "display_data"
    }
   ],
   "source": [
    "df3['Q14'].value_counts()[:20].plot(kind='barh', figsize=(8, 8), color='#86bf91', zorder=2, width=0.55)\n",
    "plt.xlabel('Count')\n"
   ]
  },
  {
   "cell_type": "code",
   "execution_count": null,
   "metadata": {
    "id": "vFLHPBdY9PqR"
   },
   "outputs": [],
   "source": []
  },
  {
   "cell_type": "code",
   "execution_count": 81,
   "metadata": {
    "colab": {
     "base_uri": "https://localhost:8080/"
    },
    "id": "3yubyxAU9PqR",
    "outputId": "16689eea-2cf9-447e-d536-dece44b76a73"
   },
   "outputs": [
    {
     "data": {
      "text/plain": [
       "0      Have you varied your work schedule?\n",
       "1                                      NaN\n",
       "2                                      NaN\n",
       "3                                      NaN\n",
       "4                                      NaN\n",
       "                      ...                 \n",
       "910                                    NaN\n",
       "911                                     No\n",
       "912                                    NaN\n",
       "913                                    NaN\n",
       "914                                    Yes\n",
       "Name: Q15, Length: 915, dtype: object"
      ]
     },
     "execution_count": 81,
     "metadata": {},
     "output_type": "execute_result"
    }
   ],
   "source": [
    "df['Q15']"
   ]
  },
  {
   "cell_type": "code",
   "execution_count": 82,
   "metadata": {
    "colab": {
     "base_uri": "https://localhost:8080/",
     "height": 515
    },
    "id": "k6iNvwLK9PqR",
    "outputId": "a0c94702-1470-4146-c2fc-14a2ca4fa140"
   },
   "outputs": [
    {
     "data": {
      "text/plain": [
       "Text(0.5, 0, 'Count')"
      ]
     },
     "execution_count": 82,
     "metadata": {},
     "output_type": "execute_result"
    },
    {
     "data": {
      "image/png": "[encoded data removed]",
      "text/plain": [
       "<Figure size 576x576 with 1 Axes>"
      ]
     },
     "metadata": {
      "needs_background": "light"
     },
     "output_type": "display_data"
    }
   ],
   "source": [
    "df3['Q15'].value_counts()[:20].plot(kind='barh', figsize=(8, 8), color='#86bf91', zorder=2, width=0.55)\n",
    "plt.xlabel('Count')\n"
   ]
  },
  {
   "cell_type": "code",
   "execution_count": 83,
   "metadata": {
    "colab": {
     "base_uri": "https://localhost:8080/",
     "height": 515
    },
    "id": "chk0gZ-U9PqR",
    "outputId": "dd0cd76a-f38b-4330-fc47-99225506373a"
   },
   "outputs": [
    {
     "data": {
      "text/plain": [
       "Text(0.5, 0, 'Count')"
      ]
     },
     "execution_count": 83,
     "metadata": {},
     "output_type": "execute_result"
    },
    {
     "data": {
      "image/png": "[encoded data removed]",
      "text/plain": [
       "<Figure size 576x576 with 1 Axes>"
      ]
     },
     "metadata": {
      "needs_background": "light"
     },
     "output_type": "display_data"
    }
   ],
   "source": [
    "df3['Q16'].value_counts()[:20].plot(kind='barh', figsize=(8, 8), color='#86bf91', zorder=2, width=0.55)\n",
    "plt.xlabel('Count')\n"
   ]
  },
  {
   "cell_type": "code",
   "execution_count": 84,
   "metadata": {
    "colab": {
     "base_uri": "https://localhost:8080/",
     "height": 515
    },
    "id": "RgFkJPuM9PqS",
    "outputId": "c4637186-bf22-4ea0-f97d-1a6ca2f9bc77"
   },
   "outputs": [
    {
     "data": {
      "text/plain": [
       "Text(0.5, 0, 'Count')"
      ]
     },
     "execution_count": 84,
     "metadata": {},
     "output_type": "execute_result"
    },
    {
     "data": {
      "image/png": "[encoded data removed]",
      "text/plain": [
       "<Figure size 576x576 with 1 Axes>"
      ]
     },
     "metadata": {
      "needs_background": "light"
     },
     "output_type": "display_data"
    }
   ],
   "source": [
    "df3['Q17'].value_counts()[:20].plot(kind='barh', figsize=(8, 8), color='#86bf91', zorder=2, width=0.55)\n",
    "plt.xlabel('Count')\n"
   ]
  },
  {
   "cell_type": "code",
   "execution_count": 85,
   "metadata": {
    "colab": {
     "base_uri": "https://localhost:8080/",
     "height": 515
    },
    "id": "RnnSYgGg9PqS",
    "outputId": "b9f3ffda-37cf-46f1-f391-cb16662d6b21"
   },
   "outputs": [
    {
     "data": {
      "text/plain": [
       "Text(0.5, 0, 'Count')"
      ]
     },
     "execution_count": 85,
     "metadata": {},
     "output_type": "execute_result"
    },
    {
     "data": {
      "image/png": "[encoded data removed]",
      "text/plain": [
       "<Figure size 576x576 with 1 Axes>"
      ]
     },
     "metadata": {
      "needs_background": "light"
     },
     "output_type": "display_data"
    }
   ],
   "source": [
    "df3['Q18'].value_counts()[:20].plot(kind='barh', figsize=(8, 8), color='#86bf91', zorder=2, width=0.55)\n",
    "plt.xlabel('Count')\n"
   ]
  },
  {
   "cell_type": "code",
   "execution_count": 86,
   "metadata": {
    "colab": {
     "base_uri": "https://localhost:8080/",
     "height": 515
    },
    "id": "fvO9rrib9PqS",
    "outputId": "6a5158e0-6c6c-4b30-f897-3200d18c9ef8"
   },
   "outputs": [
    {
     "data": {
      "text/plain": [
       "Text(0.5, 0, 'Count')"
      ]
     },
     "execution_count": 86,
     "metadata": {},
     "output_type": "execute_result"
    },
    {
     "data": {
      "image/png": "[encoded data removed]",
      "text/plain": [
       "<Figure size 576x576 with 1 Axes>"
      ]
     },
     "metadata": {
      "needs_background": "light"
     },
     "output_type": "display_data"
    }
   ],
   "source": [
    "df3['Q18a'].value_counts()[:20].plot(kind='barh', figsize=(8, 8), color='#86bf91', zorder=2, width=0.55)\n",
    "plt.xlabel('Count')\n"
   ]
  },
  {
   "cell_type": "code",
   "execution_count": 87,
   "metadata": {
    "colab": {
     "base_uri": "https://localhost:8080/",
     "height": 515
    },
    "id": "sv144CGa9PqT",
    "outputId": "941fc35c-0358-4c2e-c065-0b3ba9f55e4f"
   },
   "outputs": [
    {
     "data": {
      "text/plain": [
       "Text(0.5, 0, 'Count')"
      ]
     },
     "execution_count": 87,
     "metadata": {},
     "output_type": "execute_result"
    },
    {
     "data": {
      "image/png": "[encoded data removed]",
      "text/plain": [
       "<Figure size 576x576 with 1 Axes>"
      ]
     },
     "metadata": {
      "needs_background": "light"
     },
     "output_type": "display_data"
    }
   ],
   "source": [
    "df3['Q19'].value_counts()[:20].plot(kind='barh', figsize=(8, 8), color='#86bf91', zorder=2, width=0.55)\n",
    "plt.xlabel('Count')\n"
   ]
  },
  {
   "cell_type": "code",
   "execution_count": 88,
   "metadata": {
    "colab": {
     "base_uri": "https://localhost:8080/",
     "height": 515
    },
    "id": "IV6_p4fR9PqU",
    "outputId": "3b7e78e2-117d-4d02-8623-ef5c89a6f246"
   },
   "outputs": [
    {
     "data": {
      "text/plain": [
       "Text(0.5, 0, 'Count')"
      ]
     },
     "execution_count": 88,
     "metadata": {},
     "output_type": "execute_result"
    },
    {
     "data": {
      "image/png": "[encoded data removed]",
      "text/plain": [
       "<Figure size 576x576 with 1 Axes>"
      ]
     },
     "metadata": {
      "needs_background": "light"
     },
     "output_type": "display_data"
    }
   ],
   "source": [
    "df3['Q20'].value_counts()[:20].plot(kind='barh', figsize=(8, 8), color='#86bf91', zorder=2, width=0.55)\n",
    "plt.xlabel('Count')\n"
   ]
  },
  {
   "cell_type": "code",
   "execution_count": 89,
   "metadata": {
    "colab": {
     "base_uri": "https://localhost:8080/",
     "height": 515
    },
    "id": "7VcEc5C69PqU",
    "outputId": "fa4a6544-94ad-495d-d0a5-e9ba3c666860"
   },
   "outputs": [
    {
     "data": {
      "text/plain": [
       "Text(0.5, 0, 'Count')"
      ]
     },
     "execution_count": 89,
     "metadata": {},
     "output_type": "execute_result"
    },
    {
     "data": {
      "image/png": "[encoded data removed]",
      "text/plain": [
       "<Figure size 576x576 with 1 Axes>"
      ]
     },
     "metadata": {
      "needs_background": "light"
     },
     "output_type": "display_data"
    }
   ],
   "source": [
    "df3['Q21'].value_counts()[:20].plot(kind='barh', figsize=(8, 8), color='#86bf91', zorder=2, width=0.55)\n",
    "plt.xlabel('Count')\n"
   ]
  },
  {
   "cell_type": "code",
   "execution_count": 90,
   "metadata": {
    "colab": {
     "base_uri": "https://localhost:8080/",
     "height": 515
    },
    "id": "HxVAKL-i9PqU",
    "outputId": "c2acb915-cd9b-4aef-bf56-98cd937c6876"
   },
   "outputs": [
    {
     "data": {
      "text/plain": [
       "Text(0.5, 0, 'Count')"
      ]
     },
     "execution_count": 90,
     "metadata": {},
     "output_type": "execute_result"
    },
    {
     "data": {
      "image/png": "[encoded data removed]",
      "text/plain": [
       "<Figure size 576x576 with 1 Axes>"
      ]
     },
     "metadata": {
      "needs_background": "light"
     },
     "output_type": "display_data"
    }
   ],
   "source": [
    "df3['Q22'].value_counts()[:20].plot(kind='barh', figsize=(8, 8), color='#86bf91', zorder=2, width=0.55)\n",
    "plt.xlabel('Count')\n"
   ]
  },
  {
   "cell_type": "code",
   "execution_count": 91,
   "metadata": {
    "colab": {
     "base_uri": "https://localhost:8080/",
     "height": 515
    },
    "id": "vln4jWIQ9PqV",
    "outputId": "57e1f346-312e-4c9f-b474-cd32016693a2"
   },
   "outputs": [
    {
     "data": {
      "text/plain": [
       "Text(0.5, 0, 'Count')"
      ]
     },
     "execution_count": 91,
     "metadata": {},
     "output_type": "execute_result"
    },
    {
     "data": {
      "image/png": "[encoded data removed]",
      "text/plain": [
       "<Figure size 576x576 with 1 Axes>"
      ]
     },
     "metadata": {
      "needs_background": "light"
     },
     "output_type": "display_data"
    }
   ],
   "source": [
    "df3['Q23'].value_counts()[:20].plot(kind='barh', figsize=(8, 8), color='#86bf91', zorder=2, width=0.55)\n",
    "plt.xlabel('Count')\n"
   ]
  },
  {
   "cell_type": "code",
   "execution_count": 92,
   "metadata": {
    "colab": {
     "base_uri": "https://localhost:8080/",
     "height": 515
    },
    "id": "hoxkwyA99PqV",
    "outputId": "4de1afe7-76a8-43c1-ad58-2d5e82470773"
   },
   "outputs": [
    {
     "data": {
      "text/plain": [
       "Text(0.5, 0, 'Count')"
      ]
     },
     "execution_count": 92,
     "metadata": {},
     "output_type": "execute_result"
    },
    {
     "data": {
      "image/png": "[encoded data removed]",
      "text/plain": [
       "<Figure size 576x576 with 1 Axes>"
      ]
     },
     "metadata": {
      "needs_background": "light"
     },
     "output_type": "display_data"
    }
   ],
   "source": [
    "df3['Q24'].value_counts()[:20].plot(kind='barh', figsize=(8, 8), color='#86bf91', zorder=2, width=0.55)\n",
    "plt.xlabel('Count')\n"
   ]
  },
  {
   "cell_type": "code",
   "execution_count": 93,
   "metadata": {
    "colab": {
     "base_uri": "https://localhost:8080/",
     "height": 515
    },
    "id": "cYi5fOY-9PqV",
    "outputId": "b3ee0789-ba69-46cf-f9a4-f96656cd11fb"
   },
   "outputs": [
    {
     "data": {
      "text/plain": [
       "Text(0.5, 0, 'Count')"
      ]
     },
     "execution_count": 93,
     "metadata": {},
     "output_type": "execute_result"
    },
    {
     "data": {
      "image/png": "[encoded data removed]",
      "text/plain": [
       "<Figure size 576x576 with 1 Axes>"
      ]
     },
     "metadata": {
      "needs_background": "light"
     },
     "output_type": "display_data"
    }
   ],
   "source": [
    "df3['Q25'].value_counts()[:20].plot(kind='barh', figsize=(8, 8), color='#86bf91', zorder=2, width=0.55)\n",
    "plt.xlabel('Count')\n"
   ]
  },
  {
   "cell_type": "code",
   "execution_count": 94,
   "metadata": {
    "colab": {
     "base_uri": "https://localhost:8080/",
     "height": 515
    },
    "id": "cbaJsHsc9PqW",
    "outputId": "0a2c7aa3-c7d5-418e-f9ea-77637f9e3b2a"
   },
   "outputs": [
    {
     "data": {
      "text/plain": [
       "Text(0.5, 0, 'Count')"
      ]
     },
     "execution_count": 94,
     "metadata": {},
     "output_type": "execute_result"
    },
    {
     "data": {
      "image/png": "[encoded data removed]",
      "text/plain": [
       "<Figure size 576x576 with 1 Axes>"
      ]
     },
     "metadata": {
      "needs_background": "light"
     },
     "output_type": "display_data"
    }
   ],
   "source": [
    "df3['Q26'].value_counts()[:20].plot(kind='barh', figsize=(8, 8), color='#86bf91', zorder=2, width=0.55)\n",
    "plt.xlabel('Count')\n"
   ]
  },
  {
   "cell_type": "code",
   "execution_count": 95,
   "metadata": {
    "colab": {
     "base_uri": "https://localhost:8080/",
     "height": 515
    },
    "id": "AYK2PGjV9PqW",
    "outputId": "574bcd8b-7818-48f2-e0c5-59ccc6d45034"
   },
   "outputs": [
    {
     "data": {
      "text/plain": [
       "Text(0.5, 0, 'Count')"
      ]
     },
     "execution_count": 95,
     "metadata": {},
     "output_type": "execute_result"
    },
    {
     "data": {
      "image/png": "[encoded data removed]",
      "text/plain": [
       "<Figure size 576x576 with 1 Axes>"
      ]
     },
     "metadata": {
      "needs_background": "light"
     },
     "output_type": "display_data"
    }
   ],
   "source": [
    "df3['Q27'].value_counts()[:20].plot(kind='barh', figsize=(8, 8), color='#86bf91', zorder=2, width=0.55)\n",
    "plt.xlabel('Count')\n"
   ]
  },
  {
   "cell_type": "code",
   "execution_count": 96,
   "metadata": {
    "colab": {
     "base_uri": "https://localhost:8080/",
     "height": 515
    },
    "id": "GA-Uo8lR9PqY",
    "outputId": "00a47135-2375-4eab-8642-301146d8a24c"
   },
   "outputs": [
    {
     "data": {
      "text/plain": [
       "Text(0.5, 0, 'Count')"
      ]
     },
     "execution_count": 96,
     "metadata": {},
     "output_type": "execute_result"
    },
    {
     "data": {
      "image/png": "[encoded data removed]",
      "text/plain": [
       "<Figure size 576x576 with 1 Axes>"
      ]
     },
     "metadata": {
      "needs_background": "light"
     },
     "output_type": "display_data"
    }
   ],
   "source": [
    "df3['Q28'].value_counts()[:20].plot(kind='barh', figsize=(8, 8), color='#86bf91', zorder=2, width=0.55)\n",
    "plt.xlabel('Count')\n"
   ]
  },
  {
   "cell_type": "code",
   "execution_count": 97,
   "metadata": {
    "colab": {
     "base_uri": "https://localhost:8080/",
     "height": 515
    },
    "id": "6xIIWYUj9PqZ",
    "outputId": "ee32ee6b-5603-4f38-dc57-a30180808582"
   },
   "outputs": [
    {
     "data": {
      "text/plain": [
       "Text(0.5, 0, 'Count')"
      ]
     },
     "execution_count": 97,
     "metadata": {},
     "output_type": "execute_result"
    },
    {
     "data": {
      "image/png": "[encoded data removed]",
      "text/plain": [
       "<Figure size 576x576 with 1 Axes>"
      ]
     },
     "metadata": {
      "needs_background": "light"
     },
     "output_type": "display_data"
    }
   ],
   "source": [
    "df3['Q29'].value_counts()[:20].plot(kind='barh', figsize=(8, 8), color='red', zorder=2, width=0.55)\n",
    "plt.xlabel('Count')\n"
   ]
  },
  {
   "cell_type": "code",
   "execution_count": null,
   "metadata": {
    "id": "rPiALlN49PqZ"
   },
   "outputs": [],
   "source": []
  },
  {
   "cell_type": "code",
   "execution_count": null,
   "metadata": {
    "id": "lynh76nq9Pqa"
   },
   "outputs": [],
   "source": []
  },
  {
   "cell_type": "markdown",
   "metadata": {
    "id": "OH5E6z609Pqa"
   },
   "source": [
    "We Now Encode the variables categorical values into numeric values"
   ]
  },
  {
   "cell_type": "code",
   "execution_count": 98,
   "metadata": {
    "colab": {
     "base_uri": "https://localhost:8080/"
    },
    "id": "yO5ibT3q9Pqa",
    "outputId": "7fbd7e5a-2335-4bdc-89f0-53104c66b46c"
   },
   "outputs": [
    {
     "data": {
      "text/plain": [
       "array(['44', '31', '39', '28', '29', '32', '43', '59', '25', '42', '22',\n",
       "       '41', '58', '35', '30', '38', '21', '33', '67', '24', '45', '27',\n",
       "       '49', '48', '57', '53', '47', '34', '36', '52', '55', '66', '68',\n",
       "       '26', '37', '69', '40', '75', '70', '62', '23', '20', '50', '60',\n",
       "       '61', '46', '51', '81', '71', '63', '72', '54', '64', '56', '65'],\n",
       "      dtype=object)"
      ]
     },
     "execution_count": 98,
     "metadata": {},
     "output_type": "execute_result"
    }
   ],
   "source": [
    "df3['Q1'].unique()"
   ]
  },
  {
   "cell_type": "code",
   "execution_count": 99,
   "metadata": {
    "colab": {
     "base_uri": "https://localhost:8080/"
    },
    "id": "F2g4_H7o9Pqa",
    "outputId": "7709a465-1a59-4aaf-e9d6-3b16aa4c3542"
   },
   "outputs": [
    {
     "data": {
      "text/plain": [
       "12     4\n",
       "13     3\n",
       "16     3\n",
       "18     2\n",
       "21     2\n",
       "      ..\n",
       "894    2\n",
       "895    4\n",
       "896    4\n",
       "897    5\n",
       "908    6\n",
       "Name: Q1, Length: 273, dtype: int64"
      ]
     },
     "execution_count": 99,
     "metadata": {},
     "output_type": "execute_result"
    }
   ],
   "source": [
    "Q1_mapping={'44':4, '31':3, '39':3, '28':2, '29':2, '32':3, '43':4, '59':5, '25':2, '42':4, '22':2,\n",
    "       '41':4, '58':5, '35':3, '30':3, '38':3, '21':2, '33':3, '67':6, '24':2, '45':4, '27':2,\n",
    "       '49':4, '48':4, '57':5, '53':5, '47':4, '34':3, '36':3, '52':5, '55':5, '66':6, '68':6,\n",
    "       '26':2, '37':3, '69':6, '40':4, '75':7, '70':7, '62':6, '23':2, '20':2, '50':5, '60':6,\n",
    "       '61':6, '46':4, '51':5, '81':8, '71':7, '63':6, '72':7, '54':5, '64':6, '56':5, '65':6 }\n",
    "df3['Q1']= df3['Q1'].map(Q1_mapping)\n",
    "df3['Q1']"
   ]
  },
  {
   "cell_type": "code",
   "execution_count": 100,
   "metadata": {
    "colab": {
     "base_uri": "https://localhost:8080/"
    },
    "id": "3nyXtiU59Pqb",
    "outputId": "8f232e0f-4a7f-4a1b-f604-9fa31748aad4"
   },
   "outputs": [
    {
     "data": {
      "text/plain": [
       "0"
      ]
     },
     "execution_count": 100,
     "metadata": {},
     "output_type": "execute_result"
    }
   ],
   "source": [
    "# missing values\n",
    "df3['Q1'].isnull().sum()"
   ]
  },
  {
   "cell_type": "code",
   "execution_count": 101,
   "metadata": {
    "colab": {
     "base_uri": "https://localhost:8080/"
    },
    "id": "Rf3aa4kg9Pqb",
    "outputId": "dc4da2be-d22b-42bc-beaa-55cf20e47372"
   },
   "outputs": [
    {
     "data": {
      "text/plain": [
       "array(['Female', 'Male', 'Prefer not to say'], dtype=object)"
      ]
     },
     "execution_count": 101,
     "metadata": {},
     "output_type": "execute_result"
    }
   ],
   "source": [
    "df3['Q2'].unique()"
   ]
  },
  {
   "cell_type": "code",
   "execution_count": 102,
   "metadata": {
    "colab": {
     "base_uri": "https://localhost:8080/"
    },
    "id": "QlSIDtYn9Pqb",
    "outputId": "cbf1ec96-4dcf-4193-c601-f05c640ee3ed"
   },
   "outputs": [
    {
     "data": {
      "text/plain": [
       "12     1\n",
       "13     2\n",
       "16     1\n",
       "18     1\n",
       "21     1\n",
       "      ..\n",
       "894    1\n",
       "895    2\n",
       "896    1\n",
       "897    1\n",
       "908    1\n",
       "Name: Q2, Length: 273, dtype: int64"
      ]
     },
     "execution_count": 102,
     "metadata": {},
     "output_type": "execute_result"
    }
   ],
   "source": [
    "Q2_mapping={ 'Female':1,\n",
    "       'Male':2, 'Prefer not to say':0 }\n",
    "df3['Q2']= df3['Q2'].map(Q2_mapping)\n",
    "df3['Q2']"
   ]
  },
  {
   "cell_type": "code",
   "execution_count": 103,
   "metadata": {
    "colab": {
     "base_uri": "https://localhost:8080/"
    },
    "id": "8ApTxju49Pqc",
    "outputId": "b544ca99-f85e-4db3-c390-188d412addc8"
   },
   "outputs": [
    {
     "data": {
      "text/plain": [
       "0"
      ]
     },
     "execution_count": 103,
     "metadata": {},
     "output_type": "execute_result"
    }
   ],
   "source": [
    "# missing values\n",
    "df3['Q2'].isnull().sum()"
   ]
  },
  {
   "cell_type": "code",
   "execution_count": 104,
   "metadata": {
    "colab": {
     "base_uri": "https://localhost:8080/"
    },
    "id": "kfK3x_Nh9Pqc",
    "outputId": "c2e36de7-1b2c-4b46-f4ce-26db894ffc5b"
   },
   "outputs": [
    {
     "data": {
      "text/plain": [
       "array(['Michigan', 'Iowa', 'Georgia', 'New York', 'Illinois',\n",
       "       'West Virginia', 'Utah', 'Pennsylvania', 'Maryland', 'Ohio',\n",
       "       'I do not reside in the United States', 'Minnesota', 'Colorado',\n",
       "       'Connecticut', 'Louisiana', 'Missouri', 'Florida', 'Puerto Rico',\n",
       "       'Virginia', 'Indiana', 'California', 'Washington', 'Kansas',\n",
       "       'Alabama', 'Massachusetts', 'North Carolina', 'Texas',\n",
       "       'South Carolina', 'Oregon'], dtype=object)"
      ]
     },
     "execution_count": 104,
     "metadata": {},
     "output_type": "execute_result"
    }
   ],
   "source": [
    "df3['Q3'].unique()"
   ]
  },
  {
   "cell_type": "code",
   "execution_count": 105,
   "metadata": {
    "colab": {
     "base_uri": "https://localhost:8080/"
    },
    "id": "YAPZCuRx9Pqd",
    "outputId": "bcf87a33-1209-4cdf-aca5-4826def82555"
   },
   "outputs": [
    {
     "data": {
      "text/plain": [
       "12      1\n",
       "13      2\n",
       "16      1\n",
       "18      1\n",
       "21      1\n",
       "       ..\n",
       "894     5\n",
       "895     1\n",
       "896    19\n",
       "897     1\n",
       "908     1\n",
       "Name: Q3, Length: 273, dtype: int64"
      ]
     },
     "execution_count": 105,
     "metadata": {},
     "output_type": "execute_result"
    }
   ],
   "source": [
    "Q3_mapping={'Michigan':1, 'Iowa':2, 'Missouri':3,\n",
    "       'Ohio':4, 'Georgia':5, 'Mississippi':6, 'New York':7, 'West Virginia':8,\n",
    "       'Colorado':9, 'Virginia':10, 'Illinois':11, 'Oregon':12, 'Arizona':13, 'Utah':14,\n",
    "       'Pennsylvania':15, 'Florida':16, 'Kansas':17, 'Idaho':18, 'California':19,\n",
    "       'I do not reside in the United States':20, 'Minnesota':21, 'Oklahoma':22,\n",
    "       'Louisiana':23, 'Texas':24, 'Puerto Rico':25, 'Washington':26, 'Nebraska':27,\n",
    "       'Kentucky':28, 'Massachusetts':29, 'Tennessee':30, 'Indiana':31, 'Alabama':32,\n",
    "       'Maryland':33, 'Wisconsin':34, 'North Carolina':35, 'New Jersey':36,\n",
    "       'New Mexico':37, 'Vermont':38, 'South Carolina':39, 'Arkansas':40,\n",
    "       'Connecticut':41 }\n",
    "df3['Q3']= df3['Q3'].map(Q3_mapping)\n",
    "df3['Q3']"
   ]
  },
  {
   "cell_type": "code",
   "execution_count": 106,
   "metadata": {
    "colab": {
     "base_uri": "https://localhost:8080/"
    },
    "id": "gG0sWXHs9Pqd",
    "outputId": "93c949fd-ce03-423f-9102-ae6dfb0bdae3"
   },
   "outputs": [
    {
     "data": {
      "text/plain": [
       "0"
      ]
     },
     "execution_count": 106,
     "metadata": {},
     "output_type": "execute_result"
    }
   ],
   "source": [
    "# missing values\n",
    "df3['Q3'].isnull().sum()"
   ]
  },
  {
   "cell_type": "code",
   "execution_count": 107,
   "metadata": {
    "colab": {
     "base_uri": "https://localhost:8080/"
    },
    "id": "PUG9esVt9Pqe",
    "outputId": "4a235758-afaf-4b64-9f64-a90ab0796a39"
   },
   "outputs": [
    {
     "data": {
      "text/plain": [
       "array(['Yes', 'No'], dtype=object)"
      ]
     },
     "execution_count": 107,
     "metadata": {},
     "output_type": "execute_result"
    }
   ],
   "source": [
    "df3['Q8'].unique()"
   ]
  },
  {
   "cell_type": "code",
   "execution_count": 108,
   "metadata": {
    "colab": {
     "base_uri": "https://localhost:8080/"
    },
    "id": "eJ9DUhKA9Pqe",
    "outputId": "63a31442-ab8d-424b-f185-9922c610b23f"
   },
   "outputs": [
    {
     "name": "stdout",
     "output_type": "stream",
     "text": [
      "{'Q8': {'No': 1, 'Yes': 2}}\n"
     ]
    },
    {
     "data": {
      "text/plain": [
       "array([2, 1], dtype=int64)"
      ]
     },
     "execution_count": 108,
     "metadata": {},
     "output_type": "execute_result"
    }
   ],
   "source": [
    "labels = df3['Q8'].astype('category').cat.categories.tolist()\n",
    "Q8_mapping = {'Q8' : {k: v for k,v in zip(labels,list(range(1,len(labels)+1)))}}\n",
    "print(Q8_mapping)\n",
    "df3.replace(Q8_mapping, inplace=True)\n",
    "df3['Q8'].unique()"
   ]
  },
  {
   "cell_type": "code",
   "execution_count": 109,
   "metadata": {
    "colab": {
     "base_uri": "https://localhost:8080/"
    },
    "id": "K6yCzmYn9Pqe",
    "outputId": "682cd015-d793-487b-bf61-9a775fa17c31"
   },
   "outputs": [
    {
     "data": {
      "text/plain": [
       "array(['1', '2', 'Yes', 'Not applicable', 'No', 'No,Not applicable'],\n",
       "      dtype=object)"
      ]
     },
     "execution_count": 109,
     "metadata": {},
     "output_type": "execute_result"
    }
   ],
   "source": [
    "df3['Q9'].unique()"
   ]
  },
  {
   "cell_type": "code",
   "execution_count": 110,
   "metadata": {
    "colab": {
     "base_uri": "https://localhost:8080/"
    },
    "id": "_rkq3WwI9Pqf",
    "outputId": "12ff2bbe-7573-440e-bd6a-1ce2bd207e37"
   },
   "outputs": [
    {
     "data": {
      "text/plain": [
       "array(['Are you conducting clinical video visits with your patients from your home?',\n",
       "       nan, '2', '1', '1,2', 'Yes', 'Not applicable', 'No',\n",
       "       'No,Not applicable', 'Yes,Not applicable', 'Yes,No'], dtype=object)"
      ]
     },
     "execution_count": 110,
     "metadata": {},
     "output_type": "execute_result"
    }
   ],
   "source": [
    "df['Q9'].unique()"
   ]
  },
  {
   "cell_type": "code",
   "execution_count": 111,
   "metadata": {
    "colab": {
     "base_uri": "https://localhost:8080/"
    },
    "id": "o4svz04D9Pqf",
    "outputId": "302a4a57-e2d2-4025-a514-03b4bc5ba819"
   },
   "outputs": [
    {
     "data": {
      "text/plain": [
       "12     2\n",
       "13     2\n",
       "16     2\n",
       "18     2\n",
       "21     2\n",
       "      ..\n",
       "894    1\n",
       "895    2\n",
       "896    2\n",
       "897    1\n",
       "908    1\n",
       "Name: Q9, Length: 273, dtype: int64"
      ]
     },
     "execution_count": 111,
     "metadata": {},
     "output_type": "execute_result"
    }
   ],
   "source": [
    "Q9_mapping={'1':2, '2':2, 'Yes':2, 'Not applicable':1, 'No':1, 'No,Not applicable':1}\n",
    "df3['Q9']= df3['Q9'].map(Q9_mapping)\n",
    "df3['Q9']\n"
   ]
  },
  {
   "cell_type": "code",
   "execution_count": 112,
   "metadata": {
    "colab": {
     "base_uri": "https://localhost:8080/"
    },
    "id": "snIb-V-z9Pqf",
    "outputId": "f10a0506-3f2a-435f-981f-1b07b55ef7d7"
   },
   "outputs": [
    {
     "data": {
      "text/plain": [
       "0"
      ]
     },
     "execution_count": 112,
     "metadata": {},
     "output_type": "execute_result"
    }
   ],
   "source": [
    "# missing values\n",
    "df3['Q9'].isnull().sum()"
   ]
  },
  {
   "cell_type": "code",
   "execution_count": 113,
   "metadata": {
    "colab": {
     "base_uri": "https://localhost:8080/"
    },
    "id": "rxVygMPa9Pqg",
    "outputId": "feb4882c-bf09-45b8-cfbc-6b77437e40e9"
   },
   "outputs": [
    {
     "data": {
      "text/plain": [
       "array(['Yes', 'No'], dtype=object)"
      ]
     },
     "execution_count": 113,
     "metadata": {},
     "output_type": "execute_result"
    }
   ],
   "source": [
    "df3['Q10'].unique()"
   ]
  },
  {
   "cell_type": "code",
   "execution_count": 114,
   "metadata": {
    "colab": {
     "base_uri": "https://localhost:8080/"
    },
    "id": "BYp9se4a9Pqh",
    "outputId": "0239f024-9641-4ac0-8c95-1c7b7629772d"
   },
   "outputs": [
    {
     "name": "stdout",
     "output_type": "stream",
     "text": [
      "{'Q10': {'No': 1, 'Yes': 2}}\n"
     ]
    },
    {
     "data": {
      "text/plain": [
       "array([2, 1], dtype=int64)"
      ]
     },
     "execution_count": 114,
     "metadata": {},
     "output_type": "execute_result"
    }
   ],
   "source": [
    "labels = df3['Q10'].astype('category').cat.categories.tolist()\n",
    "Q10_mapping = {'Q10' : {k: v for k,v in zip(labels,list(range(1,len(labels)+1)))}}\n",
    "print(Q10_mapping)\n",
    "df3.replace(Q10_mapping, inplace=True)\n",
    "df3['Q10'].unique()"
   ]
  },
  {
   "cell_type": "code",
   "execution_count": 115,
   "metadata": {
    "colab": {
     "base_uri": "https://localhost:8080/"
    },
    "id": "P1esDUVD9Pqh",
    "outputId": "1691d747-3608-49a8-fbcd-fb9103b77a66"
   },
   "outputs": [
    {
     "data": {
      "text/plain": [
       "array(['Not applicable', 'Yes', 'No'], dtype=object)"
      ]
     },
     "execution_count": 115,
     "metadata": {},
     "output_type": "execute_result"
    }
   ],
   "source": [
    "df3['Q11'].unique()"
   ]
  },
  {
   "cell_type": "code",
   "execution_count": 116,
   "metadata": {
    "colab": {
     "base_uri": "https://localhost:8080/"
    },
    "id": "ip8V3D2_9Pqh",
    "outputId": "0c968929-e085-4eda-ed6f-b196f78b59fa"
   },
   "outputs": [
    {
     "data": {
      "text/plain": [
       "array(['Are children home from school in the house?', nan, '1', '2',\n",
       "       'Not applicable', 'Yes', 'No'], dtype=object)"
      ]
     },
     "execution_count": 116,
     "metadata": {},
     "output_type": "execute_result"
    }
   ],
   "source": [
    "df['Q11'].unique()"
   ]
  },
  {
   "cell_type": "code",
   "execution_count": 117,
   "metadata": {
    "colab": {
     "base_uri": "https://localhost:8080/"
    },
    "id": "ziF3Kg0K9Pqi",
    "outputId": "4994e9a9-3bcb-43a3-be5d-435db2f762f9"
   },
   "outputs": [
    {
     "data": {
      "text/plain": [
       "12     1\n",
       "13     1\n",
       "16     2\n",
       "18     2\n",
       "21     1\n",
       "      ..\n",
       "894    1\n",
       "895    2\n",
       "896    2\n",
       "897    1\n",
       "908    1\n",
       "Name: Q11, Length: 273, dtype: int64"
      ]
     },
     "execution_count": 117,
     "metadata": {},
     "output_type": "execute_result"
    }
   ],
   "source": [
    "Q11_mapping={'Not applicable':1, 'Yes':2, 'No':1 }\n",
    "df3['Q11']= df3['Q11'].map(Q11_mapping)\n",
    "df3['Q11']"
   ]
  },
  {
   "cell_type": "code",
   "execution_count": 118,
   "metadata": {
    "colab": {
     "base_uri": "https://localhost:8080/"
    },
    "id": "SyhPErBK9Pqi",
    "outputId": "862bb274-3520-41cb-b141-712bf9b5eee4"
   },
   "outputs": [
    {
     "data": {
      "text/plain": [
       "0"
      ]
     },
     "execution_count": 118,
     "metadata": {},
     "output_type": "execute_result"
    }
   ],
   "source": [
    "# missing values\n",
    "df3['Q11'].isnull().sum()"
   ]
  },
  {
   "cell_type": "code",
   "execution_count": 119,
   "metadata": {
    "colab": {
     "base_uri": "https://localhost:8080/"
    },
    "id": "SiOWWlxQ9Pqi",
    "outputId": "35d85b9f-7e4b-437d-fa32-706ab33df3eb"
   },
   "outputs": [
    {
     "data": {
      "text/plain": [
       "array(['Yes', 'No'], dtype=object)"
      ]
     },
     "execution_count": 119,
     "metadata": {},
     "output_type": "execute_result"
    }
   ],
   "source": [
    "df3['Q14'].unique()"
   ]
  },
  {
   "cell_type": "code",
   "execution_count": 120,
   "metadata": {
    "colab": {
     "base_uri": "https://localhost:8080/"
    },
    "id": "3gCkSXSW9Pqj",
    "outputId": "b7eba9a7-3e5b-43d8-b70c-39974f5676e7"
   },
   "outputs": [
    {
     "data": {
      "text/plain": [
       "12     2\n",
       "13     2\n",
       "16     2\n",
       "18     1\n",
       "21     1\n",
       "      ..\n",
       "894    1\n",
       "895    2\n",
       "896    2\n",
       "897    2\n",
       "908    1\n",
       "Name: Q14, Length: 273, dtype: int64"
      ]
     },
     "execution_count": 120,
     "metadata": {},
     "output_type": "execute_result"
    }
   ],
   "source": [
    "Q14_mapping={'Yes':2, 'No':1 }\n",
    "df3['Q14']= df3['Q14'].map(Q14_mapping)\n",
    "df3['Q14']"
   ]
  },
  {
   "cell_type": "code",
   "execution_count": 121,
   "metadata": {
    "colab": {
     "base_uri": "https://localhost:8080/"
    },
    "id": "EjV4bVcU9Pqj",
    "outputId": "e9f6bbba-2c50-4e14-f645-ad59c8a1f4e1"
   },
   "outputs": [
    {
     "data": {
      "text/plain": [
       "0"
      ]
     },
     "execution_count": 121,
     "metadata": {},
     "output_type": "execute_result"
    }
   ],
   "source": [
    "# missing values\n",
    "df3['Q14'].isnull().sum()"
   ]
  },
  {
   "cell_type": "code",
   "execution_count": 122,
   "metadata": {
    "colab": {
     "base_uri": "https://localhost:8080/"
    },
    "id": "TYAETbtA9Pqk",
    "outputId": "2826d5c6-050f-4535-b79e-50d020eb868b"
   },
   "outputs": [
    {
     "data": {
      "text/plain": [
       "array(['Yes', 'No'], dtype=object)"
      ]
     },
     "execution_count": 122,
     "metadata": {},
     "output_type": "execute_result"
    }
   ],
   "source": [
    "df3['Q15'].unique()"
   ]
  },
  {
   "cell_type": "code",
   "execution_count": 123,
   "metadata": {
    "colab": {
     "base_uri": "https://localhost:8080/"
    },
    "id": "ikjhbpsA9Pqk",
    "outputId": "2c9c8b49-8265-4b5e-f084-1a5670dfd88a"
   },
   "outputs": [
    {
     "data": {
      "text/plain": [
       "12     2\n",
       "13     1\n",
       "16     1\n",
       "18     2\n",
       "21     1\n",
       "      ..\n",
       "894    1\n",
       "895    2\n",
       "896    2\n",
       "897    2\n",
       "908    2\n",
       "Name: Q15, Length: 273, dtype: int64"
      ]
     },
     "execution_count": 123,
     "metadata": {},
     "output_type": "execute_result"
    }
   ],
   "source": [
    "Q15_mapping={'Yes':2, 'No':1 }\n",
    "df3['Q15']= df3['Q15'].map(Q15_mapping)\n",
    "df3['Q15']"
   ]
  },
  {
   "cell_type": "code",
   "execution_count": 124,
   "metadata": {
    "colab": {
     "base_uri": "https://localhost:8080/"
    },
    "id": "WEr7ouYk9Pqk",
    "outputId": "02aa3bcb-6f23-4e55-8346-e434cabca06c"
   },
   "outputs": [
    {
     "data": {
      "text/plain": [
       "0"
      ]
     },
     "execution_count": 124,
     "metadata": {},
     "output_type": "execute_result"
    }
   ],
   "source": [
    "# missing values\n",
    "df3['Q15'].isnull().sum()"
   ]
  },
  {
   "cell_type": "code",
   "execution_count": 125,
   "metadata": {
    "colab": {
     "base_uri": "https://localhost:8080/"
    },
    "id": "m9LOkQ5i9Pql",
    "outputId": "e8175a06-1179-4935-9a93-5707822e78fc"
   },
   "outputs": [
    {
     "data": {
      "text/plain": [
       "array(['Yes', 'No'], dtype=object)"
      ]
     },
     "execution_count": 125,
     "metadata": {},
     "output_type": "execute_result"
    }
   ],
   "source": [
    "df3['Q16'].unique()"
   ]
  },
  {
   "cell_type": "code",
   "execution_count": 126,
   "metadata": {
    "colab": {
     "base_uri": "https://localhost:8080/"
    },
    "id": "lAFO7c-79Pql",
    "outputId": "5d134aac-d115-45f8-a63b-b6ac83828c71"
   },
   "outputs": [
    {
     "data": {
      "text/plain": [
       "array(['Have your sleep patterns changed?', 'Yes', 'No', nan],\n",
       "      dtype=object)"
      ]
     },
     "execution_count": 126,
     "metadata": {},
     "output_type": "execute_result"
    }
   ],
   "source": [
    "df['Q16'].unique()"
   ]
  },
  {
   "cell_type": "code",
   "execution_count": 127,
   "metadata": {
    "colab": {
     "base_uri": "https://localhost:8080/"
    },
    "id": "ORxvDB0v9Pql",
    "outputId": "a11a8d71-f121-4e72-e076-5e26860b738f"
   },
   "outputs": [
    {
     "data": {
      "text/plain": [
       "12     2\n",
       "13     1\n",
       "16     2\n",
       "18     1\n",
       "21     2\n",
       "      ..\n",
       "894    2\n",
       "895    1\n",
       "896    2\n",
       "897    2\n",
       "908    1\n",
       "Name: Q16, Length: 273, dtype: int64"
      ]
     },
     "execution_count": 127,
     "metadata": {},
     "output_type": "execute_result"
    }
   ],
   "source": [
    "Q16_mapping={'Yes':2, 'No':1 }\n",
    "df3['Q16']= df3['Q16'].map(Q16_mapping)\n",
    "df3['Q16']"
   ]
  },
  {
   "cell_type": "code",
   "execution_count": 128,
   "metadata": {
    "colab": {
     "base_uri": "https://localhost:8080/"
    },
    "id": "EfLPq9jm9Pqm",
    "outputId": "2e2edcaa-b068-42d4-8abf-c159b7587be5"
   },
   "outputs": [
    {
     "data": {
      "text/plain": [
       "0"
      ]
     },
     "execution_count": 128,
     "metadata": {},
     "output_type": "execute_result"
    }
   ],
   "source": [
    "# missing values\n",
    "df3['Q16'].isnull().sum()"
   ]
  },
  {
   "cell_type": "code",
   "execution_count": 129,
   "metadata": {
    "colab": {
     "base_uri": "https://localhost:8080/"
    },
    "id": "8ArfWvHm9Pqm",
    "outputId": "97f77597-7e87-4366-f3fe-347c4fe82195"
   },
   "outputs": [
    {
     "data": {
      "text/plain": [
       "array(['No', 'Yes'], dtype=object)"
      ]
     },
     "execution_count": 129,
     "metadata": {},
     "output_type": "execute_result"
    }
   ],
   "source": [
    "df3['Q17'].unique()"
   ]
  },
  {
   "cell_type": "code",
   "execution_count": 130,
   "metadata": {
    "colab": {
     "base_uri": "https://localhost:8080/"
    },
    "id": "uSkg8iHs9Pqm",
    "outputId": "d377a4ef-edef-43ab-b562-5b9624ad58e8"
   },
   "outputs": [
    {
     "data": {
      "text/plain": [
       "12     1\n",
       "13     1\n",
       "16     1\n",
       "18     1\n",
       "21     2\n",
       "      ..\n",
       "894    1\n",
       "895    1\n",
       "896    2\n",
       "897    1\n",
       "908    1\n",
       "Name: Q17, Length: 273, dtype: int64"
      ]
     },
     "execution_count": 130,
     "metadata": {},
     "output_type": "execute_result"
    }
   ],
   "source": [
    "Q17_mapping={'Yes':2, 'No':1 }\n",
    "df3['Q17']= df3['Q17'].map(Q17_mapping)\n",
    "df3['Q17']"
   ]
  },
  {
   "cell_type": "code",
   "execution_count": 131,
   "metadata": {
    "colab": {
     "base_uri": "https://localhost:8080/"
    },
    "id": "Z3puCRCe9Pqn",
    "outputId": "5c2f1c4a-a5c4-4f1b-c78f-3ca99299cbe0"
   },
   "outputs": [
    {
     "data": {
      "text/plain": [
       "0"
      ]
     },
     "execution_count": 131,
     "metadata": {},
     "output_type": "execute_result"
    }
   ],
   "source": [
    "# missing values\n",
    "df3['Q17'].isnull().sum()"
   ]
  },
  {
   "cell_type": "code",
   "execution_count": 132,
   "metadata": {
    "colab": {
     "base_uri": "https://localhost:8080/"
    },
    "id": "wZojwFhW9Pqo",
    "outputId": "032a5e62-cba1-48e4-bc04-db64f4cfa100"
   },
   "outputs": [
    {
     "data": {
      "text/plain": [
       "array(['Yes'], dtype=object)"
      ]
     },
     "execution_count": 132,
     "metadata": {},
     "output_type": "execute_result"
    }
   ],
   "source": [
    "df3['Q18'].unique()"
   ]
  },
  {
   "cell_type": "code",
   "execution_count": 133,
   "metadata": {
    "colab": {
     "base_uri": "https://localhost:8080/"
    },
    "id": "bfZKoNPf9Pqo",
    "outputId": "ddf17533-9fd2-43fd-8212-3b707cf2190b"
   },
   "outputs": [
    {
     "data": {
      "text/plain": [
       "12     2\n",
       "13     2\n",
       "16     2\n",
       "18     2\n",
       "21     2\n",
       "      ..\n",
       "894    2\n",
       "895    2\n",
       "896    2\n",
       "897    2\n",
       "908    2\n",
       "Name: Q18, Length: 273, dtype: int64"
      ]
     },
     "execution_count": 133,
     "metadata": {},
     "output_type": "execute_result"
    }
   ],
   "source": [
    "Q18_mapping={'Yes':2, 'No':1 }\n",
    "df3['Q18']= df3['Q18'].map(Q18_mapping)\n",
    "df3['Q18']"
   ]
  },
  {
   "cell_type": "code",
   "execution_count": 134,
   "metadata": {
    "colab": {
     "base_uri": "https://localhost:8080/"
    },
    "id": "x7b2tVy59Pqo",
    "outputId": "f4881d57-c46f-4c54-8907-591db92e7826"
   },
   "outputs": [
    {
     "data": {
      "text/plain": [
       "0"
      ]
     },
     "execution_count": 134,
     "metadata": {},
     "output_type": "execute_result"
    }
   ],
   "source": [
    "# missing values\n",
    "df3['Q18'].isnull().sum()"
   ]
  },
  {
   "cell_type": "code",
   "execution_count": 135,
   "metadata": {
    "colab": {
     "base_uri": "https://localhost:8080/"
    },
    "id": "LMHu3_bd9Pqp",
    "outputId": "1c0f8d04-2bda-4a8f-a061-836271aa984c"
   },
   "outputs": [
    {
     "data": {
      "text/plain": [
       "array(['I am drinking more alcohol', 'I am drinking less alcohol'],\n",
       "      dtype=object)"
      ]
     },
     "execution_count": 135,
     "metadata": {},
     "output_type": "execute_result"
    }
   ],
   "source": [
    "df3['Q18a'].unique()"
   ]
  },
  {
   "cell_type": "code",
   "execution_count": 136,
   "metadata": {
    "colab": {
     "base_uri": "https://localhost:8080/"
    },
    "id": "QMG7AHec9Pqp",
    "outputId": "fe34518c-ebd0-44f8-cc6d-3386390fb599"
   },
   "outputs": [
    {
     "data": {
      "text/plain": [
       "12     2\n",
       "13     2\n",
       "16     2\n",
       "18     2\n",
       "21     2\n",
       "      ..\n",
       "894    2\n",
       "895    2\n",
       "896    2\n",
       "897    2\n",
       "908    2\n",
       "Name: Q18a, Length: 273, dtype: int64"
      ]
     },
     "execution_count": 136,
     "metadata": {},
     "output_type": "execute_result"
    }
   ],
   "source": [
    "Q18a_mapping={'I am drinking more alcohol':2, 'I am drinking less alcohol':1 }\n",
    "df3['Q18a']= df3['Q18a'].map(Q18a_mapping)\n",
    "df3['Q18a']"
   ]
  },
  {
   "cell_type": "code",
   "execution_count": 137,
   "metadata": {
    "colab": {
     "base_uri": "https://localhost:8080/"
    },
    "id": "imD2KtAD9Pqp",
    "outputId": "5adc2d04-1d71-441d-e7b0-548157129a87"
   },
   "outputs": [
    {
     "data": {
      "text/plain": [
       "0"
      ]
     },
     "execution_count": 137,
     "metadata": {},
     "output_type": "execute_result"
    }
   ],
   "source": [
    "# missing values\n",
    "df3['Q18a'].isnull().sum()"
   ]
  },
  {
   "cell_type": "code",
   "execution_count": 138,
   "metadata": {
    "colab": {
     "base_uri": "https://localhost:8080/"
    },
    "id": "jnp1-Oou9Pqp",
    "outputId": "425086ac-8ec3-4fa7-f623-be845625f34b"
   },
   "outputs": [
    {
     "data": {
      "text/plain": [
       "array(['No', 'Yes'], dtype=object)"
      ]
     },
     "execution_count": 138,
     "metadata": {},
     "output_type": "execute_result"
    }
   ],
   "source": [
    "df3['Q23'].unique()"
   ]
  },
  {
   "cell_type": "code",
   "execution_count": 139,
   "metadata": {
    "colab": {
     "base_uri": "https://localhost:8080/"
    },
    "id": "YucrFXmo9Pqr",
    "outputId": "0b9c9036-8189-4984-ad39-fec3e13cb3f8"
   },
   "outputs": [
    {
     "data": {
      "text/plain": [
       "12     1\n",
       "13     2\n",
       "16     2\n",
       "18     2\n",
       "21     2\n",
       "      ..\n",
       "894    2\n",
       "895    1\n",
       "896    2\n",
       "897    2\n",
       "908    2\n",
       "Name: Q23, Length: 273, dtype: int64"
      ]
     },
     "execution_count": 139,
     "metadata": {},
     "output_type": "execute_result"
    }
   ],
   "source": [
    "Q23_mapping={'Yes':2, 'No':1 }\n",
    "df3['Q23']= df3['Q23'].map(Q23_mapping)\n",
    "df3['Q23']"
   ]
  },
  {
   "cell_type": "code",
   "execution_count": 140,
   "metadata": {
    "colab": {
     "base_uri": "https://localhost:8080/"
    },
    "id": "joADDkuR9Pqr",
    "outputId": "d6de4e51-5e4b-4c43-87f1-51948d09205f"
   },
   "outputs": [
    {
     "data": {
      "text/plain": [
       "array(['Yes', 'No'], dtype=object)"
      ]
     },
     "execution_count": 140,
     "metadata": {},
     "output_type": "execute_result"
    }
   ],
   "source": [
    "df3['Q25'].unique()"
   ]
  },
  {
   "cell_type": "code",
   "execution_count": 141,
   "metadata": {
    "colab": {
     "base_uri": "https://localhost:8080/"
    },
    "id": "2y31XexW9Pqr",
    "outputId": "6a1b039a-1521-41d5-bc90-3745f64e43db"
   },
   "outputs": [
    {
     "data": {
      "text/plain": [
       "12     2\n",
       "13     2\n",
       "16     1\n",
       "18     2\n",
       "21     2\n",
       "      ..\n",
       "894    2\n",
       "895    1\n",
       "896    2\n",
       "897    2\n",
       "908    1\n",
       "Name: Q25, Length: 273, dtype: int64"
      ]
     },
     "execution_count": 141,
     "metadata": {},
     "output_type": "execute_result"
    }
   ],
   "source": [
    "Q25_mapping={'Yes':2, 'No':1 }\n",
    "df3['Q25']= df3['Q25'].map(Q25_mapping)\n",
    "df3['Q25']"
   ]
  },
  {
   "cell_type": "code",
   "execution_count": 142,
   "metadata": {
    "colab": {
     "base_uri": "https://localhost:8080/"
    },
    "id": "XThHyZTX9Pqs",
    "outputId": "c1911c4a-0719-4563-8b19-eb4bfdf708ec"
   },
   "outputs": [
    {
     "data": {
      "text/plain": [
       "array(['Yes', 'No'], dtype=object)"
      ]
     },
     "execution_count": 142,
     "metadata": {},
     "output_type": "execute_result"
    }
   ],
   "source": [
    "df3['Q26'].unique()"
   ]
  },
  {
   "cell_type": "code",
   "execution_count": 143,
   "metadata": {
    "colab": {
     "base_uri": "https://localhost:8080/"
    },
    "id": "VCipQiy49Pqs",
    "outputId": "b881f39d-f199-41e2-a95a-0ffb0d18a96c"
   },
   "outputs": [
    {
     "data": {
      "text/plain": [
       "12     2\n",
       "13     1\n",
       "16     1\n",
       "18     2\n",
       "21     2\n",
       "      ..\n",
       "894    2\n",
       "895    2\n",
       "896    2\n",
       "897    2\n",
       "908    2\n",
       "Name: Q26, Length: 273, dtype: int64"
      ]
     },
     "execution_count": 143,
     "metadata": {},
     "output_type": "execute_result"
    }
   ],
   "source": [
    "Q26_mapping={'Yes':2, 'No':1 }\n",
    "df3['Q26']= df3['Q26'].map(Q26_mapping)\n",
    "df3['Q26']"
   ]
  },
  {
   "cell_type": "code",
   "execution_count": 144,
   "metadata": {
    "colab": {
     "base_uri": "https://localhost:8080/"
    },
    "id": "0eufMqMU9Pqt",
    "outputId": "2a813246-bb59-4dc5-ac1b-35f5bb18df13"
   },
   "outputs": [
    {
     "data": {
      "text/plain": [
       "array(['Yes', 'No'], dtype=object)"
      ]
     },
     "execution_count": 144,
     "metadata": {},
     "output_type": "execute_result"
    }
   ],
   "source": [
    "df3['Q27'].unique()"
   ]
  },
  {
   "cell_type": "code",
   "execution_count": 145,
   "metadata": {
    "colab": {
     "base_uri": "https://localhost:8080/"
    },
    "id": "B7JvqHLo9Pqt",
    "outputId": "6e1c3a77-8602-412b-e157-2e178893a879"
   },
   "outputs": [
    {
     "data": {
      "text/plain": [
       "12     2\n",
       "13     2\n",
       "16     2\n",
       "18     1\n",
       "21     2\n",
       "      ..\n",
       "894    2\n",
       "895    1\n",
       "896    2\n",
       "897    2\n",
       "908    2\n",
       "Name: Q27, Length: 273, dtype: int64"
      ]
     },
     "execution_count": 145,
     "metadata": {},
     "output_type": "execute_result"
    }
   ],
   "source": [
    "Q27_mapping={'Yes':2, 'No':1 }\n",
    "df3['Q27']= df3['Q27'].map(Q27_mapping)\n",
    "df3['Q27']"
   ]
  },
  {
   "cell_type": "code",
   "execution_count": 146,
   "metadata": {
    "colab": {
     "base_uri": "https://localhost:8080/"
    },
    "id": "cGazA3NK9Pqt",
    "outputId": "761422ee-3d86-47b3-e8a3-787210831e31"
   },
   "outputs": [
    {
     "data": {
      "text/plain": [
       "array(['Yes', 'No'], dtype=object)"
      ]
     },
     "execution_count": 146,
     "metadata": {},
     "output_type": "execute_result"
    }
   ],
   "source": [
    "df3['Q28'].unique()"
   ]
  },
  {
   "cell_type": "code",
   "execution_count": 147,
   "metadata": {
    "colab": {
     "base_uri": "https://localhost:8080/"
    },
    "id": "NNneLjnn9Pqu",
    "outputId": "d0b83243-6458-4029-d1a1-75195c21d855"
   },
   "outputs": [
    {
     "data": {
      "text/plain": [
       "12     2\n",
       "13     1\n",
       "16     2\n",
       "18     2\n",
       "21     2\n",
       "      ..\n",
       "894    2\n",
       "895    2\n",
       "896    2\n",
       "897    2\n",
       "908    1\n",
       "Name: Q28, Length: 273, dtype: int64"
      ]
     },
     "execution_count": 147,
     "metadata": {},
     "output_type": "execute_result"
    }
   ],
   "source": [
    "Q28_mapping={'Yes':2, 'No':1 }\n",
    "df3['Q28']= df3['Q28'].map(Q28_mapping)\n",
    "df3['Q28']"
   ]
  },
  {
   "cell_type": "code",
   "execution_count": 148,
   "metadata": {
    "colab": {
     "base_uri": "https://localhost:8080/"
    },
    "id": "dbZmLcI19Pqu",
    "outputId": "00269083-b0d6-426f-be45-e6cd68cdf71f"
   },
   "outputs": [
    {
     "data": {
      "text/plain": [
       "array(['Yes', 'No'], dtype=object)"
      ]
     },
     "execution_count": 148,
     "metadata": {},
     "output_type": "execute_result"
    }
   ],
   "source": [
    "df3['Q29'].unique()"
   ]
  },
  {
   "cell_type": "code",
   "execution_count": 149,
   "metadata": {
    "colab": {
     "base_uri": "https://localhost:8080/"
    },
    "id": "NE-gYKDO9Pqw",
    "outputId": "89dd5b9a-d86a-40ca-a5c4-f04be75cbb17"
   },
   "outputs": [
    {
     "data": {
      "text/plain": [
       "12     2\n",
       "13     2\n",
       "16     2\n",
       "18     2\n",
       "21     1\n",
       "      ..\n",
       "894    2\n",
       "895    1\n",
       "896    2\n",
       "897    2\n",
       "908    2\n",
       "Name: Q29, Length: 273, dtype: int64"
      ]
     },
     "execution_count": 149,
     "metadata": {},
     "output_type": "execute_result"
    }
   ],
   "source": [
    "Q29_mapping={'Yes':2, 'No':1 }\n",
    "df3['Q29']= df3['Q29'].map(Q29_mapping)\n",
    "df3['Q29']"
   ]
  },
  {
   "cell_type": "code",
   "execution_count": 150,
   "metadata": {
    "colab": {
     "base_uri": "https://localhost:8080/"
    },
    "id": "WnTlcVUJ9Pqw",
    "outputId": "86759293-9c66-47ff-caa7-df481c1fb43c"
   },
   "outputs": [
    {
     "data": {
      "text/plain": [
       "array(['8', '6', '7', '7.75', '7:15', '5-6', '10', '1.5', '9', '7-8',\n",
       "       '6-7', '7.5', 'seven', '6.5', '5', '8.5', '8-10', '8-9', '5.7',\n",
       "       '7-9', '4', '7 hours', '7-7.5', '7.30', '6-8'], dtype=object)"
      ]
     },
     "execution_count": 150,
     "metadata": {},
     "output_type": "execute_result"
    }
   ],
   "source": [
    "df3['Q12'].unique()"
   ]
  },
  {
   "cell_type": "code",
   "execution_count": 151,
   "metadata": {
    "colab": {
     "base_uri": "https://localhost:8080/"
    },
    "id": "2Llp_2_eFjmJ",
    "outputId": "61299e11-9a0e-4340-e297-954a48b5670f"
   },
   "outputs": [
    {
     "data": {
      "text/plain": [
       "0      Approximately how many hours did you sleep on ...\n",
       "1                                                    NaN\n",
       "2                                                    NaN\n",
       "3                                                    NaN\n",
       "4                                                    NaN\n",
       "                             ...                        \n",
       "910                                                  NaN\n",
       "911                                                  7.5\n",
       "912                                                  NaN\n",
       "913                                                  NaN\n",
       "914                                                  6-7\n",
       "Name: Q12, Length: 915, dtype: object"
      ]
     },
     "execution_count": 151,
     "metadata": {},
     "output_type": "execute_result"
    }
   ],
   "source": [
    "df['Q12']"
   ]
  },
  {
   "cell_type": "code",
   "execution_count": 152,
   "metadata": {
    "colab": {
     "base_uri": "https://localhost:8080/",
     "height": 35
    },
    "id": "CrIk0zHtE-zm",
    "outputId": "ab219424-9a4e-438b-809f-21827dce6607"
   },
   "outputs": [
    {
     "data": {
      "text/plain": [
       "'6-8'"
      ]
     },
     "execution_count": 152,
     "metadata": {},
     "output_type": "execute_result"
    }
   ],
   "source": [
    "df3['Q12'][894]"
   ]
  },
  {
   "cell_type": "code",
   "execution_count": 153,
   "metadata": {
    "colab": {
     "base_uri": "https://localhost:8080/"
    },
    "id": "ORLbcOk-9Pqw",
    "outputId": "453949e7-2b89-4b95-bd51-4240b30049ee"
   },
   "outputs": [
    {
     "data": {
      "text/plain": [
       "12     8\n",
       "13     6\n",
       "16     7\n",
       "18     7\n",
       "21     7\n",
       "      ..\n",
       "894    8\n",
       "895    7\n",
       "896    6\n",
       "897    9\n",
       "908    8\n",
       "Name: Q12, Length: 273, dtype: int64"
      ]
     },
     "execution_count": 153,
     "metadata": {},
     "output_type": "execute_result"
    }
   ],
   "source": [
    "Q12_mapping={'8':8, '6':6, '7':7, '7.75':8, '7:15':7, '5-6':6, '10':10, '1.5':2, '9':9, '7-8':8,\n",
    "       '6-7':7, '7.5':8, 'seven':7, '6.5':7, '5':5, '8.5':9, '8-10':10, '8-9':9,\n",
    "       '5.7':6, '7-9':9, '4':4, '7 hours':7, '7-7.5':7, '7.30':7, '6-8':8}\n",
    "df3['Q12']= df3['Q12'].map(Q12_mapping)\n",
    "df3['Q12']\n"
   ]
  },
  {
   "cell_type": "code",
   "execution_count": 154,
   "metadata": {
    "colab": {
     "base_uri": "https://localhost:8080/"
    },
    "id": "7_RgZJsn9Pqx",
    "outputId": "277b68a5-514b-44ca-89dd-8750e0d28be8"
   },
   "outputs": [
    {
     "data": {
      "text/plain": [
       "0"
      ]
     },
     "execution_count": 154,
     "metadata": {},
     "output_type": "execute_result"
    }
   ],
   "source": [
    "# missing values\n",
    "df3['Q12'].isnull().sum()"
   ]
  },
  {
   "cell_type": "code",
   "execution_count": 155,
   "metadata": {
    "colab": {
     "base_uri": "https://localhost:8080/"
    },
    "id": "lRGpkgMu9Pqx",
    "outputId": "604d7cbf-e1b9-40f0-e034-09e3f70cd7bd"
   },
   "outputs": [
    {
     "data": {
      "text/plain": [
       "array(['9', '5.5', '7', '6', '8', '7:30', '7.5', '5-6', '8 ', '4-5', '4',\n",
       "       '6.5', '5', '4.5', 'seven', '6-7', '5-8', '10', 'Na', '8.5', '9.5',\n",
       "       '5-10', '6 (but much more variability)', '6 to 7', '7-8', '6-8',\n",
       "       '8-10', '4.3', '7.45', '3', '7-7.5', '9-10'], dtype=object)"
      ]
     },
     "execution_count": 155,
     "metadata": {},
     "output_type": "execute_result"
    }
   ],
   "source": [
    "df3['Q13'].unique()"
   ]
  },
  {
   "cell_type": "code",
   "execution_count": 156,
   "metadata": {
    "colab": {
     "base_uri": "https://localhost:8080/"
    },
    "id": "Mdm51nJJ9Pqx",
    "outputId": "4c5e978e-756f-4e11-ed4c-13a1fbafa4b7"
   },
   "outputs": [
    {
     "data": {
      "text/plain": [
       "12      9\n",
       "13      5\n",
       "16      7\n",
       "18      7\n",
       "21      6\n",
       "       ..\n",
       "894     8\n",
       "895     8\n",
       "896     7\n",
       "897    10\n",
       "908     8\n",
       "Name: Q13, Length: 273, dtype: int64"
      ]
     },
     "execution_count": 156,
     "metadata": {},
     "output_type": "execute_result"
    }
   ],
   "source": [
    "Q13_mapping={'9':9, '5.5':5, '7':7, '6':6, '8':8, '7:30':8, '7.5':8, '5-6':6, '8 ':8, '4-5':5, '4':4,\n",
    "       '6.5':7, '5':5, '4.5':5, 'seven':7, '6-7':7, '5-8':8, '10':10, 'Na':6, '8.5':9,\n",
    "       '9.5':9, '5-10':10, '6 (but much more variability)':6, '6 to 7':6,\n",
    "       '7-8':8, '6-8':8, '8-10':10, '4.3':5, '7.45':8, '3':3, '7-7.5':7, '9-10':10 }\n",
    "df3['Q13']= df3['Q13'].map(Q13_mapping)\n",
    "df3['Q13']"
   ]
  },
  {
   "cell_type": "code",
   "execution_count": 157,
   "metadata": {
    "colab": {
     "base_uri": "https://localhost:8080/"
    },
    "id": "I49j5GMu9Pqy",
    "outputId": "cdd812d0-00fb-4b83-f68d-2f7b0c6711a7"
   },
   "outputs": [
    {
     "data": {
      "text/plain": [
       "0"
      ]
     },
     "execution_count": 157,
     "metadata": {},
     "output_type": "execute_result"
    }
   ],
   "source": [
    "# missing values\n",
    "df3['Q13'].isnull().sum()"
   ]
  },
  {
   "cell_type": "code",
   "execution_count": 158,
   "metadata": {
    "colab": {
     "base_uri": "https://localhost:8080/"
    },
    "id": "U46dVRdc9Pqy",
    "outputId": "22e7f531-cb3c-406a-a0b5-466ffa0a7386"
   },
   "outputs": [
    {
     "data": {
      "text/plain": [
       "array(['2-3 times a week', 'Once a month or less', 'Never',\n",
       "       '2-4 times a month', '4 or more times a week'], dtype=object)"
      ]
     },
     "execution_count": 158,
     "metadata": {},
     "output_type": "execute_result"
    }
   ],
   "source": [
    "df3['Q19'].unique()"
   ]
  },
  {
   "cell_type": "code",
   "execution_count": 159,
   "metadata": {
    "colab": {
     "base_uri": "https://localhost:8080/"
    },
    "id": "wSfKCDqz9Pqy",
    "outputId": "7ccc05fa-c497-4552-e5ee-ac91cbccc248"
   },
   "outputs": [
    {
     "data": {
      "text/plain": [
       "12     3\n",
       "13     3\n",
       "16     3\n",
       "18     2\n",
       "21     2\n",
       "      ..\n",
       "894    2\n",
       "895    3\n",
       "896    4\n",
       "897    4\n",
       "908    3\n",
       "Name: Q19, Length: 273, dtype: int64"
      ]
     },
     "execution_count": 159,
     "metadata": {},
     "output_type": "execute_result"
    }
   ],
   "source": [
    "# Converting the Ordinal Categorical features into integers\n",
    "Q19_mapping={'4 or more times a week':5, '2-4 times a month':4,  '2-3 times a week':3,  'Once a month or less':2, 'Never':1  }\n",
    "df3['Q19']= df3['Q19'].map(Q19_mapping)\n",
    "df3['Q19']"
   ]
  },
  {
   "cell_type": "code",
   "execution_count": 160,
   "metadata": {
    "colab": {
     "base_uri": "https://localhost:8080/"
    },
    "id": "j8GG_Ltz9Pqz",
    "outputId": "fd434c91-7427-42fc-96e9-7630805b0719"
   },
   "outputs": [
    {
     "data": {
      "text/plain": [
       "0"
      ]
     },
     "execution_count": 160,
     "metadata": {},
     "output_type": "execute_result"
    }
   ],
   "source": [
    "# missing values\n",
    "df3['Q19'].isnull().sum()"
   ]
  },
  {
   "cell_type": "code",
   "execution_count": 161,
   "metadata": {
    "colab": {
     "base_uri": "https://localhost:8080/"
    },
    "id": "tdiYr5cs9Pqz",
    "outputId": "16ee561b-a163-4c22-d4cf-3ba8ee5be10f"
   },
   "outputs": [
    {
     "data": {
      "text/plain": [
       "array(['4 or more times a week', '2-3 times a week', '2-4 times a month',\n",
       "       'Never', 'Once a month or less'], dtype=object)"
      ]
     },
     "execution_count": 161,
     "metadata": {},
     "output_type": "execute_result"
    }
   ],
   "source": [
    "df3['Q20'].unique()"
   ]
  },
  {
   "cell_type": "code",
   "execution_count": 162,
   "metadata": {
    "colab": {
     "base_uri": "https://localhost:8080/"
    },
    "id": "BtKWu3-B9Pqz",
    "outputId": "22a66ddc-3fca-4eb8-aa0a-1cb446b25b41"
   },
   "outputs": [
    {
     "data": {
      "text/plain": [
       "12     5\n",
       "13     3\n",
       "16     5\n",
       "18     4\n",
       "21     5\n",
       "      ..\n",
       "894    4\n",
       "895    3\n",
       "896    3\n",
       "897    3\n",
       "908    3\n",
       "Name: Q20, Length: 273, dtype: int64"
      ]
     },
     "execution_count": 162,
     "metadata": {},
     "output_type": "execute_result"
    }
   ],
   "source": [
    "# Converting the Ordinal Categorical features into integers\n",
    "Q20_mapping={'4 or more times a week':5, '2-4 times a month':4,  '2-3 times a week':3,  'Once a month or less':2, 'Never':1  }\n",
    "df3['Q20']= df3['Q20'].map(Q20_mapping)\n",
    "df3['Q20']"
   ]
  },
  {
   "cell_type": "code",
   "execution_count": 163,
   "metadata": {
    "colab": {
     "base_uri": "https://localhost:8080/"
    },
    "id": "x2ApaDw19Pq0",
    "outputId": "7e69817d-cf3b-464b-b552-d53a7d0ea75c"
   },
   "outputs": [
    {
     "data": {
      "text/plain": [
       "0"
      ]
     },
     "execution_count": 163,
     "metadata": {},
     "output_type": "execute_result"
    }
   ],
   "source": [
    "# missing values\n",
    "df3['Q20'].isnull().sum()"
   ]
  },
  {
   "cell_type": "code",
   "execution_count": 164,
   "metadata": {
    "colab": {
     "base_uri": "https://localhost:8080/"
    },
    "id": "gmGYPRi_9Pq0",
    "outputId": "4c569ea6-1b19-408a-9107-f7726f15b598"
   },
   "outputs": [
    {
     "data": {
      "text/plain": [
       "array(['Never', '2-3 times a week', 'Once a month or less',\n",
       "       '2-4 times a month', '4 or more times a week'], dtype=object)"
      ]
     },
     "execution_count": 164,
     "metadata": {},
     "output_type": "execute_result"
    }
   ],
   "source": [
    "df3['Q21'].unique()"
   ]
  },
  {
   "cell_type": "code",
   "execution_count": 165,
   "metadata": {
    "colab": {
     "base_uri": "https://localhost:8080/"
    },
    "id": "6qJysjUY9Pq0",
    "outputId": "f154fc6a-71d8-4067-d74d-dd5f191f6221"
   },
   "outputs": [
    {
     "data": {
      "text/plain": [
       "12     1\n",
       "13     1\n",
       "16     1\n",
       "18     1\n",
       "21     1\n",
       "      ..\n",
       "894    1\n",
       "895    1\n",
       "896    1\n",
       "897    1\n",
       "908    1\n",
       "Name: Q21, Length: 273, dtype: int64"
      ]
     },
     "execution_count": 165,
     "metadata": {},
     "output_type": "execute_result"
    }
   ],
   "source": [
    "# Converting the Ordinal Categorical features into integers\n",
    "Q21_mapping={'4 or more times a week':5, '2-4 times a month':4,  '2-3 times a week':3,  'Once a month or less':2, 'Never':1  }\n",
    "df3['Q21']= df3['Q21'].map(Q21_mapping)\n",
    "df3['Q21']"
   ]
  },
  {
   "cell_type": "code",
   "execution_count": 166,
   "metadata": {
    "colab": {
     "base_uri": "https://localhost:8080/"
    },
    "id": "GWqUWbFU9Pq0",
    "outputId": "1ab9219b-81ca-4e41-9601-b0d000385af7"
   },
   "outputs": [
    {
     "data": {
      "text/plain": [
       "0"
      ]
     },
     "execution_count": 166,
     "metadata": {},
     "output_type": "execute_result"
    }
   ],
   "source": [
    "# missing values\n",
    "df3['Q21'].isnull().sum()"
   ]
  },
  {
   "cell_type": "code",
   "execution_count": 167,
   "metadata": {
    "colab": {
     "base_uri": "https://localhost:8080/"
    },
    "id": "PS9DGPoC9Pq1",
    "outputId": "56f1defe-6d8c-4602-d83c-7cf0719e708e"
   },
   "outputs": [
    {
     "data": {
      "text/plain": [
       "array(['Never', '2-3 times a week', 'Once a month or less',\n",
       "       '2-4 times a month', '4 or more times a week'], dtype=object)"
      ]
     },
     "execution_count": 167,
     "metadata": {},
     "output_type": "execute_result"
    }
   ],
   "source": [
    "# missing values\n",
    "df3['Q21'].isnull().sum()\n",
    "df3['Q22'].unique()"
   ]
  },
  {
   "cell_type": "code",
   "execution_count": 168,
   "metadata": {
    "colab": {
     "base_uri": "https://localhost:8080/"
    },
    "id": "bw9vRh1A9Pq1",
    "outputId": "b1d6e19a-703f-452b-9c11-2635a2adef05"
   },
   "outputs": [
    {
     "data": {
      "text/plain": [
       "12     1\n",
       "13     1\n",
       "16     1\n",
       "18     1\n",
       "21     1\n",
       "      ..\n",
       "894    1\n",
       "895    1\n",
       "896    1\n",
       "897    1\n",
       "908    4\n",
       "Name: Q22, Length: 273, dtype: int64"
      ]
     },
     "execution_count": 168,
     "metadata": {},
     "output_type": "execute_result"
    }
   ],
   "source": [
    "# Converting the Ordinal Categorical features into integers\n",
    "Q22_mapping={'4 or more times a week':5, '2-4 times a month':4,  '2-3 times a week':3,  'Once a month or less':2, 'Never':1  }\n",
    "df3['Q22']= df3['Q22'].map(Q22_mapping)\n",
    "df3['Q22']"
   ]
  },
  {
   "cell_type": "code",
   "execution_count": 169,
   "metadata": {
    "colab": {
     "base_uri": "https://localhost:8080/"
    },
    "id": "B--lD__B9Pq2",
    "outputId": "a34dc640-9dc1-4c8b-acf9-2cd1765a2f3d"
   },
   "outputs": [
    {
     "data": {
      "text/plain": [
       "0"
      ]
     },
     "execution_count": 169,
     "metadata": {},
     "output_type": "execute_result"
    }
   ],
   "source": [
    "# missing values\n",
    "df3['Q22'].isnull().sum()\n"
   ]
  },
  {
   "cell_type": "code",
   "execution_count": 170,
   "metadata": {
    "colab": {
     "base_uri": "https://localhost:8080/"
    },
    "id": "mAxy6jqX9Pq2",
    "outputId": "e91a72c5-6dba-433a-a441-05a7eb4a407e"
   },
   "outputs": [
    {
     "data": {
      "text/plain": [
       "array(['0-.5 hour', '1-2 hours', '0.51 â\\x80\\x93 1 hour', '2-3 hours',\n",
       "       '3+ hours'], dtype=object)"
      ]
     },
     "execution_count": 170,
     "metadata": {},
     "output_type": "execute_result"
    }
   ],
   "source": [
    "# missing values\n",
    "df3['Q21'].isnull().sum()\n",
    "df3['Q24'].unique()"
   ]
  },
  {
   "cell_type": "code",
   "execution_count": 171,
   "metadata": {
    "colab": {
     "base_uri": "https://localhost:8080/"
    },
    "id": "8Bqo5gv09Pq2",
    "outputId": "b160c635-1f45-4a49-8171-0f7bf5b18ee2"
   },
   "outputs": [
    {
     "data": {
      "text/plain": [
       "12     1\n",
       "13     2\n",
       "16     3\n",
       "18     2\n",
       "21     2\n",
       "      ..\n",
       "894    4\n",
       "895    1\n",
       "896    5\n",
       "897    4\n",
       "908    2\n",
       "Name: Q24, Length: 273, dtype: int64"
      ]
     },
     "execution_count": 171,
     "metadata": {},
     "output_type": "execute_result"
    }
   ],
   "source": [
    "# Converting the Ordinal Categorical features into integers\n",
    "Q24_mapping={'0-.5 hour':1, '1-2 hours':2, '0.51 â\\x80\\x93 1 hour':3, '2-3 hours':4, '3+ hours':5 }\n",
    "df3['Q24']= df3['Q24'].map(Q24_mapping)\n",
    "df3['Q24']"
   ]
  },
  {
   "cell_type": "code",
   "execution_count": 172,
   "metadata": {
    "colab": {
     "base_uri": "https://localhost:8080/"
    },
    "id": "LcI4bjX_9Pq3",
    "outputId": "96106059-0947-4b29-fc9f-e7baa323b11a"
   },
   "outputs": [
    {
     "data": {
      "text/plain": [
       "0"
      ]
     },
     "execution_count": 172,
     "metadata": {},
     "output_type": "execute_result"
    }
   ],
   "source": [
    "# missing values\n",
    "df3['Q24'].isnull().sum()\n"
   ]
  },
  {
   "cell_type": "code",
   "execution_count": 173,
   "metadata": {
    "colab": {
     "base_uri": "https://localhost:8080/"
    },
    "id": "8nQA1_vL9Pq3",
    "outputId": "17568559-9706-4780-cb47-4cc82531a501"
   },
   "outputs": [
    {
     "data": {
      "text/plain": [
       "array([2, 1], dtype=int64)"
      ]
     },
     "execution_count": 173,
     "metadata": {},
     "output_type": "execute_result"
    }
   ],
   "source": [
    "# missing values\n",
    "df3['Q29'].unique()"
   ]
  },
  {
   "cell_type": "code",
   "execution_count": 174,
   "metadata": {
    "colab": {
     "base_uri": "https://localhost:8080/"
    },
    "id": "JfT85VXZ9Pq3",
    "outputId": "4edd0683-9161-49b6-bc4b-e09f3373bf7e"
   },
   "outputs": [
    {
     "data": {
      "text/plain": [
       "array([1, 2, 0], dtype=int64)"
      ]
     },
     "execution_count": 174,
     "metadata": {},
     "output_type": "execute_result"
    }
   ],
   "source": [
    "df3['Q2'].unique()"
   ]
  },
  {
   "cell_type": "code",
   "execution_count": null,
   "metadata": {
    "id": "LqLZrzuk9Pq4"
   },
   "outputs": [],
   "source": []
  },
  {
   "cell_type": "code",
   "execution_count": null,
   "metadata": {
    "id": "n-AR7JEM9Pq4"
   },
   "outputs": [],
   "source": []
  },
  {
   "cell_type": "code",
   "execution_count": 175,
   "metadata": {
    "colab": {
     "base_uri": "https://localhost:8080/",
     "height": 423
    },
    "id": "L8IXhoBp9Pq4",
    "outputId": "e7d8536e-7d77-43cb-ca3b-2dd7f6e2a694"
   },
   "outputs": [
    {
     "data": {
      "text/html": [
       "<div>\n",
       "<style scoped>\n",
       "    .dataframe tbody tr th:only-of-type {\n",
       "        vertical-align: middle;\n",
       "    }\n",
       "\n",
       "    .dataframe tbody tr th {\n",
       "        vertical-align: top;\n",
       "    }\n",
       "\n",
       "    .dataframe thead th {\n",
       "        text-align: right;\n",
       "    }\n",
       "</style>\n",
       "<table border=\"1\" class=\"dataframe\">\n",
       "  <thead>\n",
       "    <tr style=\"text-align: right;\">\n",
       "      <th></th>\n",
       "      <th>Q1</th>\n",
       "      <th>Q2</th>\n",
       "      <th>Q3</th>\n",
       "      <th>Q8</th>\n",
       "      <th>Q9</th>\n",
       "      <th>Q10</th>\n",
       "      <th>Q11</th>\n",
       "      <th>Q12</th>\n",
       "      <th>Q13</th>\n",
       "      <th>Q14</th>\n",
       "      <th>Q15</th>\n",
       "      <th>Q16</th>\n",
       "      <th>Q17</th>\n",
       "      <th>Q18</th>\n",
       "      <th>Q18a</th>\n",
       "      <th>Q19</th>\n",
       "      <th>Q20</th>\n",
       "      <th>Q21</th>\n",
       "      <th>Q22</th>\n",
       "      <th>Q23</th>\n",
       "      <th>Q24</th>\n",
       "      <th>Q25</th>\n",
       "      <th>Q26</th>\n",
       "      <th>Q27</th>\n",
       "      <th>Q28</th>\n",
       "      <th>Q29</th>\n",
       "    </tr>\n",
       "  </thead>\n",
       "  <tbody>\n",
       "    <tr>\n",
       "      <th>12</th>\n",
       "      <td>4</td>\n",
       "      <td>1</td>\n",
       "      <td>1</td>\n",
       "      <td>2</td>\n",
       "      <td>2</td>\n",
       "      <td>2</td>\n",
       "      <td>1</td>\n",
       "      <td>8</td>\n",
       "      <td>9</td>\n",
       "      <td>2</td>\n",
       "      <td>2</td>\n",
       "      <td>2</td>\n",
       "      <td>1</td>\n",
       "      <td>2</td>\n",
       "      <td>2</td>\n",
       "      <td>3</td>\n",
       "      <td>5</td>\n",
       "      <td>1</td>\n",
       "      <td>1</td>\n",
       "      <td>1</td>\n",
       "      <td>1</td>\n",
       "      <td>2</td>\n",
       "      <td>2</td>\n",
       "      <td>2</td>\n",
       "      <td>2</td>\n",
       "      <td>2</td>\n",
       "    </tr>\n",
       "    <tr>\n",
       "      <th>13</th>\n",
       "      <td>3</td>\n",
       "      <td>2</td>\n",
       "      <td>2</td>\n",
       "      <td>1</td>\n",
       "      <td>2</td>\n",
       "      <td>1</td>\n",
       "      <td>1</td>\n",
       "      <td>6</td>\n",
       "      <td>5</td>\n",
       "      <td>2</td>\n",
       "      <td>1</td>\n",
       "      <td>1</td>\n",
       "      <td>1</td>\n",
       "      <td>2</td>\n",
       "      <td>2</td>\n",
       "      <td>3</td>\n",
       "      <td>3</td>\n",
       "      <td>1</td>\n",
       "      <td>1</td>\n",
       "      <td>2</td>\n",
       "      <td>2</td>\n",
       "      <td>2</td>\n",
       "      <td>1</td>\n",
       "      <td>2</td>\n",
       "      <td>1</td>\n",
       "      <td>2</td>\n",
       "    </tr>\n",
       "    <tr>\n",
       "      <th>16</th>\n",
       "      <td>3</td>\n",
       "      <td>1</td>\n",
       "      <td>1</td>\n",
       "      <td>2</td>\n",
       "      <td>2</td>\n",
       "      <td>2</td>\n",
       "      <td>2</td>\n",
       "      <td>7</td>\n",
       "      <td>7</td>\n",
       "      <td>2</td>\n",
       "      <td>1</td>\n",
       "      <td>2</td>\n",
       "      <td>1</td>\n",
       "      <td>2</td>\n",
       "      <td>2</td>\n",
       "      <td>3</td>\n",
       "      <td>5</td>\n",
       "      <td>1</td>\n",
       "      <td>1</td>\n",
       "      <td>2</td>\n",
       "      <td>3</td>\n",
       "      <td>1</td>\n",
       "      <td>1</td>\n",
       "      <td>2</td>\n",
       "      <td>2</td>\n",
       "      <td>2</td>\n",
       "    </tr>\n",
       "    <tr>\n",
       "      <th>18</th>\n",
       "      <td>2</td>\n",
       "      <td>1</td>\n",
       "      <td>1</td>\n",
       "      <td>2</td>\n",
       "      <td>2</td>\n",
       "      <td>2</td>\n",
       "      <td>2</td>\n",
       "      <td>7</td>\n",
       "      <td>7</td>\n",
       "      <td>1</td>\n",
       "      <td>2</td>\n",
       "      <td>1</td>\n",
       "      <td>1</td>\n",
       "      <td>2</td>\n",
       "      <td>2</td>\n",
       "      <td>2</td>\n",
       "      <td>4</td>\n",
       "      <td>1</td>\n",
       "      <td>1</td>\n",
       "      <td>2</td>\n",
       "      <td>2</td>\n",
       "      <td>2</td>\n",
       "      <td>2</td>\n",
       "      <td>1</td>\n",
       "      <td>2</td>\n",
       "      <td>2</td>\n",
       "    </tr>\n",
       "    <tr>\n",
       "      <th>21</th>\n",
       "      <td>2</td>\n",
       "      <td>1</td>\n",
       "      <td>1</td>\n",
       "      <td>2</td>\n",
       "      <td>2</td>\n",
       "      <td>1</td>\n",
       "      <td>1</td>\n",
       "      <td>7</td>\n",
       "      <td>6</td>\n",
       "      <td>1</td>\n",
       "      <td>1</td>\n",
       "      <td>2</td>\n",
       "      <td>2</td>\n",
       "      <td>2</td>\n",
       "      <td>2</td>\n",
       "      <td>2</td>\n",
       "      <td>5</td>\n",
       "      <td>1</td>\n",
       "      <td>1</td>\n",
       "      <td>2</td>\n",
       "      <td>2</td>\n",
       "      <td>2</td>\n",
       "      <td>2</td>\n",
       "      <td>2</td>\n",
       "      <td>2</td>\n",
       "      <td>1</td>\n",
       "    </tr>\n",
       "    <tr>\n",
       "      <th>...</th>\n",
       "      <td>...</td>\n",
       "      <td>...</td>\n",
       "      <td>...</td>\n",
       "      <td>...</td>\n",
       "      <td>...</td>\n",
       "      <td>...</td>\n",
       "      <td>...</td>\n",
       "      <td>...</td>\n",
       "      <td>...</td>\n",
       "      <td>...</td>\n",
       "      <td>...</td>\n",
       "      <td>...</td>\n",
       "      <td>...</td>\n",
       "      <td>...</td>\n",
       "      <td>...</td>\n",
       "      <td>...</td>\n",
       "      <td>...</td>\n",
       "      <td>...</td>\n",
       "      <td>...</td>\n",
       "      <td>...</td>\n",
       "      <td>...</td>\n",
       "      <td>...</td>\n",
       "      <td>...</td>\n",
       "      <td>...</td>\n",
       "      <td>...</td>\n",
       "      <td>...</td>\n",
       "    </tr>\n",
       "    <tr>\n",
       "      <th>894</th>\n",
       "      <td>2</td>\n",
       "      <td>1</td>\n",
       "      <td>5</td>\n",
       "      <td>2</td>\n",
       "      <td>1</td>\n",
       "      <td>2</td>\n",
       "      <td>1</td>\n",
       "      <td>8</td>\n",
       "      <td>8</td>\n",
       "      <td>1</td>\n",
       "      <td>1</td>\n",
       "      <td>2</td>\n",
       "      <td>1</td>\n",
       "      <td>2</td>\n",
       "      <td>2</td>\n",
       "      <td>2</td>\n",
       "      <td>4</td>\n",
       "      <td>1</td>\n",
       "      <td>1</td>\n",
       "      <td>2</td>\n",
       "      <td>4</td>\n",
       "      <td>2</td>\n",
       "      <td>2</td>\n",
       "      <td>2</td>\n",
       "      <td>2</td>\n",
       "      <td>2</td>\n",
       "    </tr>\n",
       "    <tr>\n",
       "      <th>895</th>\n",
       "      <td>4</td>\n",
       "      <td>2</td>\n",
       "      <td>1</td>\n",
       "      <td>2</td>\n",
       "      <td>2</td>\n",
       "      <td>1</td>\n",
       "      <td>2</td>\n",
       "      <td>7</td>\n",
       "      <td>8</td>\n",
       "      <td>2</td>\n",
       "      <td>2</td>\n",
       "      <td>1</td>\n",
       "      <td>1</td>\n",
       "      <td>2</td>\n",
       "      <td>2</td>\n",
       "      <td>3</td>\n",
       "      <td>3</td>\n",
       "      <td>1</td>\n",
       "      <td>1</td>\n",
       "      <td>1</td>\n",
       "      <td>1</td>\n",
       "      <td>1</td>\n",
       "      <td>2</td>\n",
       "      <td>1</td>\n",
       "      <td>2</td>\n",
       "      <td>1</td>\n",
       "    </tr>\n",
       "    <tr>\n",
       "      <th>896</th>\n",
       "      <td>4</td>\n",
       "      <td>1</td>\n",
       "      <td>19</td>\n",
       "      <td>2</td>\n",
       "      <td>2</td>\n",
       "      <td>1</td>\n",
       "      <td>2</td>\n",
       "      <td>6</td>\n",
       "      <td>7</td>\n",
       "      <td>2</td>\n",
       "      <td>2</td>\n",
       "      <td>2</td>\n",
       "      <td>2</td>\n",
       "      <td>2</td>\n",
       "      <td>2</td>\n",
       "      <td>4</td>\n",
       "      <td>3</td>\n",
       "      <td>1</td>\n",
       "      <td>1</td>\n",
       "      <td>2</td>\n",
       "      <td>5</td>\n",
       "      <td>2</td>\n",
       "      <td>2</td>\n",
       "      <td>2</td>\n",
       "      <td>2</td>\n",
       "      <td>2</td>\n",
       "    </tr>\n",
       "    <tr>\n",
       "      <th>897</th>\n",
       "      <td>5</td>\n",
       "      <td>1</td>\n",
       "      <td>1</td>\n",
       "      <td>1</td>\n",
       "      <td>1</td>\n",
       "      <td>1</td>\n",
       "      <td>1</td>\n",
       "      <td>9</td>\n",
       "      <td>10</td>\n",
       "      <td>2</td>\n",
       "      <td>2</td>\n",
       "      <td>2</td>\n",
       "      <td>1</td>\n",
       "      <td>2</td>\n",
       "      <td>2</td>\n",
       "      <td>4</td>\n",
       "      <td>3</td>\n",
       "      <td>1</td>\n",
       "      <td>1</td>\n",
       "      <td>2</td>\n",
       "      <td>4</td>\n",
       "      <td>2</td>\n",
       "      <td>2</td>\n",
       "      <td>2</td>\n",
       "      <td>2</td>\n",
       "      <td>2</td>\n",
       "    </tr>\n",
       "    <tr>\n",
       "      <th>908</th>\n",
       "      <td>6</td>\n",
       "      <td>1</td>\n",
       "      <td>1</td>\n",
       "      <td>1</td>\n",
       "      <td>1</td>\n",
       "      <td>1</td>\n",
       "      <td>1</td>\n",
       "      <td>8</td>\n",
       "      <td>8</td>\n",
       "      <td>1</td>\n",
       "      <td>2</td>\n",
       "      <td>1</td>\n",
       "      <td>1</td>\n",
       "      <td>2</td>\n",
       "      <td>2</td>\n",
       "      <td>3</td>\n",
       "      <td>3</td>\n",
       "      <td>1</td>\n",
       "      <td>4</td>\n",
       "      <td>2</td>\n",
       "      <td>2</td>\n",
       "      <td>1</td>\n",
       "      <td>2</td>\n",
       "      <td>2</td>\n",
       "      <td>1</td>\n",
       "      <td>2</td>\n",
       "    </tr>\n",
       "  </tbody>\n",
       "</table>\n",
       "<p>273 rows × 26 columns</p>\n",
       "</div>"
      ],
      "text/plain": [
       "     Q1  Q2  Q3  Q8  Q9  Q10  Q11  Q12  Q13  Q14  Q15  Q16  Q17  Q18  Q18a  \\\n",
       "12    4   1   1   2   2    2    1    8    9    2    2    2    1    2     2   \n",
       "13    3   2   2   1   2    1    1    6    5    2    1    1    1    2     2   \n",
       "16    3   1   1   2   2    2    2    7    7    2    1    2    1    2     2   \n",
       "18    2   1   1   2   2    2    2    7    7    1    2    1    1    2     2   \n",
       "21    2   1   1   2   2    1    1    7    6    1    1    2    2    2     2   \n",
       "..   ..  ..  ..  ..  ..  ...  ...  ...  ...  ...  ...  ...  ...  ...   ...   \n",
       "894   2   1   5   2   1    2    1    8    8    1    1    2    1    2     2   \n",
       "895   4   2   1   2   2    1    2    7    8    2    2    1    1    2     2   \n",
       "896   4   1  19   2   2    1    2    6    7    2    2    2    2    2     2   \n",
       "897   5   1   1   1   1    1    1    9   10    2    2    2    1    2     2   \n",
       "908   6   1   1   1   1    1    1    8    8    1    2    1    1    2     2   \n",
       "\n",
       "     Q19  Q20  Q21  Q22  Q23  Q24  Q25  Q26  Q27  Q28  Q29  \n",
       "12     3    5    1    1    1    1    2    2    2    2    2  \n",
       "13     3    3    1    1    2    2    2    1    2    1    2  \n",
       "16     3    5    1    1    2    3    1    1    2    2    2  \n",
       "18     2    4    1    1    2    2    2    2    1    2    2  \n",
       "21     2    5    1    1    2    2    2    2    2    2    1  \n",
       "..   ...  ...  ...  ...  ...  ...  ...  ...  ...  ...  ...  \n",
       "894    2    4    1    1    2    4    2    2    2    2    2  \n",
       "895    3    3    1    1    1    1    1    2    1    2    1  \n",
       "896    4    3    1    1    2    5    2    2    2    2    2  \n",
       "897    4    3    1    1    2    4    2    2    2    2    2  \n",
       "908    3    3    1    4    2    2    1    2    2    1    2  \n",
       "\n",
       "[273 rows x 26 columns]"
      ]
     },
     "execution_count": 175,
     "metadata": {},
     "output_type": "execute_result"
    }
   ],
   "source": [
    "df3"
   ]
  },
  {
   "cell_type": "code",
   "execution_count": 176,
   "metadata": {
    "colab": {
     "base_uri": "https://localhost:8080/"
    },
    "id": "H-l6VO9e9Pq6",
    "outputId": "0f33b9b7-f9fb-4bb9-a01e-b7611d5779b4"
   },
   "outputs": [
    {
     "data": {
      "text/plain": [
       "0"
      ]
     },
     "execution_count": 176,
     "metadata": {},
     "output_type": "execute_result"
    }
   ],
   "source": [
    "# missing values\n",
    "df3['Q1'].isnull().sum()"
   ]
  },
  {
   "cell_type": "code",
   "execution_count": 177,
   "metadata": {
    "colab": {
     "base_uri": "https://localhost:8080/"
    },
    "id": "FnKKWMKS9Pq6",
    "outputId": "f3f69dc4-7a19-4647-ed8c-dd2e20b09fe5"
   },
   "outputs": [
    {
     "data": {
      "text/plain": [
       "0"
      ]
     },
     "execution_count": 177,
     "metadata": {},
     "output_type": "execute_result"
    }
   ],
   "source": [
    "# missing values\n",
    "df3['Q2'].isnull().sum()"
   ]
  },
  {
   "cell_type": "code",
   "execution_count": 178,
   "metadata": {
    "colab": {
     "base_uri": "https://localhost:8080/"
    },
    "id": "jS8i0muH9Pq6",
    "outputId": "299193c6-8e28-42c4-fa27-3236ce225828"
   },
   "outputs": [
    {
     "data": {
      "text/plain": [
       "0"
      ]
     },
     "execution_count": 178,
     "metadata": {},
     "output_type": "execute_result"
    }
   ],
   "source": [
    "# missing values\n",
    "df3['Q3'].isnull().sum()"
   ]
  },
  {
   "cell_type": "code",
   "execution_count": 179,
   "metadata": {
    "colab": {
     "base_uri": "https://localhost:8080/"
    },
    "id": "bxdDqJ_r9Pq7",
    "outputId": "a740cd35-322c-40c0-e503-f12362e071a7"
   },
   "outputs": [
    {
     "data": {
      "text/plain": [
       "0"
      ]
     },
     "execution_count": 179,
     "metadata": {},
     "output_type": "execute_result"
    }
   ],
   "source": [
    "# missing values\n",
    "df3['Q8'].isnull().sum()"
   ]
  },
  {
   "cell_type": "code",
   "execution_count": 180,
   "metadata": {
    "colab": {
     "base_uri": "https://localhost:8080/"
    },
    "id": "Sf-yJ3PX9Pq8",
    "outputId": "81e5402e-a7ad-4bbe-c859-2e4a5b2b6ca1"
   },
   "outputs": [
    {
     "data": {
      "text/plain": [
       "0"
      ]
     },
     "execution_count": 180,
     "metadata": {},
     "output_type": "execute_result"
    }
   ],
   "source": [
    "# missing values\n",
    "df3['Q9'].isnull().sum()"
   ]
  },
  {
   "cell_type": "code",
   "execution_count": 181,
   "metadata": {
    "colab": {
     "base_uri": "https://localhost:8080/"
    },
    "id": "UEmGm-Fc9Pq8",
    "outputId": "ee7796b9-9e9f-496b-ad27-d5fa97aeae91"
   },
   "outputs": [
    {
     "data": {
      "text/plain": [
       "0"
      ]
     },
     "execution_count": 181,
     "metadata": {},
     "output_type": "execute_result"
    }
   ],
   "source": [
    "# missing values\n",
    "df3['Q10'].isnull().sum()"
   ]
  },
  {
   "cell_type": "code",
   "execution_count": 182,
   "metadata": {
    "colab": {
     "base_uri": "https://localhost:8080/"
    },
    "id": "GSORgkV_9Pq8",
    "outputId": "ac6d4425-8ef9-4bc6-f3e5-65d8419b0db8"
   },
   "outputs": [
    {
     "data": {
      "text/plain": [
       "0"
      ]
     },
     "execution_count": 182,
     "metadata": {},
     "output_type": "execute_result"
    }
   ],
   "source": [
    "# missing values\n",
    "df3['Q11'].isnull().sum()"
   ]
  },
  {
   "cell_type": "code",
   "execution_count": 183,
   "metadata": {
    "colab": {
     "base_uri": "https://localhost:8080/"
    },
    "id": "UBW8w1yh9Pq8",
    "outputId": "8636b8f0-c881-4de3-d5f0-bf0f1a4e8586"
   },
   "outputs": [
    {
     "data": {
      "text/plain": [
       "0"
      ]
     },
     "execution_count": 183,
     "metadata": {},
     "output_type": "execute_result"
    }
   ],
   "source": [
    "# missing values\n",
    "df3['Q12'].isnull().sum()"
   ]
  },
  {
   "cell_type": "code",
   "execution_count": 184,
   "metadata": {
    "colab": {
     "base_uri": "https://localhost:8080/"
    },
    "id": "aNE8HE2w9PrA",
    "outputId": "2e70ea70-caeb-4470-d036-8c52a7f71de9"
   },
   "outputs": [
    {
     "data": {
      "text/plain": [
       "0"
      ]
     },
     "execution_count": 184,
     "metadata": {},
     "output_type": "execute_result"
    }
   ],
   "source": [
    "# missing values\n",
    "df3['Q13'].isnull().sum()"
   ]
  },
  {
   "cell_type": "code",
   "execution_count": 185,
   "metadata": {
    "colab": {
     "base_uri": "https://localhost:8080/"
    },
    "id": "f_ZZRh3X9PrC",
    "outputId": "52896b0e-e4c3-4a67-8231-749a66a33cfa"
   },
   "outputs": [
    {
     "data": {
      "text/plain": [
       "0"
      ]
     },
     "execution_count": 185,
     "metadata": {},
     "output_type": "execute_result"
    }
   ],
   "source": [
    "# missing values\n",
    "df3['Q14'].isnull().sum()"
   ]
  },
  {
   "cell_type": "code",
   "execution_count": 186,
   "metadata": {
    "colab": {
     "base_uri": "https://localhost:8080/"
    },
    "id": "T6qaa4ox9PrC",
    "outputId": "f1be799e-98a3-4ead-b07b-3fd8cc10ecdc"
   },
   "outputs": [
    {
     "data": {
      "text/plain": [
       "0"
      ]
     },
     "execution_count": 186,
     "metadata": {},
     "output_type": "execute_result"
    }
   ],
   "source": [
    "# missing values\n",
    "df3['Q15'].isnull().sum()"
   ]
  },
  {
   "cell_type": "code",
   "execution_count": 187,
   "metadata": {
    "colab": {
     "base_uri": "https://localhost:8080/"
    },
    "id": "AyYnW0Qz9PrD",
    "outputId": "784d9d4f-9d6f-4b92-97f3-1ea4b67e5cc6"
   },
   "outputs": [
    {
     "data": {
      "text/plain": [
       "0"
      ]
     },
     "execution_count": 187,
     "metadata": {},
     "output_type": "execute_result"
    }
   ],
   "source": [
    "# missing values\n",
    "df3['Q16'].isnull().sum()"
   ]
  },
  {
   "cell_type": "code",
   "execution_count": 188,
   "metadata": {
    "colab": {
     "base_uri": "https://localhost:8080/"
    },
    "id": "zEM-A3ID9PrD",
    "outputId": "4abdf085-158e-4c76-ca95-f0157c76dbc5"
   },
   "outputs": [
    {
     "data": {
      "text/plain": [
       "0"
      ]
     },
     "execution_count": 188,
     "metadata": {},
     "output_type": "execute_result"
    }
   ],
   "source": [
    "# missing values\n",
    "df3['Q17'].isnull().sum()"
   ]
  },
  {
   "cell_type": "code",
   "execution_count": 189,
   "metadata": {
    "colab": {
     "base_uri": "https://localhost:8080/"
    },
    "id": "pqLqX7239PrD",
    "outputId": "7c106a8f-943c-45c7-9000-07239c8eae8a"
   },
   "outputs": [
    {
     "data": {
      "text/plain": [
       "0"
      ]
     },
     "execution_count": 189,
     "metadata": {},
     "output_type": "execute_result"
    }
   ],
   "source": [
    "# missing values\n",
    "df3['Q18'].isnull().sum()"
   ]
  },
  {
   "cell_type": "code",
   "execution_count": 190,
   "metadata": {
    "colab": {
     "base_uri": "https://localhost:8080/"
    },
    "id": "BuFaI-kt9PrD",
    "outputId": "fa792eb0-8754-456c-f2ac-d9b729d3079a"
   },
   "outputs": [
    {
     "data": {
      "text/plain": [
       "0"
      ]
     },
     "execution_count": 190,
     "metadata": {},
     "output_type": "execute_result"
    }
   ],
   "source": [
    "# missing values\n",
    "df3['Q19'].isnull().sum()"
   ]
  },
  {
   "cell_type": "code",
   "execution_count": 191,
   "metadata": {
    "colab": {
     "base_uri": "https://localhost:8080/"
    },
    "id": "8bFKk3wX9PrE",
    "outputId": "61f7fd95-542d-4da8-c8bb-89b9fcafc04e"
   },
   "outputs": [
    {
     "data": {
      "text/plain": [
       "0"
      ]
     },
     "execution_count": 191,
     "metadata": {},
     "output_type": "execute_result"
    }
   ],
   "source": [
    "# missing values\n",
    "df3['Q20'].isnull().sum()"
   ]
  },
  {
   "cell_type": "code",
   "execution_count": 192,
   "metadata": {
    "colab": {
     "base_uri": "https://localhost:8080/"
    },
    "id": "N74mnDdH9PrE",
    "outputId": "6ef0cd0c-9789-425a-a4d7-535e0017f4d8"
   },
   "outputs": [
    {
     "data": {
      "text/plain": [
       "0"
      ]
     },
     "execution_count": 192,
     "metadata": {},
     "output_type": "execute_result"
    }
   ],
   "source": [
    "# missing values\n",
    "df3['Q21'].isnull().sum()"
   ]
  },
  {
   "cell_type": "code",
   "execution_count": 193,
   "metadata": {
    "colab": {
     "base_uri": "https://localhost:8080/"
    },
    "id": "pkPi4GEs9PrE",
    "outputId": "53b66bae-f846-489c-99ba-e70d2f4f676e"
   },
   "outputs": [
    {
     "data": {
      "text/plain": [
       "0"
      ]
     },
     "execution_count": 193,
     "metadata": {},
     "output_type": "execute_result"
    }
   ],
   "source": [
    "# missing values\n",
    "df3['Q22'].isnull().sum()"
   ]
  },
  {
   "cell_type": "code",
   "execution_count": 194,
   "metadata": {
    "colab": {
     "base_uri": "https://localhost:8080/"
    },
    "id": "LJUwGDrB9PrE",
    "outputId": "5a5a64a9-0503-41fc-f923-0a22e759e730"
   },
   "outputs": [
    {
     "data": {
      "text/plain": [
       "0"
      ]
     },
     "execution_count": 194,
     "metadata": {},
     "output_type": "execute_result"
    }
   ],
   "source": [
    "# missing values\n",
    "df3['Q23'].isnull().sum()"
   ]
  },
  {
   "cell_type": "code",
   "execution_count": 195,
   "metadata": {
    "colab": {
     "base_uri": "https://localhost:8080/"
    },
    "id": "ERDcO_RA9PrF",
    "outputId": "6950358c-6e70-4cfa-92c0-c4f487a9bb27"
   },
   "outputs": [
    {
     "data": {
      "text/plain": [
       "0"
      ]
     },
     "execution_count": 195,
     "metadata": {},
     "output_type": "execute_result"
    }
   ],
   "source": [
    "# missing values\n",
    "df3['Q24'].isnull().sum()"
   ]
  },
  {
   "cell_type": "code",
   "execution_count": 196,
   "metadata": {
    "colab": {
     "base_uri": "https://localhost:8080/"
    },
    "id": "bX9wlMTp9PrF",
    "outputId": "38845c9a-56e6-43d8-f785-9f383a4454d0"
   },
   "outputs": [
    {
     "data": {
      "text/plain": [
       "0"
      ]
     },
     "execution_count": 196,
     "metadata": {},
     "output_type": "execute_result"
    }
   ],
   "source": [
    "# missing values\n",
    "df3['Q25'].isnull().sum()"
   ]
  },
  {
   "cell_type": "code",
   "execution_count": 197,
   "metadata": {
    "colab": {
     "base_uri": "https://localhost:8080/"
    },
    "id": "v_kmCjtY9PrF",
    "outputId": "11edaeee-33ee-4f2b-8517-c1aa7767f604"
   },
   "outputs": [
    {
     "data": {
      "text/plain": [
       "0"
      ]
     },
     "execution_count": 197,
     "metadata": {},
     "output_type": "execute_result"
    }
   ],
   "source": [
    "# missing values\n",
    "df3['Q26'].isnull().sum()"
   ]
  },
  {
   "cell_type": "code",
   "execution_count": 198,
   "metadata": {
    "colab": {
     "base_uri": "https://localhost:8080/"
    },
    "id": "cxuxFNzE9PrF",
    "outputId": "607f76d4-0e0f-4a16-8837-a23dbeda8320"
   },
   "outputs": [
    {
     "data": {
      "text/plain": [
       "0"
      ]
     },
     "execution_count": 198,
     "metadata": {},
     "output_type": "execute_result"
    }
   ],
   "source": [
    "# missing values\n",
    "df3['Q27'].isnull().sum()"
   ]
  },
  {
   "cell_type": "code",
   "execution_count": 199,
   "metadata": {
    "colab": {
     "base_uri": "https://localhost:8080/"
    },
    "id": "wcytQhD49PrF",
    "outputId": "ddc586d8-b459-4d46-fb44-a5cb6ed01d43"
   },
   "outputs": [
    {
     "data": {
      "text/plain": [
       "0"
      ]
     },
     "execution_count": 199,
     "metadata": {},
     "output_type": "execute_result"
    }
   ],
   "source": [
    "# missing values\n",
    "df3['Q28'].isnull().sum()"
   ]
  },
  {
   "cell_type": "code",
   "execution_count": 200,
   "metadata": {
    "colab": {
     "base_uri": "https://localhost:8080/"
    },
    "id": "xrMQQp7Z9PrG",
    "outputId": "2b40b054-8810-44cc-ebf1-64a5a04f51c4"
   },
   "outputs": [
    {
     "data": {
      "text/plain": [
       "0"
      ]
     },
     "execution_count": 200,
     "metadata": {},
     "output_type": "execute_result"
    }
   ],
   "source": [
    "# missing values\n",
    "df3['Q29'].isnull().sum()"
   ]
  },
  {
   "cell_type": "code",
   "execution_count": 201,
   "metadata": {
    "colab": {
     "base_uri": "https://localhost:8080/"
    },
    "id": "iIKZ7y249PrG",
    "outputId": "ffdb6d23-1286-41c5-f73b-f9a5e5559c3b"
   },
   "outputs": [
    {
     "data": {
      "text/plain": [
       "0"
      ]
     },
     "execution_count": 201,
     "metadata": {},
     "output_type": "execute_result"
    }
   ],
   "source": [
    "# missing values\n",
    "df3['Q18a'].isnull().sum()"
   ]
  },
  {
   "cell_type": "code",
   "execution_count": 202,
   "metadata": {
    "colab": {
     "base_uri": "https://localhost:8080/"
    },
    "id": "X1_sc2_b9PrG",
    "outputId": "92cb4ea7-ea14-4622-c324-21f069621a06"
   },
   "outputs": [
    {
     "data": {
      "text/plain": [
       "0"
      ]
     },
     "execution_count": 202,
     "metadata": {},
     "output_type": "execute_result"
    }
   ],
   "source": [
    "# missing values\n",
    "df3['Q29'].isnull().sum()"
   ]
  },
  {
   "cell_type": "code",
   "execution_count": 203,
   "metadata": {
    "id": "1eEbvd1v9PrG"
   },
   "outputs": [],
   "source": [
    "df4=df3"
   ]
  },
  {
   "cell_type": "code",
   "execution_count": 204,
   "metadata": {
    "colab": {
     "base_uri": "https://localhost:8080/"
    },
    "id": "NrzU07PG9PrG",
    "outputId": "41fd1eeb-719b-4fc0-dfae-0af556061159"
   },
   "outputs": [
    {
     "data": {
      "text/plain": [
       "(273, 26)"
      ]
     },
     "execution_count": 204,
     "metadata": {},
     "output_type": "execute_result"
    }
   ],
   "source": [
    "df4.shape"
   ]
  },
  {
   "cell_type": "code",
   "execution_count": 205,
   "metadata": {
    "colab": {
     "base_uri": "https://localhost:8080/"
    },
    "id": "NhgMy45E9PrH",
    "outputId": "68935260-b58a-48ad-8f23-eb586fd22804"
   },
   "outputs": [
    {
     "data": {
      "text/plain": [
       "Q1      0\n",
       "Q2      0\n",
       "Q3      0\n",
       "Q8      0\n",
       "Q9      0\n",
       "Q10     0\n",
       "Q11     0\n",
       "Q12     0\n",
       "Q13     0\n",
       "Q14     0\n",
       "Q15     0\n",
       "Q16     0\n",
       "Q17     0\n",
       "Q18     0\n",
       "Q18a    0\n",
       "Q19     0\n",
       "Q20     0\n",
       "Q21     0\n",
       "Q22     0\n",
       "Q23     0\n",
       "Q24     0\n",
       "Q25     0\n",
       "Q26     0\n",
       "Q27     0\n",
       "Q28     0\n",
       "Q29     0\n",
       "dtype: int64"
      ]
     },
     "execution_count": 205,
     "metadata": {},
     "output_type": "execute_result"
    }
   ],
   "source": [
    "# missing values\n",
    "df4.isnull().sum()"
   ]
  },
  {
   "cell_type": "code",
   "execution_count": 206,
   "metadata": {
    "id": "ZrI-Xcwh9PrH"
   },
   "outputs": [],
   "source": [
    "# create excel writer object\n",
    "writer = pd.ExcelWriter('covidreasearchthesecondpaper.xlsx')\n",
    "# write dataframe to excel\n",
    "df4.to_excel(writer)\n",
    "# save the excel\n",
    "writer.save()"
   ]
  },
  {
   "cell_type": "code",
   "execution_count": null,
   "metadata": {
    "id": "8V-qx62z9PrH"
   },
   "outputs": [],
   "source": []
  },
  {
   "cell_type": "code",
   "execution_count": 207,
   "metadata": {
    "colab": {
     "base_uri": "https://localhost:8080/"
    },
    "id": "fmqA_Ex89PrH",
    "outputId": "962ace6c-9ff0-4e08-b582-647719565ce9"
   },
   "outputs": [
    {
     "name": "stdout",
     "output_type": "stream",
     "text": [
      "Q1      int64\n",
      "Q2      int64\n",
      "Q3      int64\n",
      "Q8      int64\n",
      "Q9      int64\n",
      "Q10     int64\n",
      "Q11     int64\n",
      "Q12     int64\n",
      "Q13     int64\n",
      "Q14     int64\n",
      "Q15     int64\n",
      "Q16     int64\n",
      "Q17     int64\n",
      "Q18     int64\n",
      "Q18a    int64\n",
      "Q19     int64\n",
      "Q20     int64\n",
      "Q21     int64\n",
      "Q22     int64\n",
      "Q23     int64\n",
      "Q24     int64\n",
      "Q25     int64\n",
      "Q26     int64\n",
      "Q27     int64\n",
      "Q28     int64\n",
      "Q29     int64\n",
      "dtype: object\n"
     ]
    }
   ],
   "source": [
    "print(df4.dtypes)"
   ]
  },
  {
   "cell_type": "code",
   "execution_count": null,
   "metadata": {
    "id": "6kHFmr9E9PrH"
   },
   "outputs": [],
   "source": []
  },
  {
   "cell_type": "code",
   "execution_count": null,
   "metadata": {
    "id": "ScvDvAtc9PrH"
   },
   "outputs": [],
   "source": []
  },
  {
   "cell_type": "code",
   "execution_count": null,
   "metadata": {
    "id": "eb0acERW9PrH"
   },
   "outputs": [],
   "source": []
  },
  {
   "cell_type": "markdown",
   "metadata": {
    "id": "3_WUg0Xu9PrH"
   },
   "source": [
    "The Dataset Has been Extracted"
   ]
  },
  {
   "cell_type": "code",
   "execution_count": null,
   "metadata": {
    "id": "_z1p5TEU9PrI"
   },
   "outputs": [],
   "source": []
  },
  {
   "cell_type": "code",
   "execution_count": 208,
   "metadata": {
    "colab": {
     "base_uri": "https://localhost:8080/",
     "height": 423
    },
    "id": "OtIYx2fr9PrI",
    "outputId": "69e9bb92-9467-454f-913d-aac831776dab"
   },
   "outputs": [
    {
     "data": {
      "text/html": [
       "<div>\n",
       "<style scoped>\n",
       "    .dataframe tbody tr th:only-of-type {\n",
       "        vertical-align: middle;\n",
       "    }\n",
       "\n",
       "    .dataframe tbody tr th {\n",
       "        vertical-align: top;\n",
       "    }\n",
       "\n",
       "    .dataframe thead th {\n",
       "        text-align: right;\n",
       "    }\n",
       "</style>\n",
       "<table border=\"1\" class=\"dataframe\">\n",
       "  <thead>\n",
       "    <tr style=\"text-align: right;\">\n",
       "      <th></th>\n",
       "      <th>Q1</th>\n",
       "      <th>Q2</th>\n",
       "      <th>Q3</th>\n",
       "      <th>Q8</th>\n",
       "      <th>Q9</th>\n",
       "      <th>Q10</th>\n",
       "      <th>Q11</th>\n",
       "      <th>Q12</th>\n",
       "      <th>Q13</th>\n",
       "      <th>Q14</th>\n",
       "      <th>Q15</th>\n",
       "      <th>Q16</th>\n",
       "      <th>Q17</th>\n",
       "      <th>Q18</th>\n",
       "      <th>Q18a</th>\n",
       "      <th>Q19</th>\n",
       "      <th>Q20</th>\n",
       "      <th>Q21</th>\n",
       "      <th>Q22</th>\n",
       "      <th>Q23</th>\n",
       "      <th>Q24</th>\n",
       "      <th>Q25</th>\n",
       "      <th>Q26</th>\n",
       "      <th>Q27</th>\n",
       "      <th>Q28</th>\n",
       "      <th>Q29</th>\n",
       "    </tr>\n",
       "  </thead>\n",
       "  <tbody>\n",
       "    <tr>\n",
       "      <th>12</th>\n",
       "      <td>4</td>\n",
       "      <td>1</td>\n",
       "      <td>1</td>\n",
       "      <td>2</td>\n",
       "      <td>2</td>\n",
       "      <td>2</td>\n",
       "      <td>1</td>\n",
       "      <td>8</td>\n",
       "      <td>9</td>\n",
       "      <td>2</td>\n",
       "      <td>2</td>\n",
       "      <td>2</td>\n",
       "      <td>1</td>\n",
       "      <td>2</td>\n",
       "      <td>2</td>\n",
       "      <td>3</td>\n",
       "      <td>5</td>\n",
       "      <td>1</td>\n",
       "      <td>1</td>\n",
       "      <td>1</td>\n",
       "      <td>1</td>\n",
       "      <td>2</td>\n",
       "      <td>2</td>\n",
       "      <td>2</td>\n",
       "      <td>2</td>\n",
       "      <td>2</td>\n",
       "    </tr>\n",
       "    <tr>\n",
       "      <th>13</th>\n",
       "      <td>3</td>\n",
       "      <td>2</td>\n",
       "      <td>2</td>\n",
       "      <td>1</td>\n",
       "      <td>2</td>\n",
       "      <td>1</td>\n",
       "      <td>1</td>\n",
       "      <td>6</td>\n",
       "      <td>5</td>\n",
       "      <td>2</td>\n",
       "      <td>1</td>\n",
       "      <td>1</td>\n",
       "      <td>1</td>\n",
       "      <td>2</td>\n",
       "      <td>2</td>\n",
       "      <td>3</td>\n",
       "      <td>3</td>\n",
       "      <td>1</td>\n",
       "      <td>1</td>\n",
       "      <td>2</td>\n",
       "      <td>2</td>\n",
       "      <td>2</td>\n",
       "      <td>1</td>\n",
       "      <td>2</td>\n",
       "      <td>1</td>\n",
       "      <td>2</td>\n",
       "    </tr>\n",
       "    <tr>\n",
       "      <th>16</th>\n",
       "      <td>3</td>\n",
       "      <td>1</td>\n",
       "      <td>1</td>\n",
       "      <td>2</td>\n",
       "      <td>2</td>\n",
       "      <td>2</td>\n",
       "      <td>2</td>\n",
       "      <td>7</td>\n",
       "      <td>7</td>\n",
       "      <td>2</td>\n",
       "      <td>1</td>\n",
       "      <td>2</td>\n",
       "      <td>1</td>\n",
       "      <td>2</td>\n",
       "      <td>2</td>\n",
       "      <td>3</td>\n",
       "      <td>5</td>\n",
       "      <td>1</td>\n",
       "      <td>1</td>\n",
       "      <td>2</td>\n",
       "      <td>3</td>\n",
       "      <td>1</td>\n",
       "      <td>1</td>\n",
       "      <td>2</td>\n",
       "      <td>2</td>\n",
       "      <td>2</td>\n",
       "    </tr>\n",
       "    <tr>\n",
       "      <th>18</th>\n",
       "      <td>2</td>\n",
       "      <td>1</td>\n",
       "      <td>1</td>\n",
       "      <td>2</td>\n",
       "      <td>2</td>\n",
       "      <td>2</td>\n",
       "      <td>2</td>\n",
       "      <td>7</td>\n",
       "      <td>7</td>\n",
       "      <td>1</td>\n",
       "      <td>2</td>\n",
       "      <td>1</td>\n",
       "      <td>1</td>\n",
       "      <td>2</td>\n",
       "      <td>2</td>\n",
       "      <td>2</td>\n",
       "      <td>4</td>\n",
       "      <td>1</td>\n",
       "      <td>1</td>\n",
       "      <td>2</td>\n",
       "      <td>2</td>\n",
       "      <td>2</td>\n",
       "      <td>2</td>\n",
       "      <td>1</td>\n",
       "      <td>2</td>\n",
       "      <td>2</td>\n",
       "    </tr>\n",
       "    <tr>\n",
       "      <th>21</th>\n",
       "      <td>2</td>\n",
       "      <td>1</td>\n",
       "      <td>1</td>\n",
       "      <td>2</td>\n",
       "      <td>2</td>\n",
       "      <td>1</td>\n",
       "      <td>1</td>\n",
       "      <td>7</td>\n",
       "      <td>6</td>\n",
       "      <td>1</td>\n",
       "      <td>1</td>\n",
       "      <td>2</td>\n",
       "      <td>2</td>\n",
       "      <td>2</td>\n",
       "      <td>2</td>\n",
       "      <td>2</td>\n",
       "      <td>5</td>\n",
       "      <td>1</td>\n",
       "      <td>1</td>\n",
       "      <td>2</td>\n",
       "      <td>2</td>\n",
       "      <td>2</td>\n",
       "      <td>2</td>\n",
       "      <td>2</td>\n",
       "      <td>2</td>\n",
       "      <td>1</td>\n",
       "    </tr>\n",
       "    <tr>\n",
       "      <th>...</th>\n",
       "      <td>...</td>\n",
       "      <td>...</td>\n",
       "      <td>...</td>\n",
       "      <td>...</td>\n",
       "      <td>...</td>\n",
       "      <td>...</td>\n",
       "      <td>...</td>\n",
       "      <td>...</td>\n",
       "      <td>...</td>\n",
       "      <td>...</td>\n",
       "      <td>...</td>\n",
       "      <td>...</td>\n",
       "      <td>...</td>\n",
       "      <td>...</td>\n",
       "      <td>...</td>\n",
       "      <td>...</td>\n",
       "      <td>...</td>\n",
       "      <td>...</td>\n",
       "      <td>...</td>\n",
       "      <td>...</td>\n",
       "      <td>...</td>\n",
       "      <td>...</td>\n",
       "      <td>...</td>\n",
       "      <td>...</td>\n",
       "      <td>...</td>\n",
       "      <td>...</td>\n",
       "    </tr>\n",
       "    <tr>\n",
       "      <th>894</th>\n",
       "      <td>2</td>\n",
       "      <td>1</td>\n",
       "      <td>5</td>\n",
       "      <td>2</td>\n",
       "      <td>1</td>\n",
       "      <td>2</td>\n",
       "      <td>1</td>\n",
       "      <td>8</td>\n",
       "      <td>8</td>\n",
       "      <td>1</td>\n",
       "      <td>1</td>\n",
       "      <td>2</td>\n",
       "      <td>1</td>\n",
       "      <td>2</td>\n",
       "      <td>2</td>\n",
       "      <td>2</td>\n",
       "      <td>4</td>\n",
       "      <td>1</td>\n",
       "      <td>1</td>\n",
       "      <td>2</td>\n",
       "      <td>4</td>\n",
       "      <td>2</td>\n",
       "      <td>2</td>\n",
       "      <td>2</td>\n",
       "      <td>2</td>\n",
       "      <td>2</td>\n",
       "    </tr>\n",
       "    <tr>\n",
       "      <th>895</th>\n",
       "      <td>4</td>\n",
       "      <td>2</td>\n",
       "      <td>1</td>\n",
       "      <td>2</td>\n",
       "      <td>2</td>\n",
       "      <td>1</td>\n",
       "      <td>2</td>\n",
       "      <td>7</td>\n",
       "      <td>8</td>\n",
       "      <td>2</td>\n",
       "      <td>2</td>\n",
       "      <td>1</td>\n",
       "      <td>1</td>\n",
       "      <td>2</td>\n",
       "      <td>2</td>\n",
       "      <td>3</td>\n",
       "      <td>3</td>\n",
       "      <td>1</td>\n",
       "      <td>1</td>\n",
       "      <td>1</td>\n",
       "      <td>1</td>\n",
       "      <td>1</td>\n",
       "      <td>2</td>\n",
       "      <td>1</td>\n",
       "      <td>2</td>\n",
       "      <td>1</td>\n",
       "    </tr>\n",
       "    <tr>\n",
       "      <th>896</th>\n",
       "      <td>4</td>\n",
       "      <td>1</td>\n",
       "      <td>19</td>\n",
       "      <td>2</td>\n",
       "      <td>2</td>\n",
       "      <td>1</td>\n",
       "      <td>2</td>\n",
       "      <td>6</td>\n",
       "      <td>7</td>\n",
       "      <td>2</td>\n",
       "      <td>2</td>\n",
       "      <td>2</td>\n",
       "      <td>2</td>\n",
       "      <td>2</td>\n",
       "      <td>2</td>\n",
       "      <td>4</td>\n",
       "      <td>3</td>\n",
       "      <td>1</td>\n",
       "      <td>1</td>\n",
       "      <td>2</td>\n",
       "      <td>5</td>\n",
       "      <td>2</td>\n",
       "      <td>2</td>\n",
       "      <td>2</td>\n",
       "      <td>2</td>\n",
       "      <td>2</td>\n",
       "    </tr>\n",
       "    <tr>\n",
       "      <th>897</th>\n",
       "      <td>5</td>\n",
       "      <td>1</td>\n",
       "      <td>1</td>\n",
       "      <td>1</td>\n",
       "      <td>1</td>\n",
       "      <td>1</td>\n",
       "      <td>1</td>\n",
       "      <td>9</td>\n",
       "      <td>10</td>\n",
       "      <td>2</td>\n",
       "      <td>2</td>\n",
       "      <td>2</td>\n",
       "      <td>1</td>\n",
       "      <td>2</td>\n",
       "      <td>2</td>\n",
       "      <td>4</td>\n",
       "      <td>3</td>\n",
       "      <td>1</td>\n",
       "      <td>1</td>\n",
       "      <td>2</td>\n",
       "      <td>4</td>\n",
       "      <td>2</td>\n",
       "      <td>2</td>\n",
       "      <td>2</td>\n",
       "      <td>2</td>\n",
       "      <td>2</td>\n",
       "    </tr>\n",
       "    <tr>\n",
       "      <th>908</th>\n",
       "      <td>6</td>\n",
       "      <td>1</td>\n",
       "      <td>1</td>\n",
       "      <td>1</td>\n",
       "      <td>1</td>\n",
       "      <td>1</td>\n",
       "      <td>1</td>\n",
       "      <td>8</td>\n",
       "      <td>8</td>\n",
       "      <td>1</td>\n",
       "      <td>2</td>\n",
       "      <td>1</td>\n",
       "      <td>1</td>\n",
       "      <td>2</td>\n",
       "      <td>2</td>\n",
       "      <td>3</td>\n",
       "      <td>3</td>\n",
       "      <td>1</td>\n",
       "      <td>4</td>\n",
       "      <td>2</td>\n",
       "      <td>2</td>\n",
       "      <td>1</td>\n",
       "      <td>2</td>\n",
       "      <td>2</td>\n",
       "      <td>1</td>\n",
       "      <td>2</td>\n",
       "    </tr>\n",
       "  </tbody>\n",
       "</table>\n",
       "<p>273 rows × 26 columns</p>\n",
       "</div>"
      ],
      "text/plain": [
       "     Q1  Q2  Q3  Q8  Q9  Q10  Q11  Q12  Q13  Q14  Q15  Q16  Q17  Q18  Q18a  \\\n",
       "12    4   1   1   2   2    2    1    8    9    2    2    2    1    2     2   \n",
       "13    3   2   2   1   2    1    1    6    5    2    1    1    1    2     2   \n",
       "16    3   1   1   2   2    2    2    7    7    2    1    2    1    2     2   \n",
       "18    2   1   1   2   2    2    2    7    7    1    2    1    1    2     2   \n",
       "21    2   1   1   2   2    1    1    7    6    1    1    2    2    2     2   \n",
       "..   ..  ..  ..  ..  ..  ...  ...  ...  ...  ...  ...  ...  ...  ...   ...   \n",
       "894   2   1   5   2   1    2    1    8    8    1    1    2    1    2     2   \n",
       "895   4   2   1   2   2    1    2    7    8    2    2    1    1    2     2   \n",
       "896   4   1  19   2   2    1    2    6    7    2    2    2    2    2     2   \n",
       "897   5   1   1   1   1    1    1    9   10    2    2    2    1    2     2   \n",
       "908   6   1   1   1   1    1    1    8    8    1    2    1    1    2     2   \n",
       "\n",
       "     Q19  Q20  Q21  Q22  Q23  Q24  Q25  Q26  Q27  Q28  Q29  \n",
       "12     3    5    1    1    1    1    2    2    2    2    2  \n",
       "13     3    3    1    1    2    2    2    1    2    1    2  \n",
       "16     3    5    1    1    2    3    1    1    2    2    2  \n",
       "18     2    4    1    1    2    2    2    2    1    2    2  \n",
       "21     2    5    1    1    2    2    2    2    2    2    1  \n",
       "..   ...  ...  ...  ...  ...  ...  ...  ...  ...  ...  ...  \n",
       "894    2    4    1    1    2    4    2    2    2    2    2  \n",
       "895    3    3    1    1    1    1    1    2    1    2    1  \n",
       "896    4    3    1    1    2    5    2    2    2    2    2  \n",
       "897    4    3    1    1    2    4    2    2    2    2    2  \n",
       "908    3    3    1    4    2    2    1    2    2    1    2  \n",
       "\n",
       "[273 rows x 26 columns]"
      ]
     },
     "execution_count": 208,
     "metadata": {},
     "output_type": "execute_result"
    }
   ],
   "source": [
    "# load dataset\n",
    "data=pd.read_csv(\"covidreasearchthesecondpaper.csv\", index_col =0 )\n",
    "data"
   ]
  },
  {
   "cell_type": "code",
   "execution_count": 209,
   "metadata": {
    "id": "5dWjoWsW9PrI"
   },
   "outputs": [],
   "source": [
    "df4=data"
   ]
  },
  {
   "cell_type": "markdown",
   "metadata": {
    "id": "hDMksQbS9PrI"
   },
   "source": [
    "Chi-Squared Test"
   ]
  },
  {
   "cell_type": "code",
   "execution_count": 210,
   "metadata": {
    "colab": {
     "base_uri": "https://localhost:8080/"
    },
    "id": "UvGI9CZ4CfIh",
    "outputId": "55d92ef1-8886-4df5-f276-61d406d89625"
   },
   "outputs": [
    {
     "name": "stdout",
     "output_type": "stream",
     "text": [
      "Requirement already satisfied: bioinfokit in c:\\users\\kimi5\\anaconda3\\lib\\site-packages (2.0.8)\n",
      "Requirement already satisfied: textwrap3 in c:\\users\\kimi5\\anaconda3\\lib\\site-packages (from bioinfokit) (0.9.2)\n",
      "Requirement already satisfied: matplotlib-venn in c:\\users\\kimi5\\anaconda3\\lib\\site-packages (from bioinfokit) (0.11.7)\n",
      "Requirement already satisfied: scipy in c:\\users\\kimi5\\anaconda3\\lib\\site-packages (from bioinfokit) (1.6.2)\n",
      "Requirement already satisfied: scikit-learn in c:\\users\\kimi5\\anaconda3\\lib\\site-packages (from bioinfokit) (1.0.2)\n",
      "Requirement already satisfied: tabulate in c:\\users\\kimi5\\anaconda3\\lib\\site-packages (from bioinfokit) (0.8.9)\n",
      "Requirement already satisfied: adjustText in c:\\users\\kimi5\\anaconda3\\lib\\site-packages (from bioinfokit) (0.7.3)\n",
      "Requirement already satisfied: matplotlib in c:\\users\\kimi5\\anaconda3\\lib\\site-packages (from bioinfokit) (3.3.4)\n",
      "Requirement already satisfied: numpy in c:\\users\\kimi5\\anaconda3\\lib\\site-packages (from bioinfokit) (1.20.1)\n",
      "Requirement already satisfied: seaborn in c:\\users\\kimi5\\anaconda3\\lib\\site-packages (from bioinfokit) (0.11.1)\n",
      "Requirement already satisfied: statsmodels in c:\\users\\kimi5\\anaconda3\\lib\\site-packages (from bioinfokit) (0.12.2)\n",
      "Requirement already satisfied: pandas in c:\\users\\kimi5\\anaconda3\\lib\\site-packages (from bioinfokit) (1.2.4)\n",
      "Requirement already satisfied: pyparsing!=2.0.4,!=2.1.2,!=2.1.6,>=2.0.3 in c:\\users\\kimi5\\anaconda3\\lib\\site-packages (from matplotlib->bioinfokit) (2.4.7)\n",
      "Requirement already satisfied: python-dateutil>=2.1 in c:\\users\\kimi5\\anaconda3\\lib\\site-packages (from matplotlib->bioinfokit) (2.8.1)\n",
      "Requirement already satisfied: kiwisolver>=1.0.1 in c:\\users\\kimi5\\anaconda3\\lib\\site-packages (from matplotlib->bioinfokit) (1.3.1)\n",
      "Requirement already satisfied: cycler>=0.10 in c:\\users\\kimi5\\anaconda3\\lib\\site-packages (from matplotlib->bioinfokit) (0.10.0)\n",
      "Requirement already satisfied: pillow>=6.2.0 in c:\\users\\kimi5\\anaconda3\\lib\\site-packages (from matplotlib->bioinfokit) (8.2.0)\n",
      "Requirement already satisfied: six in c:\\users\\kimi5\\anaconda3\\lib\\site-packages (from cycler>=0.10->matplotlib->bioinfokit) (1.15.0)\n",
      "Requirement already satisfied: pytz>=2017.3 in c:\\users\\kimi5\\anaconda3\\lib\\site-packages (from pandas->bioinfokit) (2021.1)\n",
      "Requirement already satisfied: joblib>=0.11 in c:\\users\\kimi5\\anaconda3\\lib\\site-packages (from scikit-learn->bioinfokit) (1.0.1)\n",
      "Requirement already satisfied: threadpoolctl>=2.0.0 in c:\\users\\kimi5\\anaconda3\\lib\\site-packages (from scikit-learn->bioinfokit) (2.1.0)\n",
      "Requirement already satisfied: patsy>=0.5 in c:\\users\\kimi5\\anaconda3\\lib\\site-packages (from statsmodels->bioinfokit) (0.5.1)\n"
     ]
    }
   ],
   "source": [
    "!pip install bioinfokit"
   ]
  },
  {
   "cell_type": "code",
   "execution_count": 211,
   "metadata": {
    "id": "HppnjPIT9PrJ"
   },
   "outputs": [],
   "source": [
    "\n",
    "from bioinfokit.analys import stat, get_data"
   ]
  },
  {
   "cell_type": "code",
   "execution_count": 212,
   "metadata": {
    "id": "K5sNeWIZ9PrK"
   },
   "outputs": [],
   "source": [
    "res = stat()"
   ]
  },
  {
   "cell_type": "code",
   "execution_count": 213,
   "metadata": {
    "id": "sdkwqYDG9PrK"
   },
   "outputs": [],
   "source": [
    "from scipy.stats import chi2_contingency\n",
    "from scipy.stats import chi2"
   ]
  },
  {
   "cell_type": "code",
   "execution_count": 214,
   "metadata": {
    "colab": {
     "base_uri": "https://localhost:8080/"
    },
    "id": "OkL_RiVj9PrK",
    "outputId": "b2596d74-0764-4b99-d061-f85ea80457dc"
   },
   "outputs": [
    {
     "name": "stdout",
     "output_type": "stream",
     "text": [
      "Q1      int64\n",
      "Q2      int64\n",
      "Q3      int64\n",
      "Q8      int64\n",
      "Q9      int64\n",
      "Q10     int64\n",
      "Q11     int64\n",
      "Q12     int64\n",
      "Q13     int64\n",
      "Q14     int64\n",
      "Q15     int64\n",
      "Q16     int64\n",
      "Q17     int64\n",
      "Q18     int64\n",
      "Q18a    int64\n",
      "Q19     int64\n",
      "Q20     int64\n",
      "Q21     int64\n",
      "Q22     int64\n",
      "Q23     int64\n",
      "Q24     int64\n",
      "Q25     int64\n",
      "Q26     int64\n",
      "Q27     int64\n",
      "Q28     int64\n",
      "Q29     int64\n",
      "dtype: object\n"
     ]
    }
   ],
   "source": [
    "print(df4.dtypes)"
   ]
  },
  {
   "cell_type": "code",
   "execution_count": 215,
   "metadata": {
    "colab": {
     "base_uri": "https://localhost:8080/"
    },
    "id": "1_J4MRht9PrL",
    "outputId": "8783913d-9c01-4772-85ba-5d33b036607f"
   },
   "outputs": [
    {
     "name": "stdout",
     "output_type": "stream",
     "text": [
      "Q1     2   3   4   5   6  7  8\n",
      "Q18a                          \n",
      "1      6   8  10   7   4  2  1\n",
      "2     35  81  55  37  24  3  0\n"
     ]
    }
   ],
   "source": [
    "# Constructing Contingency Table\n",
    "Q18aQ1 = pd.crosstab(df4['Q18a'],df4['Q1'],margins = False)\n",
    "table= Q18aQ1\n",
    "print(Q18aQ1)"
   ]
  },
  {
   "cell_type": "code",
   "execution_count": 216,
   "metadata": {
    "colab": {
     "base_uri": "https://localhost:8080/"
    },
    "id": "bEz8wHbR9PrL",
    "outputId": "ec591ad0-9444-4dfe-fbd0-7b3a140762a1"
   },
   "outputs": [
    {
     "name": "stdout",
     "output_type": "stream",
     "text": [
      "dof=6\n",
      "[[ 5.70695971 12.38827839  9.04761905  6.12454212  3.8974359   0.6959707\n",
      "   0.13919414]\n",
      " [35.29304029 76.61172161 55.95238095 37.87545788 24.1025641   4.3040293\n",
      "   0.86080586]]\n",
      "probability=0.950, critical=12.592, stat=11.111\n",
      "Independent (fail to reject H0)\n",
      "significance=0.050, p=0.085\n",
      "Independent (fail to reject H0)\n"
     ]
    }
   ],
   "source": [
    "stat, p, dof, expected = chi2_contingency(table)\n",
    "print('dof=%d' % dof)\n",
    "print(expected)\n",
    "# interpret test-statistic\n",
    "prob = 0.95\n",
    "critical = chi2.ppf(prob, dof)\n",
    "print('probability=%.3f, critical=%.3f, stat=%.3f' % (prob, critical, stat))\n",
    "if abs(stat) >= critical:\n",
    "    print('Dependent (reject H0)')\n",
    "else:\n",
    "    print('Independent (fail to reject H0)')\n",
    "# interpret p-value\n",
    "alpha = 1.0 - prob\n",
    "print('significance=%.3f, p=%.3f' % (alpha, p))\n",
    "if p <= alpha:\n",
    "    print('Dependent (reject H0)')\n",
    "else:\n",
    "    print('Independent (fail to reject H0)')"
   ]
  },
  {
   "cell_type": "code",
   "execution_count": 217,
   "metadata": {
    "colab": {
     "base_uri": "https://localhost:8080/"
    },
    "id": "to4BTFeW9PrL",
    "outputId": "b1276c26-cbc8-42e5-e1b3-87ac6d2b2f72"
   },
   "outputs": [
    {
     "name": "stdout",
     "output_type": "stream",
     "text": [
      "Q2    0    1   2\n",
      "Q18a            \n",
      "1     0   26  12\n",
      "2     1  192  42\n",
      "dof=2\n",
      "[[1.39194139e-01 3.03443223e+01 7.51648352e+00]\n",
      " [8.60805861e-01 1.87655678e+02 4.64835165e+01]]\n",
      "probability=0.950, critical=5.991, stat=3.991\n",
      "Independent (fail to reject H0)\n",
      "significance=0.050, p=0.136\n",
      "Independent (fail to reject H0)\n"
     ]
    }
   ],
   "source": [
    "# Constructing Contingency Table\n",
    "Q18aQ2 = pd.crosstab(df4['Q18a'],df4['Q2'],margins = False)\n",
    "table= Q18aQ2\n",
    "print(Q18aQ2)\n",
    "stat, p, dof, expected = chi2_contingency(table)\n",
    "print('dof=%d' % dof)\n",
    "print(expected)\n",
    "# interpret test-statistic\n",
    "prob = 0.95\n",
    "critical = chi2.ppf(prob, dof)\n",
    "print('probability=%.3f, critical=%.3f, stat=%.3f' % (prob, critical, stat))\n",
    "if abs(stat) >= critical:\n",
    "    print('Dependent (reject H0)')\n",
    "else:\n",
    "    print('Independent (fail to reject H0)')\n",
    "# interpret p-value\n",
    "alpha = 1.0 - prob\n",
    "print('significance=%.3f, p=%.3f' % (alpha, p))\n",
    "if p <= alpha:\n",
    "    print('Dependent (reject H0)')\n",
    "else:\n",
    "    print('Independent (fail to reject H0)')"
   ]
  },
  {
   "cell_type": "code",
   "execution_count": 218,
   "metadata": {
    "colab": {
     "base_uri": "https://localhost:8080/"
    },
    "id": "dFq5-N089PrM",
    "outputId": "9649ef4a-e9e8-4b31-a2bc-5421c07d626f"
   },
   "outputs": [
    {
     "name": "stdout",
     "output_type": "stream",
     "text": [
      "Q3     1   2   3   4   5   7   8   9   10  11  12  14  15  16  17  19  20  21  \\\n",
      "Q18a                                                                            \n",
      "1      24   0   1   1   0   1   0   1   0   0   0   0   2   0   0   1   5   1   \n",
      "2     173   1   1   4   5   7   1   1   2   4   2   2   3   2   1   5   6   3   \n",
      "\n",
      "Q3    23  24  25  26  29  31  32  33  35  39  41  \n",
      "Q18a                                              \n",
      "1      0   0   1   0   0   0   0   0   0   0   0  \n",
      "2      1   1   0   2   1   1   1   2   1   1   1  \n",
      "dof=28\n",
      "[[2.74212454e+01 1.39194139e-01 2.78388278e-01 6.95970696e-01\n",
      "  6.95970696e-01 1.11355311e+00 1.39194139e-01 2.78388278e-01\n",
      "  2.78388278e-01 5.56776557e-01 2.78388278e-01 2.78388278e-01\n",
      "  6.95970696e-01 2.78388278e-01 1.39194139e-01 8.35164835e-01\n",
      "  1.53113553e+00 5.56776557e-01 1.39194139e-01 1.39194139e-01\n",
      "  1.39194139e-01 2.78388278e-01 1.39194139e-01 1.39194139e-01\n",
      "  1.39194139e-01 2.78388278e-01 1.39194139e-01 1.39194139e-01\n",
      "  1.39194139e-01]\n",
      " [1.69578755e+02 8.60805861e-01 1.72161172e+00 4.30402930e+00\n",
      "  4.30402930e+00 6.88644689e+00 8.60805861e-01 1.72161172e+00\n",
      "  1.72161172e+00 3.44322344e+00 1.72161172e+00 1.72161172e+00\n",
      "  4.30402930e+00 1.72161172e+00 8.60805861e-01 5.16483516e+00\n",
      "  9.46886447e+00 3.44322344e+00 8.60805861e-01 8.60805861e-01\n",
      "  8.60805861e-01 1.72161172e+00 8.60805861e-01 8.60805861e-01\n",
      "  8.60805861e-01 1.72161172e+00 8.60805861e-01 8.60805861e-01\n",
      "  8.60805861e-01]]\n",
      "probability=0.950, critical=41.337, stat=28.784\n",
      "Independent (fail to reject H0)\n",
      "significance=0.050, p=0.424\n",
      "Independent (fail to reject H0)\n"
     ]
    }
   ],
   "source": [
    "# Constructing Contingency Table\n",
    "Q18aQ3 = pd.crosstab(df4['Q18a'],df4['Q3'],margins = False)\n",
    "table= Q18aQ3\n",
    "print(Q18aQ3)\n",
    "stat, p, dof, expected = chi2_contingency(table)\n",
    "print('dof=%d' % dof)\n",
    "print(expected)\n",
    "# interpret test-statistic\n",
    "prob = 0.95\n",
    "critical = chi2.ppf(prob, dof)\n",
    "print('probability=%.3f, critical=%.3f, stat=%.3f' % (prob, critical, stat))\n",
    "if abs(stat) >= critical:\n",
    "    print('Dependent (reject H0)')\n",
    "else:\n",
    "    print('Independent (fail to reject H0)')\n",
    "# interpret p-value\n",
    "alpha = 1.0 - prob\n",
    "print('significance=%.3f, p=%.3f' % (alpha, p))\n",
    "if p <= alpha:\n",
    "    print('Dependent (reject H0)')\n",
    "else:\n",
    "    print('Independent (fail to reject H0)')"
   ]
  },
  {
   "cell_type": "code",
   "execution_count": 219,
   "metadata": {
    "colab": {
     "base_uri": "https://localhost:8080/"
    },
    "id": "7E_AGUeW9PrM",
    "outputId": "18e1a218-e1dd-46bf-9f33-0c6482462011"
   },
   "outputs": [
    {
     "name": "stdout",
     "output_type": "stream",
     "text": [
      "Q8     1    2\n",
      "Q18a         \n",
      "1     11   27\n",
      "2     91  144\n",
      "dof=1\n",
      "[[ 14.1978022  23.8021978]\n",
      " [ 87.8021978 147.1978022]]\n",
      "probability=0.950, critical=3.841, stat=0.951\n",
      "Independent (fail to reject H0)\n",
      "significance=0.050, p=0.330\n",
      "Independent (fail to reject H0)\n"
     ]
    }
   ],
   "source": [
    "# Constructing Contingency Table\n",
    "Q18aQ8 = pd.crosstab(df4['Q18a'],df4['Q8'],margins = False)\n",
    "table= Q18aQ8\n",
    "print(Q18aQ8)\n",
    "stat, p, dof, expected = chi2_contingency(table)\n",
    "print('dof=%d' % dof)\n",
    "print(expected)\n",
    "# interpret test-statistic\n",
    "prob = 0.95\n",
    "critical = chi2.ppf(prob, dof)\n",
    "print('probability=%.3f, critical=%.3f, stat=%.3f' % (prob, critical, stat))\n",
    "if abs(stat) >= critical:\n",
    "    print('Dependent (reject H0)')\n",
    "else:\n",
    "    print('Independent (fail to reject H0)')\n",
    "# interpret p-value\n",
    "alpha = 1.0 - prob\n",
    "print('significance=%.3f, p=%.3f' % (alpha, p))\n",
    "if p <= alpha:\n",
    "    print('Dependent (reject H0)')\n",
    "else:\n",
    "    print('Independent (fail to reject H0)')"
   ]
  },
  {
   "cell_type": "code",
   "execution_count": 220,
   "metadata": {
    "colab": {
     "base_uri": "https://localhost:8080/"
    },
    "id": "4QZ_X_vt9PrM",
    "outputId": "8d40cc89-7e92-455b-c23f-f3eb2bf551dc"
   },
   "outputs": [
    {
     "name": "stdout",
     "output_type": "stream",
     "text": [
      "Q2    0    1   2\n",
      "Q18a            \n",
      "1     0   26  12\n",
      "2     1  192  42\n",
      "dof=1\n",
      "[[ 23.66300366  14.33699634]\n",
      " [146.33699634  88.66300366]]\n",
      "probability=0.950, critical=3.841, stat=0.003\n",
      "Independent (fail to reject H0)\n",
      "significance=0.050, p=0.953\n",
      "Independent (fail to reject H0)\n"
     ]
    }
   ],
   "source": [
    "# Constructing Contingency Table\n",
    "Q18aQ9 = pd.crosstab(df4['Q18a'],df4['Q9'],margins = False)\n",
    "table= Q18aQ9\n",
    "print(Q18aQ2)\n",
    "stat, p, dof, expected = chi2_contingency(table)\n",
    "print('dof=%d' % dof)\n",
    "print(expected)\n",
    "# interpret test-statistic\n",
    "prob = 0.95\n",
    "critical = chi2.ppf(prob, dof)\n",
    "print('probability=%.3f, critical=%.3f, stat=%.3f' % (prob, critical, stat))\n",
    "if abs(stat) >= critical:\n",
    "    print('Dependent (reject H0)')\n",
    "else:\n",
    "    print('Independent (fail to reject H0)')\n",
    "# interpret p-value\n",
    "alpha = 1.0 - prob\n",
    "print('significance=%.3f, p=%.3f' % (alpha, p))\n",
    "if p <= alpha:\n",
    "    print('Dependent (reject H0)')\n",
    "else:\n",
    "    print('Independent (fail to reject H0)')"
   ]
  },
  {
   "cell_type": "code",
   "execution_count": 221,
   "metadata": {
    "colab": {
     "base_uri": "https://localhost:8080/"
    },
    "id": "3wzMyGt29PrM",
    "outputId": "ba191739-f0dd-4d73-f6ea-4a68bbdc0155"
   },
   "outputs": [
    {
     "name": "stdout",
     "output_type": "stream",
     "text": [
      "Q10     1   2\n",
      "Q18a         \n",
      "1      23  15\n",
      "2     155  80\n",
      "dof=1\n",
      "[[ 24.77655678  13.22344322]\n",
      " [153.22344322  81.77655678]]\n",
      "probability=0.950, critical=3.841, stat=0.220\n",
      "Independent (fail to reject H0)\n",
      "significance=0.050, p=0.639\n",
      "Independent (fail to reject H0)\n"
     ]
    }
   ],
   "source": [
    "# Constructing Contingency Table\n",
    "Q18aQ10 = pd.crosstab(df4['Q18a'],df4['Q10'],margins = False)\n",
    "table= Q18aQ10\n",
    "print(Q18aQ10)\n",
    "stat, p, dof, expected = chi2_contingency(table)\n",
    "print('dof=%d' % dof)\n",
    "print(expected)\n",
    "# interpret test-statistic\n",
    "prob = 0.95\n",
    "critical = chi2.ppf(prob, dof)\n",
    "print('probability=%.3f, critical=%.3f, stat=%.3f' % (prob, critical, stat))\n",
    "if abs(stat) >= critical:\n",
    "    print('Dependent (reject H0)')\n",
    "else:\n",
    "    print('Independent (fail to reject H0)')\n",
    "# interpret p-value\n",
    "alpha = 1.0 - prob\n",
    "print('significance=%.3f, p=%.3f' % (alpha, p))\n",
    "if p <= alpha:\n",
    "    print('Dependent (reject H0)')\n",
    "else:\n",
    "    print('Independent (fail to reject H0)')"
   ]
  },
  {
   "cell_type": "code",
   "execution_count": 222,
   "metadata": {
    "colab": {
     "base_uri": "https://localhost:8080/"
    },
    "id": "QiwCdp2n9PrN",
    "outputId": "04ecc933-5924-467e-afc5-0ad78b60f5b2"
   },
   "outputs": [
    {
     "name": "stdout",
     "output_type": "stream",
     "text": [
      "Q11     1    2\n",
      "Q18a          \n",
      "1      27   11\n",
      "2     123  112\n",
      "dof=1\n",
      "[[ 20.87912088  17.12087912]\n",
      " [129.12087912 105.87912088]]\n",
      "probability=0.950, critical=3.841, stat=3.902\n",
      "Dependent (reject H0)\n",
      "significance=0.050, p=0.048\n",
      "Dependent (reject H0)\n"
     ]
    }
   ],
   "source": [
    "# Constructing Contingency Table\n",
    "Q18aQ11 = pd.crosstab(df4['Q18a'],df4['Q11'],margins = False)\n",
    "table= Q18aQ11\n",
    "print(Q18aQ11)\n",
    "stat, p, dof, expected = chi2_contingency(table)\n",
    "print('dof=%d' % dof)\n",
    "print(expected)\n",
    "# interpret test-statistic\n",
    "prob = 0.95\n",
    "critical = chi2.ppf(prob, dof)\n",
    "print('probability=%.3f, critical=%.3f, stat=%.3f' % (prob, critical, stat))\n",
    "if abs(stat) >= critical:\n",
    "    print('Dependent (reject H0)')\n",
    "else:\n",
    "    print('Independent (fail to reject H0)')\n",
    "# interpret p-value\n",
    "alpha = 1.0 - prob\n",
    "print('significance=%.3f, p=%.3f' % (alpha, p))\n",
    "if p <= alpha:\n",
    "    print('Dependent (reject H0)')\n",
    "else:\n",
    "    print('Independent (fail to reject H0)')"
   ]
  },
  {
   "cell_type": "code",
   "execution_count": 223,
   "metadata": {
    "colab": {
     "base_uri": "https://localhost:8080/"
    },
    "id": "HJEWchwn9PrN",
    "outputId": "3fc73319-a401-4d30-af3f-4bf0175bdc15"
   },
   "outputs": [
    {
     "name": "stdout",
     "output_type": "stream",
     "text": [
      "Q12   2   4   5   6   7   8   9   10\n",
      "Q18a                                \n",
      "1      0   0   1   7  15  13   1   1\n",
      "2      1   1   3  27  91  98  13   1\n",
      "dof=7\n",
      "[[ 0.13919414  0.13919414  0.55677656  4.73260073 14.75457875 15.45054945\n",
      "   1.94871795  0.27838828]\n",
      " [ 0.86080586  0.86080586  3.44322344 29.26739927 91.24542125 95.54945055\n",
      "  12.05128205  1.72161172]]\n",
      "probability=0.950, critical=14.067, stat=5.161\n",
      "Independent (fail to reject H0)\n",
      "significance=0.050, p=0.640\n",
      "Independent (fail to reject H0)\n"
     ]
    }
   ],
   "source": [
    "# Constructing Contingency Table\n",
    "Q18aQ12 = pd.crosstab(df4['Q18a'],df4['Q12'],margins = False)\n",
    "table= Q18aQ12\n",
    "print(Q18aQ12)\n",
    "stat, p, dof, expected = chi2_contingency(table)\n",
    "print('dof=%d' % dof)\n",
    "print(expected)\n",
    "# interpret test-statistic\n",
    "prob = 0.95\n",
    "critical = chi2.ppf(prob, dof)\n",
    "print('probability=%.3f, critical=%.3f, stat=%.3f' % (prob, critical, stat))\n",
    "if abs(stat) >= critical:\n",
    "    print('Dependent (reject H0)')\n",
    "else:\n",
    "    print('Independent (fail to reject H0)')\n",
    "# interpret p-value\n",
    "alpha = 1.0 - prob\n",
    "print('significance=%.3f, p=%.3f' % (alpha, p))\n",
    "if p <= alpha:\n",
    "    print('Dependent (reject H0)')\n",
    "else:\n",
    "    print('Independent (fail to reject H0)')"
   ]
  },
  {
   "cell_type": "code",
   "execution_count": 224,
   "metadata": {
    "colab": {
     "base_uri": "https://localhost:8080/"
    },
    "id": "avgKe9qj9PrN",
    "outputId": "12630bb5-02df-482c-bf93-d295f839edc9"
   },
   "outputs": [
    {
     "name": "stdout",
     "output_type": "stream",
     "text": [
      "Q13   3   4   5   6   7   8   9   10\n",
      "Q18a                                \n",
      "1      0   2   2   5  12  12   2   3\n",
      "2      1   5  29  40  58  77  21   4\n",
      "dof=7\n",
      "[[ 0.13919414  0.97435897  4.31501832  6.26373626  9.74358974 12.38827839\n",
      "   3.2014652   0.97435897]\n",
      " [ 0.86080586  6.02564103 26.68498168 38.73626374 60.25641026 76.61172161\n",
      "  19.7985348   6.02564103]]\n",
      "probability=0.950, critical=14.067, stat=9.192\n",
      "Independent (fail to reject H0)\n",
      "significance=0.050, p=0.239\n",
      "Independent (fail to reject H0)\n"
     ]
    }
   ],
   "source": [
    "# Constructing Contingency Table\n",
    "Q18aQ13 = pd.crosstab(df4['Q18a'],df4['Q13'],margins = False)\n",
    "table= Q18aQ13\n",
    "print(Q18aQ13)\n",
    "stat, p, dof, expected = chi2_contingency(table)\n",
    "print('dof=%d' % dof)\n",
    "print(expected)\n",
    "# interpret test-statistic\n",
    "prob = 0.95\n",
    "critical = chi2.ppf(prob, dof)\n",
    "print('probability=%.3f, critical=%.3f, stat=%.3f' % (prob, critical, stat))\n",
    "if abs(stat) >= critical:\n",
    "    print('Dependent (reject H0)')\n",
    "else:\n",
    "    print('Independent (fail to reject H0)')\n",
    "# interpret p-value\n",
    "alpha = 1.0 - prob\n",
    "print('significance=%.3f, p=%.3f' % (alpha, p))\n",
    "if p <= alpha:\n",
    "    print('Dependent (reject H0)')\n",
    "else:\n",
    "    print('Independent (fail to reject H0)')"
   ]
  },
  {
   "cell_type": "code",
   "execution_count": 225,
   "metadata": {
    "colab": {
     "base_uri": "https://localhost:8080/"
    },
    "id": "mvdjQ6bV9PrO",
    "outputId": "1e35543e-a024-4e28-f618-04442a8b0185"
   },
   "outputs": [
    {
     "name": "stdout",
     "output_type": "stream",
     "text": [
      "Q14    1    2\n",
      "Q18a         \n",
      "1     15   23\n",
      "2     94  141\n",
      "dof=1\n",
      "[[ 15.17216117  22.82783883]\n",
      " [ 93.82783883 141.17216117]]\n",
      "probability=0.950, critical=3.841, stat=0.014\n",
      "Independent (fail to reject H0)\n",
      "significance=0.050, p=0.907\n",
      "Independent (fail to reject H0)\n"
     ]
    }
   ],
   "source": [
    "# Constructing Contingency Table\n",
    "Q18aQ14 = pd.crosstab(df4['Q18a'],df4['Q14'],margins = False)\n",
    "table= Q18aQ14\n",
    "print(Q18aQ14)\n",
    "stat, p, dof, expected = chi2_contingency(table)\n",
    "print('dof=%d' % dof)\n",
    "print(expected)\n",
    "# interpret test-statistic\n",
    "prob = 0.95\n",
    "critical = chi2.ppf(prob, dof)\n",
    "print('probability=%.3f, critical=%.3f, stat=%.3f' % (prob, critical, stat))\n",
    "if abs(stat) >= critical:\n",
    "    print('Dependent (reject H0)')\n",
    "else:\n",
    "    print('Independent (fail to reject H0)')\n",
    "# interpret p-value\n",
    "alpha = 1.0 - prob\n",
    "print('significance=%.3f, p=%.3f' % (alpha, p))\n",
    "if p <= alpha:\n",
    "    print('Dependent (reject H0)')\n",
    "else:\n",
    "    print('Independent (fail to reject H0)')"
   ]
  },
  {
   "cell_type": "code",
   "execution_count": 226,
   "metadata": {
    "colab": {
     "base_uri": "https://localhost:8080/"
    },
    "id": "-Bg70f-T9PrP",
    "outputId": "75705849-562f-4561-cfae-5667b228b2ad"
   },
   "outputs": [
    {
     "name": "stdout",
     "output_type": "stream",
     "text": [
      "Q15    1    2\n",
      "Q18a         \n",
      "1     18   20\n",
      "2     68  167\n",
      "dof=1\n",
      "[[ 11.97069597  26.02930403]\n",
      " [ 74.02930403 160.97069597]]\n",
      "probability=0.950, critical=3.841, stat=4.331\n",
      "Dependent (reject H0)\n",
      "significance=0.050, p=0.037\n",
      "Dependent (reject H0)\n"
     ]
    }
   ],
   "source": [
    "# Constructing Contingency Table\n",
    "Q18aQ15 = pd.crosstab(df4['Q18a'],df4['Q15'],margins = False)\n",
    "table= Q18aQ15\n",
    "print(Q18aQ15)\n",
    "stat, p, dof, expected = chi2_contingency(table)\n",
    "print('dof=%d' % dof)\n",
    "print(expected)\n",
    "# interpret test-statistic\n",
    "prob = 0.95\n",
    "critical = chi2.ppf(prob, dof)\n",
    "print('probability=%.3f, critical=%.3f, stat=%.3f' % (prob, critical, stat))\n",
    "if abs(stat) >= critical:\n",
    "    print('Dependent (reject H0)')\n",
    "else:\n",
    "    print('Independent (fail to reject H0)')\n",
    "# interpret p-value\n",
    "alpha = 1.0 - prob\n",
    "print('significance=%.3f, p=%.3f' % (alpha, p))\n",
    "if p <= alpha:\n",
    "    print('Dependent (reject H0)')\n",
    "else:\n",
    "    print('Independent (fail to reject H0)')"
   ]
  },
  {
   "cell_type": "code",
   "execution_count": 227,
   "metadata": {
    "colab": {
     "base_uri": "https://localhost:8080/"
    },
    "id": "pk6dAd3f9PrQ",
    "outputId": "58122337-cb24-45b7-8f4a-cb8cb9f7eef7"
   },
   "outputs": [
    {
     "name": "stdout",
     "output_type": "stream",
     "text": [
      "Q16    1    2\n",
      "Q18a         \n",
      "1     11   27\n",
      "2     58  177\n",
      "dof=1\n",
      "[[  9.6043956  28.3956044]\n",
      " [ 59.3956044 175.6043956]]\n",
      "probability=0.950, critical=3.841, stat=0.130\n",
      "Independent (fail to reject H0)\n",
      "significance=0.050, p=0.719\n",
      "Independent (fail to reject H0)\n"
     ]
    }
   ],
   "source": [
    "# Constructing Contingency Table\n",
    "Q18aQ16 = pd.crosstab(df4['Q18a'],df4['Q16'],margins = False)\n",
    "table= Q18aQ16\n",
    "print(Q18aQ16)\n",
    "stat, p, dof, expected = chi2_contingency(table)\n",
    "print('dof=%d' % dof)\n",
    "print(expected)\n",
    "# interpret test-statistic\n",
    "prob = 0.95\n",
    "critical = chi2.ppf(prob, dof)\n",
    "print('probability=%.3f, critical=%.3f, stat=%.3f' % (prob, critical, stat))\n",
    "if abs(stat) >= critical:\n",
    "    print('Dependent (reject H0)')\n",
    "else:\n",
    "    print('Independent (fail to reject H0)')\n",
    "# interpret p-value\n",
    "alpha = 1.0 - prob\n",
    "print('significance=%.3f, p=%.3f' % (alpha, p))\n",
    "if p <= alpha:\n",
    "    print('Dependent (reject H0)')\n",
    "else:\n",
    "    print('Independent (fail to reject H0)')"
   ]
  },
  {
   "cell_type": "code",
   "execution_count": 228,
   "metadata": {
    "colab": {
     "base_uri": "https://localhost:8080/"
    },
    "id": "RXqZRouV9PrR",
    "outputId": "4794d444-f73f-4a81-ca7e-6da0fabd7c45"
   },
   "outputs": [
    {
     "name": "stdout",
     "output_type": "stream",
     "text": [
      "Q17     1   2\n",
      "Q18a         \n",
      "1      30   8\n",
      "2     180  55\n",
      "dof=1\n",
      "[[ 29.23076923   8.76923077]\n",
      " [180.76923077  54.23076923]]\n",
      "probability=0.950, critical=3.841, stat=0.012\n",
      "Independent (fail to reject H0)\n",
      "significance=0.050, p=0.911\n",
      "Independent (fail to reject H0)\n"
     ]
    }
   ],
   "source": [
    "# Constructing Contingency Table\n",
    "Q18aQ17 = pd.crosstab(df4['Q18a'],df4['Q17'],margins = False)\n",
    "table= Q18aQ17\n",
    "print(Q18aQ17)\n",
    "stat, p, dof, expected = chi2_contingency(table)\n",
    "print('dof=%d' % dof)\n",
    "print(expected)\n",
    "# interpret test-statistic\n",
    "prob = 0.95\n",
    "critical = chi2.ppf(prob, dof)\n",
    "print('probability=%.3f, critical=%.3f, stat=%.3f' % (prob, critical, stat))\n",
    "if abs(stat) >= critical:\n",
    "    print('Dependent (reject H0)')\n",
    "else:\n",
    "    print('Independent (fail to reject H0)')\n",
    "# interpret p-value\n",
    "alpha = 1.0 - prob\n",
    "print('significance=%.3f, p=%.3f' % (alpha, p))\n",
    "if p <= alpha:\n",
    "    print('Dependent (reject H0)')\n",
    "else:\n",
    "    print('Independent (fail to reject H0)')"
   ]
  },
  {
   "cell_type": "code",
   "execution_count": 229,
   "metadata": {
    "colab": {
     "base_uri": "https://localhost:8080/"
    },
    "id": "oynwyKcZ9PrS",
    "outputId": "10721dfd-afb9-4361-d9f4-f2cf148b467b"
   },
   "outputs": [
    {
     "name": "stdout",
     "output_type": "stream",
     "text": [
      "Q19   1   2   3   4   5\n",
      "Q18a                   \n",
      "1     1   4  18  11   4\n",
      "2     4  47  80  86  18\n",
      "dof=4\n",
      "[[ 0.6959707   7.0989011  13.64102564 13.5018315   3.06227106]\n",
      " [ 4.3040293  43.9010989  84.35897436 83.4981685  18.93772894]]\n",
      "probability=0.950, critical=9.488, stat=4.216\n",
      "Independent (fail to reject H0)\n",
      "significance=0.050, p=0.378\n",
      "Independent (fail to reject H0)\n"
     ]
    }
   ],
   "source": [
    "# Constructing Contingency Table\n",
    "Q18aQ19 = pd.crosstab(df4['Q18a'],df4['Q19'],margins = False)\n",
    "table= Q18aQ19\n",
    "print(Q18aQ19)\n",
    "stat, p, dof, expected = chi2_contingency(table)\n",
    "print('dof=%d' % dof)\n",
    "print(expected)\n",
    "# interpret test-statistic\n",
    "prob = 0.95\n",
    "critical = chi2.ppf(prob, dof)\n",
    "print('probability=%.3f, critical=%.3f, stat=%.3f' % (prob, critical, stat))\n",
    "if abs(stat) >= critical:\n",
    "    print('Dependent (reject H0)')\n",
    "else:\n",
    "    print('Independent (fail to reject H0)')\n",
    "# interpret p-value\n",
    "alpha = 1.0 - prob\n",
    "print('significance=%.3f, p=%.3f' % (alpha, p))\n",
    "if p <= alpha:\n",
    "    print('Dependent (reject H0)')\n",
    "else:\n",
    "    print('Independent (fail to reject H0)')"
   ]
  },
  {
   "cell_type": "code",
   "execution_count": 230,
   "metadata": {
    "colab": {
     "base_uri": "https://localhost:8080/"
    },
    "id": "FaGnJSRz9PrT",
    "outputId": "9218d9ab-4065-4888-ef90-a5b4c2c6874e"
   },
   "outputs": [
    {
     "name": "stdout",
     "output_type": "stream",
     "text": [
      "Q20   1  2   3   4    5\n",
      "Q18a                   \n",
      "1     9  9   6  13    1\n",
      "2     0  2  99  28  106\n",
      "dof=4\n",
      "[[ 1.25274725  1.53113553 14.61538462  5.70695971 14.89377289]\n",
      " [ 7.74725275  9.46886447 90.38461538 35.29304029 92.10622711]]\n",
      "probability=0.950, critical=9.488, stat=129.766\n",
      "Dependent (reject H0)\n",
      "significance=0.050, p=0.000\n",
      "Dependent (reject H0)\n"
     ]
    }
   ],
   "source": [
    "# Constructing Contingency Table\n",
    "Q18aQ20 = pd.crosstab(df4['Q18a'],df4['Q20'],margins = False)\n",
    "table= Q18aQ20\n",
    "print(Q18aQ20)\n",
    "stat, p, dof, expected = chi2_contingency(table)\n",
    "print('dof=%d' % dof)\n",
    "print(expected)\n",
    "# interpret test-statistic\n",
    "prob = 0.95\n",
    "critical = chi2.ppf(prob, dof)\n",
    "print('probability=%.3f, critical=%.3f, stat=%.3f' % (prob, critical, stat))\n",
    "if abs(stat) >= critical:\n",
    "    print('Dependent (reject H0)')\n",
    "else:\n",
    "    print('Independent (fail to reject H0)')\n",
    "# interpret p-value\n",
    "alpha = 1.0 - prob\n",
    "print('significance=%.3f, p=%.3f' % (alpha, p))\n",
    "if p <= alpha:\n",
    "    print('Dependent (reject H0)')\n",
    "else:\n",
    "    print('Independent (fail to reject H0)')"
   ]
  },
  {
   "cell_type": "code",
   "execution_count": 231,
   "metadata": {
    "colab": {
     "base_uri": "https://localhost:8080/"
    },
    "id": "NUEEcwip9PrU",
    "outputId": "25ea9acb-9683-4076-f249-3a0688345dec"
   },
   "outputs": [
    {
     "name": "stdout",
     "output_type": "stream",
     "text": [
      "Q21     1   2  3  4  5\n",
      "Q18a                  \n",
      "1      33   2  2  0  1\n",
      "2     210  15  4  4  2\n",
      "dof=4\n",
      "[[ 33.82417582   2.36630037   0.83516484   0.55677656   0.41758242]\n",
      " [209.17582418  14.63369963   5.16483516   3.44322344   2.58241758]]\n",
      "probability=0.950, critical=9.488, stat=3.567\n",
      "Independent (fail to reject H0)\n",
      "significance=0.050, p=0.468\n",
      "Independent (fail to reject H0)\n"
     ]
    }
   ],
   "source": [
    "# Constructing Contingency Table\n",
    "Q18aQ21 = pd.crosstab(df4['Q18a'],df4['Q21'],margins = False)\n",
    "table= Q18aQ21\n",
    "print(Q18aQ21)\n",
    "stat, p, dof, expected = chi2_contingency(table)\n",
    "print('dof=%d' % dof)\n",
    "print(expected)\n",
    "# interpret test-statistic\n",
    "prob = 0.95\n",
    "critical = chi2.ppf(prob, dof)\n",
    "print('probability=%.3f, critical=%.3f, stat=%.3f' % (prob, critical, stat))\n",
    "if abs(stat) >= critical:\n",
    "    print('Dependent (reject H0)')\n",
    "else:\n",
    "    print('Independent (fail to reject H0)')\n",
    "# interpret p-value\n",
    "alpha = 1.0 - prob\n",
    "print('significance=%.3f, p=%.3f' % (alpha, p))\n",
    "if p <= alpha:\n",
    "    print('Dependent (reject H0)')\n",
    "else:\n",
    "    print('Independent (fail to reject H0)')"
   ]
  },
  {
   "cell_type": "code",
   "execution_count": 232,
   "metadata": {
    "colab": {
     "base_uri": "https://localhost:8080/"
    },
    "id": "h1qGenQ19PrV",
    "outputId": "622a468b-c326-4060-a386-26eb81e5a3a5"
   },
   "outputs": [
    {
     "name": "stdout",
     "output_type": "stream",
     "text": [
      "Q22     1   2  3  4  5\n",
      "Q18a                  \n",
      "1      34   0  2  0  2\n",
      "2     203  14  2  9  7\n",
      "dof=4\n",
      "[[ 32.98901099   1.94871795   0.55677656   1.25274725   1.25274725]\n",
      " [204.01098901  12.05128205   3.44322344   7.74725275   7.74725275]]\n",
      "probability=0.950, critical=9.488, stat=8.619\n",
      "Independent (fail to reject H0)\n",
      "significance=0.050, p=0.071\n",
      "Independent (fail to reject H0)\n"
     ]
    }
   ],
   "source": [
    "# Constructing Contingency Table\n",
    "Q18aQ22 = pd.crosstab(df4['Q18a'],df4['Q22'],margins = False)\n",
    "table= Q18aQ22\n",
    "print(Q18aQ22)\n",
    "stat, p, dof, expected = chi2_contingency(table)\n",
    "print('dof=%d' % dof)\n",
    "print(expected)\n",
    "# interpret test-statistic\n",
    "prob = 0.95\n",
    "critical = chi2.ppf(prob, dof)\n",
    "print('probability=%.3f, critical=%.3f, stat=%.3f' % (prob, critical, stat))\n",
    "if abs(stat) >= critical:\n",
    "    print('Dependent (reject H0)')\n",
    "else:\n",
    "    print('Independent (fail to reject H0)')\n",
    "# interpret p-value\n",
    "alpha = 1.0 - prob\n",
    "print('significance=%.3f, p=%.3f' % (alpha, p))\n",
    "if p <= alpha:\n",
    "    print('Dependent (reject H0)')\n",
    "else:\n",
    "    print('Independent (fail to reject H0)')"
   ]
  },
  {
   "cell_type": "code",
   "execution_count": 233,
   "metadata": {
    "colab": {
     "base_uri": "https://localhost:8080/"
    },
    "id": "OxVBnsVV9PrV",
    "outputId": "c81ebe04-cd9a-4f5f-9425-8ef91cc1316e"
   },
   "outputs": [
    {
     "name": "stdout",
     "output_type": "stream",
     "text": [
      "Q23    1    2\n",
      "Q18a         \n",
      "1     10   28\n",
      "2     41  194\n",
      "dof=1\n",
      "[[  7.0989011  30.9010989]\n",
      " [ 43.9010989 191.0989011]]\n",
      "probability=0.950, critical=3.841, stat=1.160\n",
      "Independent (fail to reject H0)\n",
      "significance=0.050, p=0.281\n",
      "Independent (fail to reject H0)\n"
     ]
    }
   ],
   "source": [
    "# Constructing Contingency Table\n",
    "Q18aQ23 = pd.crosstab(df4['Q18a'],df4['Q23'],margins = False)\n",
    "table= Q18aQ23\n",
    "print(Q18aQ23)\n",
    "stat, p, dof, expected = chi2_contingency(table)\n",
    "print('dof=%d' % dof)\n",
    "print(expected)\n",
    "# interpret test-statistic\n",
    "prob = 0.95\n",
    "critical = chi2.ppf(prob, dof)\n",
    "print('probability=%.3f, critical=%.3f, stat=%.3f' % (prob, critical, stat))\n",
    "if abs(stat) >= critical:\n",
    "    print('Dependent (reject H0)')\n",
    "else:\n",
    "    print('Independent (fail to reject H0)')\n",
    "# interpret p-value\n",
    "alpha = 1.0 - prob\n",
    "print('significance=%.3f, p=%.3f' % (alpha, p))\n",
    "if p <= alpha:\n",
    "    print('Dependent (reject H0)')\n",
    "else:\n",
    "    print('Independent (fail to reject H0)')"
   ]
  },
  {
   "cell_type": "code",
   "execution_count": 234,
   "metadata": {
    "colab": {
     "base_uri": "https://localhost:8080/"
    },
    "id": "0G5nLqLp9PrV",
    "outputId": "a1f19c59-35e1-40ed-d89d-a908e9c3ac8c"
   },
   "outputs": [
    {
     "name": "stdout",
     "output_type": "stream",
     "text": [
      "Q24    1   2   3   4   5\n",
      "Q18a                    \n",
      "1      4  14   9  10   1\n",
      "2     35  79  67  38  16\n",
      "dof=4\n",
      "[[ 5.42857143 12.94505495 10.57875458  6.68131868  2.36630037]\n",
      " [33.57142857 80.05494505 65.42124542 41.31868132 14.63369963]]\n",
      "probability=0.950, critical=9.488, stat=3.642\n",
      "Independent (fail to reject H0)\n",
      "significance=0.050, p=0.457\n",
      "Independent (fail to reject H0)\n"
     ]
    }
   ],
   "source": [
    "# Constructing Contingency Table\n",
    "Q18aQ24 = pd.crosstab(df4['Q18a'],df4['Q24'],margins = False)\n",
    "table= Q18aQ24\n",
    "print(Q18aQ24)\n",
    "stat, p, dof, expected = chi2_contingency(table)\n",
    "print('dof=%d' % dof)\n",
    "print(expected)\n",
    "# interpret test-statistic\n",
    "prob = 0.95\n",
    "critical = chi2.ppf(prob, dof)\n",
    "print('probability=%.3f, critical=%.3f, stat=%.3f' % (prob, critical, stat))\n",
    "if abs(stat) >= critical:\n",
    "    print('Dependent (reject H0)')\n",
    "else:\n",
    "    print('Independent (fail to reject H0)')\n",
    "# interpret p-value\n",
    "alpha = 1.0 - prob\n",
    "print('significance=%.3f, p=%.3f' % (alpha, p))\n",
    "if p <= alpha:\n",
    "    print('Dependent (reject H0)')\n",
    "else:\n",
    "    print('Independent (fail to reject H0)')"
   ]
  },
  {
   "cell_type": "code",
   "execution_count": 235,
   "metadata": {
    "colab": {
     "base_uri": "https://localhost:8080/"
    },
    "id": "zJjOD2Us9PrW",
    "outputId": "88fa29dc-9bbb-42ce-8ca5-9fcc2579f0b5"
   },
   "outputs": [
    {
     "name": "stdout",
     "output_type": "stream",
     "text": [
      "Q25    1    2\n",
      "Q18a         \n",
      "1     14   24\n",
      "2     88  147\n",
      "dof=1\n",
      "[[ 14.1978022  23.8021978]\n",
      " [ 87.8021978 147.1978022]]\n",
      "probability=0.950, critical=3.841, stat=0.012\n",
      "Independent (fail to reject H0)\n",
      "significance=0.050, p=0.913\n",
      "Independent (fail to reject H0)\n"
     ]
    }
   ],
   "source": [
    "# Constructing Contingency Table\n",
    "Q18aQ25 = pd.crosstab(df4['Q18a'],df4['Q25'],margins = False)\n",
    "table= Q18aQ25\n",
    "print(Q18aQ25)\n",
    "stat, p, dof, expected = chi2_contingency(table)\n",
    "print('dof=%d' % dof)\n",
    "print(expected)\n",
    "# interpret test-statistic\n",
    "prob = 0.95\n",
    "critical = chi2.ppf(prob, dof)\n",
    "print('probability=%.3f, critical=%.3f, stat=%.3f' % (prob, critical, stat))\n",
    "if abs(stat) >= critical:\n",
    "    print('Dependent (reject H0)')\n",
    "else:\n",
    "    print('Independent (fail to reject H0)')\n",
    "# interpret p-value\n",
    "alpha = 1.0 - prob\n",
    "print('significance=%.3f, p=%.3f' % (alpha, p))\n",
    "if p <= alpha:\n",
    "    print('Dependent (reject H0)')\n",
    "else:\n",
    "    print('Independent (fail to reject H0)')"
   ]
  },
  {
   "cell_type": "code",
   "execution_count": 236,
   "metadata": {
    "colab": {
     "base_uri": "https://localhost:8080/"
    },
    "id": "SMJnr9CQ9PrW",
    "outputId": "811c5a53-c559-44ab-db9c-a9e04f0fdc36"
   },
   "outputs": [
    {
     "name": "stdout",
     "output_type": "stream",
     "text": [
      "Q26    1    2\n",
      "Q18a         \n",
      "1      3   35\n",
      "2     45  190\n",
      "dof=1\n",
      "[[  6.68131868  31.31868132]\n",
      " [ 41.31868132 193.68131868]]\n",
      "probability=0.950, critical=3.841, stat=2.135\n",
      "Independent (fail to reject H0)\n",
      "significance=0.050, p=0.144\n",
      "Independent (fail to reject H0)\n"
     ]
    }
   ],
   "source": [
    "# Constructing Contingency Table\n",
    "Q18aQ26 = pd.crosstab(df4['Q18a'],df4['Q26'],margins = False)\n",
    "table= Q18aQ26\n",
    "print(Q18aQ26)\n",
    "stat, p, dof, expected = chi2_contingency(table)\n",
    "print('dof=%d' % dof)\n",
    "print(expected)\n",
    "# interpret test-statistic\n",
    "prob = 0.95\n",
    "critical = chi2.ppf(prob, dof)\n",
    "print('probability=%.3f, critical=%.3f, stat=%.3f' % (prob, critical, stat))\n",
    "if abs(stat) >= critical:\n",
    "    print('Dependent (reject H0)')\n",
    "else:\n",
    "    print('Independent (fail to reject H0)')\n",
    "# interpret p-value\n",
    "alpha = 1.0 - prob\n",
    "print('significance=%.3f, p=%.3f' % (alpha, p))\n",
    "if p <= alpha:\n",
    "    print('Dependent (reject H0)')\n",
    "else:\n",
    "    print('Independent (fail to reject H0)')"
   ]
  },
  {
   "cell_type": "code",
   "execution_count": 237,
   "metadata": {
    "colab": {
     "base_uri": "https://localhost:8080/"
    },
    "id": "eNNzcWGY9PrW",
    "outputId": "ae97fa97-d1ff-4910-bc4f-985f2da17ff2"
   },
   "outputs": [
    {
     "name": "stdout",
     "output_type": "stream",
     "text": [
      "Q27    1    2\n",
      "Q18a         \n",
      "1      8   30\n",
      "2     73  162\n",
      "dof=1\n",
      "[[ 11.27472527  26.72527473]\n",
      " [ 69.72527473 165.27472527]]\n",
      "probability=0.950, critical=3.841, stat=1.128\n",
      "Independent (fail to reject H0)\n",
      "significance=0.050, p=0.288\n",
      "Independent (fail to reject H0)\n"
     ]
    }
   ],
   "source": [
    "# Constructing Contingency Table\n",
    "Q18aQ27 = pd.crosstab(df4['Q18a'],df4['Q27'],margins = False)\n",
    "table= Q18aQ27\n",
    "print(Q18aQ27)\n",
    "stat, p, dof, expected = chi2_contingency(table)\n",
    "print('dof=%d' % dof)\n",
    "print(expected)\n",
    "# interpret test-statistic\n",
    "prob = 0.95\n",
    "critical = chi2.ppf(prob, dof)\n",
    "print('probability=%.3f, critical=%.3f, stat=%.3f' % (prob, critical, stat))\n",
    "if abs(stat) >= critical:\n",
    "    print('Dependent (reject H0)')\n",
    "else:\n",
    "    print('Independent (fail to reject H0)')\n",
    "# interpret p-value\n",
    "alpha = 1.0 - prob\n",
    "print('significance=%.3f, p=%.3f' % (alpha, p))\n",
    "if p <= alpha:\n",
    "    print('Dependent (reject H0)')\n",
    "else:\n",
    "    print('Independent (fail to reject H0)')"
   ]
  },
  {
   "cell_type": "code",
   "execution_count": 238,
   "metadata": {
    "colab": {
     "base_uri": "https://localhost:8080/"
    },
    "id": "WVelz29u9PrX",
    "outputId": "c68113dc-1f55-4d91-e496-12c4fea70488"
   },
   "outputs": [
    {
     "name": "stdout",
     "output_type": "stream",
     "text": [
      "Q28    1    2\n",
      "Q18a         \n",
      "1     12   26\n",
      "2     95  140\n",
      "dof=1\n",
      "[[ 14.89377289  23.10622711]\n",
      " [ 92.10622711 142.89377289]]\n",
      "probability=0.950, critical=3.841, stat=0.735\n",
      "Independent (fail to reject H0)\n",
      "significance=0.050, p=0.391\n",
      "Independent (fail to reject H0)\n"
     ]
    }
   ],
   "source": [
    "# Constructing Contingency Table\n",
    "Q18aQ28 = pd.crosstab(df4['Q18a'],df4['Q28'],margins = False)\n",
    "table= Q18aQ28\n",
    "print(Q18aQ28)\n",
    "stat, p, dof, expected = chi2_contingency(table)\n",
    "print('dof=%d' % dof)\n",
    "print(expected)\n",
    "# interpret test-statistic\n",
    "prob = 0.95\n",
    "critical = chi2.ppf(prob, dof)\n",
    "print('probability=%.3f, critical=%.3f, stat=%.3f' % (prob, critical, stat))\n",
    "if abs(stat) >= critical:\n",
    "    print('Dependent (reject H0)')\n",
    "else:\n",
    "    print('Independent (fail to reject H0)')\n",
    "# interpret p-value\n",
    "alpha = 1.0 - prob\n",
    "print('significance=%.3f, p=%.3f' % (alpha, p))\n",
    "if p <= alpha:\n",
    "    print('Dependent (reject H0)')\n",
    "else:\n",
    "    print('Independent (fail to reject H0)')"
   ]
  },
  {
   "cell_type": "code",
   "execution_count": 239,
   "metadata": {
    "colab": {
     "base_uri": "https://localhost:8080/"
    },
    "id": "rGSJuJ7T9PrX",
    "outputId": "fcac110a-d57e-4eec-a3f4-22fa5741d78c"
   },
   "outputs": [
    {
     "name": "stdout",
     "output_type": "stream",
     "text": [
      "Q29    1    2\n",
      "Q18a         \n",
      "1      7   31\n",
      "2     44  191\n",
      "dof=1\n",
      "[[  7.0989011  30.9010989]\n",
      " [ 43.9010989 191.0989011]]\n",
      "probability=0.950, critical=3.841, stat=0.032\n",
      "Independent (fail to reject H0)\n",
      "significance=0.050, p=0.857\n",
      "Independent (fail to reject H0)\n"
     ]
    }
   ],
   "source": [
    "# Constructing Contingency Table\n",
    "Q18aQ29 = pd.crosstab(df4['Q18a'],df4['Q29'],margins = False)\n",
    "table= Q18aQ29\n",
    "print(Q18aQ29)\n",
    "stat, p, dof, expected = chi2_contingency(table)\n",
    "print('dof=%d' % dof)\n",
    "print(expected)\n",
    "# interpret test-statistic\n",
    "prob = 0.95\n",
    "critical = chi2.ppf(prob, dof)\n",
    "print('probability=%.3f, critical=%.3f, stat=%.3f' % (prob, critical, stat))\n",
    "if abs(stat) >= critical:\n",
    "    print('Dependent (reject H0)')\n",
    "else:\n",
    "    print('Independent (fail to reject H0)')\n",
    "# interpret p-value\n",
    "alpha = 1.0 - prob\n",
    "print('significance=%.3f, p=%.3f' % (alpha, p))\n",
    "if p <= alpha:\n",
    "    print('Dependent (reject H0)')\n",
    "else:\n",
    "    print('Independent (fail to reject H0)')"
   ]
  },
  {
   "cell_type": "code",
   "execution_count": null,
   "metadata": {
    "id": "bdeivHUD9PrX"
   },
   "outputs": [],
   "source": []
  },
  {
   "cell_type": "code",
   "execution_count": 240,
   "metadata": {
    "colab": {
     "base_uri": "https://localhost:8080/",
     "height": 276
    },
    "id": "N9Ozwgxc9PrY",
    "outputId": "45c994cc-2e9a-49dc-b1df-12f0536f314f"
   },
   "outputs": [
    {
     "data": {
      "image/png": "[encoded data removed]",
      "text/plain": [
       "<Figure size 432x288 with 1 Axes>"
      ]
     },
     "metadata": {
      "needs_background": "light"
     },
     "output_type": "display_data"
    }
   ],
   "source": [
    "import matplotlib.pyplot as plt\n",
    "import pandas as pd\n",
    "\n",
    "df4.groupby(['Q11','Q18a']).size().unstack().plot(kind='bar',stacked=True)\n",
    "plt.xlabel('Question 11: Are children home from school in the house?// 1:NO & 2:YES')\n",
    "plt.ylabel('Frequency')\n",
    "plt.show()\n"
   ]
  },
  {
   "cell_type": "code",
   "execution_count": 241,
   "metadata": {
    "colab": {
     "base_uri": "https://localhost:8080/",
     "height": 276
    },
    "id": "Q9AA-BpX9PrY",
    "outputId": "c5d591d6-8838-45f6-aa3f-ee7d0aebf1ad"
   },
   "outputs": [
    {
     "data": {
      "image/png": "[encoded data removed]",
      "text/plain": [
       "<Figure size 432x288 with 1 Axes>"
      ]
     },
     "metadata": {
      "needs_background": "light"
     },
     "output_type": "display_data"
    }
   ],
   "source": [
    "import matplotlib.pyplot as plt\n",
    "import pandas as pd\n",
    "\n",
    "df4.groupby(['Q11','Q18a']).size().unstack().plot(kind='bar',stacked=True)\n",
    "plt.xlabel('Please tell us how the amount of alcohol you are consuming has changed')\n",
    "plt.ylabel('Frequency')\n",
    "plt.show()\n"
   ]
  },
  {
   "cell_type": "code",
   "execution_count": 242,
   "metadata": {
    "colab": {
     "base_uri": "https://localhost:8080/",
     "height": 276
    },
    "id": "hnJXznJQ9PrY",
    "outputId": "604462dd-8a92-4288-8da3-bc33dbc8265d"
   },
   "outputs": [
    {
     "data": {
      "image/png": "[encoded data removed]",
      "text/plain": [
       "<Figure size 432x288 with 1 Axes>"
      ]
     },
     "metadata": {
      "needs_background": "light"
     },
     "output_type": "display_data"
    }
   ],
   "source": [
    "import matplotlib.pyplot as plt\n",
    "import pandas as pd\n",
    "\n",
    "df4.groupby(['Q15','Q18a']).size().unstack().plot(kind='bar',stacked=True)\n",
    "plt.show()\n"
   ]
  },
  {
   "cell_type": "code",
   "execution_count": null,
   "metadata": {
    "id": "zLCibP3a9PrZ"
   },
   "outputs": [],
   "source": []
  },
  {
   "cell_type": "code",
   "execution_count": 243,
   "metadata": {
    "colab": {
     "base_uri": "https://localhost:8080/",
     "height": 276
    },
    "id": "apgKqu_d9PrZ",
    "outputId": "c6ddc27f-2906-49b8-b851-79e923f4916a"
   },
   "outputs": [
    {
     "data": {
      "image/png": "[encoded data removed]",
      "text/plain": [
       "<Figure size 432x288 with 1 Axes>"
      ]
     },
     "metadata": {
      "needs_background": "light"
     },
     "output_type": "display_data"
    }
   ],
   "source": [
    "import matplotlib.pyplot as plt\n",
    "import pandas as pd\n",
    "\n",
    "df4.groupby(['Q20','Q18a']).size().unstack().plot(kind='bar',stacked=True)\n",
    "plt.show()\n"
   ]
  },
  {
   "cell_type": "code",
   "execution_count": null,
   "metadata": {
    "id": "dKXcW0wi9PrZ"
   },
   "outputs": [],
   "source": []
  },
  {
   "cell_type": "code",
   "execution_count": 244,
   "metadata": {
    "colab": {
     "base_uri": "https://localhost:8080/",
     "height": 276
    },
    "id": "h1G2JnRn9PrZ",
    "outputId": "81baafb7-7fc0-4ad6-d494-8b724619d0de"
   },
   "outputs": [
    {
     "data": {
      "image/png": "[encoded data removed]",
      "text/plain": [
       "<Figure size 432x288 with 1 Axes>"
      ]
     },
     "metadata": {
      "needs_background": "light"
     },
     "output_type": "display_data"
    }
   ],
   "source": [
    "import matplotlib.pyplot as plt\n",
    "import pandas as pd\n",
    "\n",
    "df4.groupby(['Q15','Q11']).size().unstack().plot(kind='bar',stacked=True)\n",
    "plt.show()\n"
   ]
  },
  {
   "cell_type": "code",
   "execution_count": null,
   "metadata": {
    "id": "udzXPtnY9Pra"
   },
   "outputs": [],
   "source": []
  },
  {
   "cell_type": "code",
   "execution_count": null,
   "metadata": {
    "id": "-z84qmJN9Pra"
   },
   "outputs": [],
   "source": []
  },
  {
   "cell_type": "code",
   "execution_count": 245,
   "metadata": {
    "colab": {
     "base_uri": "https://localhost:8080/"
    },
    "id": "hfgqrcwj9Pra",
    "outputId": "ad85dd0c-5332-4b42-c9bf-e76be72d6d38"
   },
   "outputs": [
    {
     "name": "stdout",
     "output_type": "stream",
     "text": [
      "Q15   1   2\n",
      "Q11        \n",
      "1    52  98\n",
      "2    34  89\n",
      "dof=1\n",
      "[[ 47.25274725 102.74725275]\n",
      " [ 38.74725275  84.25274725]]\n",
      "probability=0.950, critical=3.841, stat=1.237\n",
      "Independent (fail to reject H0)\n",
      "significance=0.050, p=0.266\n",
      "Independent (fail to reject H0)\n"
     ]
    }
   ],
   "source": [
    "# Constructing Contingency Table\n",
    "Q11Q15 = pd.crosstab(df4['Q11'],df4['Q15'],margins = False)\n",
    "table= Q11Q15\n",
    "print(Q11Q15)\n",
    "stat, p, dof, expected = chi2_contingency(table)\n",
    "print('dof=%d' % dof)\n",
    "print(expected)\n",
    "# interpret test-statistic\n",
    "prob = 0.95\n",
    "critical = chi2.ppf(prob, dof)\n",
    "print('probability=%.3f, critical=%.3f, stat=%.3f' % (prob, critical, stat))\n",
    "if abs(stat) >= critical:\n",
    "    print('Dependent (reject H0)')\n",
    "else:\n",
    "    print('Independent (fail to reject H0)')\n",
    "# interpret p-value\n",
    "alpha = 1.0 - prob\n",
    "print('significance=%.3f, p=%.3f' % (alpha, p))\n",
    "if p <= alpha:\n",
    "    print('Dependent (reject H0)')\n",
    "else:\n",
    "    print('Independent (fail to reject H0)')"
   ]
  },
  {
   "cell_type": "code",
   "execution_count": 246,
   "metadata": {
    "colab": {
     "base_uri": "https://localhost:8080/"
    },
    "id": "Q2rlDAOJ9Prb",
    "outputId": "7b2cab49-6427-463c-820e-845ec50dc7ee"
   },
   "outputs": [
    {
     "name": "stdout",
     "output_type": "stream",
     "text": [
      "Q29   1   2\n",
      "Q20        \n",
      "1     4   5\n",
      "2     2   9\n",
      "3    25  80\n",
      "4     2  39\n",
      "5    18  89\n",
      "dof=4\n",
      "[[ 1.68131868  7.31868132]\n",
      " [ 2.05494505  8.94505495]\n",
      " [19.61538462 85.38461538]\n",
      " [ 7.65934066 33.34065934]\n",
      " [19.98901099 87.01098901]]\n",
      "probability=0.950, critical=9.488, stat=11.137\n",
      "Dependent (reject H0)\n",
      "significance=0.050, p=0.025\n",
      "Dependent (reject H0)\n"
     ]
    }
   ],
   "source": [
    "# Constructing Contingency Table\n",
    "Q20Q29 = pd.crosstab(df4['Q20'],df4['Q29'],margins = False)\n",
    "table= Q20Q29\n",
    "print(Q20Q29)\n",
    "stat, p, dof, expected = chi2_contingency(table)\n",
    "print('dof=%d' % dof)\n",
    "print(expected)\n",
    "# interpret test-statistic\n",
    "prob = 0.95\n",
    "critical = chi2.ppf(prob, dof)\n",
    "print('probability=%.3f, critical=%.3f, stat=%.3f' % (prob, critical, stat))\n",
    "if abs(stat) >= critical:\n",
    "    print('Dependent (reject H0)')\n",
    "else:\n",
    "    print('Independent (fail to reject H0)')\n",
    "# interpret p-value\n",
    "alpha = 1.0 - prob\n",
    "print('significance=%.3f, p=%.3f' % (alpha, p))\n",
    "if p <= alpha:\n",
    "    print('Dependent (reject H0)')\n",
    "else:\n",
    "    print('Independent (fail to reject H0)')"
   ]
  },
  {
   "cell_type": "code",
   "execution_count": 247,
   "metadata": {
    "colab": {
     "base_uri": "https://localhost:8080/",
     "height": 276
    },
    "id": "yBw39vw-9Prb",
    "outputId": "318b89c5-56d3-4149-85c2-784537c893f1"
   },
   "outputs": [
    {
     "data": {
      "image/png": "[encoded data removed]",
      "text/plain": [
       "<Figure size 432x288 with 1 Axes>"
      ]
     },
     "metadata": {
      "needs_background": "light"
     },
     "output_type": "display_data"
    }
   ],
   "source": [
    "import matplotlib.pyplot as plt\n",
    "import pandas as pd\n",
    "\n",
    "df4.groupby(['Q20','Q29']).size().unstack().plot(kind='bar',stacked=True)\n",
    "plt.xlabel('Question 20:In the last month, approximately how often did you have a drink containing alcohol?')\n",
    "plt.ylabel('Count')\n",
    "plt.show()\n",
    "plt.show()\n"
   ]
  },
  {
   "cell_type": "code",
   "execution_count": 248,
   "metadata": {
    "colab": {
     "base_uri": "https://localhost:8080/",
     "height": 276
    },
    "id": "Rebxx1Tx9Prc",
    "outputId": "1b4ea82a-36b3-4c28-fbc1-9fc64877dae8"
   },
   "outputs": [
    {
     "data": {
      "image/png": "[encoded data removed]",
      "text/plain": [
       "<Figure size 432x288 with 1 Axes>"
      ]
     },
     "metadata": {
      "needs_background": "light"
     },
     "output_type": "display_data"
    }
   ],
   "source": [
    "import matplotlib.pyplot as plt\n",
    "import pandas as pd\n",
    "\n",
    "df4.groupby(['Q20','Q29']).size().unstack().plot(kind='bar',stacked=True)\n",
    "plt.xlabel('Question 29: Has your mood changed?    Yes    NO')\n",
    "plt.ylabel('Count')\n",
    "plt.show()\n",
    "plt.show()\n"
   ]
  },
  {
   "cell_type": "code",
   "execution_count": null,
   "metadata": {
    "id": "4-8gKCMd9Prc"
   },
   "outputs": [],
   "source": []
  },
  {
   "cell_type": "code",
   "execution_count": 249,
   "metadata": {
    "colab": {
     "base_uri": "https://localhost:8080/"
    },
    "id": "2hl7Zt2u9Prc",
    "outputId": "cb1d9e0a-01b9-44e6-a570-58f55c443ebd"
   },
   "outputs": [
    {
     "name": "stdout",
     "output_type": "stream",
     "text": [
      "Q29   1    2\n",
      "Q11         \n",
      "1    27  123\n",
      "2    24   99\n",
      "dof=1\n",
      "[[ 28.02197802 121.97802198]\n",
      " [ 22.97802198 100.02197802]]\n",
      "probability=0.950, critical=3.841, stat=0.027\n",
      "Independent (fail to reject H0)\n",
      "significance=0.050, p=0.871\n",
      "Independent (fail to reject H0)\n"
     ]
    }
   ],
   "source": [
    "# Constructing Contingency Table\n",
    "Q11Q29 = pd.crosstab(df4['Q11'],df4['Q29'],margins = False)\n",
    "table= Q11Q29\n",
    "print(Q11Q29)\n",
    "stat, p, dof, expected = chi2_contingency(table)\n",
    "print('dof=%d' % dof)\n",
    "print(expected)\n",
    "# interpret test-statistic\n",
    "prob = 0.95\n",
    "critical = chi2.ppf(prob, dof)\n",
    "print('probability=%.3f, critical=%.3f, stat=%.3f' % (prob, critical, stat))\n",
    "if abs(stat) >= critical:\n",
    "    print('Dependent (reject H0)')\n",
    "else:\n",
    "    print('Independent (fail to reject H0)')\n",
    "# interpret p-value\n",
    "alpha = 1.0 - prob\n",
    "print('significance=%.3f, p=%.3f' % (alpha, p))\n",
    "if p <= alpha:\n",
    "    print('Dependent (reject H0)')\n",
    "else:\n",
    "    print('Independent (fail to reject H0)')"
   ]
  },
  {
   "cell_type": "code",
   "execution_count": null,
   "metadata": {
    "colab": {
     "base_uri": "https://localhost:8080/",
     "height": 311
    },
    "id": "6fAQLzH99Prc",
    "outputId": "9c8100a4-1b02-4ce4-a2b4-ce0388c04941"
   },
   "outputs": [],
   "source": []
  },
  {
   "cell_type": "markdown",
   "metadata": {},
   "source": [
    "# Modified Portion"
   ]
  },
  {
   "cell_type": "code",
   "execution_count": 329,
   "metadata": {
    "id": "Rp3a8QEN9Prc"
   },
   "outputs": [],
   "source": [
    "import pandas as pd\n",
    "import matplotlib.pyplot as plt\n",
    "import sklearn as sk\n",
    "from sklearn.linear_model import LogisticRegression\n",
    "from sklearn import svm\n",
    "from sklearn.ensemble import RandomForestClassifier\n",
    "from sklearn.neural_network import MLPClassifier\n",
    "from sklearn.model_selection import train_test_split\n"
   ]
  },
  {
   "cell_type": "code",
   "execution_count": 330,
   "metadata": {
    "colab": {
     "base_uri": "https://localhost:8080/",
     "height": 423
    },
    "id": "WBFKZfsd9Prd",
    "outputId": "2c34fc84-4eb8-41ab-c0cd-962875176e2f"
   },
   "outputs": [
    {
     "data": {
      "text/html": [
       "<div>\n",
       "<style scoped>\n",
       "    .dataframe tbody tr th:only-of-type {\n",
       "        vertical-align: middle;\n",
       "    }\n",
       "\n",
       "    .dataframe tbody tr th {\n",
       "        vertical-align: top;\n",
       "    }\n",
       "\n",
       "    .dataframe thead th {\n",
       "        text-align: right;\n",
       "    }\n",
       "</style>\n",
       "<table border=\"1\" class=\"dataframe\">\n",
       "  <thead>\n",
       "    <tr style=\"text-align: right;\">\n",
       "      <th></th>\n",
       "      <th>Q1</th>\n",
       "      <th>Q2</th>\n",
       "      <th>Q3</th>\n",
       "      <th>Q8</th>\n",
       "      <th>Q9</th>\n",
       "      <th>Q10</th>\n",
       "      <th>Q11</th>\n",
       "      <th>Q12</th>\n",
       "      <th>Q13</th>\n",
       "      <th>Q14</th>\n",
       "      <th>Q15</th>\n",
       "      <th>Q16</th>\n",
       "      <th>Q17</th>\n",
       "      <th>Q18</th>\n",
       "      <th>Q18a</th>\n",
       "      <th>Q21</th>\n",
       "      <th>Q22</th>\n",
       "      <th>Q23</th>\n",
       "      <th>Q24</th>\n",
       "      <th>Q25</th>\n",
       "      <th>Q26</th>\n",
       "      <th>Q27</th>\n",
       "      <th>Q28</th>\n",
       "      <th>Q29</th>\n",
       "    </tr>\n",
       "  </thead>\n",
       "  <tbody>\n",
       "    <tr>\n",
       "      <th>12</th>\n",
       "      <td>4</td>\n",
       "      <td>1</td>\n",
       "      <td>1</td>\n",
       "      <td>2</td>\n",
       "      <td>2</td>\n",
       "      <td>2</td>\n",
       "      <td>1</td>\n",
       "      <td>8</td>\n",
       "      <td>9</td>\n",
       "      <td>2</td>\n",
       "      <td>2</td>\n",
       "      <td>2</td>\n",
       "      <td>1</td>\n",
       "      <td>2</td>\n",
       "      <td>2</td>\n",
       "      <td>1</td>\n",
       "      <td>1</td>\n",
       "      <td>1</td>\n",
       "      <td>1</td>\n",
       "      <td>2</td>\n",
       "      <td>2</td>\n",
       "      <td>2</td>\n",
       "      <td>2</td>\n",
       "      <td>2</td>\n",
       "    </tr>\n",
       "    <tr>\n",
       "      <th>13</th>\n",
       "      <td>3</td>\n",
       "      <td>2</td>\n",
       "      <td>2</td>\n",
       "      <td>1</td>\n",
       "      <td>2</td>\n",
       "      <td>1</td>\n",
       "      <td>1</td>\n",
       "      <td>6</td>\n",
       "      <td>5</td>\n",
       "      <td>2</td>\n",
       "      <td>1</td>\n",
       "      <td>1</td>\n",
       "      <td>1</td>\n",
       "      <td>2</td>\n",
       "      <td>2</td>\n",
       "      <td>1</td>\n",
       "      <td>1</td>\n",
       "      <td>2</td>\n",
       "      <td>2</td>\n",
       "      <td>2</td>\n",
       "      <td>1</td>\n",
       "      <td>2</td>\n",
       "      <td>1</td>\n",
       "      <td>2</td>\n",
       "    </tr>\n",
       "    <tr>\n",
       "      <th>16</th>\n",
       "      <td>3</td>\n",
       "      <td>1</td>\n",
       "      <td>1</td>\n",
       "      <td>2</td>\n",
       "      <td>2</td>\n",
       "      <td>2</td>\n",
       "      <td>2</td>\n",
       "      <td>7</td>\n",
       "      <td>7</td>\n",
       "      <td>2</td>\n",
       "      <td>1</td>\n",
       "      <td>2</td>\n",
       "      <td>1</td>\n",
       "      <td>2</td>\n",
       "      <td>2</td>\n",
       "      <td>1</td>\n",
       "      <td>1</td>\n",
       "      <td>2</td>\n",
       "      <td>3</td>\n",
       "      <td>1</td>\n",
       "      <td>1</td>\n",
       "      <td>2</td>\n",
       "      <td>2</td>\n",
       "      <td>2</td>\n",
       "    </tr>\n",
       "    <tr>\n",
       "      <th>18</th>\n",
       "      <td>2</td>\n",
       "      <td>1</td>\n",
       "      <td>1</td>\n",
       "      <td>2</td>\n",
       "      <td>2</td>\n",
       "      <td>2</td>\n",
       "      <td>2</td>\n",
       "      <td>7</td>\n",
       "      <td>7</td>\n",
       "      <td>1</td>\n",
       "      <td>2</td>\n",
       "      <td>1</td>\n",
       "      <td>1</td>\n",
       "      <td>2</td>\n",
       "      <td>2</td>\n",
       "      <td>1</td>\n",
       "      <td>1</td>\n",
       "      <td>2</td>\n",
       "      <td>2</td>\n",
       "      <td>2</td>\n",
       "      <td>2</td>\n",
       "      <td>1</td>\n",
       "      <td>2</td>\n",
       "      <td>2</td>\n",
       "    </tr>\n",
       "    <tr>\n",
       "      <th>21</th>\n",
       "      <td>2</td>\n",
       "      <td>1</td>\n",
       "      <td>1</td>\n",
       "      <td>2</td>\n",
       "      <td>2</td>\n",
       "      <td>1</td>\n",
       "      <td>1</td>\n",
       "      <td>7</td>\n",
       "      <td>6</td>\n",
       "      <td>1</td>\n",
       "      <td>1</td>\n",
       "      <td>2</td>\n",
       "      <td>2</td>\n",
       "      <td>2</td>\n",
       "      <td>2</td>\n",
       "      <td>1</td>\n",
       "      <td>1</td>\n",
       "      <td>2</td>\n",
       "      <td>2</td>\n",
       "      <td>2</td>\n",
       "      <td>2</td>\n",
       "      <td>2</td>\n",
       "      <td>2</td>\n",
       "      <td>1</td>\n",
       "    </tr>\n",
       "    <tr>\n",
       "      <th>...</th>\n",
       "      <td>...</td>\n",
       "      <td>...</td>\n",
       "      <td>...</td>\n",
       "      <td>...</td>\n",
       "      <td>...</td>\n",
       "      <td>...</td>\n",
       "      <td>...</td>\n",
       "      <td>...</td>\n",
       "      <td>...</td>\n",
       "      <td>...</td>\n",
       "      <td>...</td>\n",
       "      <td>...</td>\n",
       "      <td>...</td>\n",
       "      <td>...</td>\n",
       "      <td>...</td>\n",
       "      <td>...</td>\n",
       "      <td>...</td>\n",
       "      <td>...</td>\n",
       "      <td>...</td>\n",
       "      <td>...</td>\n",
       "      <td>...</td>\n",
       "      <td>...</td>\n",
       "      <td>...</td>\n",
       "      <td>...</td>\n",
       "    </tr>\n",
       "    <tr>\n",
       "      <th>894</th>\n",
       "      <td>2</td>\n",
       "      <td>1</td>\n",
       "      <td>5</td>\n",
       "      <td>2</td>\n",
       "      <td>1</td>\n",
       "      <td>2</td>\n",
       "      <td>1</td>\n",
       "      <td>8</td>\n",
       "      <td>8</td>\n",
       "      <td>1</td>\n",
       "      <td>1</td>\n",
       "      <td>2</td>\n",
       "      <td>1</td>\n",
       "      <td>2</td>\n",
       "      <td>2</td>\n",
       "      <td>1</td>\n",
       "      <td>1</td>\n",
       "      <td>2</td>\n",
       "      <td>4</td>\n",
       "      <td>2</td>\n",
       "      <td>2</td>\n",
       "      <td>2</td>\n",
       "      <td>2</td>\n",
       "      <td>2</td>\n",
       "    </tr>\n",
       "    <tr>\n",
       "      <th>895</th>\n",
       "      <td>4</td>\n",
       "      <td>2</td>\n",
       "      <td>1</td>\n",
       "      <td>2</td>\n",
       "      <td>2</td>\n",
       "      <td>1</td>\n",
       "      <td>2</td>\n",
       "      <td>7</td>\n",
       "      <td>8</td>\n",
       "      <td>2</td>\n",
       "      <td>2</td>\n",
       "      <td>1</td>\n",
       "      <td>1</td>\n",
       "      <td>2</td>\n",
       "      <td>2</td>\n",
       "      <td>1</td>\n",
       "      <td>1</td>\n",
       "      <td>1</td>\n",
       "      <td>1</td>\n",
       "      <td>1</td>\n",
       "      <td>2</td>\n",
       "      <td>1</td>\n",
       "      <td>2</td>\n",
       "      <td>1</td>\n",
       "    </tr>\n",
       "    <tr>\n",
       "      <th>896</th>\n",
       "      <td>4</td>\n",
       "      <td>1</td>\n",
       "      <td>19</td>\n",
       "      <td>2</td>\n",
       "      <td>2</td>\n",
       "      <td>1</td>\n",
       "      <td>2</td>\n",
       "      <td>6</td>\n",
       "      <td>7</td>\n",
       "      <td>2</td>\n",
       "      <td>2</td>\n",
       "      <td>2</td>\n",
       "      <td>2</td>\n",
       "      <td>2</td>\n",
       "      <td>2</td>\n",
       "      <td>1</td>\n",
       "      <td>1</td>\n",
       "      <td>2</td>\n",
       "      <td>5</td>\n",
       "      <td>2</td>\n",
       "      <td>2</td>\n",
       "      <td>2</td>\n",
       "      <td>2</td>\n",
       "      <td>2</td>\n",
       "    </tr>\n",
       "    <tr>\n",
       "      <th>897</th>\n",
       "      <td>5</td>\n",
       "      <td>1</td>\n",
       "      <td>1</td>\n",
       "      <td>1</td>\n",
       "      <td>1</td>\n",
       "      <td>1</td>\n",
       "      <td>1</td>\n",
       "      <td>9</td>\n",
       "      <td>10</td>\n",
       "      <td>2</td>\n",
       "      <td>2</td>\n",
       "      <td>2</td>\n",
       "      <td>1</td>\n",
       "      <td>2</td>\n",
       "      <td>2</td>\n",
       "      <td>1</td>\n",
       "      <td>1</td>\n",
       "      <td>2</td>\n",
       "      <td>4</td>\n",
       "      <td>2</td>\n",
       "      <td>2</td>\n",
       "      <td>2</td>\n",
       "      <td>2</td>\n",
       "      <td>2</td>\n",
       "    </tr>\n",
       "    <tr>\n",
       "      <th>908</th>\n",
       "      <td>6</td>\n",
       "      <td>1</td>\n",
       "      <td>1</td>\n",
       "      <td>1</td>\n",
       "      <td>1</td>\n",
       "      <td>1</td>\n",
       "      <td>1</td>\n",
       "      <td>8</td>\n",
       "      <td>8</td>\n",
       "      <td>1</td>\n",
       "      <td>2</td>\n",
       "      <td>1</td>\n",
       "      <td>1</td>\n",
       "      <td>2</td>\n",
       "      <td>2</td>\n",
       "      <td>1</td>\n",
       "      <td>4</td>\n",
       "      <td>2</td>\n",
       "      <td>2</td>\n",
       "      <td>1</td>\n",
       "      <td>2</td>\n",
       "      <td>2</td>\n",
       "      <td>1</td>\n",
       "      <td>2</td>\n",
       "    </tr>\n",
       "  </tbody>\n",
       "</table>\n",
       "<p>273 rows × 24 columns</p>\n",
       "</div>"
      ],
      "text/plain": [
       "     Q1  Q2  Q3  Q8  Q9  Q10  Q11  Q12  Q13  Q14  Q15  Q16  Q17  Q18  Q18a  \\\n",
       "12    4   1   1   2   2    2    1    8    9    2    2    2    1    2     2   \n",
       "13    3   2   2   1   2    1    1    6    5    2    1    1    1    2     2   \n",
       "16    3   1   1   2   2    2    2    7    7    2    1    2    1    2     2   \n",
       "18    2   1   1   2   2    2    2    7    7    1    2    1    1    2     2   \n",
       "21    2   1   1   2   2    1    1    7    6    1    1    2    2    2     2   \n",
       "..   ..  ..  ..  ..  ..  ...  ...  ...  ...  ...  ...  ...  ...  ...   ...   \n",
       "894   2   1   5   2   1    2    1    8    8    1    1    2    1    2     2   \n",
       "895   4   2   1   2   2    1    2    7    8    2    2    1    1    2     2   \n",
       "896   4   1  19   2   2    1    2    6    7    2    2    2    2    2     2   \n",
       "897   5   1   1   1   1    1    1    9   10    2    2    2    1    2     2   \n",
       "908   6   1   1   1   1    1    1    8    8    1    2    1    1    2     2   \n",
       "\n",
       "     Q21  Q22  Q23  Q24  Q25  Q26  Q27  Q28  Q29  \n",
       "12     1    1    1    1    2    2    2    2    2  \n",
       "13     1    1    2    2    2    1    2    1    2  \n",
       "16     1    1    2    3    1    1    2    2    2  \n",
       "18     1    1    2    2    2    2    1    2    2  \n",
       "21     1    1    2    2    2    2    2    2    1  \n",
       "..   ...  ...  ...  ...  ...  ...  ...  ...  ...  \n",
       "894    1    1    2    4    2    2    2    2    2  \n",
       "895    1    1    1    1    1    2    1    2    1  \n",
       "896    1    1    2    5    2    2    2    2    2  \n",
       "897    1    1    2    4    2    2    2    2    2  \n",
       "908    1    4    2    2    1    2    2    1    2  \n",
       "\n",
       "[273 rows x 24 columns]"
      ]
     },
     "execution_count": 330,
     "metadata": {},
     "output_type": "execute_result"
    }
   ],
   "source": [
    "# load dataset\n",
    "data=pd.read_csv(\"covidreasearchthesecondpaper.csv\", index_col =0 )\n",
    "data=data.drop(['Q19', 'Q20'], axis=1)\n",
    "data\n"
   ]
  },
  {
   "cell_type": "code",
   "execution_count": 331,
   "metadata": {
    "colab": {
     "base_uri": "https://localhost:8080/"
    },
    "id": "6M7M0KP79Prd",
    "outputId": "9f7baeed-6de3-444d-9ecd-0b0ed918b66f"
   },
   "outputs": [
    {
     "name": "stdout",
     "output_type": "stream",
     "text": [
      "Input (273, 23)\n",
      "Output (273,)\n"
     ]
    }
   ],
   "source": [
    "\n",
    "# split into input (X) and output (y) variables\n",
    "X = data.loc[:,data.columns !='Q18a'].astype(str)\n",
    "y = data['Q18a'].astype(str)\n",
    "# summarize\n",
    "print('Input', X.shape)\n",
    "print('Output', y.shape)\n",
    "# one hot encode input variables\n",
    "onehot_encoder = OneHotEncoder(sparse=False)\n",
    "X = onehot_encoder.fit_transform(X)\n",
    "# ordinal encode target variable\n",
    "label_encoder = LabelEncoder()\n",
    "y = label_encoder.fit_transform(y)\n",
    "X_train, X_test, y_train, y_test = train_test_split(X, y, test_size=0.33, random_state=1)\n",
    "X_tr=X_train\n",
    "y_tr=y_train\n",
    "\n"
   ]
  },
  {
   "cell_type": "code",
   "execution_count": 332,
   "metadata": {
    "id": "uxOz8g5D9Prd"
   },
   "outputs": [],
   "source": [
    "from numpy import mean\n",
    "from numpy import std\n",
    "from pandas import read_csv\n",
    "from sklearn.model_selection import train_test_split\n",
    "from sklearn.linear_model import LogisticRegression\n",
    "from sklearn.preprocessing import LabelEncoder\n",
    "from sklearn.preprocessing import OrdinalEncoder\n",
    "from sklearn.metrics import accuracy_score\n",
    "from pandas import read_csv\n",
    "from sklearn.preprocessing import LabelEncoder\n",
    "from sklearn.preprocessing import OneHotEncoder\n"
   ]
  },
  {
   "cell_type": "code",
   "execution_count": 333,
   "metadata": {
    "colab": {
     "base_uri": "https://localhost:8080/"
    },
    "id": "r8VxbKOm9Pre",
    "outputId": "486fcf19-5073-4107-ce54-7c0ded57ddd0"
   },
   "outputs": [
    {
     "data": {
      "text/plain": [
       "0.8462"
      ]
     },
     "execution_count": 333,
     "metadata": {},
     "output_type": "execute_result"
    }
   ],
   "source": [
    "LR = LogisticRegression(random_state=0, solver='lbfgs').fit(X_tr, y_tr)\n",
    "LR.predict(X_test)\n",
    "round(LR.score(X_test,y_test), 4)"
   ]
  },
  {
   "cell_type": "code",
   "execution_count": 334,
   "metadata": {
    "colab": {
     "base_uri": "https://localhost:8080/"
    },
    "id": "la5hcffs9Pre",
    "outputId": "17ba4b0a-d8ef-4203-ec29-2700c55d1ebe"
   },
   "outputs": [
    {
     "data": {
      "text/plain": [
       "0.8901"
      ]
     },
     "execution_count": 334,
     "metadata": {},
     "output_type": "execute_result"
    }
   ],
   "source": [
    "LR = LogisticRegression(random_state=0, solver='lbfgs').fit(X_tr, y_tr)\n",
    "LR.predict(X_test)\n",
    "round(LR.score(X_tr,y_tr), 4)"
   ]
  },
  {
   "cell_type": "code",
   "execution_count": 335,
   "metadata": {
    "colab": {
     "base_uri": "https://localhost:8080/"
    },
    "id": "mSTQm91U9Prf",
    "outputId": "a9315605-6180-49f4-9a5f-d4a59ac80bb0"
   },
   "outputs": [
    {
     "data": {
      "text/plain": [
       "0.8681"
      ]
     },
     "execution_count": 335,
     "metadata": {},
     "output_type": "execute_result"
    }
   ],
   "source": [
    "SVM = svm.SVC().fit(X_tr, y_tr)\n",
    "SVM.predict(X_test)\n",
    "round(SVM.score(X_test, y_test), 4)\n",
    "\n"
   ]
  },
  {
   "cell_type": "code",
   "execution_count": 336,
   "metadata": {
    "colab": {
     "base_uri": "https://localhost:8080/"
    },
    "id": "Rs_P69_v9Prf",
    "outputId": "7b0eefa1-f127-441d-88cc-3880a1e0ac4d"
   },
   "outputs": [
    {
     "data": {
      "text/plain": [
       "0.8571"
      ]
     },
     "execution_count": 336,
     "metadata": {},
     "output_type": "execute_result"
    }
   ],
   "source": [
    "SVM = svm.SVC().fit(X_tr, y_tr)\n",
    "SVM.predict(X_test)\n",
    "round(SVM.score(X_tr,y_tr), 4)\n",
    "\n"
   ]
  },
  {
   "cell_type": "code",
   "execution_count": 337,
   "metadata": {
    "colab": {
     "base_uri": "https://localhost:8080/"
    },
    "id": "9vHx_qs19Prf",
    "outputId": "eee34575-f053-484f-c650-86225e5c1eb8"
   },
   "outputs": [
    {
     "data": {
      "text/plain": [
       "0.8242"
      ]
     },
     "execution_count": 337,
     "metadata": {},
     "output_type": "execute_result"
    }
   ],
   "source": [
    "NN = MLPClassifier(solver='lbfgs', alpha=1e-5, hidden_layer_sizes=(20, 12), random_state=1).fit(X_tr, y_tr)\n",
    "NN.predict(X_test)\n",
    "round(NN.score(X_test, y_test), 4)"
   ]
  },
  {
   "cell_type": "code",
   "execution_count": 338,
   "metadata": {
    "colab": {
     "base_uri": "https://localhost:8080/"
    },
    "id": "8u8-k2no9Prg",
    "outputId": "6aa4b680-63d2-43a4-ebba-2c39d5354b92"
   },
   "outputs": [
    {
     "data": {
      "text/plain": [
       "1.0"
      ]
     },
     "execution_count": 338,
     "metadata": {},
     "output_type": "execute_result"
    }
   ],
   "source": [
    "NN = MLPClassifier(solver='lbfgs', alpha=1e-5, hidden_layer_sizes=(20, 12), random_state=1).fit(X_tr, y_tr)\n",
    "NN.predict(X_test)\n",
    "round(NN.score(X_tr,y_tr), 4)"
   ]
  },
  {
   "cell_type": "code",
   "execution_count": 339,
   "metadata": {
    "colab": {
     "base_uri": "https://localhost:8080/"
    },
    "id": "bvunxWiW9Prg",
    "outputId": "1dd6508d-8a7a-41cb-ef89-64e3abf543d7"
   },
   "outputs": [
    {
     "data": {
      "text/plain": [
       "0.8462"
      ]
     },
     "execution_count": 339,
     "metadata": {},
     "output_type": "execute_result"
    }
   ],
   "source": [
    "from sklearn.neighbors import KNeighborsClassifier\n",
    "error = []\n",
    "\n",
    "KNN = KNeighborsClassifier(n_neighbors=5)\n",
    "KNN.fit(X_tr, y_tr)\n",
    "KNN.predict(X_test)\n",
    "round(KNN.score(X_test,y_test), 4)\n",
    "\n",
    "    "
   ]
  },
  {
   "cell_type": "code",
   "execution_count": 340,
   "metadata": {
    "colab": {
     "base_uri": "https://localhost:8080/"
    },
    "id": "_bLkH3iW9Prg",
    "outputId": "7e1f4232-549f-44e1-9e22-6dd92706a4ab"
   },
   "outputs": [
    {
     "data": {
      "text/plain": [
       "0.8681"
      ]
     },
     "execution_count": 340,
     "metadata": {},
     "output_type": "execute_result"
    }
   ],
   "source": [
    "from sklearn.neighbors import KNeighborsClassifier\n",
    "error = []\n",
    "\n",
    "KNN = KNeighborsClassifier(n_neighbors=5)\n",
    "KNN.fit(X_tr, y_tr)\n",
    "KNN.predict(X_test)\n",
    "round(KNN.score(X_tr,y_tr), 4)"
   ]
  },
  {
   "cell_type": "code",
   "execution_count": 341,
   "metadata": {
    "colab": {
     "base_uri": "https://localhost:8080/"
    },
    "id": "sY0ie2Bb9Prh",
    "outputId": "3e2c70ab-622f-4610-929d-361f83ef5eb9"
   },
   "outputs": [
    {
     "data": {
      "text/plain": [
       "0.8462"
      ]
     },
     "execution_count": 341,
     "metadata": {},
     "output_type": "execute_result"
    }
   ],
   "source": [
    "from sklearn.tree import DecisionTreeClassifier # Import Decision Tree Classifier\n",
    "clf = DecisionTreeClassifier(criterion=\"entropy\", max_depth=3)\n",
    "clf.fit(X_tr, y_tr)\n",
    "clf.predict(X_test)\n",
    "round(clf.score(X_test,y_test), 4)\n"
   ]
  },
  {
   "cell_type": "code",
   "execution_count": 342,
   "metadata": {
    "colab": {
     "base_uri": "https://localhost:8080/"
    },
    "id": "awwcBXz19Prh",
    "outputId": "81db2df1-db65-497c-a598-32547cc0472d"
   },
   "outputs": [
    {
     "data": {
      "text/plain": [
       "0.8901"
      ]
     },
     "execution_count": 342,
     "metadata": {},
     "output_type": "execute_result"
    }
   ],
   "source": [
    "from sklearn.tree import DecisionTreeClassifier # Import Decision Tree Classifier\n",
    "clf = DecisionTreeClassifier(criterion=\"entropy\", max_depth=3)\n",
    "clf.fit(X_tr, y_tr)\n",
    "clf.predict(X_test)\n",
    "round(clf.score(X_tr,y_tr), 4)"
   ]
  },
  {
   "cell_type": "code",
   "execution_count": 343,
   "metadata": {
    "colab": {
     "base_uri": "https://localhost:8080/",
     "height": 540
    },
    "id": "g4CwOUaR9Prh",
    "outputId": "aace26a3-1421-4439-d6f4-2fcc163830ce"
   },
   "outputs": [
    {
     "data": {
      "image/png": "[encoded data removed]",
      "text/plain": [
       "<Figure size 504x504 with 1 Axes>"
      ]
     },
     "metadata": {
      "needs_background": "light"
     },
     "output_type": "display_data"
    }
   ],
   "source": [
    "\n",
    "import numpy as np \n",
    "import matplotlib.pyplot as plt \n",
    "  \n",
    "X = ['Logistic Regression','support vector machine','Multilayer Perceptron','KNN with k=5', 'Decision Tree']\n",
    "training = [97.25,86.26,100,86.81,92.31]\n",
    "test = [89.01,86.81,90.11,85.71,91.21]\n",
    "\n",
    "X_axis = np.arange(len(X))\n",
    "plt.figure(figsize=(7,7))\n",
    "\n",
    "plt.bar(X_axis - 0.2, training, 0.4, label = 'Training Accuracy')\n",
    "plt.bar(X_axis + 0.2, test, 0.4, label = 'Test Accuracy')\n",
    "\n",
    "plt.xticks(rotation=45, ha='right')\n",
    "plt.grid(True)\n",
    "plt.xticks(X_axis, X)\n",
    "plt.ylabel(\"Accuracy\")\n",
    "plt.xlabel(\"Model\")\n",
    "plt.title(\"Model v.s. Accuracy\")\n",
    "plt.legend()\n",
    "plt.show()"
   ]
  },
  {
   "cell_type": "code",
   "execution_count": 344,
   "metadata": {
    "colab": {
     "base_uri": "https://localhost:8080/"
    },
    "id": "e2JMSg_a9Pri",
    "outputId": "c1fcfe0d-27c7-45a7-f0f5-fbcfa625c7df"
   },
   "outputs": [
    {
     "data": {
      "text/plain": [
       "0.8681"
      ]
     },
     "execution_count": 344,
     "metadata": {},
     "output_type": "execute_result"
    }
   ],
   "source": [
    "SVM = svm.SVC().fit(X_tr, y_tr)\n",
    "SVM.predict(X_test)\n",
    "round(SVM.score(X_test, y_test), 4)\n",
    "\n"
   ]
  },
  {
   "cell_type": "code",
   "execution_count": 345,
   "metadata": {
    "colab": {
     "base_uri": "https://localhost:8080/"
    },
    "id": "IlWxXW-E9Pri",
    "outputId": "52e323ea-9267-4f38-db74-b87029c04db0"
   },
   "outputs": [
    {
     "data": {
      "text/plain": [
       "0.8681"
      ]
     },
     "execution_count": 345,
     "metadata": {},
     "output_type": "execute_result"
    }
   ],
   "source": [
    "RF = RandomForestClassifier(n_estimators=1000, max_depth=10, random_state=0).fit(X_tr, y_tr)\n",
    "RF.predict(X_test)\n",
    "round(RF.score(X_test, y_test), 4)\n",
    "\n"
   ]
  },
  {
   "cell_type": "code",
   "execution_count": 346,
   "metadata": {
    "colab": {
     "base_uri": "https://localhost:8080/"
    },
    "id": "8ODHAI_g9Prj",
    "outputId": "0012ac68-b32d-499c-f250-8295804f1a19"
   },
   "outputs": [
    {
     "data": {
      "text/plain": [
       "0.7802"
      ]
     },
     "execution_count": 346,
     "metadata": {},
     "output_type": "execute_result"
    }
   ],
   "source": [
    "NN = MLPClassifier(solver='lbfgs', alpha=1e-5, hidden_layer_sizes=(80, 12), random_state=1).fit(X_tr, y_tr)\n",
    "NN.predict(X_test)\n",
    "round(NN.score(X_test, y_test), 4)"
   ]
  },
  {
   "cell_type": "code",
   "execution_count": null,
   "metadata": {
    "id": "XhcAfCIS9Prj"
   },
   "outputs": [],
   "source": []
  },
  {
   "cell_type": "code",
   "execution_count": 347,
   "metadata": {
    "colab": {
     "base_uri": "https://localhost:8080/",
     "height": 1000
    },
    "id": "PzAi-AjC9Prj",
    "outputId": "7d743add-e1e6-426d-ba7b-d7664646dab9"
   },
   "outputs": [
    {
     "name": "stdout",
     "output_type": "stream",
     "text": [
      "Feature 0: 0.000000\n",
      "Feature 1: 0.000000\n",
      "Feature 2: 0.002538\n",
      "Feature 3: 0.013099\n",
      "Feature 4: 0.008300\n",
      "Feature 5: 0.000000\n",
      "Feature 6: 0.000000\n",
      "Feature 7: 0.000000\n",
      "Feature 8: 0.000000\n",
      "Feature 9: 0.008228\n",
      "Feature 10: 0.000000\n",
      "Feature 11: 0.001037\n",
      "Feature 12: 0.028494\n",
      "Feature 13: 0.000000\n",
      "Feature 14: 0.019452\n",
      "Feature 15: 0.022566\n",
      "Feature 16: 0.000000\n",
      "Feature 17: 0.036078\n",
      "Feature 18: 0.001711\n",
      "Feature 19: 0.005029\n",
      "Feature 20: 0.006614\n",
      "Feature 21: 0.032772\n",
      "Feature 22: 0.000000\n"
     ]
    },
    {
     "data": {
      "image/png": "[encoded data removed]",
      "text/plain": [
       "<Figure size 432x288 with 1 Axes>"
      ]
     },
     "metadata": {
      "needs_background": "light"
     },
     "output_type": "display_data"
    },
    {
     "data": {
      "image/png": "[encoded data removed]",
      "text/plain": [
       "<Figure size 720x576 with 1 Axes>"
      ]
     },
     "metadata": {
      "needs_background": "light"
     },
     "output_type": "display_data"
    }
   ],
   "source": [
    "from pandas import read_csv\n",
    "from sklearn.model_selection import train_test_split\n",
    "from sklearn.preprocessing import LabelEncoder\n",
    "from sklearn.preprocessing import OrdinalEncoder\n",
    "from sklearn.feature_selection import SelectKBest\n",
    "from sklearn.feature_selection import mutual_info_classif\n",
    "import matplotlib.pyplot as pyplot\n",
    "\n",
    "def prepare_inputs(X_train, X_test):\n",
    "\toe = LabelEncoder()\n",
    "\toe.fit(X_train)\n",
    "\tX_train_enc = oe.transform(X_train)\n",
    "\tX_test_enc = oe.transform(X_test)\n",
    "\treturn X_train_enc, X_test_enc\n",
    "\n",
    "def prepare_targets(y_train, y_test):\n",
    "\tle = LabelEncoder()\n",
    "\tle.fit(y_train)\n",
    "\ty_train_enc = le.transform(y_train)\n",
    "\ty_test_enc = le.transform(y_test)\n",
    "\treturn y_train_enc, y_test_enc\n",
    "\n",
    "def select_features(X_train, y_train, X_test):\n",
    "\tfs = SelectKBest(score_func=mutual_info_classif, k='all')\n",
    "\tfs.fit(X_train, y_train)\n",
    "\tX_train_fs = fs.transform(X_train)\n",
    "\tX_test_fs = fs.transform(X_test)\n",
    "\treturn X_train_fs, X_test_fs, fs\n",
    "\n",
    "data=pd.read_csv(\"covidreasearchthesecondpaper.csv\", index_col =0 )\n",
    "data=data.drop(['Q19', 'Q20'], axis=1)\n",
    "data\n",
    "\n",
    "# split into input (X) and output (y) variables\n",
    "X = data.loc[:,data.columns !='Q18a'].astype(str)\n",
    "y = data['Q18a'].astype(str)\n",
    "# split into train and test sets\n",
    "X_train, X_test, y_train, y_test = train_test_split(X, y, test_size=0.33, random_state=1)\n",
    "# feature selection\n",
    "X_train_fs, X_test_fs, fs = select_features(X_train, y_train, X_test)\n",
    "# what are scores for the features\n",
    "for i in range(len(fs.scores_)):\n",
    "\tprint('Feature %d: %f' % (i, fs.scores_[i]))\n",
    "# plot the scores\n",
    "pyplot.bar([i for i in range(len(fs.scores_))], fs.scores_)\n",
    "pyplot.show()\n",
    "\n",
    "\n",
    "   \n",
    "C = ['Q1', 'Q2', 'Q3', 'Q8', 'Q9', 'Q10', 'Q11', 'Q12', 'Q13', 'Q14', 'Q15',\n",
    "       'Q16', 'Q17', 'Q18', 'Q21', 'Q22', 'Q23', 'Q24',\n",
    "       'Q25', 'Q26', 'Q27', 'Q28', 'Q29']\n",
    "GC = fs.scores_\n",
    "# plotting a line plot after changing it's width and height\n",
    "f = plt.figure()\n",
    "f.set_figwidth(10)\n",
    "f.set_figheight(8)\n",
    "plt.xticks(rotation=45, ha='right')\n",
    "plt.grid(True)\n",
    "\n",
    "plt.bar(C, GC)\n",
    "plt.ylabel('Importance')\n",
    "plt.xlabel('Feature')\n",
    "plt.show()"
   ]
  },
  {
   "cell_type": "code",
   "execution_count": 348,
   "metadata": {
    "colab": {
     "base_uri": "https://localhost:8080/",
     "height": 423
    },
    "id": "Q-3lZjMC9Prk",
    "outputId": "26584513-1a73-4220-81cc-3d76722c9fc9"
   },
   "outputs": [
    {
     "data": {
      "text/html": [
       "<div>\n",
       "<style scoped>\n",
       "    .dataframe tbody tr th:only-of-type {\n",
       "        vertical-align: middle;\n",
       "    }\n",
       "\n",
       "    .dataframe tbody tr th {\n",
       "        vertical-align: top;\n",
       "    }\n",
       "\n",
       "    .dataframe thead th {\n",
       "        text-align: right;\n",
       "    }\n",
       "</style>\n",
       "<table border=\"1\" class=\"dataframe\">\n",
       "  <thead>\n",
       "    <tr style=\"text-align: right;\">\n",
       "      <th></th>\n",
       "      <th>Q1</th>\n",
       "      <th>Q2</th>\n",
       "      <th>Q3</th>\n",
       "      <th>Q8</th>\n",
       "      <th>Q9</th>\n",
       "      <th>Q10</th>\n",
       "      <th>Q11</th>\n",
       "      <th>Q12</th>\n",
       "      <th>Q13</th>\n",
       "      <th>Q14</th>\n",
       "      <th>Q15</th>\n",
       "      <th>Q16</th>\n",
       "      <th>Q17</th>\n",
       "      <th>Q18</th>\n",
       "      <th>Q18a</th>\n",
       "      <th>Q21</th>\n",
       "      <th>Q22</th>\n",
       "      <th>Q23</th>\n",
       "      <th>Q24</th>\n",
       "      <th>Q25</th>\n",
       "      <th>Q26</th>\n",
       "      <th>Q27</th>\n",
       "      <th>Q28</th>\n",
       "      <th>Q29</th>\n",
       "    </tr>\n",
       "  </thead>\n",
       "  <tbody>\n",
       "    <tr>\n",
       "      <th>12</th>\n",
       "      <td>4</td>\n",
       "      <td>1</td>\n",
       "      <td>1</td>\n",
       "      <td>2</td>\n",
       "      <td>2</td>\n",
       "      <td>2</td>\n",
       "      <td>1</td>\n",
       "      <td>8</td>\n",
       "      <td>9</td>\n",
       "      <td>2</td>\n",
       "      <td>2</td>\n",
       "      <td>2</td>\n",
       "      <td>1</td>\n",
       "      <td>2</td>\n",
       "      <td>2</td>\n",
       "      <td>1</td>\n",
       "      <td>1</td>\n",
       "      <td>1</td>\n",
       "      <td>1</td>\n",
       "      <td>2</td>\n",
       "      <td>2</td>\n",
       "      <td>2</td>\n",
       "      <td>2</td>\n",
       "      <td>2</td>\n",
       "    </tr>\n",
       "    <tr>\n",
       "      <th>13</th>\n",
       "      <td>3</td>\n",
       "      <td>2</td>\n",
       "      <td>2</td>\n",
       "      <td>1</td>\n",
       "      <td>2</td>\n",
       "      <td>1</td>\n",
       "      <td>1</td>\n",
       "      <td>6</td>\n",
       "      <td>5</td>\n",
       "      <td>2</td>\n",
       "      <td>1</td>\n",
       "      <td>1</td>\n",
       "      <td>1</td>\n",
       "      <td>2</td>\n",
       "      <td>2</td>\n",
       "      <td>1</td>\n",
       "      <td>1</td>\n",
       "      <td>2</td>\n",
       "      <td>2</td>\n",
       "      <td>2</td>\n",
       "      <td>1</td>\n",
       "      <td>2</td>\n",
       "      <td>1</td>\n",
       "      <td>2</td>\n",
       "    </tr>\n",
       "    <tr>\n",
       "      <th>16</th>\n",
       "      <td>3</td>\n",
       "      <td>1</td>\n",
       "      <td>1</td>\n",
       "      <td>2</td>\n",
       "      <td>2</td>\n",
       "      <td>2</td>\n",
       "      <td>2</td>\n",
       "      <td>7</td>\n",
       "      <td>7</td>\n",
       "      <td>2</td>\n",
       "      <td>1</td>\n",
       "      <td>2</td>\n",
       "      <td>1</td>\n",
       "      <td>2</td>\n",
       "      <td>2</td>\n",
       "      <td>1</td>\n",
       "      <td>1</td>\n",
       "      <td>2</td>\n",
       "      <td>3</td>\n",
       "      <td>1</td>\n",
       "      <td>1</td>\n",
       "      <td>2</td>\n",
       "      <td>2</td>\n",
       "      <td>2</td>\n",
       "    </tr>\n",
       "    <tr>\n",
       "      <th>18</th>\n",
       "      <td>2</td>\n",
       "      <td>1</td>\n",
       "      <td>1</td>\n",
       "      <td>2</td>\n",
       "      <td>2</td>\n",
       "      <td>2</td>\n",
       "      <td>2</td>\n",
       "      <td>7</td>\n",
       "      <td>7</td>\n",
       "      <td>1</td>\n",
       "      <td>2</td>\n",
       "      <td>1</td>\n",
       "      <td>1</td>\n",
       "      <td>2</td>\n",
       "      <td>2</td>\n",
       "      <td>1</td>\n",
       "      <td>1</td>\n",
       "      <td>2</td>\n",
       "      <td>2</td>\n",
       "      <td>2</td>\n",
       "      <td>2</td>\n",
       "      <td>1</td>\n",
       "      <td>2</td>\n",
       "      <td>2</td>\n",
       "    </tr>\n",
       "    <tr>\n",
       "      <th>21</th>\n",
       "      <td>2</td>\n",
       "      <td>1</td>\n",
       "      <td>1</td>\n",
       "      <td>2</td>\n",
       "      <td>2</td>\n",
       "      <td>1</td>\n",
       "      <td>1</td>\n",
       "      <td>7</td>\n",
       "      <td>6</td>\n",
       "      <td>1</td>\n",
       "      <td>1</td>\n",
       "      <td>2</td>\n",
       "      <td>2</td>\n",
       "      <td>2</td>\n",
       "      <td>2</td>\n",
       "      <td>1</td>\n",
       "      <td>1</td>\n",
       "      <td>2</td>\n",
       "      <td>2</td>\n",
       "      <td>2</td>\n",
       "      <td>2</td>\n",
       "      <td>2</td>\n",
       "      <td>2</td>\n",
       "      <td>1</td>\n",
       "    </tr>\n",
       "    <tr>\n",
       "      <th>...</th>\n",
       "      <td>...</td>\n",
       "      <td>...</td>\n",
       "      <td>...</td>\n",
       "      <td>...</td>\n",
       "      <td>...</td>\n",
       "      <td>...</td>\n",
       "      <td>...</td>\n",
       "      <td>...</td>\n",
       "      <td>...</td>\n",
       "      <td>...</td>\n",
       "      <td>...</td>\n",
       "      <td>...</td>\n",
       "      <td>...</td>\n",
       "      <td>...</td>\n",
       "      <td>...</td>\n",
       "      <td>...</td>\n",
       "      <td>...</td>\n",
       "      <td>...</td>\n",
       "      <td>...</td>\n",
       "      <td>...</td>\n",
       "      <td>...</td>\n",
       "      <td>...</td>\n",
       "      <td>...</td>\n",
       "      <td>...</td>\n",
       "    </tr>\n",
       "    <tr>\n",
       "      <th>894</th>\n",
       "      <td>2</td>\n",
       "      <td>1</td>\n",
       "      <td>5</td>\n",
       "      <td>2</td>\n",
       "      <td>1</td>\n",
       "      <td>2</td>\n",
       "      <td>1</td>\n",
       "      <td>8</td>\n",
       "      <td>8</td>\n",
       "      <td>1</td>\n",
       "      <td>1</td>\n",
       "      <td>2</td>\n",
       "      <td>1</td>\n",
       "      <td>2</td>\n",
       "      <td>2</td>\n",
       "      <td>1</td>\n",
       "      <td>1</td>\n",
       "      <td>2</td>\n",
       "      <td>4</td>\n",
       "      <td>2</td>\n",
       "      <td>2</td>\n",
       "      <td>2</td>\n",
       "      <td>2</td>\n",
       "      <td>2</td>\n",
       "    </tr>\n",
       "    <tr>\n",
       "      <th>895</th>\n",
       "      <td>4</td>\n",
       "      <td>2</td>\n",
       "      <td>1</td>\n",
       "      <td>2</td>\n",
       "      <td>2</td>\n",
       "      <td>1</td>\n",
       "      <td>2</td>\n",
       "      <td>7</td>\n",
       "      <td>8</td>\n",
       "      <td>2</td>\n",
       "      <td>2</td>\n",
       "      <td>1</td>\n",
       "      <td>1</td>\n",
       "      <td>2</td>\n",
       "      <td>2</td>\n",
       "      <td>1</td>\n",
       "      <td>1</td>\n",
       "      <td>1</td>\n",
       "      <td>1</td>\n",
       "      <td>1</td>\n",
       "      <td>2</td>\n",
       "      <td>1</td>\n",
       "      <td>2</td>\n",
       "      <td>1</td>\n",
       "    </tr>\n",
       "    <tr>\n",
       "      <th>896</th>\n",
       "      <td>4</td>\n",
       "      <td>1</td>\n",
       "      <td>19</td>\n",
       "      <td>2</td>\n",
       "      <td>2</td>\n",
       "      <td>1</td>\n",
       "      <td>2</td>\n",
       "      <td>6</td>\n",
       "      <td>7</td>\n",
       "      <td>2</td>\n",
       "      <td>2</td>\n",
       "      <td>2</td>\n",
       "      <td>2</td>\n",
       "      <td>2</td>\n",
       "      <td>2</td>\n",
       "      <td>1</td>\n",
       "      <td>1</td>\n",
       "      <td>2</td>\n",
       "      <td>5</td>\n",
       "      <td>2</td>\n",
       "      <td>2</td>\n",
       "      <td>2</td>\n",
       "      <td>2</td>\n",
       "      <td>2</td>\n",
       "    </tr>\n",
       "    <tr>\n",
       "      <th>897</th>\n",
       "      <td>5</td>\n",
       "      <td>1</td>\n",
       "      <td>1</td>\n",
       "      <td>1</td>\n",
       "      <td>1</td>\n",
       "      <td>1</td>\n",
       "      <td>1</td>\n",
       "      <td>9</td>\n",
       "      <td>10</td>\n",
       "      <td>2</td>\n",
       "      <td>2</td>\n",
       "      <td>2</td>\n",
       "      <td>1</td>\n",
       "      <td>2</td>\n",
       "      <td>2</td>\n",
       "      <td>1</td>\n",
       "      <td>1</td>\n",
       "      <td>2</td>\n",
       "      <td>4</td>\n",
       "      <td>2</td>\n",
       "      <td>2</td>\n",
       "      <td>2</td>\n",
       "      <td>2</td>\n",
       "      <td>2</td>\n",
       "    </tr>\n",
       "    <tr>\n",
       "      <th>908</th>\n",
       "      <td>6</td>\n",
       "      <td>1</td>\n",
       "      <td>1</td>\n",
       "      <td>1</td>\n",
       "      <td>1</td>\n",
       "      <td>1</td>\n",
       "      <td>1</td>\n",
       "      <td>8</td>\n",
       "      <td>8</td>\n",
       "      <td>1</td>\n",
       "      <td>2</td>\n",
       "      <td>1</td>\n",
       "      <td>1</td>\n",
       "      <td>2</td>\n",
       "      <td>2</td>\n",
       "      <td>1</td>\n",
       "      <td>4</td>\n",
       "      <td>2</td>\n",
       "      <td>2</td>\n",
       "      <td>1</td>\n",
       "      <td>2</td>\n",
       "      <td>2</td>\n",
       "      <td>1</td>\n",
       "      <td>2</td>\n",
       "    </tr>\n",
       "  </tbody>\n",
       "</table>\n",
       "<p>273 rows × 24 columns</p>\n",
       "</div>"
      ],
      "text/plain": [
       "     Q1  Q2  Q3  Q8  Q9  Q10  Q11  Q12  Q13  Q14  Q15  Q16  Q17  Q18  Q18a  \\\n",
       "12    4   1   1   2   2    2    1    8    9    2    2    2    1    2     2   \n",
       "13    3   2   2   1   2    1    1    6    5    2    1    1    1    2     2   \n",
       "16    3   1   1   2   2    2    2    7    7    2    1    2    1    2     2   \n",
       "18    2   1   1   2   2    2    2    7    7    1    2    1    1    2     2   \n",
       "21    2   1   1   2   2    1    1    7    6    1    1    2    2    2     2   \n",
       "..   ..  ..  ..  ..  ..  ...  ...  ...  ...  ...  ...  ...  ...  ...   ...   \n",
       "894   2   1   5   2   1    2    1    8    8    1    1    2    1    2     2   \n",
       "895   4   2   1   2   2    1    2    7    8    2    2    1    1    2     2   \n",
       "896   4   1  19   2   2    1    2    6    7    2    2    2    2    2     2   \n",
       "897   5   1   1   1   1    1    1    9   10    2    2    2    1    2     2   \n",
       "908   6   1   1   1   1    1    1    8    8    1    2    1    1    2     2   \n",
       "\n",
       "     Q21  Q22  Q23  Q24  Q25  Q26  Q27  Q28  Q29  \n",
       "12     1    1    1    1    2    2    2    2    2  \n",
       "13     1    1    2    2    2    1    2    1    2  \n",
       "16     1    1    2    3    1    1    2    2    2  \n",
       "18     1    1    2    2    2    2    1    2    2  \n",
       "21     1    1    2    2    2    2    2    2    1  \n",
       "..   ...  ...  ...  ...  ...  ...  ...  ...  ...  \n",
       "894    1    1    2    4    2    2    2    2    2  \n",
       "895    1    1    1    1    1    2    1    2    1  \n",
       "896    1    1    2    5    2    2    2    2    2  \n",
       "897    1    1    2    4    2    2    2    2    2  \n",
       "908    1    4    2    2    1    2    2    1    2  \n",
       "\n",
       "[273 rows x 24 columns]"
      ]
     },
     "execution_count": 348,
     "metadata": {},
     "output_type": "execute_result"
    }
   ],
   "source": [
    "data"
   ]
  },
  {
   "cell_type": "code",
   "execution_count": null,
   "metadata": {
    "id": "ES-Fgm3r9Prk"
   },
   "outputs": [],
   "source": []
  },
  {
   "cell_type": "code",
   "execution_count": null,
   "metadata": {
    "id": "dyaa3ASR9Prk"
   },
   "outputs": [],
   "source": []
  },
  {
   "cell_type": "code",
   "execution_count": null,
   "metadata": {
    "id": "Egtchdlc9Prk"
   },
   "outputs": [],
   "source": []
  },
  {
   "cell_type": "code",
   "execution_count": null,
   "metadata": {
    "id": "-yC3lzRL9Prl"
   },
   "outputs": [],
   "source": []
  },
  {
   "cell_type": "code",
   "execution_count": 349,
   "metadata": {
    "colab": {
     "base_uri": "https://localhost:8080/"
    },
    "id": "XJFqaqlc9Prl",
    "outputId": "255f7671-bbf8-498e-a619-0ab8b6daca19"
   },
   "outputs": [
    {
     "name": "stdout",
     "output_type": "stream",
     "text": [
      "Input (273, 23)\n",
      "Output (273,)\n"
     ]
    }
   ],
   "source": [
    "\n",
    "X = data.loc[:,data.columns !='Q18a'].astype(str)\n",
    "y = data['Q18a'].astype(str)\n",
    "# summarize\n",
    "print('Input', X.shape)\n",
    "print('Output', y.shape)\n",
    "onehot_encoder = OneHotEncoder(sparse=False)\n",
    "X = onehot_encoder.fit_transform(X)\n",
    "label_encoder = LabelEncoder()\n",
    "y = label_encoder.fit_transform(y)\n",
    "X_train, X_test, y_train, y_test = train_test_split(X, y, test_size=0.33, random_state=1)\n",
    "X_tr=X_train\n",
    "y_tr=y_train\n",
    "\n"
   ]
  },
  {
   "cell_type": "code",
   "execution_count": null,
   "metadata": {
    "id": "_GAnx7hS9Prl"
   },
   "outputs": [],
   "source": []
  },
  {
   "cell_type": "code",
   "execution_count": 350,
   "metadata": {
    "colab": {
     "base_uri": "https://localhost:8080/",
     "height": 1000
    },
    "id": "1iOie3k59Prl",
    "outputId": "87c1487d-348d-4950-9859-d59cf3d79eaf"
   },
   "outputs": [
    {
     "name": "stdout",
     "output_type": "stream",
     "text": [
      "Accuracy: 0.802 (0.028) \n",
      "\n",
      "[21:24:29] WARNING: ..\\src\\learner.cc:1115: Starting in XGBoost 1.3.0, the default evaluation metric used with the objective 'binary:logistic' was changed from 'error' to 'logloss'. Explicitly set eval_metric if you'd like to restore the old behavior.\n",
      "Accuracy: 0.805 (0.033) \n",
      "\n",
      "[21:24:31] WARNING: ..\\src\\learner.cc:1115: Starting in XGBoost 1.3.0, the default evaluation metric used with the objective 'binary:logistic' was changed from 'error' to 'logloss'. Explicitly set eval_metric if you'd like to restore the old behavior.\n",
      "Accuracy: 0.805 (0.039) \n",
      "\n",
      "[21:24:33] WARNING: ..\\src\\learner.cc:1115: Starting in XGBoost 1.3.0, the default evaluation metric used with the objective 'binary:logistic' was changed from 'error' to 'logloss'. Explicitly set eval_metric if you'd like to restore the old behavior.\n",
      "Accuracy: 0.805 (0.041) \n",
      "\n",
      "[21:24:34] WARNING: ..\\src\\learner.cc:1115: Starting in XGBoost 1.3.0, the default evaluation metric used with the objective 'binary:logistic' was changed from 'error' to 'logloss'. Explicitly set eval_metric if you'd like to restore the old behavior.\n",
      "Accuracy: 0.798 (0.043) \n",
      "\n",
      "[21:24:35] WARNING: ..\\src\\learner.cc:1115: Starting in XGBoost 1.3.0, the default evaluation metric used with the objective 'binary:logistic' was changed from 'error' to 'logloss'. Explicitly set eval_metric if you'd like to restore the old behavior.\n",
      "Accuracy: 0.810 (0.038) \n",
      "\n",
      "[21:24:37] WARNING: ..\\src\\learner.cc:1115: Starting in XGBoost 1.3.0, the default evaluation metric used with the objective 'binary:logistic' was changed from 'error' to 'logloss'. Explicitly set eval_metric if you'd like to restore the old behavior.\n",
      "Accuracy: 0.807 (0.039) \n",
      "\n",
      "[21:24:39] WARNING: ..\\src\\learner.cc:1115: Starting in XGBoost 1.3.0, the default evaluation metric used with the objective 'binary:logistic' was changed from 'error' to 'logloss'. Explicitly set eval_metric if you'd like to restore the old behavior.\n",
      "Accuracy: 0.797 (0.049) \n",
      "\n",
      "[21:24:41] WARNING: ..\\src\\learner.cc:1115: Starting in XGBoost 1.3.0, the default evaluation metric used with the objective 'binary:logistic' was changed from 'error' to 'logloss'. Explicitly set eval_metric if you'd like to restore the old behavior.\n",
      "Accuracy: 0.807 (0.045) \n",
      "\n",
      "[21:24:43] WARNING: ..\\src\\learner.cc:1115: Starting in XGBoost 1.3.0, the default evaluation metric used with the objective 'binary:logistic' was changed from 'error' to 'logloss'. Explicitly set eval_metric if you'd like to restore the old behavior.\n",
      "Accuracy: 0.809 (0.051) \n",
      "\n",
      "[21:24:46] WARNING: ..\\src\\learner.cc:1115: Starting in XGBoost 1.3.0, the default evaluation metric used with the objective 'binary:logistic' was changed from 'error' to 'logloss'. Explicitly set eval_metric if you'd like to restore the old behavior.\n",
      "Accuracy: 0.805 (0.054) \n",
      "\n",
      "[21:24:49] WARNING: ..\\src\\learner.cc:1115: Starting in XGBoost 1.3.0, the default evaluation metric used with the objective 'binary:logistic' was changed from 'error' to 'logloss'. Explicitly set eval_metric if you'd like to restore the old behavior.\n",
      "Accuracy: 0.802 (0.048) \n",
      "\n",
      "[21:24:51] WARNING: ..\\src\\learner.cc:1115: Starting in XGBoost 1.3.0, the default evaluation metric used with the objective 'binary:logistic' was changed from 'error' to 'logloss'. Explicitly set eval_metric if you'd like to restore the old behavior.\n",
      "Accuracy: 0.807 (0.064) \n",
      "\n",
      "[21:24:54] WARNING: ..\\src\\learner.cc:1115: Starting in XGBoost 1.3.0, the default evaluation metric used with the objective 'binary:logistic' was changed from 'error' to 'logloss'. Explicitly set eval_metric if you'd like to restore the old behavior.\n",
      "Accuracy: 0.799 (0.063) \n",
      "\n",
      "[21:24:58] WARNING: ..\\src\\learner.cc:1115: Starting in XGBoost 1.3.0, the default evaluation metric used with the objective 'binary:logistic' was changed from 'error' to 'logloss'. Explicitly set eval_metric if you'd like to restore the old behavior.\n",
      "Accuracy: 0.816 (0.064) \n",
      "\n",
      "[21:25:01] WARNING: ..\\src\\learner.cc:1115: Starting in XGBoost 1.3.0, the default evaluation metric used with the objective 'binary:logistic' was changed from 'error' to 'logloss'. Explicitly set eval_metric if you'd like to restore the old behavior.\n",
      "Accuracy: 0.805 (0.057) \n",
      "\n",
      "[21:25:05] WARNING: ..\\src\\learner.cc:1115: Starting in XGBoost 1.3.0, the default evaluation metric used with the objective 'binary:logistic' was changed from 'error' to 'logloss'. Explicitly set eval_metric if you'd like to restore the old behavior.\n",
      "Accuracy: 0.807 (0.054) \n",
      "\n",
      "[21:25:09] WARNING: ..\\src\\learner.cc:1115: Starting in XGBoost 1.3.0, the default evaluation metric used with the objective 'binary:logistic' was changed from 'error' to 'logloss'. Explicitly set eval_metric if you'd like to restore the old behavior.\n",
      "Accuracy: 0.806 (0.063) \n",
      "\n",
      "[21:25:13] WARNING: ..\\src\\learner.cc:1115: Starting in XGBoost 1.3.0, the default evaluation metric used with the objective 'binary:logistic' was changed from 'error' to 'logloss'. Explicitly set eval_metric if you'd like to restore the old behavior.\n",
      "Accuracy: 0.808 (0.069) \n",
      "\n",
      "[21:25:18] WARNING: ..\\src\\learner.cc:1115: Starting in XGBoost 1.3.0, the default evaluation metric used with the objective 'binary:logistic' was changed from 'error' to 'logloss'. Explicitly set eval_metric if you'd like to restore the old behavior.\n",
      "Accuracy: 0.806 (0.076) \n",
      "\n",
      "[21:25:23] WARNING: ..\\src\\learner.cc:1115: Starting in XGBoost 1.3.0, the default evaluation metric used with the objective 'binary:logistic' was changed from 'error' to 'logloss'. Explicitly set eval_metric if you'd like to restore the old behavior.\n",
      "Accuracy: 0.811 (0.079) \n",
      "\n",
      "[21:25:28] WARNING: ..\\src\\learner.cc:1115: Starting in XGBoost 1.3.0, the default evaluation metric used with the objective 'binary:logistic' was changed from 'error' to 'logloss'. Explicitly set eval_metric if you'd like to restore the old behavior.\n",
      "Accuracy: 0.807 (0.084) \n",
      "\n",
      "[21:25:34] WARNING: ..\\src\\learner.cc:1115: Starting in XGBoost 1.3.0, the default evaluation metric used with the objective 'binary:logistic' was changed from 'error' to 'logloss'. Explicitly set eval_metric if you'd like to restore the old behavior.\n",
      "Accuracy: 0.814 (0.079) \n",
      "\n",
      "[21:25:39] WARNING: ..\\src\\learner.cc:1115: Starting in XGBoost 1.3.0, the default evaluation metric used with the objective 'binary:logistic' was changed from 'error' to 'logloss'. Explicitly set eval_metric if you'd like to restore the old behavior.\n",
      "Accuracy: 0.806 (0.084) \n",
      "\n",
      "[21:25:44] WARNING: ..\\src\\learner.cc:1115: Starting in XGBoost 1.3.0, the default evaluation metric used with the objective 'binary:logistic' was changed from 'error' to 'logloss'. Explicitly set eval_metric if you'd like to restore the old behavior.\n",
      "Accuracy: 0.806 (0.082) \n",
      "\n",
      "[21:25:51] WARNING: ..\\src\\learner.cc:1115: Starting in XGBoost 1.3.0, the default evaluation metric used with the objective 'binary:logistic' was changed from 'error' to 'logloss'. Explicitly set eval_metric if you'd like to restore the old behavior.\n",
      "Accuracy: 0.808 (0.081) \n",
      "\n",
      "[21:25:57] WARNING: ..\\src\\learner.cc:1115: Starting in XGBoost 1.3.0, the default evaluation metric used with the objective 'binary:logistic' was changed from 'error' to 'logloss'. Explicitly set eval_metric if you'd like to restore the old behavior.\n",
      "Accuracy: 0.807 (0.087) \n",
      "\n",
      "[21:26:02] WARNING: ..\\src\\learner.cc:1115: Starting in XGBoost 1.3.0, the default evaluation metric used with the objective 'binary:logistic' was changed from 'error' to 'logloss'. Explicitly set eval_metric if you'd like to restore the old behavior.\n",
      "Accuracy: 0.814 (0.084) \n",
      "\n",
      "[21:26:09] WARNING: ..\\src\\learner.cc:1115: Starting in XGBoost 1.3.0, the default evaluation metric used with the objective 'binary:logistic' was changed from 'error' to 'logloss'. Explicitly set eval_metric if you'd like to restore the old behavior.\n",
      "Accuracy: 0.814 (0.085) \n",
      "\n",
      "[21:26:15] WARNING: ..\\src\\learner.cc:1115: Starting in XGBoost 1.3.0, the default evaluation metric used with the objective 'binary:logistic' was changed from 'error' to 'logloss'. Explicitly set eval_metric if you'd like to restore the old behavior.\n",
      "Accuracy: 0.814 (0.090) \n",
      "\n",
      "[21:26:21] WARNING: ..\\src\\learner.cc:1115: Starting in XGBoost 1.3.0, the default evaluation metric used with the objective 'binary:logistic' was changed from 'error' to 'logloss'. Explicitly set eval_metric if you'd like to restore the old behavior.\n",
      "Accuracy: 0.809 (0.098) \n",
      "\n",
      "[21:26:30] WARNING: ..\\src\\learner.cc:1115: Starting in XGBoost 1.3.0, the default evaluation metric used with the objective 'binary:logistic' was changed from 'error' to 'logloss'. Explicitly set eval_metric if you'd like to restore the old behavior.\n",
      "Accuracy: 0.812 (0.093) \n",
      "\n",
      "[21:26:38] WARNING: ..\\src\\learner.cc:1115: Starting in XGBoost 1.3.0, the default evaluation metric used with the objective 'binary:logistic' was changed from 'error' to 'logloss'. Explicitly set eval_metric if you'd like to restore the old behavior.\n",
      "Accuracy: 0.799 (0.095) \n",
      "\n",
      "[21:26:47] WARNING: ..\\src\\learner.cc:1115: Starting in XGBoost 1.3.0, the default evaluation metric used with the objective 'binary:logistic' was changed from 'error' to 'logloss'. Explicitly set eval_metric if you'd like to restore the old behavior.\n",
      "Accuracy: 0.809 (0.090) \n",
      "\n",
      "[21:26:56] WARNING: ..\\src\\learner.cc:1115: Starting in XGBoost 1.3.0, the default evaluation metric used with the objective 'binary:logistic' was changed from 'error' to 'logloss'. Explicitly set eval_metric if you'd like to restore the old behavior.\n",
      "Accuracy: 0.807 (0.096) \n",
      "\n",
      "[21:27:04] WARNING: ..\\src\\learner.cc:1115: Starting in XGBoost 1.3.0, the default evaluation metric used with the objective 'binary:logistic' was changed from 'error' to 'logloss'. Explicitly set eval_metric if you'd like to restore the old behavior.\n",
      "Accuracy: 0.807 (0.096) \n",
      "\n",
      "[21:27:13] WARNING: ..\\src\\learner.cc:1115: Starting in XGBoost 1.3.0, the default evaluation metric used with the objective 'binary:logistic' was changed from 'error' to 'logloss'. Explicitly set eval_metric if you'd like to restore the old behavior.\n",
      "Accuracy: 0.808 (0.093) \n",
      "\n",
      "[21:27:22] WARNING: ..\\src\\learner.cc:1115: Starting in XGBoost 1.3.0, the default evaluation metric used with the objective 'binary:logistic' was changed from 'error' to 'logloss'. Explicitly set eval_metric if you'd like to restore the old behavior.\n",
      "Accuracy: 0.813 (0.096) \n",
      "\n",
      "[21:27:31] WARNING: ..\\src\\learner.cc:1115: Starting in XGBoost 1.3.0, the default evaluation metric used with the objective 'binary:logistic' was changed from 'error' to 'logloss'. Explicitly set eval_metric if you'd like to restore the old behavior.\n"
     ]
    },
    {
     "data": {
      "image/png": "[encoded data removed]",
      "text/plain": [
       "<Figure size 648x216 with 2 Axes>"
      ]
     },
     "metadata": {
      "needs_background": "light"
     },
     "output_type": "display_data"
    }
   ],
   "source": [
    "#XGboost\n",
    "import pandas as pd\n",
    "import numpy as np\n",
    "import matplotlib.pyplot as plt\n",
    "import seaborn as sns\n",
    "from sklearn.preprocessing import LabelEncoder\n",
    "from sklearn.preprocessing import OneHotEncoder\n",
    "import warnings\n",
    "warnings.filterwarnings(\"ignore\")\n",
    "# load and summarize the dataset\n",
    "from pandas import read_csv\n",
    "from collections import Counter\n",
    "from matplotlib import pyplot\n",
    "from sklearn.preprocessing import LabelEncoder\n",
    "# xgboost for classification\n",
    "from numpy import asarray\n",
    "from numpy import mean\n",
    "from numpy import std\n",
    "from sklearn.datasets import make_classification\n",
    "from xgboost import XGBClassifier\n",
    "from sklearn.model_selection import cross_val_score\n",
    "from sklearn.model_selection import RepeatedStratifiedKFold\n",
    "from matplotlib import pyplot\n",
    "df4=data\n",
    "# split into input (X) and output (y) variables\n",
    "X = df4.loc[:,df4.columns !='Q18a']\n",
    "y = df4['Q18a']\n",
    "# evaluate the model\n",
    "model = XGBClassifier()\n",
    "empty=[]\n",
    "for i in range(2,40):\n",
    "    cv = RepeatedStratifiedKFold(n_splits=i, n_repeats=3, random_state=1)\n",
    "    n_scores = cross_val_score(model, X, y, scoring='accuracy', cv=cv, n_jobs=-1, error_score='raise')\n",
    "    print('Accuracy: %.3f (%.3f) \\n' % (mean(n_scores), std(n_scores)))\n",
    "    # fit the model on the whole dataset\n",
    "    empty.append(mean(n_scores))\n",
    "    model = XGBClassifier()\n",
    "    model.fit(X, y)\n",
    "    names = range(2,40)\n",
    "values = empty\n",
    "\n",
    "plt.figure(figsize=(9, 3))\n",
    "\n",
    "plt.subplot(121)\n",
    "plt.scatter(names, values)\n",
    "plt.ylabel('Accuracy')\n",
    "plt.xlabel('Number of folds')\n",
    "plt.subplot(122)\n",
    "plt.plot(names, values)\n",
    "plt.xlabel('Number of folds')\n",
    "plt.show()\n"
   ]
  },
  {
   "cell_type": "code",
   "execution_count": 351,
   "metadata": {
    "colab": {
     "base_uri": "https://localhost:8080/",
     "height": 1000
    },
    "id": "TtcOtKaQ9Prm",
    "outputId": "74702b4a-001a-4447-fbb8-fa8d1ce82ecd"
   },
   "outputs": [
    {
     "name": "stdout",
     "output_type": "stream",
     "text": [
      "Accuracy: 0.797 (0.049) \n",
      "\n",
      "[21:27:34] WARNING: ..\\src\\learner.cc:1115: Starting in XGBoost 1.3.0, the default evaluation metric used with the objective 'binary:logistic' was changed from 'error' to 'logloss'. Explicitly set eval_metric if you'd like to restore the old behavior.\n",
      "Feature: 0, Score: 0.03674\n",
      "Feature: 1, Score: 0.04889\n",
      "Feature: 2, Score: 0.04146\n",
      "Feature: 3, Score: 0.03559\n",
      "Feature: 4, Score: 0.06048\n",
      "Feature: 5, Score: 0.04845\n",
      "Feature: 6, Score: 0.05592\n",
      "Feature: 7, Score: 0.03484\n",
      "Feature: 8, Score: 0.04941\n",
      "Feature: 9, Score: 0.05349\n",
      "Feature: 10, Score: 0.03858\n",
      "Feature: 11, Score: 0.06525\n",
      "Feature: 12, Score: 0.03725\n",
      "Feature: 13, Score: 0.00000\n",
      "Feature: 14, Score: 0.06405\n",
      "Feature: 15, Score: 0.02809\n",
      "Feature: 16, Score: 0.03091\n",
      "Feature: 17, Score: 0.03815\n",
      "Feature: 18, Score: 0.04602\n",
      "Feature: 19, Score: 0.04735\n",
      "Feature: 20, Score: 0.06501\n",
      "Feature: 21, Score: 0.04478\n",
      "Feature: 22, Score: 0.02929\n"
     ]
    },
    {
     "data": {
      "image/png": "[encoded data removed]",
      "text/plain": [
       "<Figure size 432x288 with 1 Axes>"
      ]
     },
     "metadata": {
      "needs_background": "light"
     },
     "output_type": "display_data"
    },
    {
     "data": {
      "image/png": "[encoded data removed]",
      "text/plain": [
       "<Figure size 720x576 with 1 Axes>"
      ]
     },
     "metadata": {
      "needs_background": "light"
     },
     "output_type": "display_data"
    }
   ],
   "source": [
    "#XGboost\n",
    "\n",
    "\n",
    "import pandas as pd\n",
    "import numpy as np\n",
    "import matplotlib.pyplot as plt\n",
    "import seaborn as sns\n",
    "from sklearn.preprocessing import LabelEncoder\n",
    "from sklearn.preprocessing import OneHotEncoder\n",
    "import warnings\n",
    "warnings.filterwarnings(\"ignore\")\n",
    "# load and summarize the dataset\n",
    "from pandas import read_csv\n",
    "from collections import Counter\n",
    "from matplotlib import pyplot\n",
    "from sklearn.preprocessing import LabelEncoder\n",
    "# xgboost for classification\n",
    "from numpy import asarray\n",
    "from numpy import mean\n",
    "from numpy import std\n",
    "from sklearn.datasets import make_classification\n",
    "from xgboost import XGBClassifier\n",
    "from sklearn.model_selection import cross_val_score\n",
    "from sklearn.model_selection import RepeatedStratifiedKFold\n",
    "from matplotlib import pyplot\n",
    "data = df4.values\n",
    "# split into input (X) and output (y) variables\n",
    "X = df4.loc[:,df4.columns !='Q18a']\n",
    "y = df4['Q18a']\n",
    "# evaluate the model\n",
    "model = XGBClassifier()\n",
    "empty=[]\n",
    "\n",
    "cv = RepeatedStratifiedKFold(n_splits=9, n_repeats=3, random_state=1)\n",
    "n_scores = cross_val_score(model, X, y, scoring='accuracy', cv=cv, n_jobs=-1, error_score='raise')\n",
    "print('Accuracy: %.3f (%.3f) \\n' % (mean(n_scores), std(n_scores)))\n",
    "# fit the model on the whole dataset\n",
    "empty.append(mean(n_scores))\n",
    "model = XGBClassifier()\n",
    "model.fit(X, y)\n",
    "names = range(2,20)\n",
    "values = empty\n",
    "\n",
    "# get importance\n",
    "importance = model.feature_importances_\n",
    "# summarize feature importance\n",
    "for i,v in enumerate(importance):\n",
    "\tprint('Feature: %0d, Score: %.5f' % (i,v))\n",
    "# plot feature importance\n",
    "pyplot.bar([x for x in range(len(importance))], importance)\n",
    "pyplot.show()\n",
    "import matplotlib.pyplot as plt\n",
    "   \n",
    "C = ['Q1', 'Q2', 'Q3', 'Q8', 'Q9', 'Q10', 'Q11', 'Q12', 'Q13', 'Q14', 'Q15',\n",
    "       'Q16', 'Q17', 'Q18', 'Q21', 'Q22', 'Q23', 'Q24',\n",
    "       'Q25', 'Q26', 'Q27', 'Q28', 'Q29']\n",
    "GC = importance\n",
    "# plotting a line plot after changing it's width and height\n",
    "f = plt.figure()\n",
    "f.set_figwidth(10)\n",
    "f.set_figheight(8)\n",
    "plt.xticks(rotation=45, ha='right')\n",
    "plt.grid(True)\n",
    "\n",
    "plt.bar(C, GC)\n",
    "plt.ylabel('Importance')\n",
    "plt.xlabel('Feature')\n",
    "plt.show()\n"
   ]
  },
  {
   "cell_type": "code",
   "execution_count": 367,
   "metadata": {
    "colab": {
     "base_uri": "https://localhost:8080/",
     "height": 276
    },
    "id": "RiiMNNfO9Prn",
    "outputId": "ac1224d1-48ff-4021-988d-64a205019b62"
   },
   "outputs": [
    {
     "data": {
      "image/png": "[encoded data removed]",
      "text/plain": [
       "<Figure size 432x288 with 1 Axes>"
      ]
     },
     "metadata": {
      "needs_background": "light"
     },
     "output_type": "display_data"
    }
   ],
   "source": [
    "import matplotlib.pyplot as plt\n",
    "import pandas as pd\n",
    "df4.groupby(['Q21','Q18a']).size().unstack().plot(kind='bar',stacked=True)\n",
    "plt.xlabel('Question 21: In January 2020, approximately how often did you use marijuana/cannabis (recreational or medical)?')\n",
    "plt.ylabel('Count')\n",
    "plt.show()\n",
    "plt.show()"
   ]
  },
  {
   "cell_type": "code",
   "execution_count": 366,
   "metadata": {
    "colab": {
     "base_uri": "https://localhost:8080/",
     "height": 276
    },
    "id": "ELQP165M9Prp",
    "outputId": "57ef2ba1-828e-4a6a-e088-39e63949e16a"
   },
   "outputs": [
    {
     "data": {
      "image/png": "[encoded data removed]",
      "text/plain": [
       "<Figure size 432x288 with 1 Axes>"
      ]
     },
     "metadata": {
      "needs_background": "light"
     },
     "output_type": "display_data"
    }
   ],
   "source": [
    "import matplotlib.pyplot as plt\n",
    "import pandas as pd\n",
    "df4.groupby(['Q16','Q18a']).size().unstack().plot(kind='bar',stacked=True)\n",
    "plt.xlabel('Question 16:Have your sleep patterns changed? ')\n",
    "plt.ylabel('Count')\n",
    "plt.show()\n",
    "plt.show()"
   ]
  },
  {
   "cell_type": "code",
   "execution_count": 368,
   "metadata": {
    "colab": {
     "base_uri": "https://localhost:8080/",
     "height": 276
    },
    "id": "Sh5FRhlS9Prq",
    "outputId": "8538bbef-d950-48f2-bfb2-255ea8e3f96a"
   },
   "outputs": [
    {
     "data": {
      "image/png": "[encoded data removed]",
      "text/plain": [
       "<Figure size 432x288 with 1 Axes>"
      ]
     },
     "metadata": {
      "needs_background": "light"
     },
     "output_type": "display_data"
    }
   ],
   "source": [
    "import matplotlib.pyplot as plt\n",
    "import pandas as pd\n",
    "df4.groupby(['Q27','Q18a']).size().unstack().plot(kind='bar',stacked=True)\n",
    "plt.xlabel('Question 27: Has the quality of your diet changed? ')\n",
    "plt.ylabel('Count')\n",
    "plt.show()\n",
    "plt.show()"
   ]
  },
  {
   "cell_type": "code",
   "execution_count": 370,
   "metadata": {
    "colab": {
     "base_uri": "https://localhost:8080/",
     "height": 276
    },
    "id": "fwerzoZj9Prq",
    "outputId": "e54ce711-e2f8-4507-8a67-335a6438d192"
   },
   "outputs": [
    {
     "data": {
      "image/png": "[encoded data removed]",
      "text/plain": [
       "<Figure size 432x288 with 1 Axes>"
      ]
     },
     "metadata": {
      "needs_background": "light"
     },
     "output_type": "display_data"
    }
   ],
   "source": [
    "import matplotlib.pyplot as plt\n",
    "import pandas as pd\n",
    "\n",
    "df4.groupby(['Q9','Q18a']).size().unstack().plot(kind='bar',stacked=True)\n",
    "plt.xlabel('Question 9:Are you conducting clinical video visits with your patients from your home? ')\n",
    "plt.ylabel('Count')\n",
    "plt.show()"
   ]
  },
  {
   "cell_type": "code",
   "execution_count": 356,
   "metadata": {
    "colab": {
     "base_uri": "https://localhost:8080/"
    },
    "id": "wSry_TEo9Prq",
    "outputId": "f38097f8-c8d9-4252-a1ea-370bcb537804"
   },
   "outputs": [
    {
     "name": "stdout",
     "output_type": "stream",
     "text": [
      "Q18a   1    2\n",
      "Q16          \n",
      "1     11   58\n",
      "2     27  177\n",
      "dof=1\n",
      "[[  9.6043956  59.3956044]\n",
      " [ 28.3956044 175.6043956]]\n",
      "probability=0.950, critical=3.841, stat=0.130\n",
      "Independent (fail to reject H0)\n",
      "significance=0.050, p=0.719\n",
      "Independent (fail to reject H0)\n"
     ]
    }
   ],
   "source": [
    "# Constructing Contingency Table\n",
    "Q18aQ2 = pd.crosstab(df4['Q16'],df4['Q18a'],margins = False)\n",
    "table= Q18aQ2\n",
    "print(Q18aQ2)\n",
    "stat, p, dof, expected = chi2_contingency(table)\n",
    "print('dof=%d' % dof)\n",
    "print(expected)\n",
    "# interpret test-statistic\n",
    "prob = 0.95\n",
    "critical = chi2.ppf(prob, dof)\n",
    "print('probability=%.3f, critical=%.3f, stat=%.3f' % (prob, critical, stat))\n",
    "if abs(stat) >= critical:\n",
    "    print('Dependent (reject H0)')\n",
    "else:\n",
    "    print('Independent (fail to reject H0)')\n",
    "# interpret p-value\n",
    "alpha = 1.0 - prob\n",
    "print('significance=%.3f, p=%.3f' % (alpha, p))\n",
    "if p <= alpha:\n",
    "    print('Dependent (reject H0)')\n",
    "else:\n",
    "    print('Independent (fail to reject H0)')"
   ]
  },
  {
   "cell_type": "code",
   "execution_count": 357,
   "metadata": {
    "colab": {
     "base_uri": "https://localhost:8080/"
    },
    "id": "7HGeXfad9Prr",
    "outputId": "be9bb55f-0aff-446d-bb14-aa967c19eb7e"
   },
   "outputs": [
    {
     "name": "stdout",
     "output_type": "stream",
     "text": [
      "Requirement already satisfied: catboost in c:\\users\\kimi5\\anaconda3\\lib\\site-packages (1.0.4)\n",
      "Requirement already satisfied: six in c:\\users\\kimi5\\anaconda3\\lib\\site-packages (from catboost) (1.15.0)\n",
      "Requirement already satisfied: pandas>=0.24.0 in c:\\users\\kimi5\\anaconda3\\lib\\site-packages (from catboost) (1.2.4)\n",
      "Requirement already satisfied: matplotlib in c:\\users\\kimi5\\anaconda3\\lib\\site-packages (from catboost) (3.3.4)\n",
      "Requirement already satisfied: graphviz in c:\\users\\kimi5\\anaconda3\\lib\\site-packages (from catboost) (0.16)\n",
      "Requirement already satisfied: plotly in c:\\users\\kimi5\\anaconda3\\lib\\site-packages (from catboost) (5.1.0)\n",
      "Requirement already satisfied: scipy in c:\\users\\kimi5\\anaconda3\\lib\\site-packages (from catboost) (1.6.2)\n",
      "Requirement already satisfied: numpy>=1.16.0 in c:\\users\\kimi5\\anaconda3\\lib\\site-packages (from catboost) (1.20.1)\n",
      "Requirement already satisfied: python-dateutil>=2.7.3 in c:\\users\\kimi5\\anaconda3\\lib\\site-packages (from pandas>=0.24.0->catboost) (2.8.1)\n",
      "Requirement already satisfied: pytz>=2017.3 in c:\\users\\kimi5\\anaconda3\\lib\\site-packages (from pandas>=0.24.0->catboost) (2021.1)\n",
      "Requirement already satisfied: cycler>=0.10 in c:\\users\\kimi5\\anaconda3\\lib\\site-packages (from matplotlib->catboost) (0.10.0)\n",
      "Requirement already satisfied: pillow>=6.2.0 in c:\\users\\kimi5\\anaconda3\\lib\\site-packages (from matplotlib->catboost) (8.2.0)\n",
      "Requirement already satisfied: pyparsing!=2.0.4,!=2.1.2,!=2.1.6,>=2.0.3 in c:\\users\\kimi5\\anaconda3\\lib\\site-packages (from matplotlib->catboost) (2.4.7)\n",
      "Requirement already satisfied: kiwisolver>=1.0.1 in c:\\users\\kimi5\\anaconda3\\lib\\site-packages (from matplotlib->catboost) (1.3.1)\n",
      "Requirement already satisfied: tenacity>=6.2.0 in c:\\users\\kimi5\\anaconda3\\lib\\site-packages (from plotly->catboost) (8.0.1)\n"
     ]
    }
   ],
   "source": [
    "!pip install catboost"
   ]
  },
  {
   "cell_type": "code",
   "execution_count": 358,
   "metadata": {
    "colab": {
     "base_uri": "https://localhost:8080/",
     "height": 620
    },
    "id": "JP4hmHFb9Prr",
    "outputId": "28ebde88-9f85-495b-8d58-cbbacaf4130d"
   },
   "outputs": [
    {
     "name": "stdout",
     "output_type": "stream",
     "text": [
      "Accuracy: 0.843 (0.032)\n",
      "Accuracy: 0.841 (0.029)\n",
      "Accuracy: 0.842 (0.029)\n",
      "Accuracy: 0.845 (0.028)\n",
      "Accuracy: 0.845 (0.030)\n",
      "Accuracy: 0.840 (0.028)\n",
      "Accuracy: 0.851 (0.029)\n",
      "Accuracy: 0.855 (0.024)\n",
      "Accuracy: 0.845 (0.030)\n",
      "Accuracy: 0.852 (0.024)\n",
      "Accuracy: 0.850 (0.026)\n",
      "Accuracy: 0.852 (0.026)\n",
      "Accuracy: 0.853 (0.023)\n",
      "Accuracy: 0.856 (0.016)\n",
      "Accuracy: 0.850 (0.022)\n",
      "Accuracy: 0.851 (0.021)\n"
     ]
    },
    {
     "data": {
      "image/png": "[encoded data removed]",
      "text/plain": [
       "<Figure size 1080x360 with 2 Axes>"
      ]
     },
     "metadata": {
      "needs_background": "light"
     },
     "output_type": "display_data"
    }
   ],
   "source": [
    "#Catboost\n",
    "import pandas as pd\n",
    "import numpy as np\n",
    "import matplotlib.pyplot as plt\n",
    "import seaborn as sns\n",
    "import catboost\n",
    "from sklearn.preprocessing import LabelEncoder\n",
    "from sklearn.preprocessing import OneHotEncoder\n",
    "import warnings\n",
    "warnings.filterwarnings(\"ignore\")\n",
    "# load and summarize the dataset\n",
    "from pandas import read_csv\n",
    "from collections import Counter\n",
    "from matplotlib import pyplot\n",
    "from sklearn.preprocessing import LabelEncoder\n",
    "# xgboost for classification\n",
    "from numpy import asarray\n",
    "from numpy import mean\n",
    "from numpy import std\n",
    "from sklearn.datasets import make_classification\n",
    "from xgboost import XGBClassifier\n",
    "from sklearn.model_selection import cross_val_score\n",
    "from sklearn.model_selection import RepeatedStratifiedKFold\n",
    "from matplotlib import pyplot\n",
    "from numpy import mean\n",
    "from numpy import std\n",
    "from sklearn.datasets import make_classification\n",
    "from catboost import CatBoostClassifier\n",
    "from sklearn.model_selection import cross_val_score\n",
    "from sklearn.model_selection import RepeatedStratifiedKFold\n",
    "from matplotlib import pyplot\n",
    "# split into input (X) and output (y) variables\n",
    "X = df4.loc[:,df4.columns !='Q18a']\n",
    "y = df4['Q18a']\n",
    "# evaluate the model\n",
    "empty=[]\n",
    "for i in range(4,20):\n",
    "    model = CatBoostClassifier(verbose=0, n_estimators=i)\n",
    "    cv = RepeatedStratifiedKFold(n_splits=10, n_repeats=3, random_state=1)\n",
    "    n_scores = cross_val_score(model, X, y, scoring='accuracy', cv=cv, n_jobs=-1, error_score='raise')\n",
    "    print('Accuracy: %.3f (%.3f)' % (mean(n_scores), std(n_scores)))\n",
    "    # fit the model on the whole dataset\n",
    "    empty.append(mean(n_scores))\n",
    "    model = CatBoostClassifier(verbose=0, n_estimators=i)\n",
    "    model.fit(X, y)\n",
    "names = range(4,20)\n",
    "values = empty\n",
    "\n",
    "plt.figure(figsize=(15, 5))\n",
    "\n",
    "plt.subplot(121)\n",
    "plt.scatter(names, values)\n",
    "plt.ylabel('Accuracy')\n",
    "plt.xlabel('Number of trees')\n",
    "plt.subplot(122)\n",
    "plt.plot(names, values)\n",
    "plt.xlabel('Number of trees')\n",
    "plt.show()"
   ]
  },
  {
   "cell_type": "code",
   "execution_count": null,
   "metadata": {
    "id": "3vANTW_A9Prs"
   },
   "outputs": [],
   "source": []
  },
  {
   "cell_type": "code",
   "execution_count": 359,
   "metadata": {
    "colab": {
     "base_uri": "https://localhost:8080/"
    },
    "id": "NUaXKtHt9Prs",
    "outputId": "797d7535-87d0-416e-9a27-cbbffd91255e"
   },
   "outputs": [
    {
     "name": "stdout",
     "output_type": "stream",
     "text": [
      "Accuracy: 0.845 (0.033)\n"
     ]
    }
   ],
   "source": [
    "#Catboost\n",
    "import pandas as pd\n",
    "import numpy as np\n",
    "import matplotlib.pyplot as plt\n",
    "import seaborn as sns\n",
    "from sklearn.preprocessing import LabelEncoder\n",
    "from sklearn.preprocessing import OneHotEncoder\n",
    "import warnings\n",
    "warnings.filterwarnings(\"ignore\")\n",
    "from pandas import read_csv\n",
    "from collections import Counter\n",
    "from matplotlib import pyplot\n",
    "from sklearn.preprocessing import LabelEncoder\n",
    "from numpy import asarray\n",
    "from numpy import mean\n",
    "from numpy import std\n",
    "from sklearn.datasets import make_classification\n",
    "from xgboost import XGBClassifier\n",
    "from sklearn.model_selection import cross_val_score\n",
    "from sklearn.model_selection import RepeatedStratifiedKFold\n",
    "from matplotlib import pyplot\n",
    "from numpy import mean\n",
    "from numpy import std\n",
    "from sklearn.datasets import make_classification\n",
    "from catboost import CatBoostClassifier\n",
    "from sklearn.model_selection import cross_val_score\n",
    "from sklearn.model_selection import RepeatedStratifiedKFold\n",
    "from matplotlib import pyplot\n",
    "# split into input (X) and output (y) variables\n",
    "X = df4.loc[:,df4.columns !='Q18a']\n",
    "y = df4['Q18a']\n",
    "# evaluate the model\n",
    "empty=[]\n",
    "\n",
    "model = CatBoostClassifier(verbose=0, n_estimators=7)\n",
    "cv = RepeatedStratifiedKFold(n_splits=11, n_repeats=3, random_state=1)\n",
    "n_scores = cross_val_score(model, X, y, scoring='accuracy', cv=cv, n_jobs=-1, error_score='raise')\n",
    "print('Accuracy: %.3f (%.3f)' % (mean(n_scores), std(n_scores)))\n",
    "# fit the model on the whole dataset\n",
    "empty.append(mean(n_scores))\n",
    "model = CatBoostClassifier(verbose=0, n_estimators=i)\n",
    "model.fit(X, y)\n",
    "names = range(4,11)\n",
    "values = empty\n"
   ]
  },
  {
   "cell_type": "code",
   "execution_count": 360,
   "metadata": {
    "colab": {
     "base_uri": "https://localhost:8080/",
     "height": 1000
    },
    "id": "7v4udHYF9Prs",
    "outputId": "b642f0c7-b116-4afd-ca0a-cbbdd0e8bcf6"
   },
   "outputs": [
    {
     "name": "stdout",
     "output_type": "stream",
     "text": [
      "Feature: 0, Score: 11.35515\n",
      "Feature: 1, Score: 6.73703\n",
      "Feature: 2, Score: 9.38522\n",
      "Feature: 3, Score: 3.25059\n",
      "Feature: 4, Score: 3.86727\n",
      "Feature: 5, Score: 2.04586\n",
      "Feature: 6, Score: 6.16225\n",
      "Feature: 7, Score: 5.29946\n",
      "Feature: 8, Score: 17.01344\n",
      "Feature: 9, Score: 1.18742\n",
      "Feature: 10, Score: 3.83651\n",
      "Feature: 11, Score: 0.00000\n",
      "Feature: 12, Score: 0.00000\n",
      "Feature: 13, Score: 0.00000\n",
      "Feature: 14, Score: 1.60186\n",
      "Feature: 15, Score: 3.08591\n",
      "Feature: 16, Score: 4.77132\n",
      "Feature: 17, Score: 11.51792\n",
      "Feature: 18, Score: 6.06467\n",
      "Feature: 19, Score: 0.00000\n",
      "Feature: 20, Score: 0.84257\n",
      "Feature: 21, Score: 0.95401\n",
      "Feature: 22, Score: 1.02155\n"
     ]
    },
    {
     "data": {
      "image/png": "[encoded data removed]",
      "text/plain": [
       "<Figure size 432x288 with 1 Axes>"
      ]
     },
     "metadata": {
      "needs_background": "light"
     },
     "output_type": "display_data"
    },
    {
     "data": {
      "image/png": "[encoded data removed]",
      "text/plain": [
       "<Figure size 720x576 with 1 Axes>"
      ]
     },
     "metadata": {
      "needs_background": "light"
     },
     "output_type": "display_data"
    }
   ],
   "source": [
    "# get importance\n",
    "importance = model.feature_importances_\n",
    "# summarize feature importance\n",
    "for i,v in enumerate(importance):\n",
    "\tprint('Feature: %0d, Score: %.5f' % (i,v))\n",
    "# plot feature importance\n",
    "pyplot.bar([x for x in range(len(importance))], importance)\n",
    "pyplot.show()\n",
    "import matplotlib.pyplot as plt\n",
    "   \n",
    "C = ['Q1', 'Q2', 'Q3', 'Q8', 'Q9', 'Q10', 'Q11', 'Q12', 'Q13', 'Q14', 'Q15',\n",
    "       'Q16', 'Q17', 'Q18', 'Q21', 'Q22', 'Q23', 'Q24',\n",
    "       'Q25', 'Q26', 'Q27', 'Q28', 'Q29']\n",
    "GC = importance\n",
    "# plotting a line plot after changing it's width and height\n",
    "f = plt.figure()\n",
    "f.set_figwidth(10)\n",
    "f.set_figheight(8)\n",
    "plt.xticks(rotation=45, ha='right')\n",
    "plt.grid(True)\n",
    "\n",
    "plt.bar(C, GC)\n",
    "plt.ylabel('Importance')\n",
    "plt.xlabel('Feature')\n",
    "plt.show()"
   ]
  },
  {
   "cell_type": "code",
   "execution_count": null,
   "metadata": {
    "id": "O-tFFR9h9Pr_"
   },
   "outputs": [],
   "source": []
  },
  {
   "cell_type": "code",
   "execution_count": 361,
   "metadata": {
    "id": "dTp5bqYq9Pr_"
   },
   "outputs": [],
   "source": [
    "#SMOTE\n",
    "import pandas as pd\n",
    "import numpy as np\n",
    "import matplotlib.pyplot as plt\n",
    "import seaborn as sns\n",
    "from sklearn.preprocessing import LabelEncoder\n",
    "from sklearn.preprocessing import OneHotEncoder\n",
    "import warnings\n",
    "warnings.filterwarnings(\"ignore\")\n",
    "from pandas import read_csv\n",
    "from collections import Counter\n",
    "from matplotlib import pyplot\n",
    "from sklearn.preprocessing import LabelEncoder\n",
    "y = LabelEncoder().fit_transform(y)"
   ]
  },
  {
   "cell_type": "code",
   "execution_count": 362,
   "metadata": {
    "colab": {
     "base_uri": "https://localhost:8080/"
    },
    "id": "I5_y-7xo9Pr_",
    "outputId": "0670c781-0cd9-4592-8dca-f6b3b6747e45"
   },
   "outputs": [
    {
     "name": "stdout",
     "output_type": "stream",
     "text": [
      "Class=1, n=235 (86.081%)\n",
      "Class=0, n=38 (13.919%)\n"
     ]
    }
   ],
   "source": [
    "counter = Counter(y)\n",
    "for k,v in counter.items():\n",
    "\tper = v / len(y) * 100\n",
    "\tprint('Class=%d, n=%d (%.3f%%)' % (k, v, per))"
   ]
  },
  {
   "cell_type": "code",
   "execution_count": 363,
   "metadata": {
    "colab": {
     "base_uri": "https://localhost:8080/",
     "height": 265
    },
    "id": "qVuPpoOb9Pr_",
    "outputId": "818e9915-09fe-4e5e-ce4e-7b05d4adb217"
   },
   "outputs": [
    {
     "data": {
      "image/png": "[encoded data removed]",
      "text/plain": [
       "<Figure size 432x288 with 1 Axes>"
      ]
     },
     "metadata": {
      "needs_background": "light"
     },
     "output_type": "display_data"
    }
   ],
   "source": [
    "pyplot.bar(counter.keys(), counter.values())\n",
    "pyplot.show()"
   ]
  },
  {
   "cell_type": "code",
   "execution_count": 364,
   "metadata": {
    "colab": {
     "base_uri": "https://localhost:8080/",
     "height": 264
    },
    "id": "68rJ0wYu9PsA",
    "outputId": "e2a194fa-9370-445a-c035-8983b52c8196"
   },
   "outputs": [
    {
     "data": {
      "image/png": "[encoded data removed]",
      "text/plain": [
       "<Figure size 432x288 with 1 Axes>"
      ]
     },
     "metadata": {},
     "output_type": "display_data"
    }
   ],
   "source": [
    "import matplotlib.pyplot as plt\n",
    "   \n",
    "C = ['I am drinking less alcohol','I am drinking more alcohol']\n",
    "GC = [38,  235]\n",
    "# plotting a line plot after changing it's width and height\n",
    "\n",
    "fig1, ax1 = plt.subplots()\n",
    "ax1.pie(GC, labels=C, autopct='%1.1f%%',\n",
    "        shadow=True, startangle=0)\n",
    "ax1.axis('equal')  # Equal aspect ratio ensures that pie is drawn as a circle.\n",
    "plt.title('Question 18a: Please tell us how the amount of alcohol you are consuming has changed')\n",
    "\n",
    "plt.show()"
   ]
  },
  {
   "cell_type": "code",
   "execution_count": 365,
   "metadata": {
    "id": "N8ypQ_Pn9PsA"
   },
   "outputs": [
    {
     "ename": "ModuleNotFoundError",
     "evalue": "No module named 'imblearn'",
     "output_type": "error",
     "traceback": [
      "\u001b[1;31m---------------------------------------------------------------------------\u001b[0m",
      "\u001b[1;31mModuleNotFoundError\u001b[0m                       Traceback (most recent call last)",
      "\u001b[1;32m<ipython-input-365-e46f87c39e4a>\u001b[0m in \u001b[0;36m<module>\u001b[1;34m\u001b[0m\n\u001b[0;32m      2\u001b[0m \u001b[1;31m# example of oversampling a multi-class classification dataset\u001b[0m\u001b[1;33m\u001b[0m\u001b[1;33m\u001b[0m\u001b[1;33m\u001b[0m\u001b[0m\n\u001b[0;32m      3\u001b[0m \u001b[1;32mfrom\u001b[0m \u001b[0mpandas\u001b[0m \u001b[1;32mimport\u001b[0m \u001b[0mread_csv\u001b[0m\u001b[1;33m\u001b[0m\u001b[1;33m\u001b[0m\u001b[0m\n\u001b[1;32m----> 4\u001b[1;33m \u001b[1;32mfrom\u001b[0m \u001b[0mimblearn\u001b[0m\u001b[1;33m.\u001b[0m\u001b[0mover_sampling\u001b[0m \u001b[1;32mimport\u001b[0m \u001b[0mSMOTE\u001b[0m\u001b[1;33m\u001b[0m\u001b[1;33m\u001b[0m\u001b[0m\n\u001b[0m\u001b[0;32m      5\u001b[0m \u001b[1;32mfrom\u001b[0m \u001b[0mcollections\u001b[0m \u001b[1;32mimport\u001b[0m \u001b[0mCounter\u001b[0m\u001b[1;33m\u001b[0m\u001b[1;33m\u001b[0m\u001b[0m\n\u001b[0;32m      6\u001b[0m \u001b[1;32mfrom\u001b[0m \u001b[0mmatplotlib\u001b[0m \u001b[1;32mimport\u001b[0m \u001b[0mpyplot\u001b[0m\u001b[1;33m\u001b[0m\u001b[1;33m\u001b[0m\u001b[0m\n",
      "\u001b[1;31mModuleNotFoundError\u001b[0m: No module named 'imblearn'"
     ]
    }
   ],
   "source": [
    "# transform the dataset\n",
    "# example of oversampling a multi-class classification dataset\n",
    "from pandas import read_csv\n",
    "from imblearn.over_sampling import SMOTE\n",
    "from collections import Counter\n",
    "from matplotlib import pyplot\n",
    "from sklearn.preprocessing import LabelEncoder\n",
    "oversample = SMOTE()\n",
    "X, y = oversample.fit_resample(X, y)"
   ]
  },
  {
   "cell_type": "code",
   "execution_count": null,
   "metadata": {
    "colab": {
     "base_uri": "https://localhost:8080/"
    },
    "id": "rVnN70yc9PsE",
    "outputId": "4f2ca246-aee2-4f7e-c8f6-f0ff007575f8"
   },
   "outputs": [],
   "source": [
    "# summarize distribution\n",
    "counter = Counter(y)\n",
    "for k,v in counter.items():\n",
    "\tper = v / len(y) * 100\n",
    "\tprint('Class=%d, n=%d (%.3f%%)' % (k, v, per))"
   ]
  },
  {
   "cell_type": "code",
   "execution_count": null,
   "metadata": {
    "colab": {
     "base_uri": "https://localhost:8080/",
     "height": 265
    },
    "id": "O6EL1UaY9PsE",
    "outputId": "1a2217b8-681a-4859-e6e7-a7ec94d228d9"
   },
   "outputs": [],
   "source": [
    "# plot the distribution\n",
    "pyplot.bar(counter.keys(), counter.values())\n",
    "pyplot.show()"
   ]
  },
  {
   "cell_type": "code",
   "execution_count": null,
   "metadata": {
    "colab": {
     "base_uri": "https://localhost:8080/",
     "height": 264
    },
    "id": "fC3DNGfv9PsF",
    "outputId": "1fb640a8-6ec1-44e5-e603-117b42d1ce7d"
   },
   "outputs": [],
   "source": [
    "import matplotlib.pyplot as plt\n",
    "   \n",
    "C = ['I am drinking less alcohol','I am drinking more alcohol']\n",
    "GC = [235,  235]\n",
    "# plotting a line plot after changing it's width and height\n",
    "\n",
    "fig1, ax1 = plt.subplots()\n",
    "ax1.pie(GC, labels=C, autopct='%1.1f%%',\n",
    "        shadow=True, startangle=270)\n",
    "ax1.axis('equal')  # Equal aspect ratio ensures that pie is drawn as a circle.\n",
    "plt.title('Question 18a: Please tell us how the amount of alcohol you are consuming has changed')\n",
    "\n",
    "plt.show()"
   ]
  },
  {
   "cell_type": "code",
   "execution_count": null,
   "metadata": {
    "colab": {
     "base_uri": "https://localhost:8080/",
     "height": 248
    },
    "id": "tVFNKu9E9PsF",
    "outputId": "89a6b9c6-065e-4bcc-e7e4-5db565fcc430"
   },
   "outputs": [],
   "source": [
    "import matplotlib.pyplot as plt\n",
    "labels = 'Test Set','Training Set'\n",
    "sizes = [60, 175]\n",
    "explode = (0.1, 0.1)\n",
    "colors = ['#ff9999','#66b3ff']\n",
    "plt.figure()\n",
    "plt.pie(sizes, labels=labels, explode=explode, autopct='%1.1f%%',startangle=270, colors=colors)\n",
    "plt.axis('equal')  \n",
    "plt.show()"
   ]
  },
  {
   "cell_type": "code",
   "execution_count": null,
   "metadata": {
    "colab": {
     "base_uri": "https://localhost:8080/"
    },
    "id": "O1azLLri9PsF",
    "outputId": "04216dff-fb76-4647-a9f5-2641ea5a8a9c"
   },
   "outputs": [],
   "source": [
    "import pandas as pd\n",
    "import sklearn as sk\n",
    "from sklearn.linear_model import LogisticRegression\n",
    "from sklearn import svm\n",
    "from sklearn.ensemble import RandomForestClassifier\n",
    "from sklearn.neural_network import MLPClassifier\n",
    "from sklearn.model_selection import train_test_split\n",
    "from pandas import read_csv\n",
    "from imblearn.over_sampling import SMOTE\n",
    "from collections import Counter\n",
    "from matplotlib import pyplot\n",
    "from sklearn.preprocessing import LabelEncoder\n",
    "# label encode the target variable\n",
    "y = LabelEncoder().fit_transform(y)\n",
    "# summarize distribution\n",
    "counter = Counter(y)\n",
    "for k,v in counter.items():\n",
    "\tper = v / len(y) * 100\n",
    "\tprint('Class=%d, n=%d (%.3f%%)' % (k, v, per))\n",
    "oversample = SMOTE()\n",
    "X, y = oversample.fit_resample(X, y)\n",
    "X_tr, X_test, y_tr, y_test = train_test_split(X, y, test_size=0.33, random_state=1)\n",
    "RF = RandomForestClassifier(n_estimators=100, max_depth=8, random_state=0).fit(X_tr, y_tr)\n",
    "RF.predict(X_test)\n",
    "round(RF.score(X_test, y_test), 4)"
   ]
  },
  {
   "cell_type": "code",
   "execution_count": null,
   "metadata": {
    "colab": {
     "base_uri": "https://localhost:8080/",
     "height": 1000
    },
    "id": "lQeZFCO79PsI",
    "outputId": "9a11feaa-870a-47a2-ed50-11bed1b78a14"
   },
   "outputs": [],
   "source": [
    "importance = RF.feature_importances_\n",
    "for i,v in enumerate(importance):\n",
    "\tprint('Feature: %0d, Score: %.5f' % (i,v))\n",
    "# plot feature importance\n",
    "pyplot.bar([x for x in range(len(importance))], importance)\n",
    "pyplot.show()\n",
    "import matplotlib.pyplot as plt   \n",
    "C = ['Q1', 'Q2', 'Q3', 'Q8', 'Q9', 'Q10', 'Q11', 'Q12', 'Q13', 'Q14', 'Q15',\n",
    "       'Q16', 'Q17', 'Q18', 'Q21', 'Q22', 'Q23', 'Q24',\n",
    "       'Q25', 'Q26', 'Q27', 'Q28', 'Q29']\n",
    "GC = importance\n",
    "f = plt.figure()\n",
    "f.set_figwidth(10)\n",
    "f.set_figheight(8)\n",
    "plt.xticks(rotation=45, ha='right')\n",
    "plt.grid(True)\n",
    "plt.bar(C, GC)\n",
    "plt.ylabel('Importance')\n",
    "plt.xlabel('Feature')\n",
    "plt.show()"
   ]
  },
  {
   "cell_type": "code",
   "execution_count": null,
   "metadata": {
    "id": "CPoTWp4f9PsI"
   },
   "outputs": [],
   "source": []
  },
  {
   "cell_type": "code",
   "execution_count": null,
   "metadata": {
    "id": "1g9QJiO09PsI"
   },
   "outputs": [],
   "source": []
  },
  {
   "cell_type": "code",
   "execution_count": null,
   "metadata": {
    "colab": {
     "base_uri": "https://localhost:8080/"
    },
    "id": "iocPoAWb9PsJ",
    "outputId": "1a61b651-e6e2-43cf-ae35-1245972801dc"
   },
   "outputs": [],
   "source": [
    "data=pd.read_csv(\"covidreasearchthesecondpaper.csv\", index_col =0 )\n",
    "data\n",
    "import pandas as pd\n",
    "import numpy as np\n",
    "import matplotlib.pyplot as plt\n",
    "import seaborn as sns\n",
    "from sklearn.preprocessing import LabelEncoder\n",
    "from sklearn.preprocessing import OneHotEncoder\n",
    "import warnings\n",
    "warnings.filterwarnings(\"ignore\")\n",
    "from pandas import read_csv\n",
    "from collections import Counter\n",
    "from matplotlib import pyplot\n",
    "from sklearn.preprocessing import LabelEncoder\n",
    "y = LabelEncoder().fit_transform(y)\n",
    "counter = Counter(y)\n",
    "for k,v in counter.items():\n",
    "\tper = v / len(y) * 100\n",
    "\tprint('Class=%d, n=%d (%.3f%%)' % (k, v, per))\n",
    "oversample = SMOTE()\n",
    "X_tr, X_test, y_tr, y_test = train_test_split(X, y, test_size=0.33, random_state=1)\n",
    "X_tr, y_tr = oversample.fit_resample(X_tr, y_tr)\n",
    "RF = RandomForestClassifier(n_estimators=100, max_depth=8, random_state=0).fit(X_tr, y_tr)\n",
    "RF.predict(X_test)\n",
    "round(RF.score(X_test, y_test), 4)\n"
   ]
  },
  {
   "cell_type": "code",
   "execution_count": null,
   "metadata": {
    "id": "a1Sbpksi9PsK"
   },
   "outputs": [],
   "source": []
  },
  {
   "cell_type": "code",
   "execution_count": null,
   "metadata": {
    "id": "FWn_EkOR9PsK"
   },
   "outputs": [],
   "source": [
    "from sklearn.preprocessing import LabelEncoder\n",
    "from sklearn.preprocessing import OneHotEncoder\n",
    "import warnings\n",
    "warnings.filterwarnings(\"ignore\")\n",
    "from pandas import read_csv\n",
    "from collections import Counter\n",
    "from matplotlib import pyplot\n",
    "from sklearn.preprocessing import LabelEncoder\n",
    "from numpy import asarray\n",
    "from numpy import mean\n",
    "from numpy import std\n",
    "from sklearn.datasets import make_classification\n",
    "from xgboost import XGBClassifier\n",
    "from sklearn.model_selection import cross_val_score\n",
    "from sklearn.model_selection import RepeatedStratifiedKFold\n",
    "from matplotlib import pyplot\n",
    "from numpy import mean\n",
    "from numpy import std\n",
    "from sklearn.datasets import make_classification\n",
    "from catboost import CatBoostClassifier\n",
    "from sklearn.model_selection import cross_val_score\n",
    "from sklearn.model_selection import RepeatedStratifiedKFold\n",
    "from matplotlib import pyplot\n",
    "X = df4.loc[:,df4.columns !='Q18a']\n",
    "y = df4['Q18a']"
   ]
  },
  {
   "cell_type": "code",
   "execution_count": null,
   "metadata": {
    "colab": {
     "base_uri": "https://localhost:8080/",
     "height": 551
    },
    "id": "ICxhLISF9PsL",
    "outputId": "7ec69e61-38f3-4d76-e00e-9fdf2dfcd8e1"
   },
   "outputs": [],
   "source": [
    "from numpy import mean\n",
    "from numpy import std\n",
    "from sklearn.datasets import make_classification\n",
    "from sklearn.model_selection import cross_val_score\n",
    "from sklearn.model_selection import RepeatedStratifiedKFold\n",
    "from sklearn.ensemble import GradientBoostingClassifier\n",
    "from matplotlib import pyplot\n",
    "def get_models():\n",
    "\tmodels = dict()\n",
    "\tfor i in range(4,20):\n",
    "\t\tmodels[str(i)] = GradientBoostingClassifier(max_depth=i)\n",
    "\treturn models\n",
    "def evaluate_model(model, X, y):\n",
    "\tcv = RepeatedStratifiedKFold(n_splits=10, n_repeats=3, random_state=1)\n",
    "\tscores = cross_val_score(model, X, y, scoring='accuracy', cv=cv, n_jobs=-1)\n",
    "\treturn scores\n",
    "models = get_models()\n",
    "results, names = list(), list()\n",
    "for name, model in models.items():\n",
    "\tscores = evaluate_model(model, X, y)\n",
    "\tresults.append(scores)\n",
    "\tnames.append(name)\n",
    "\tprint('>%s %.3f (%.3f)' % (name, mean(scores), std(scores)))\n",
    "pyplot.boxplot(results, labels=names, showmeans=True)\n",
    "pyplot.show()"
   ]
  },
  {
   "cell_type": "code",
   "execution_count": null,
   "metadata": {
    "id": "pl8dlbRA9PsM"
   },
   "outputs": [],
   "source": [
    "#LightGBM"
   ]
  },
  {
   "cell_type": "code",
   "execution_count": null,
   "metadata": {
    "id": "bNCwji_g9PsN"
   },
   "outputs": [],
   "source": [
    "from sklearn.preprocessing import LabelEncoder\n",
    "from sklearn.preprocessing import OneHotEncoder\n",
    "import warnings\n",
    "warnings.filterwarnings(\"ignore\")\n",
    "from pandas import read_csv\n",
    "from collections import Counter\n",
    "from matplotlib import pyplot\n",
    "from sklearn.preprocessing import LabelEncoder\n",
    "from numpy import asarray\n",
    "from numpy import mean\n",
    "from numpy import std\n",
    "from sklearn.datasets import make_classification\n",
    "from xgboost import XGBClassifier\n",
    "from sklearn.model_selection import cross_val_score\n",
    "from sklearn.model_selection import RepeatedStratifiedKFold\n",
    "from matplotlib import pyplot\n",
    "from numpy import mean\n",
    "from numpy import std\n",
    "from sklearn.datasets import make_classification\n",
    "from catboost import CatBoostClassifier\n",
    "from sklearn.model_selection import cross_val_score\n",
    "from sklearn.model_selection import RepeatedStratifiedKFold\n",
    "from matplotlib import pyplot\n",
    "X = df4.loc[:,df4.columns !='Q18a']\n",
    "y = df4['Q18a']"
   ]
  },
  {
   "cell_type": "code",
   "execution_count": null,
   "metadata": {
    "colab": {
     "base_uri": "https://localhost:8080/"
    },
    "id": "DS25U-jR9PsN",
    "outputId": "17fd779a-38e9-43f4-d92f-c8506833c96b"
   },
   "outputs": [],
   "source": [
    "print(X.shape, y.shape)"
   ]
  },
  {
   "cell_type": "code",
   "execution_count": null,
   "metadata": {
    "id": "39Fch1-R9PsN"
   },
   "outputs": [],
   "source": [
    "from numpy import mean\n",
    "from numpy import std\n",
    "from pandas import read_csv\n",
    "from sklearn.model_selection import train_test_split\n",
    "from sklearn.linear_model import LogisticRegression\n",
    "from sklearn.preprocessing import LabelEncoder\n",
    "from sklearn.preprocessing import OrdinalEncoder\n",
    "X_tr, X_test, y_tr, y_test = train_test_split(X, y, test_size=0.33, random_state=1)\n",
    "\n"
   ]
  },
  {
   "cell_type": "code",
   "execution_count": null,
   "metadata": {
    "colab": {
     "base_uri": "https://localhost:8080/"
    },
    "id": "N5-QbpBd9PsN",
    "outputId": "1304422f-da60-4be7-eb32-8dfb234079c7"
   },
   "outputs": [],
   "source": [
    "from numpy import mean\n",
    "from numpy import std\n",
    "from sklearn.datasets import make_classification\n",
    "from sklearn.model_selection import cross_val_score\n",
    "from sklearn.model_selection import RepeatedStratifiedKFold\n",
    "from lightgbm import LGBMClassifier\n",
    "model = LGBMClassifier()\n",
    "cv = RepeatedStratifiedKFold(n_splits=10, n_repeats=3, random_state=1)\n",
    "n_scores = cross_val_score(model, X, y, scoring='accuracy', cv=cv, n_jobs=-1)\n",
    "print('Accuracy: %.3f (%.3f)' % (mean(n_scores), std(n_scores)))"
   ]
  },
  {
   "cell_type": "code",
   "execution_count": null,
   "metadata": {
    "colab": {
     "base_uri": "https://localhost:8080/"
    },
    "id": "QiiOf6xk9PsP",
    "outputId": "899a4aa1-412e-46e2-f5d8-7a96b0e65fdc"
   },
   "outputs": [],
   "source": [
    "Empty=[]\n",
    "for i in range(2,40):\n",
    "    model = LGBMClassifier(n_estimators=i)\n",
    "    Light = model.fit(X_tr, y_tr)\n",
    "    Light.predict(X_test)\n",
    "    round(Light.score(X_test, y_test), 4)\n",
    "    Empty.append(round(Light.score(X_test, y_test), 4))\n",
    "Empty    "
   ]
  },
  {
   "cell_type": "code",
   "execution_count": null,
   "metadata": {
    "colab": {
     "base_uri": "https://localhost:8080/",
     "height": 334
    },
    "id": "z-mboCQJ9PsQ",
    "outputId": "1d36a397-936f-4307-fe74-3df8bab4186b"
   },
   "outputs": [],
   "source": [
    "names = range(2,40)\n",
    "values = Empty\n",
    "plt.figure(figsize=(15, 5))\n",
    "plt.subplot(121)\n",
    "plt.scatter(names, values)\n",
    "plt.ylabel('Accuracy')\n",
    "plt.xlabel('Number of trees')\n",
    "plt.subplot(122)\n",
    "plt.plot(names, values)\n",
    "plt.xlabel('Number of trees')\n",
    "plt.show()"
   ]
  },
  {
   "cell_type": "code",
   "execution_count": null,
   "metadata": {
    "colab": {
     "base_uri": "https://localhost:8080/",
     "height": 352
    },
    "id": "btFpuYt09PsQ",
    "outputId": "b19165cd-5655-4870-9b97-a349e780774b"
   },
   "outputs": [],
   "source": [
    "from numpy import mean\n",
    "from numpy import std\n",
    "from sklearn.datasets import make_classification\n",
    "from sklearn.model_selection import cross_val_score\n",
    "from sklearn.model_selection import RepeatedStratifiedKFold\n",
    "from lightgbm import LGBMClassifier\n",
    "model = LGBMClassifier()\n",
    "cv = RepeatedStratifiedKFold(n_splits=10, n_repeats=3, random_state=1)\n",
    "n_scores = cross_val_score(model, X, y, scoring='accuracy', cv=cv, n_jobs=-1)\n",
    "print('Accuracy: %.3f (%.3f)' % (mean(n_scores), std(n_scores)))\n",
    "Empty=[]\n",
    "for i in range(2,15):\n",
    "    model = LGBMClassifier(n_estimators=20, max_depth=i, num_leaves=2**i)\n",
    "    Light = model.fit(X_tr, y_tr)\n",
    "    Light.predict(X_test)\n",
    "    round(Light.score(X_test, y_test), 4)\n",
    "    Empty.append(round(Light.score(X_test, y_test), 4))\n",
    "Empty    \n",
    "names = range(2,15)\n",
    "values = Empty\n",
    "plt.figure(figsize=(15, 5))\n",
    "plt.subplot(121)\n",
    "plt.scatter(names, values)\n",
    "plt.ylabel('Accuracy')\n",
    "plt.xlabel('The depth of trees')\n",
    "plt.subplot(122)\n",
    "plt.plot(names, values)\n",
    "plt.xlabel('The depth of trees')\n",
    "plt.show()"
   ]
  },
  {
   "cell_type": "code",
   "execution_count": null,
   "metadata": {
    "colab": {
     "base_uri": "https://localhost:8080/",
     "height": 1000
    },
    "id": "p8eHymmK9PsR",
    "outputId": "5a0bde94-2417-4d97-9e60-802f4afa3a8c"
   },
   "outputs": [],
   "source": [
    "importance = Light.feature_importances_\n",
    "for i,v in enumerate(importance):\n",
    "\tprint('Feature: %0d, Score: %.5f' % (i,v))\n",
    "pyplot.bar([x for x in range(len(importance))], importance)\n",
    "pyplot.show()\n",
    "import matplotlib.pyplot as plt\n",
    "   \n",
    "C= ['Q1', 'Q2', 'Q3', 'Q8', 'Q9', 'Q10', 'Q11', 'Q12', 'Q13', 'Q14', 'Q15',\n",
    "       'Q16', 'Q17', 'Q18','Q21', 'Q22', 'Q23', 'Q24',\n",
    "       'Q25', 'Q26', 'Q27', 'Q28', 'Q29']\n",
    "GC = importance\n",
    "f = plt.figure()\n",
    "f.set_figwidth(10)\n",
    "f.set_figheight(8)\n",
    "plt.xticks(rotation=45, ha='right')\n",
    "plt.grid(True)\n",
    "plt.bar(C, GC)\n",
    "plt.ylabel('Importance')\n",
    "plt.xlabel('Feature')\n",
    "plt.show()"
   ]
  },
  {
   "cell_type": "code",
   "execution_count": null,
   "metadata": {
    "id": "wPLCNpkI9PsR"
   },
   "outputs": [],
   "source": []
  },
  {
   "cell_type": "code",
   "execution_count": null,
   "metadata": {
    "id": "awuAmt1_9PsS"
   },
   "outputs": [],
   "source": [
    "X = df4.loc[:,df4.columns !='Q18a']\n",
    "y = df4['Q18a']"
   ]
  },
  {
   "cell_type": "code",
   "execution_count": null,
   "metadata": {
    "id": "eHYpTkqj9PsS"
   },
   "outputs": [],
   "source": [
    "from numpy import mean\n",
    "from numpy import std\n",
    "from pandas import read_csv\n",
    "from sklearn.model_selection import train_test_split\n",
    "from sklearn.linear_model import LogisticRegression\n",
    "from sklearn.preprocessing import LabelEncoder\n",
    "from sklearn.preprocessing import OrdinalEncoder\n",
    "X_tr, X_test, y_tr, y_test = train_test_split(X, y, test_size=0.33, random_state=1)"
   ]
  },
  {
   "cell_type": "code",
   "execution_count": null,
   "metadata": {
    "colab": {
     "base_uri": "https://localhost:8080/"
    },
    "id": "r0UIx8UP9PsS",
    "outputId": "dda438a8-694a-4e5c-bc7c-cfce26256776"
   },
   "outputs": [],
   "source": [
    "model = LGBMClassifier(n_estimators=20, max_depth=4, num_leaves=8)\n",
    "Light = model.fit(X_tr, y_tr)\n",
    "Light.predict(X_test)\n",
    "round(Light.score(X_test, y_test), 4)"
   ]
  },
  {
   "cell_type": "code",
   "execution_count": null,
   "metadata": {
    "colab": {
     "base_uri": "https://localhost:8080/",
     "height": 1000
    },
    "id": "ZyLS0AU_9PsT",
    "outputId": "f7f5f9d6-eda5-48d9-e906-d63c1c63e14f"
   },
   "outputs": [],
   "source": [
    "importance = Light.feature_importances_\n",
    "for i,v in enumerate(importance):\n",
    "\tprint('Feature: %0d, Score: %.5f' % (i,v))\n",
    "# plot feature importance\n",
    "pyplot.bar([x for x in range(len(importance))], importance)\n",
    "pyplot.show()\n",
    "import matplotlib.pyplot as plt\n",
    "   \n",
    "C = ['Q1', 'Q2', 'Q3', 'Q8', 'Q9', 'Q10', 'Q11', 'Q12', 'Q13', 'Q14', 'Q15',\n",
    "       'Q16', 'Q17', 'Q18','Q21', 'Q22', 'Q23', 'Q24',\n",
    "       'Q25', 'Q26', 'Q27', 'Q28', 'Q29']\n",
    "GC = importance\n",
    "# plotting a line plot after changing it's width and height\n",
    "f = plt.figure()\n",
    "f.set_figwidth(10)\n",
    "f.set_figheight(8)\n",
    "plt.xticks(rotation=45, ha='right')\n",
    "plt.grid(True)\n",
    "\n",
    "plt.bar(C, GC)\n",
    "plt.ylabel('Importance')\n",
    "plt.xlabel('Feature')\n",
    "plt.show()"
   ]
  },
  {
   "cell_type": "code",
   "execution_count": null,
   "metadata": {
    "id": "OAbIPkzj9PsT"
   },
   "outputs": [],
   "source": []
  }
 ],
 "metadata": {
  "colab": {
   "collapsed_sections": [],
   "name": "Hidden-Effects-of-COVID-19-on-Healthcare-Workers-A-Machine-Learning-Analysis.ipynb",
   "provenance": []
  },
  "kernelspec": {
   "display_name": "Python 3",
   "language": "python",
   "name": "python3"
  },
  "language_info": {
   "codemirror_mode": {
    "name": "ipython",
    "version": 3
   },
   "file_extension": ".py",
   "mimetype": "text/x-python",
   "name": "python",
   "nbconvert_exporter": "python",
   "pygments_lexer": "ipython3",
   "version": "3.8.8"
  }
 },
 "nbformat": 4,
 "nbformat_minor": 1
}
